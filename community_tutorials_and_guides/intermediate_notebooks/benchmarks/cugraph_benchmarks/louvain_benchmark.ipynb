{
 "cells": [
  {
   "cell_type": "markdown",
   "metadata": {},
   "source": [
    "# Louvain Performance Benchmarking\n",
    "\n",
    "This notebook benchmarks performance improvement of running the Louvain clustering algorithm within cuGraph against NetworkX. The test is run over eight test networks (graphs) and then results plotted.  \n",
    "<p><p>\n",
    "\n",
    "\n",
    "#### Notebook Credits\n",
    "\n",
    "    Original Authors: Bradley Rees\n",
    "    Last Edit: 08/06/2019\n",
    "\n",
    "\n",
    "#### Test Environment\n",
    "\n",
    "    RAPIDS Versions: 0.9.0\n",
    "\n",
    "    Test Hardware:\n",
    "    GV100 32G, CUDA 10,0\n",
    "    Intel(R) Core(TM) CPU i7-7800X @ 3.50GHz\n",
    "    32GB system memory\n",
    "\n",
    "\n",
    "\n",
    "#### Updates\n",
    "- moved loading ploting libraries to front so that dependencies can be checked before running algorithms\n",
    "- added edge values \n",
    "- changed timing to including Graph creation for both cuGraph and NetworkX.  This will better represent end-to-end times\n",
    "\n",
    "\n",
    "\n",
    "#### Dependencies\n",
    "- RAPIDS cuDF and cuGraph version 0.6.0 \n",
    "- NetworkX \n",
    "- Matplotlib \n",
    "- Scipy \n",
    "- data prep script run\n",
    "\n",
    "\n",
    "\n",
    "#### Note: Comparison against published results\n",
    "\n",
    "\n",
    "The cuGraph blog post included performance numbers that were collected over a year ago.  For the test graphs, int32 values are now used.  That improves GPUs performance.  Additionally, the initial benchamrks were measured on a P100 GPU. \n",
    "\n",
    "This test only comparse the modularity scores and a success is if the scores are within 15% of each other.  That comparison is done by adjusting the NetworkX modularity score and then verifying that the cuGraph score is higher.\n",
    "\n",
    "cuGraph did a full validation of NetworkX results against cuGraph results.  That included cross-validation of every cluster.  That test is very slow and not included here"
   ]
  },
  {
   "cell_type": "code",
   "execution_count": 2,
   "metadata": {},
   "outputs": [],
   "source": [
    "# Import needed libraries\n",
    "import time\n",
    "import cugraph\n",
    "import cudf\n",
    "import os"
   ]
  },
  {
   "cell_type": "code",
   "execution_count": 3,
   "metadata": {},
   "outputs": [],
   "source": [
    "# NetworkX libraries\n",
    "try: \n",
    "    import community\n",
    "except ModuleNotFoundError:\n",
    "    os.system('pip install python-louvain')\n",
    "    import community\n",
    "import networkx as nx\n",
    "from scipy.io import mmread"
   ]
  },
  {
   "cell_type": "code",
   "execution_count": 4,
   "metadata": {},
   "outputs": [],
   "source": [
    "# Loading plotting libraries\n",
    "import matplotlib.pyplot as plt; plt.rcdefaults()\n",
    "import numpy as np\n",
    "import matplotlib.pyplot as plt"
   ]
  },
  {
   "cell_type": "code",
   "execution_count": 5,
   "metadata": {},
   "outputs": [
    {
     "name": "stdout",
     "output_type": "stream",
     "text": [
      "mkdir: cannot create directory 'data': File exists\n",
      "--2019-11-01 20:49:03--  https://sparse.tamu.edu/MM/DIMACS10/preferentialAttachment.tar.gz\n",
      "Resolving sparse.tamu.edu (sparse.tamu.edu)... 128.194.136.136\n",
      "Connecting to sparse.tamu.edu (sparse.tamu.edu)|128.194.136.136|:443... connected.\n",
      "HTTP request sent, awaiting response... 200 OK\n",
      "Length: 2027782 (1.9M) [application/x-gzip]\n",
      "Saving to: 'preferentialAttachment.tar.gz'\n",
      "\n",
      "preferentialAttachm 100%[===================>]   1.93M  3.48MB/s    in 0.6s    \n",
      "\n",
      "2019-11-01 20:49:04 (3.48 MB/s) - 'preferentialAttachment.tar.gz' saved [2027782/2027782]\n",
      "\n",
      "--2019-11-01 20:49:04--  https://sparse.tamu.edu/MM/DIMACS10/caidaRouterLevel.tar.gz\n",
      "Resolving sparse.tamu.edu (sparse.tamu.edu)... 128.194.136.136\n",
      "Connecting to sparse.tamu.edu (sparse.tamu.edu)|128.194.136.136|:443... connected.\n",
      "HTTP request sent, awaiting response... 200 OK\n",
      "Length: 2418742 (2.3M) [application/x-gzip]\n",
      "Saving to: 'caidaRouterLevel.tar.gz'\n",
      "\n",
      "caidaRouterLevel.ta 100%[===================>]   2.31M  3.76MB/s    in 0.6s    \n",
      "\n",
      "2019-11-01 20:49:05 (3.76 MB/s) - 'caidaRouterLevel.tar.gz' saved [2418742/2418742]\n",
      "\n",
      "--2019-11-01 20:49:05--  https://sparse.tamu.edu/MM/DIMACS10/coAuthorsDBLP.tar.gz\n",
      "Resolving sparse.tamu.edu (sparse.tamu.edu)... 128.194.136.136\n",
      "Connecting to sparse.tamu.edu (sparse.tamu.edu)|128.194.136.136|:443... connected.\n",
      "HTTP request sent, awaiting response... 200 OK\n",
      "Length: 3206075 (3.1M) [application/x-gzip]\n",
      "Saving to: 'coAuthorsDBLP.tar.gz'\n",
      "\n",
      "coAuthorsDBLP.tar.g 100%[===================>]   3.06M  3.99MB/s    in 0.8s    \n",
      "\n",
      "2019-11-01 20:49:06 (3.99 MB/s) - 'coAuthorsDBLP.tar.gz' saved [3206075/3206075]\n",
      "\n",
      "--2019-11-01 20:49:06--  https://sparse.tamu.edu/MM/LAW/dblp-2010.tar.gz\n",
      "Resolving sparse.tamu.edu (sparse.tamu.edu)... 128.194.136.136\n",
      "Connecting to sparse.tamu.edu (sparse.tamu.edu)|128.194.136.136|:443... connected.\n",
      "HTTP request sent, awaiting response... 200 OK\n",
      "Length: 2235407 (2.1M) [application/x-gzip]\n",
      "Saving to: 'dblp-2010.tar.gz'\n",
      "\n",
      "dblp-2010.tar.gz    100%[===================>]   2.13M  3.75MB/s    in 0.6s    \n",
      "\n",
      "2019-11-01 20:49:07 (3.75 MB/s) - 'dblp-2010.tar.gz' saved [2235407/2235407]\n",
      "\n",
      "--2019-11-01 20:49:07--  https://sparse.tamu.edu/MM/DIMACS10/citationCiteseer.tar.gz\n",
      "Resolving sparse.tamu.edu (sparse.tamu.edu)... 128.194.136.136\n",
      "Connecting to sparse.tamu.edu (sparse.tamu.edu)|128.194.136.136|:443... connected.\n",
      "HTTP request sent, awaiting response... 200 OK\n",
      "Length: 5082095 (4.8M) [application/x-gzip]\n",
      "Saving to: 'citationCiteseer.tar.gz'\n",
      "\n",
      "citationCiteseer.ta 100%[===================>]   4.85M  4.23MB/s    in 1.1s    \n",
      "\n",
      "2019-11-01 20:49:08 (4.23 MB/s) - 'citationCiteseer.tar.gz' saved [5082095/5082095]\n",
      "\n",
      "--2019-11-01 20:49:08--  https://sparse.tamu.edu/MM/DIMACS10/coPapersDBLP.tar.gz\n",
      "Resolving sparse.tamu.edu (sparse.tamu.edu)... 128.194.136.136\n",
      "Connecting to sparse.tamu.edu (sparse.tamu.edu)|128.194.136.136|:443... connected.\n",
      "HTTP request sent, awaiting response... 200 OK\n",
      "Length: 36298718 (35M) [application/x-gzip]\n",
      "Saving to: 'coPapersDBLP.tar.gz'\n",
      "\n",
      "coPapersDBLP.tar.gz 100%[===================>]  34.62M  4.93MB/s    in 7.2s    \n",
      "\n",
      "2019-11-01 20:49:16 (4.79 MB/s) - 'coPapersDBLP.tar.gz' saved [36298718/36298718]\n",
      "\n",
      "--2019-11-01 20:49:16--  https://sparse.tamu.edu/MM/DIMACS10/coPapersCiteseer.tar.gz\n",
      "Resolving sparse.tamu.edu (sparse.tamu.edu)... 128.194.136.136\n",
      "Connecting to sparse.tamu.edu (sparse.tamu.edu)|128.194.136.136|:443... connected.\n",
      "HTTP request sent, awaiting response... 200 OK\n",
      "Length: 36652888 (35M) [application/x-gzip]\n",
      "Saving to: 'coPapersCiteseer.tar.gz'\n",
      "\n",
      "coPapersCiteseer.ta 100%[===================>]  34.95M  4.93MB/s    in 7.2s    \n",
      "\n",
      "2019-11-01 20:49:23 (4.82 MB/s) - 'coPapersCiteseer.tar.gz' saved [36652888/36652888]\n",
      "\n",
      "--2019-11-01 20:49:23--  https://sparse.tamu.edu/MM/SNAP/as-Skitter.tar.gz\n",
      "Resolving sparse.tamu.edu (sparse.tamu.edu)... 128.194.136.136\n",
      "Connecting to sparse.tamu.edu (sparse.tamu.edu)|128.194.136.136|:443... connected.\n",
      "HTTP request sent, awaiting response... 200 OK\n",
      "Length: 33172905 (32M) [application/x-gzip]\n",
      "Saving to: 'as-Skitter.tar.gz'\n",
      "\n",
      "as-Skitter.tar.gz   100%[===================>]  31.64M  4.92MB/s    in 6.6s    \n",
      "\n",
      "2019-11-01 20:49:30 (4.79 MB/s) - 'as-Skitter.tar.gz' saved [33172905/33172905]\n",
      "\n",
      "preferentialAttachment/preferentialAttachment.mtx\n",
      "caidaRouterLevel/caidaRouterLevel.mtx\n",
      "coAuthorsDBLP/coAuthorsDBLP.mtx\n",
      "dblp-2010/dblp-2010.mtx\n",
      "citationCiteseer/citationCiteseer.mtx\n",
      "coPapersDBLP/coPapersDBLP.mtx\n",
      "coPapersCiteseer/coPapersCiteseer.mtx\n",
      "as-Skitter/as-Skitter.mtx\n",
      "find: paths must precede expression: caidaRouterLevel.mtx\n",
      "Usage: find [-H] [-L] [-P] [-Olevel] [-D help|tree|search|stat|rates|opt|exec|time] [path...] [expression]\n"
     ]
    }
   ],
   "source": [
    "!bash dataPrep.sh"
   ]
  },
  {
   "cell_type": "markdown",
   "metadata": {},
   "source": [
    "### Define the test data"
   ]
  },
  {
   "cell_type": "code",
   "execution_count": 6,
   "metadata": {},
   "outputs": [],
   "source": [
    "# Test File\n",
    "data = {\n",
    "    'preferentialAttachment' : './data/preferentialAttachment.mtx',\n",
    "    'caidaRouterLevel'       : './data/caidaRouterLevel.mtx',\n",
    "    'coAuthorsDBLP'          : './data/coAuthorsDBLP.mtx',\n",
    "    'dblp'                   : './data/dblp-2010.mtx',\n",
    "    'citationCiteseer'       : './data/citationCiteseer.mtx',\n",
    "    'coPapersDBLP'           : './data/coPapersDBLP.mtx',\n",
    "    'coPapersCiteseer'       : './data/coPapersCiteseer.mtx',\n",
    "    'as-Skitter'             : './data/as-Skitter.mtx'\n",
    "}"
   ]
  },
  {
   "cell_type": "markdown",
   "metadata": {},
   "source": [
    "### Define the testing functions"
   ]
  },
  {
   "cell_type": "code",
   "execution_count": 7,
   "metadata": {},
   "outputs": [],
   "source": [
    "# Read in a dataset in MTX format \n",
    "def read_mtx_file(mm_file):\n",
    "    print('Reading ' + str(mm_file) + '...')\n",
    "    d = mmread(mm_file).asfptype()\n",
    "    M = d.tocsr()\n",
    "    \n",
    "    if M is None:\n",
    "        raise TypeError('Could not read the input graph')\n",
    "    if M.shape[0] != M.shape[1]:\n",
    "        raise TypeError('Shape is not square')\n",
    "        \n",
    "    return M"
   ]
  },
  {
   "cell_type": "code",
   "execution_count": 8,
   "metadata": {},
   "outputs": [],
   "source": [
    "# Run the cuGraph Louvain analytic (using nvGRAPH function)\n",
    "def cugraph_call(M):\n",
    "\n",
    "    t1 = time.time()\n",
    "\n",
    "    # data\n",
    "    row_offsets = cudf.Series(M.indptr)\n",
    "    col_indices = cudf.Series(M.indices)\n",
    "    data        = cudf.Series(M.data)\n",
    "    \n",
    "    # create graph \n",
    "    G = cugraph.Graph()\n",
    "    G.add_adj_list(row_offsets, col_indices, data)\n",
    "\n",
    "    # cugraph Louvain Call\n",
    "    print('  cuGraph Solving... ')\n",
    "    df, mod = cugraph.louvain(G)   \n",
    "    \n",
    "    t2 = time.time() - t1\n",
    "    return t2, mod\n"
   ]
  },
  {
   "cell_type": "code",
   "execution_count": 9,
   "metadata": {},
   "outputs": [],
   "source": [
    "# Run the NetworkX Louvain analytic.  THis is done in two parts since the modularity score is not returned \n",
    "def networkx_call(M):\n",
    "   \n",
    "    t1 = time.time()\n",
    "\n",
    "    # Directed NetworkX graph\n",
    "    Gnx = nx.Graph(M)\n",
    "\n",
    "    # Networkx \n",
    "    print('  NetworkX Solving... ')\n",
    "    parts = community.best_partition(Gnx)\n",
    "    \n",
    "    # Calculating modularity scores for comparison \n",
    "    mod = community.modularity(parts, Gnx)   \n",
    "    \n",
    "    t2 = time.time() - t1\n",
    "    \n",
    "    return t2, mod"
   ]
  },
  {
   "cell_type": "markdown",
   "metadata": {},
   "source": [
    "### Run the benchmarks"
   ]
  },
  {
   "cell_type": "code",
   "execution_count": null,
   "metadata": {
    "scrolled": true
   },
   "outputs": [
    {
     "name": "stdout",
     "output_type": "stream",
     "text": [
      "Reading ./data/preferentialAttachment.mtx...\n",
      "  cuGraph Solving... \n",
      "  NetworkX Solving... \n",
      "3509.4500202625027x faster =>  cugraph 0.8648371696472168 vs 3035.1028225421906\n",
      "Modularity =>  cugraph 0.19461682219817675 should be greater than 0.21973558127621454\n",
      "Reading ./data/caidaRouterLevel.mtx...\n",
      "  cuGraph Solving... \n",
      "  NetworkX Solving... \n",
      "7076.7607431556x faster =>  cugraph 0.04834103584289551 vs 342.0979447364807\n",
      "Modularity =>  cugraph 0.7872923202092253 should be greater than 0.7289947349239256\n",
      "Reading ./data/coAuthorsDBLP.mtx...\n",
      "  cuGraph Solving... \n",
      "  NetworkX Solving... \n",
      "11893.139026724633x faster =>  cugraph 0.06750750541687012 vs 802.8761472702026\n",
      "Modularity =>  cugraph 0.7648739273488195 should be greater than 0.7026254024456955\n",
      "Reading ./data/dblp-2010.mtx...\n",
      "  cuGraph Solving... \n",
      "  NetworkX Solving... \n",
      "12969.744546806074x faster =>  cugraph 0.07826042175292969 vs 1015.0176782608032\n",
      "Modularity =>  cugraph 0.7506256512679915 should be greater than 0.7450002914515801\n",
      "Reading ./data/citationCiteseer.mtx...\n",
      "  cuGraph Solving... \n",
      "  NetworkX Solving... \n",
      "16875.667838933237x faster =>  cugraph 0.07159066200256348 vs 1208.1402323246002\n",
      "Modularity =>  cugraph 0.6726575224227932 should be greater than 0.6845554405196591\n",
      "Reading ./data/coPapersDBLP.mtx...\n",
      "  cuGraph Solving... \n",
      "  NetworkX Solving... \n"
     ]
    }
   ],
   "source": [
    "# Loop through each test file and compute the speedup\n",
    "perf  = []\n",
    "names = []\n",
    "\n",
    "for k,v in data.items():\n",
    "    M = read_mtx_file(v)\n",
    "    tr, modc = cugraph_call(M)\n",
    "    tn, modx = networkx_call(M)\n",
    "    \n",
    "    speedUp = (tn / tr)\n",
    "    names.append(k)\n",
    "    perf.append(speedUp)\n",
    "    \n",
    "    mod_delta = (0.85 * modx)\n",
    "    \n",
    "    print(str(speedUp) + \"x faster =>  cugraph \" + str(tr) + \" vs \" + str(tn))\n",
    "    print(\"Modularity =>  cugraph \" + str(modc) + \" should be greater than \" + str(mod_delta))"
   ]
  },
  {
   "cell_type": "markdown",
   "metadata": {},
   "source": [
    "### plot the output"
   ]
  },
  {
   "cell_type": "code",
   "execution_count": null,
   "metadata": {},
   "outputs": [],
   "source": [
    "%matplotlib inline\n",
    "\n",
    "y_pos = np.arange(len(names))\n",
    " \n",
    "plt.bar(y_pos, perf, align='center', alpha=0.5)\n",
    "plt.xticks(y_pos, names)\n",
    "plt.ylabel('Speed Up')\n",
    "plt.title('Performance Speedup: cuGraph vs NetworkX')\n",
    "plt.xticks(rotation=90) \n",
    "plt.show()"
   ]
  },
  {
   "cell_type": "code",
   "execution_count": null,
   "metadata": {},
   "outputs": [],
   "source": []
  },
  {
   "cell_type": "code",
   "execution_count": null,
   "metadata": {},
   "outputs": [],
   "source": []
  }
 ],
 "metadata": {
  "kernelspec": {
   "display_name": "Python 3",
   "language": "python",
   "name": "python3"
  },
  "language_info": {
   "codemirror_mode": {
    "name": "ipython",
    "version": 3
   },
   "file_extension": ".py",
   "mimetype": "text/x-python",
   "name": "python",
   "nbconvert_exporter": "python",
   "pygments_lexer": "ipython3",
   "version": "3.6.7"
  }
 },
 "nbformat": 4,
 "nbformat_minor": 4
}
