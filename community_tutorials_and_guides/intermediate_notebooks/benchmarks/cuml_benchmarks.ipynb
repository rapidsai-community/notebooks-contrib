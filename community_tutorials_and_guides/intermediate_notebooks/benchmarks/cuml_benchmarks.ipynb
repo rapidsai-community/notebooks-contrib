{
 "cells": [
  {
   "cell_type": "markdown",
   "metadata": {},
   "source": [
    "# Benchmark and Bounds Tests\n",
    "\n",
    "The purpose of this notebook is to benchmark all of the single GPU cuML algorithms against their skLearn counterparts, while also providing the ability to find and verify upper bounds.\n",
    "\n",
    "Each benchmark returns a Panda with the results, which can then be analyzed, manipulated, and stored to disk. "
   ]
  },
  {
   "cell_type": "markdown",
   "metadata": {},
   "source": [
    "## Notebook Credits\n",
    "**Authorship**\n",
    "Original Author: Corey Nolet <br />\n",
    "Last Edit: Taurean Dyer, 9/25/2019<br />\n",
    "\n",
    "Last Edit: Corey Nolet, 10/04/2019\n",
    "    \n",
    "### Test System Specs\n",
    "Test System Hardware: DGX-1 \n",
    "Test System Software: Ubuntu 16.04  \n",
    "RAPIDS Version: 0.10.0pre - Conda Install  \n",
    "Driver: 410.48\n",
    "CUDA: 10.0  \n",
    "\n",
    "### Known Working Systems\n",
    "RAPIDS Versions: 0.10+"
   ]
  },
  {
   "cell_type": "code",
   "execution_count": null,
   "metadata": {},
   "outputs": [],
   "source": [
    "import cuml\n",
    "\n",
    "from cuml.benchmark.runners import SpeedupComparisonRunner\n",
    "from cuml.benchmark.algorithms import algorithm_by_name\n",
    "\n",
    "\n",
    "print(cuml.__version__)"
   ]
  },
  {
   "cell_type": "markdown",
   "metadata": {},
   "source": [
    "## Neighbors"
   ]
  },
  {
   "cell_type": "markdown",
   "metadata": {},
   "source": [
    "### Nearest Neighbors"
   ]
  },
  {
   "cell_type": "code",
   "execution_count": null,
   "metadata": {},
   "outputs": [],
   "source": [
    "runner = cuml.benchmark.runners.SpeedupComparisonRunner(\n",
    "    bench_rows=[2**x for x in range(11, 24)], \n",
    "    bench_dims=[64, 128, 256],\n",
    "    dataset_name=\"blobs\",\n",
    "    input_type=\"numpy\")\n",
    "\n",
    "results = runner.run(algorithm_by_name(\"NearestNeighbors\"), verbose=True)"
   ]
  },
  {
   "cell_type": "markdown",
   "metadata": {},
   "source": [
    "## Clustering"
   ]
  },
  {
   "cell_type": "markdown",
   "metadata": {},
   "source": [
    "### DBSCAN"
   ]
  },
  {
   "cell_type": "code",
   "execution_count": null,
   "metadata": {},
   "outputs": [],
   "source": [
    "runner = cuml.benchmark.runners.SpeedupComparisonRunner(\n",
    "    bench_rows=[2**x for x in range(11, 24)], \n",
    "    bench_dims=[64, 128, 256],\n",
    "    dataset_name=\"blobs\",\n",
    "    input_type=\"numpy\")\n",
    "\n",
    "results = runner.run(algorithm_by_name(\"DBSCAN\"), verbose=True)"
   ]
  },
  {
   "cell_type": "markdown",
   "metadata": {},
   "source": [
    "### K-means Clustering"
   ]
  },
  {
   "cell_type": "code",
   "execution_count": null,
   "metadata": {},
   "outputs": [],
   "source": [
    "runner = cuml.benchmark.runners.SpeedupComparisonRunner(\n",
    "    bench_rows=[2**x for x in range(12, 22)], \n",
    "    bench_dims=[64, 128, 256],\n",
    "    dataset_name=\"blobs\",\n",
    "    input_type=\"numpy\")\n",
    "\n",
    "results = runner.run(algorithm_by_name(\"KMeans\"), verbose=True)"
   ]
  },
  {
   "cell_type": "markdown",
   "metadata": {},
   "source": [
    "## Manifold Learning"
   ]
  },
  {
   "cell_type": "markdown",
   "metadata": {},
   "source": [
    "### UMAP"
   ]
  },
  {
   "cell_type": "code",
   "execution_count": null,
   "metadata": {},
   "outputs": [],
   "source": [
    "runner = cuml.benchmark.runners.SpeedupComparisonRunner(\n",
    "    bench_rows=[2**x for x in range(11, 24)], \n",
    "    bench_dims=[64, 128, 256],\n",
    "    dataset_name=\"blobs\",\n",
    "    input_type=\"numpy\")\n",
    "\n",
    "results = runner.run(algorithm_by_name(\"UMAP\"), verbose=True)"
   ]
  },
  {
   "cell_type": "markdown",
   "metadata": {},
   "source": [
    "### T-SNE"
   ]
  },
  {
   "cell_type": "code",
   "execution_count": null,
   "metadata": {},
   "outputs": [],
   "source": [
    "runner = cuml.benchmark.runners.SpeedupComparisonRunner(\n",
    "    bench_rows=[2**x for x in range(11, 24)], \n",
    "    bench_dims=[64, 128, 256],\n",
    "    dataset_name=\"blobs\",\n",
    "    input_type=\"numpy\")\n",
    "\n",
    "results = runner.run(algorithm_by_name(\"TSNE\"), verbose=True)"
   ]
  },
  {
   "cell_type": "markdown",
   "metadata": {},
   "source": [
    "## Linear Models"
   ]
  },
  {
   "cell_type": "markdown",
   "metadata": {},
   "source": [
    "### Linear Regression"
   ]
  },
  {
   "cell_type": "code",
   "execution_count": null,
   "metadata": {},
   "outputs": [],
   "source": [
    "runner = cuml.benchmark.runners.SpeedupComparisonRunner(\n",
    "    bench_rows=[2**x for x in range(11, 24)], \n",
    "    bench_dims=[64, 128, 256],\n",
    "    dataset_name=\"blobs\",\n",
    "    input_type=\"numpy\")\n",
    "\n",
    "results = runner.run(algorithm_by_name(\"LinearRegression\"), verbose=True)"
   ]
  },
  {
   "cell_type": "markdown",
   "metadata": {},
   "source": [
    "### Logistic Regression"
   ]
  },
  {
   "cell_type": "code",
   "execution_count": null,
   "metadata": {},
   "outputs": [],
   "source": [
    "runner = cuml.benchmark.runners.SpeedupComparisonRunner(\n",
    "    bench_rows=[2**x for x in range(11, 24)], \n",
    "    bench_dims=[64, 128, 256],\n",
    "    dataset_name=\"blobs\",\n",
    "    input_type=\"numpy\")\n",
    "\n",
    "results = runner.run(algorithm_by_name(\"LogisticRegression\"), verbose=True)"
   ]
  },
  {
   "cell_type": "markdown",
   "metadata": {},
   "source": [
    "### Ridge Regression"
   ]
  },
  {
   "cell_type": "code",
   "execution_count": null,
   "metadata": {},
   "outputs": [],
   "source": [
    "runner = cuml.benchmark.runners.SpeedupComparisonRunner(\n",
    "    bench_rows=[2**x for x in range(11, 24)], \n",
    "    bench_dims=[64, 128, 256],\n",
    "    dataset_name=\"blobs\",\n",
    "    input_type=\"numpy\")\n",
    "\n",
    "results = runner.run(algorithm_by_name(\"Ridge\"), verbose=True)"
   ]
  },
  {
   "cell_type": "markdown",
   "metadata": {},
   "source": [
    "### Lasso Regression"
   ]
  },
  {
   "cell_type": "code",
   "execution_count": null,
   "metadata": {},
   "outputs": [],
   "source": [
    "runner = cuml.benchmark.runners.SpeedupComparisonRunner(\n",
    "    bench_rows=[2**x for x in range(11, 24)], \n",
    "    bench_dims=[64, 128, 256],\n",
    "    dataset_name=\"blobs\",\n",
    "    input_type=\"numpy\")\n",
    "\n",
    "results = runner.run(algorithm_by_name(\"Lasso\"), verbose=True)"
   ]
  },
  {
   "cell_type": "markdown",
   "metadata": {},
   "source": [
    "### ElasticNet Regression"
   ]
  },
  {
   "cell_type": "code",
   "execution_count": null,
   "metadata": {},
   "outputs": [],
   "source": [
    "runner = cuml.benchmark.runners.SpeedupComparisonRunner(\n",
    "    bench_rows=[2**x for x in range(11, 24)], \n",
    "    bench_dims=[64, 128, 256],\n",
    "    dataset_name=\"blobs\",\n",
    "    input_type=\"numpy\")\n",
    "\n",
    "results = runner.run(algorithm_by_name(\"ElasticNet\"), verbose=True)"
   ]
  },
  {
   "cell_type": "markdown",
   "metadata": {},
   "source": [
    "### Mini-batch SGD Classifier"
   ]
  },
  {
   "cell_type": "code",
   "execution_count": null,
   "metadata": {},
   "outputs": [],
   "source": [
    "runner = cuml.benchmark.runners.SpeedupComparisonRunner(\n",
    "    bench_rows=[2**x for x in range(11, 24)], \n",
    "    bench_dims=[64, 128, 256],\n",
    "    dataset_name=\"blobs\",\n",
    "    input_type=\"numpy\")\n",
    "\n",
    "results = runner.run(algorithm_by_name(\"MBSGDClassifier\"))"
   ]
  },
  {
   "cell_type": "markdown",
   "metadata": {},
   "source": [
    "## Decomposition"
   ]
  },
  {
   "cell_type": "markdown",
   "metadata": {},
   "source": [
    "### PCA"
   ]
  },
  {
   "cell_type": "code",
   "execution_count": null,
   "metadata": {},
   "outputs": [],
   "source": [
    "runner = cuml.benchmark.runners.SpeedupComparisonRunner(\n",
    "    bench_rows=[2**x for x in range(11, 24)], \n",
    "    bench_dims=[64, 128, 256],\n",
    "    dataset_name=\"blobs\",\n",
    "    input_type=\"numpy\")\n",
    "\n",
    "results = runner.run(algorithm_by_name(\"PCA\"), verbose=True)"
   ]
  },
  {
   "cell_type": "markdown",
   "metadata": {},
   "source": [
    "### TSVD"
   ]
  },
  {
   "cell_type": "code",
   "execution_count": null,
   "metadata": {},
   "outputs": [],
   "source": [
    "runner = cuml.benchmark.runners.SpeedupComparisonRunner(\n",
    "    bench_rows=[2**x for x in range(11, 24)], \n",
    "    bench_dims=[64, 128, 256],\n",
    "    dataset_name=\"blobs\",\n",
    "    input_type=\"numpy\")\n",
    "\n",
    "results = runner.run(algorithm_by_name(\"TSVD\"), verbose=True)"
   ]
  },
  {
   "cell_type": "markdown",
   "metadata": {},
   "source": [
    "## Ensemble"
   ]
  },
  {
   "cell_type": "markdown",
   "metadata": {},
   "source": [
    "### Random Forest Classifier"
   ]
  },
  {
   "cell_type": "code",
   "execution_count": null,
   "metadata": {},
   "outputs": [],
   "source": [
    "runner = cuml.benchmark.runners.SpeedupComparisonRunner(\n",
    "    bench_rows=[2**x for x in range(11, 24)], \n",
    "    bench_dims=[64, 128, 256],\n",
    "    dataset_name=\"blobs\",\n",
    "    input_type=\"numpy\")\n",
    "\n",
    "results = runner.run(algorithm_by_name(\"RandomForestClassifier\"), verbose=True)"
   ]
  },
  {
   "cell_type": "markdown",
   "metadata": {},
   "source": [
    "### Random Forest Regressor"
   ]
  },
  {
   "cell_type": "code",
   "execution_count": null,
   "metadata": {},
   "outputs": [],
   "source": [
    "runner = cuml.benchmark.runners.SpeedupComparisonRunner(\n",
    "    bench_rows=[2**x for x in range(11, 24)], \n",
    "    bench_dims=[64, 128, 256],\n",
    "    dataset_name=\"blobs\",\n",
    "    input_type=\"numpy\")\n",
    "\n",
    "results = runner.run(algorithm_by_name(\"RandomForestClassifier\"), verbose=True)"
   ]
  },
  {
   "cell_type": "markdown",
   "metadata": {},
   "source": [
    "## Random Projection"
   ]
  },
  {
   "cell_type": "markdown",
   "metadata": {},
   "source": [
    "### Gaussian Random Projection"
   ]
  },
  {
   "cell_type": "code",
   "execution_count": null,
   "metadata": {},
   "outputs": [],
   "source": [
    "runner = cuml.benchmark.runners.SpeedupComparisonRunner(\n",
    "    bench_rows=[2**x for x in range(17, 24)], \n",
    "    bench_dims=[100, 500, 1000, 10000],\n",
    "    dataset_name=\"blobs\",\n",
    "    input_type=\"numpy\")\n",
    "\n",
    "results = runner.run(algorithm_by_name(\"GaussianRandomProjection\"), verbose=True)"
   ]
  },
  {
   "cell_type": "code",
   "execution_count": null,
   "metadata": {},
   "outputs": [],
   "source": []
  },
  {
   "cell_type": "code",
   "execution_count": null,
   "metadata": {},
   "outputs": [],
   "source": []
  }
 ],
 "metadata": {
  "kernelspec": {
   "display_name": "Python (cuml_dev)",
   "language": "python",
   "name": "other-env"
  },
  "language_info": {
   "codemirror_mode": {
    "name": "ipython",
    "version": 3
   },
   "file_extension": ".py",
   "mimetype": "text/x-python",
   "name": "python",
   "nbconvert_exporter": "python",
   "pygments_lexer": "ipython3",
   "version": "3.6.7"
  }
 },
 "nbformat": 4,
 "nbformat_minor": 4
}
