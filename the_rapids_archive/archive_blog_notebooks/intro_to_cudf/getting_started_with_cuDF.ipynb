{
 "cells": [
  {
   "cell_type": "markdown",
   "metadata": {
    "colab_type": "text",
    "id": "pUq0PvsJ16LM"
   },
   "source": [
    "# Getting Started with cuDF\n"
   ]
  },
  {
   "cell_type": "markdown",
   "metadata": {
    "colab_type": "text",
    "id": "v1iGy7TOyvXK"
   },
   "source": [
    "## Using cuDF with the California Housing Dataset\n",
    "\n",
    "The final goal of this excercise is to examine the average number of total rooms and bedrooms of a set of properties within a co-ordinate box by using only the _cuDF_ library.\n",
    "### Importing as a cuDF DataFrame\n"
   ]
  },
  {
   "cell_type": "code",
   "execution_count": null,
   "metadata": {
    "colab": {},
    "colab_type": "code",
    "collapsed": true,
    "id": "-ZTSR5vG8yqa",
    "jupyter": {
     "outputs_hidden": true
    }
   },
   "outputs": [],
   "source": [
    "## Import the cuDF Library:\n",
    "import cudf"
   ]
  },
  {
   "cell_type": "markdown",
   "metadata": {
    "colab_type": "text",
    "id": "TE9Cs3fK0K3E"
   },
   "source": [
    "The data we're going to use is the `data/housing.csv` file. This file contains data on housing blocks in the state of California. Let's examine this data further. "
   ]
  },
  {
   "cell_type": "code",
   "execution_count": null,
   "metadata": {
    "colab": {},
    "colab_type": "code",
    "collapsed": true,
    "id": "fr2L7QmK0Fvo",
    "jupyter": {
     "outputs_hidden": true
    }
   },
   "outputs": [],
   "source": [
    "## We can read this as a cuDF dataframe by using:\n",
    "californiaDF = cudf.read_csv('data/housing.csv')\n",
    "\n",
    "## Visualize DataFrame\n",
    "print(californiaDF)\n",
    "\n",
    "## Examine Shape of DataFrame\n",
    "print(\"\\nDataframe is of dimensions: \" + str(californiaDF.shape))"
   ]
  },
  {
   "cell_type": "markdown",
   "metadata": {
    "colab_type": "text",
    "id": "eP0EHYsR1AKD"
   },
   "source": [
    "From the output of the above code block we can see the actual dimensions of the dataframe created. We can visualize the names of the columns by examining `californiaDF.columns.values`."
   ]
  },
  {
   "cell_type": "code",
   "execution_count": null,
   "metadata": {
    "colab": {},
    "colab_type": "code",
    "collapsed": true,
    "id": "srv5aCem0sAh",
    "jupyter": {
     "outputs_hidden": true
    }
   },
   "outputs": [],
   "source": [
    "## Visualizing Column Names\n",
    "print(californiaDF.columns.values)"
   ]
  },
  {
   "cell_type": "markdown",
   "metadata": {
    "colab_type": "text",
    "id": "hhiV_UC_2AL4"
   },
   "source": [
    "We can also import a dataframe through pandas through the `cudf.DataFrame.from_pandas()` function."
   ]
  },
  {
   "cell_type": "code",
   "execution_count": null,
   "metadata": {
    "colab": {},
    "colab_type": "code",
    "collapsed": true,
    "id": "JsYnjWFb1k8s",
    "jupyter": {
     "outputs_hidden": true
    }
   },
   "outputs": [],
   "source": [
    "## Import Pandas\n",
    "import pandas\n",
    "\n",
    "## Read data as pandas dataframe\n",
    "californiaDF = pandas.read_csv('data/housing.csv')\n",
    "\n",
    "## Convert to cuDF dataframe\n",
    "californiaDF = cudf.DataFrame.from_pandas(californiaDF)\n",
    "\n",
    "## Visualize DataFrame\n",
    "print(californiaDF)\n",
    "\n",
    "## Examine Shape of DataFrame\n",
    "print(\"\\nDataframe is of dimensions: \" + str(californiaDF.shape))"
   ]
  },
  {
   "cell_type": "markdown",
   "metadata": {
    "colab_type": "text",
    "id": "nlhQD1Up3k8t"
   },
   "source": [
    "This dataframe should be identical to the one created earlier!"
   ]
  },
  {
   "cell_type": "markdown",
   "metadata": {
    "colab_type": "text",
    "id": "RZ3h2TU24Fh9"
   },
   "source": [
    "### Selection\n",
    "\n",
    "Our first task in manipulation is to extract all the rows of data and only their `longitude` , `latitude`, `total_rooms`, `total_bedrooms` and `households` column values."
   ]
  },
  {
   "cell_type": "code",
   "execution_count": null,
   "metadata": {
    "colab": {},
    "colab_type": "code",
    "collapsed": true,
    "id": "iOHguPCI3htK",
    "jupyter": {
     "outputs_hidden": true
    }
   },
   "outputs": [],
   "source": [
    "## Selecting the columns (longitude , latitude, total_rooms, total_bedrooms and households) and all rows alone\n",
    "\n",
    "householdDF = californiaDF.loc[:,['longitude', 'latitude', 'total_rooms','total_bedrooms','households']]\n",
    "\n",
    "print(householdDF)"
   ]
  },
  {
   "cell_type": "markdown",
   "metadata": {
    "colab_type": "text",
    "id": "M5s87Ki65D8F"
   },
   "source": [
    "### Filter queries\n",
    "\n",
    "Our next task is to visualize only the housing blocks within a certain longitude and latitude bounding box. This box can be defined by two `longitude`,`latitude` pairs; one pair representing the lower left of the box and one pair representing the top right. \n",
    "\n",
    "Lets focus on the Mountain View Area where we define:\n",
    "* Lower left co-ordinates of the bounding box: `latitude` = 37.36472345, `longitude` = -122.12830693\n",
    "* Top right co-ordinates of the bounding box: `latitude` = 37.40657584. `longitude`= -122.06162184\n"
   ]
  },
  {
   "cell_type": "code",
   "execution_count": null,
   "metadata": {
    "colab": {},
    "colab_type": "code",
    "collapsed": true,
    "id": "R8-z0KXv4tU5",
    "jupyter": {
     "outputs_hidden": true
    }
   },
   "outputs": [],
   "source": [
    "## Running Queries on cuDF\n",
    "filteredDF = householdDF.query(\"(-122.06162184 <= longitude >= -122.12830693) and (37.40657584 <= latitude >= 37.36472345)\")\n",
    "print(filteredDF)\n",
    "\n",
    "## Count the number of occurrences \n",
    "print(filteredDF)"
   ]
  },
  {
   "cell_type": "markdown",
   "metadata": {
    "colab_type": "text",
    "id": "V9LLd1K672xx"
   },
   "source": [
    "We should do some preliminary cleaning as a good practice against any errors. Lets replace any 'None' categories with a value of '0' in the dataframe. This is done through `filteredDF.fillna()`. \n",
    "\n",
    "_This is not necessary on this data-set as it is already cleaned, but it is a good practice regardless_\n",
    "\n",
    "_Note that if the data actually had 'None' values, this process will change the final results slightly_"
   ]
  },
  {
   "cell_type": "code",
   "execution_count": null,
   "metadata": {
    "colab": {},
    "colab_type": "code",
    "collapsed": true,
    "id": "fyoH7FqJ7_ST",
    "jupyter": {
     "outputs_hidden": true
    }
   },
   "outputs": [],
   "source": [
    "filteredDF = filteredDF.fillna(0)\n",
    "\n",
    "print(filteredDF)"
   ]
  },
  {
   "cell_type": "markdown",
   "metadata": {
    "colab_type": "text",
    "id": "tigaWGjo6qTT"
   },
   "source": [
    "We should now have a dataframe with housing data over the Mountain View area. Our next step is to average the number of total_rooms and total_bedrooms over the total households. "
   ]
  },
  {
   "cell_type": "markdown",
   "metadata": {
    "colab_type": "text",
    "id": "GXGPi56c8QHF"
   },
   "source": [
    "### Operations\n",
    "\n",
    "We need to find the average bedrooms and rooms for each of the households within a geographic area."
   ]
  },
  {
   "cell_type": "code",
   "execution_count": null,
   "metadata": {
    "colab": {},
    "colab_type": "code",
    "collapsed": true,
    "id": "_tSZKwpl7Zgu",
    "jupyter": {
     "outputs_hidden": true
    }
   },
   "outputs": [],
   "source": [
    "## Average values of certain columns\n",
    "print(\"Avg. Households per block in given bounding box: \" + str(filteredDF['households'].mean()))\n",
    "print(\"Avg. Total Bedrooms per block in given bounding box: \" + str(filteredDF['total_bedrooms'].mean()))\n",
    "print(\"Avg. Total Rooms per block in given bounding box: \" + str(filteredDF['total_rooms'].mean()))\n",
    "\n",
    "print(\"\\n----------------\\n\")\n",
    "\n",
    "avgBedroomsHousehold = filteredDF['total_bedrooms'].sum()/filteredDF['households'].sum()\n",
    "avgRoomsHousehold = filteredDF['total_rooms'].sum()/filteredDF['households'].sum()\n",
    "\n",
    "print(\"Avg. Bedrooms per household in given bounding box: \" + str(avgBedroomsHousehold))\n",
    "print(\"Avg. Rooms per household in given bounding box: \" + str(avgRoomsHousehold))\n"
   ]
  },
  {
   "cell_type": "markdown",
   "metadata": {
    "colab_type": "text",
    "id": "nRz_Rah49jKR"
   },
   "source": [
    "Congrats! You succesfully generated the average number of bedrooms and rooms per household in a given area in California! \n",
    "\n",
    "If you want to make this easier, I suggest we create a function that automates this process. Let's do this quickly!"
   ]
  },
  {
   "cell_type": "code",
   "execution_count": null,
   "metadata": {
    "colab": {},
    "colab_type": "code",
    "collapsed": true,
    "id": "szC0-xnk8zha",
    "jupyter": {
     "outputs_hidden": true
    }
   },
   "outputs": [],
   "source": [
    "## Function combining all the processes above \n",
    "\n",
    "# Function input variables:\n",
    "# csvPath - Path to CSV housing data file\n",
    "# long1 - Lower left longitude coordinate \n",
    "# lat1 - Lower left latitude coordinate\n",
    "# long2 - Upper right longitude coordinate\n",
    "# lat2 - Upper right latitude coordinate\n",
    "\n",
    "def HouseHoldAnalysis(csvPath, long1, lat1, long2, lat2):\n",
    "  ## Data Input\n",
    "  californiaDF = cudf.read_csv(csvPath)\n",
    "  print(\"\\n Initial Dataframe is of dimensions: \" + str(californiaDF.shape) +\"\\n\")\n",
    "  \n",
    "  ## Selection\n",
    "  householdDF = californiaDF.loc[:,['longitude', 'latitude', 'total_rooms','total_bedrooms','households']]\n",
    "  \n",
    "  ## Query\n",
    "  filteredDF = householdDF.query(\"(\"+str(long2)+\" <= longitude >= \"+str(long1)+\") and (\"+str(lat2)+\" <= latitude >= \"+str(lat1)+\")\")\n",
    "  \n",
    "  \n",
    "  ## Average values of certain columns\n",
    "  print(\"FIltered Dataframe is of dimensions: \" + str(filteredDF.shape) +\"\\n\")\n",
    "  print(\"Avg. Households per block in given bounding box: \" + str(filteredDF['households'].mean()))\n",
    "  print(\"Avg. Total Bedrooms per block in given bounding box: \" + str(filteredDF['total_bedrooms'].mean()))\n",
    "  print(\"Avg. Total Rooms per block in given bounding box: \" + str(filteredDF['total_rooms'].mean()))\n",
    "\n",
    "  print(\"\\n----------------\\n\")\n",
    "\n",
    "  avgBedroomsHousehold = filteredDF['total_bedrooms'].sum()/filteredDF['households'].sum()\n",
    "  avgRoomsHousehold = filteredDF['total_rooms'].sum()/filteredDF['households'].sum()\n",
    "\n",
    "  print(\"Avg. Bedrooms per household in given bounding box: \" + str(avgBedroomsHousehold))\n",
    "  print(\"Avg. Rooms per household in given bounding box: \" + str(avgRoomsHousehold))\n",
    "\n",
    "  return(avgBedroomsHousehold, avgRoomsHousehold)\n",
    "  "
   ]
  },
  {
   "cell_type": "markdown",
   "metadata": {
    "colab_type": "text",
    "id": "YZlRJqPvKex_"
   },
   "source": [
    "# Here we go! \n",
    "\n",
    "You can now simply call this function with whatever geographical bounding box values and you will be returned with the average bedrooms per household and average rooms per household in that area! \n",
    "\n",
    "This function we created can also work on datasets for different areas that follow the same structure as the `data/housing.csv` file. For example, this means that if you have a similar data-set for New York, then you can calculate the average bedrooms and rooms in geographic boxes that you define!"
   ]
  },
  {
   "cell_type": "code",
   "execution_count": null,
   "metadata": {
    "colab": {},
    "colab_type": "code",
    "collapsed": true,
    "id": "QasHcCIOK5Ov",
    "jupyter": {
     "outputs_hidden": true
    }
   },
   "outputs": [],
   "source": [
    "## Mountain View Area (Same example as above)\n",
    "HouseHoldAnalysis('data/housing.csv', -122.12830693, 37.36472345, -122.06162184, 37.40657584)"
   ]
  },
  {
   "cell_type": "markdown",
   "metadata": {
    "colab_type": "text",
    "id": "6quBOAl4Lf8Z"
   },
   "source": [
    "Go on try some more areas in California! If you need help finding `latitude`, `longitude` values, check this link [here](https://www.mapcoordinates.net/en)."
   ]
  },
  {
   "cell_type": "code",
   "execution_count": null,
   "metadata": {
    "colab": {},
    "colab_type": "code",
    "collapsed": true,
    "id": "e6iX2FPdLvB_",
    "jupyter": {
     "outputs_hidden": true
    }
   },
   "outputs": [],
   "source": [
    "## Santa Clara Area (New Example!)\n",
    "HouseHoldAnalysis('data/housing.csv', -121.97046831, 37.3316244, -121.92549303, 37.36519458)"
   ]
  },
  {
   "cell_type": "markdown",
   "metadata": {
    "colab_type": "text",
    "id": "xtCTb1tx-m1C"
   },
   "source": [
    "# Next Steps \n",
    "\n",
    "## cuDF Guide\n",
    "\n",
    "I recommend using the [cuDF documentation guide](https://rapidsai.github.io/projects/cudf/en/latest/index.html) for a deeper understanding of GPU dataframe usage. \n",
    "\n",
    "## GPU Data Science\n",
    "\n",
    "If you wish to learn more about running Data Science Projects on the GPU, I recommend you check out the [full documentation for RAPIDS.](https://docs.rapids.ai/api)\n",
    "\n",
    "### Check out the RAPIDS notebooks repos for more examples:\n",
    "\n",
    "* https://github.com/rapidsai/notebooks\n",
    "* https://github.com/rapidsai/notebooks-contrib"
   ]
  }
 ],
 "metadata": {
  "accelerator": "GPU",
  "colab": {
   "collapsed_sections": [],
   "name": "Getting Started with cuDF.ipynb",
   "provenance": [],
   "version": "0.3.2"
  },
  "kernelspec": {
   "display_name": "Python 3",
   "language": "python",
   "name": "python3"
  },
  "language_info": {
   "codemirror_mode": {
    "name": "ipython",
    "version": 3
   },
   "file_extension": ".py",
   "mimetype": "text/x-python",
   "name": "python",
   "nbconvert_exporter": "python",
   "pygments_lexer": "ipython3",
   "version": "3.6.7"
  }
 },
 "nbformat": 4,
 "nbformat_minor": 4
}
