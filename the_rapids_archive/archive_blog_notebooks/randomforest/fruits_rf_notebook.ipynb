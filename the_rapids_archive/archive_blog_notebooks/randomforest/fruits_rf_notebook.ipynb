{
 "cells": [
  {
   "cell_type": "markdown",
   "metadata": {},
   "source": [
    "# Introduction to RF classification in cuML\n",
    "\n",
    "Aim: Demonstrate how to use GPU Random Forest in cuML. \n",
    "\n",
    "Dataset: Small example dataset of fruits of different size and color. Dataset is self generated."
   ]
  },
  {
   "cell_type": "code",
   "execution_count": null,
   "metadata": {},
   "outputs": [],
   "source": [
    "from cuml import RandomForestClassifier as cuRF\n",
    "import numpy as np"
   ]
  },
  {
   "cell_type": "markdown",
   "metadata": {},
   "source": [
    "Here we map fuit label to consecutive integers which is required for Random Forest Classifier.\n",
    "\n",
    "We also create an inverse dictionary to convert integers back to text labels"
   ]
  },
  {
   "cell_type": "code",
   "execution_count": null,
   "metadata": {},
   "outputs": [],
   "source": [
    "fruit_to_label = {'apple': 0, 'water melon': 1, 'cherry': 2, 'strawberry': 3} \n",
    "label_to_fruit = dict([[v,k] for k,v in fruit_to_label.items()])"
   ]
  },
  {
   "cell_type": "markdown",
   "metadata": {},
   "source": [
    "The dataset below float numbers for fruit size and one-hot encoding (float based) for different color types.\n",
    "\n",
    "Each row is below dataset is arranged as:\n",
    "Red, Green, Blue, Size(cm), Fruit (label)\n",
    "\n",
    "Dataset is converted to float32 and labels into int32"
   ]
  },
  {
   "cell_type": "code",
   "execution_count": null,
   "metadata": {},
   "outputs": [],
   "source": [
    "# Red(0/1), Green(0/1), Blue(0/1), Size(cm), Fruit (label)\n",
    "features = ['Red', 'Green', 'Blue', 'Size(cm)']\n",
    "dataset = np.array([[1.0, 0.0, 0.0, 7.0, fruit_to_label['apple']],\n",
    "                   [0.0, 1.0, 0.0, 20.0, fruit_to_label['water melon']],\n",
    "                   [1.0, 0.0, 0.0, 1.0, fruit_to_label['cherry']],\n",
    "                   [0.0, 1.0, 0.0, 7.5, fruit_to_label['apple']],\n",
    "                   [1.0, 0.0, 0.0, 1.0, fruit_to_label['strawberry']],\n",
    "                   [1.0, 0.0, 0.0, 0.8, fruit_to_label['cherry']]])\n",
    "\n",
    "X_train = dataset[:, :-1].astype(np.float32)\n",
    "y_train = dataset[:, -1].astype(np.int32)"
   ]
  },
  {
   "cell_type": "markdown",
   "metadata": {},
   "source": [
    "We now set hyper-parameters for cuml Random Forest and create a RF object"
   ]
  },
  {
   "cell_type": "code",
   "execution_count": null,
   "metadata": {},
   "outputs": [],
   "source": [
    "# cuml Random Forest params\n",
    "cu_rf_params = {\n",
    "    'n_estimators': 3, #number of trees in RF\n",
    "    'max_depth': 8, # max depth of each tree\n",
    "    'n_bins': 4, # number of bins used in split point calculation\n",
    "    'n_streams': 1, # CUDA stream to use for parallel processing on GPU\n",
    "    'rows_sample': 0.67, # Percentage of input data to be considered for each tree\n",
    "    'split_algo': 0, # Split algorithm\n",
    "    'seed': 13233466 # Seed used for Random Number Generator\n",
    "}\n",
    "cu_rf = cuRF(**cu_rf_params)"
   ]
  },
  {
   "cell_type": "markdown",
   "metadata": {},
   "source": [
    "Now we proceed with model training and build a Random Forest on our dataset"
   ]
  },
  {
   "cell_type": "code",
   "execution_count": null,
   "metadata": {},
   "outputs": [],
   "source": [
    "cu_rf.fit(X_train, y_train)"
   ]
  },
  {
   "cell_type": "markdown",
   "metadata": {},
   "source": [
    "Now we create a dataset that we can use for inference. The dataset has two samples for inference"
   ]
  },
  {
   "cell_type": "code",
   "execution_count": null,
   "metadata": {},
   "outputs": [],
   "source": [
    "X_test = np.array([[0.0, 1.0, 0.0, 22.0], [1.0, 0.0, 0.0, 0.6]])\n",
    "X_test = X_test.astype(np.float32)"
   ]
  },
  {
   "cell_type": "markdown",
   "metadata": {},
   "source": [
    "Running infernece on CPU over Default mode on GPU. At the moment, RF only supports binary inference on GPU. For multi-class inference we defer to CPU mode"
   ]
  },
  {
   "cell_type": "code",
   "execution_count": null,
   "metadata": {},
   "outputs": [],
   "source": [
    "predict_label = cu_rf.predict(X_test, predict_model='CPU')\n",
    "print(\"Predicted fruit 1-->\", label_to_fruit[predict_label[0]])\n",
    "print(\"Predicted fruit 2-->\", label_to_fruit[predict_label[1]])"
   ]
  }
 ],
 "metadata": {
  "kernelspec": {
   "display_name": "Python 3",
   "language": "python",
   "name": "python3"
  },
  "language_info": {
   "codemirror_mode": {
    "name": "ipython",
    "version": 3
   },
   "file_extension": ".py",
   "mimetype": "text/x-python",
   "name": "python",
   "nbconvert_exporter": "python",
   "pygments_lexer": "ipython3",
   "version": "3.7.4"
  }
 },
 "nbformat": 4,
 "nbformat_minor": 2
}
