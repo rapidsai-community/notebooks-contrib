{
 "cells": [
  {
   "cell_type": "markdown",
   "metadata": {},
   "source": [
    "# SciPy 2019 Tutorial \n",
    "# RAPIDS: Open GPU Data Science\n",
    "\n",
    "\n",
    "### July 09, 8:00-12:00\n",
    "\n",
    "```\n",
    "Nick Becker, NVIDIA\n",
    "Randy Gelhausen in lieu of Keith Kraus, NVIDIA\n",
    "Dante Gama Dessavre, NVIDIA\n",
    "Anthony Scopatz, Quansight, LLC\n",
    "Aaron Meurer, Quansight, LLC\n",
    "```"
   ]
  },
  {
   "cell_type": "markdown",
   "metadata": {},
   "source": [
    "This tutorial will cover the basics of Python data science on a GPU, starting from DataFrames, an overview of the RAPIDS Machine Learning capabilites, and ending with an introduction to the graph anlytics tools."
   ]
  },
  {
   "cell_type": "markdown",
   "metadata": {},
   "source": [
    "* [Introduction & Setup](Introduction.ipynb) (30 min)\n",
    "  * Provide instance access \n",
    "  * Execute sanity check notebook (5 min)\n",
    "  * GPU Concepts (15 min)\n",
    "  * Student Questions (5 min)\n",
    "\n"
   ]
  },
  {
   "cell_type": "markdown",
   "metadata": {},
   "source": [
    "* cuDF (1.5 hr)\n",
    "  * [Intro to cuDF notebook](cudf/01-Intro%20to%20cuDF.ipynb) \n",
    "    * Exercises in notebook \n",
    "  * [cuDF User Defined Functions notebook](cudf/02-Intro%20to%20cuDF%20UDFs.ipynb) \n",
    "    * Exercises in notebook "
   ]
  },
  {
   "cell_type": "markdown",
   "metadata": {},
   "source": [
    "* Break (15 min.)"
   ]
  },
  {
   "cell_type": "markdown",
   "metadata": {},
   "source": [
    "* cuML (45 min.)\n",
    "  * [Intro to cuML and SciKit Learn](cuml/01-Introduction-LinearRegression-Hyperparam.ipynb)\n",
    "    * Linear regression\n",
    "    * Ridge Regression and Hyperparameter Optimization\n",
    "  * [Logistic Regression Exercise](cuml/02-LogisticRegression.ipynb)\n",
    "  * [UMAP Data Visualization Showcase](cuml/03-UMAP.ipynb)"
   ]
  },
  {
   "cell_type": "markdown",
   "metadata": {},
   "source": [
    "* Break (15 min.)"
   ]
  },
  {
   "cell_type": "markdown",
   "metadata": {},
   "source": [
    "* cuGraph (30 min.)\n",
    "  * [Intro to cuGraph notebook](cugraph/01-Intro%20to%20cuGraph.ipynb)\n",
    "  * [Louvain method for community detection](cugraph/02-Louvain.ipynb)\n",
    "  * [PageRank](cugraph/03-Pagerank.ipynb)"
   ]
  },
  {
   "cell_type": "markdown",
   "metadata": {},
   "source": [
    "* Questions, comments and conclusions"
   ]
  }
 ],
 "metadata": {
  "kernelspec": {
   "display_name": "Python 3",
   "language": "python",
   "name": "python3"
  },
  "language_info": {
   "codemirror_mode": {
    "name": "ipython",
    "version": 3
   },
   "file_extension": ".py",
   "mimetype": "text/x-python",
   "name": "python",
   "nbconvert_exporter": "python",
   "pygments_lexer": "ipython3",
   "version": "3.6.4"
  }
 },
 "nbformat": 4,
 "nbformat_minor": 4
}
