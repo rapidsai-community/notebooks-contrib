{
 "cells": [
  {
   "cell_type": "markdown",
   "metadata": {},
   "source": [
    "# RAPIDS and Cybersecurity : A Network Use Case\n",
    "\n",
    "### ASONAM 2019 Tutorial\n",
    "### Authors\n",
    " - Rachel Allen, PhD (NVIDIA) [rachela@nvidia.com]\n",
    " - Haekyu Park (Georgia Tech, NVIDIA)\n",
    " - Bartley Richardson, PhD (NVIDIA) [brichardson@nvidia.com]\n",
    " - Brad Rees, PhD [brees@nvidia.com]\n",
    "\n",
    "### Table of Contents\n",
    "* Introduction\n",
    "* Data Importing and Formatting\n",
    "* Data Exploration\n",
    "    * Dataset Summary\n",
    "    * Dataset Size and Data Types\n",
    "    * Summary Statistics\n",
    "    * Value Counts\n",
    "    * Aggregate Statistics\n",
    "    * Visualizing Data Distributions\n",
    "* Graph Representation \n",
    "    * Degree\n",
    "    * PageRank\n",
    "    * Personalized PageRank\n",
    "    * Graph Visualization\n",
    "    \n",
    "### Development Notes\n",
    " - Developed using: RAPIDS v0.9.0\n",
    " - Last tested using: RAPIDS v0.9.0 on August 20, 2019"
   ]
  },
  {
   "cell_type": "code",
   "execution_count": 1,
   "metadata": {},
   "outputs": [
    {
     "name": "stdout",
     "output_type": "stream",
     "text": [
      "Fri Aug 23 07:36:28 2019       \n",
      "+-----------------------------------------------------------------------------+\n",
      "| NVIDIA-SMI 410.48                 Driver Version: 410.48                    |\n",
      "|-------------------------------+----------------------+----------------------+\n",
      "| GPU  Name        Persistence-M| Bus-Id        Disp.A | Volatile Uncorr. ECC |\n",
      "| Fan  Temp  Perf  Pwr:Usage/Cap|         Memory-Usage | GPU-Util  Compute M. |\n",
      "|===============================+======================+======================|\n",
      "|   0  Tesla V100-SXM2...  On   | 00000000:06:00.0 Off |                    0 |\n",
      "| N/A   46C    P0    57W / 300W |  24654MiB / 32480MiB |      0%      Default |\n",
      "+-------------------------------+----------------------+----------------------+\n",
      "|   1  Tesla V100-SXM2...  On   | 00000000:07:00.0 Off |                    0 |\n",
      "| N/A   46C    P0    45W / 300W |     11MiB / 32480MiB |      0%      Default |\n",
      "+-------------------------------+----------------------+----------------------+\n",
      "|   2  Tesla V100-SXM2...  On   | 00000000:0A:00.0 Off |                    0 |\n",
      "| N/A   46C    P0    48W / 300W |     11MiB / 32480MiB |      0%      Default |\n",
      "+-------------------------------+----------------------+----------------------+\n",
      "|   3  Tesla V100-SXM2...  On   | 00000000:0B:00.0 Off |                    0 |\n",
      "| N/A   44C    P0    46W / 300W |     11MiB / 32480MiB |      0%      Default |\n",
      "+-------------------------------+----------------------+----------------------+\n",
      "|   4  Tesla V100-SXM2...  On   | 00000000:85:00.0 Off |                    0 |\n",
      "| N/A   43C    P0    46W / 300W |     11MiB / 32480MiB |      0%      Default |\n",
      "+-------------------------------+----------------------+----------------------+\n",
      "|   5  Tesla V100-SXM2...  On   | 00000000:86:00.0 Off |                    0 |\n",
      "| N/A   45C    P0    47W / 300W |     11MiB / 32480MiB |      0%      Default |\n",
      "+-------------------------------+----------------------+----------------------+\n",
      "|   6  Tesla V100-SXM2...  On   | 00000000:89:00.0 Off |                    0 |\n",
      "| N/A   45C    P0    47W / 300W |     11MiB / 32480MiB |      0%      Default |\n",
      "+-------------------------------+----------------------+----------------------+\n",
      "|   7  Tesla V100-SXM2...  On   | 00000000:8A:00.0 Off |                    0 |\n",
      "| N/A   46C    P0    60W / 300W |   7918MiB / 32480MiB |      0%      Default |\n",
      "+-------------------------------+----------------------+----------------------+\n",
      "                                                                               \n",
      "+-----------------------------------------------------------------------------+\n",
      "| Processes:                                                       GPU Memory |\n",
      "|  GPU       PID   Type   Process name                             Usage      |\n",
      "|=============================================================================|\n",
      "|    0     58021      C   /raid/cjnolet/conda/cuml_dev_10/bin/python  3717MiB |\n",
      "|    7     63151      C   /raid/cjnolet/conda/cuml_dev_10/bin/python  7907MiB |\n",
      "+-----------------------------------------------------------------------------+\n"
     ]
    }
   ],
   "source": [
    "# See how many GPUs are avaialble\n",
    "!nvidia-smi"
   ]
  },
  {
   "cell_type": "code",
   "execution_count": 2,
   "metadata": {},
   "outputs": [],
   "source": [
    "# since this is a shared machine - let's pick a GPU that no one else is using\n",
    "import os\n",
    "os.environ[\"CUDA_VISIBLE_DEVICES\"]=\"6\""
   ]
  },
  {
   "cell_type": "code",
   "execution_count": 3,
   "metadata": {},
   "outputs": [],
   "source": [
    "import cudf\n",
    "import pandas as pd\n",
    "import dask_cudf\n",
    "import cugraph\n",
    "\n",
    "# for visualization\n",
    "import matplotlib.pyplot as plt\n",
    "import seaborn as sns\n",
    "import numpy as np"
   ]
  },
  {
   "cell_type": "markdown",
   "metadata": {},
   "source": [
    "# Introduction"
   ]
  },
  {
   "cell_type": "markdown",
   "metadata": {},
   "source": [
    "Today, organizations collect vast amounts of network traffic and network metadata. As the volume of data collected and velocity at which it's collected continue to increase, security analysts and forensic investigators require fast triage, processing, modeling, and visualization capabilities. Using the [RAPIDS](https://rapids.ai) suite of open-source software, we demonstrate how to:\n",
    "\n",
    "1. Triage and perform data exploration,\n",
    "2. Model network data as a graph,\n",
    "3. Perform graph analytics on the graph representation of the cyber network data, and\n",
    "4. Prepare the results in a way that is suitable for visualization."
   ]
  },
  {
   "cell_type": "markdown",
   "metadata": {},
   "source": [
    "# Data Import and Formatting"
   ]
  },
  {
   "cell_type": "markdown",
   "metadata": {},
   "source": [
    "For this tutorial, we will used the [IDS 2018 dataset](https://www.unb.ca/cic/datasets/ids-2018.html) from the [Canadian Institute for Cybersecurity](https://www.unb.ca/cic/). The data is stored as raw PCAP files in AWS, and we'll need flow-level data for this use case. To make things eaiser, we've already created bidirectional flow using the [CIC FlowMeter tool](https://github.com/ISCX/CICFlowMeter). You can download it and get started immediately using the cell below. If you wish to store the data in a different location other than the default, change the value of `BASE_DIRECTORY`."
   ]
  },
  {
   "cell_type": "code",
   "execution_count": 4,
   "metadata": {},
   "outputs": [],
   "source": [
    "BASE_DIRECTORY = \"../data/\"\n",
    "DOWNLOAD_DIRECTORY = BASE_DIRECTORY + \"cic_ids2018/\"\n",
    "DOWNLOAD_FILE = \"Friday-02-03-2018-biflows.tar.gz\"\n",
    "DIR_AND_FILE = DOWNLOAD_DIRECTORY + DOWNLOAD_FILE\n",
    "DATA_DIRECTORY = DOWNLOAD_DIRECTORY + DOWNLOAD_FILE.split('.')[0] + \"/\""
   ]
  },
  {
   "cell_type": "code",
   "execution_count": 5,
   "metadata": {},
   "outputs": [
    {
     "name": "stdout",
     "output_type": "stream",
     "text": [
      ">> Data already downloaded\n",
      ">> Data already extracted to ../data/cic_ids2018/Friday-02-03-2018-biflows/\n"
     ]
    }
   ],
   "source": [
    "!mkdir -p $DOWNLOAD_DIRECTORY\n",
    "!if [ ! -f $DIR_AND_FILE ]; then echo \">> Downloading data\" && wget -O $DIR_AND_FILE https://rapidsai-data.s3.us-east-2.amazonaws.com/cyber/kdd2019/Friday-02-03-2018-biflows.tar.gz; else echo \">> Data already downloaded\"; fi\n",
    "!if [ ! -d $DATA_DIRECTORY ]; then echo \">> Extracting $DOWNLOAD_FILE to $DATA_DIRECTORY\" && tar -xzf $DIR_AND_FILE -C $DOWNLOAD_DIRECTORY; else echo \">> Data already extracted to $DATA_DIRECTORY\"; fi"
   ]
  },
  {
   "cell_type": "markdown",
   "metadata": {},
   "source": [
    "If you would prefer to create your own biflow data, [follow the directions at the bottom of this page to download the data](https://www.unb.ca/cic/datasets/ids-2018.html) to your machine. You'll then need to build and use the CIC FlowMeter tool to create biflow data."
   ]
  },
  {
   "cell_type": "markdown",
   "metadata": {},
   "source": [
    "----"
   ]
  },
  {
   "cell_type": "markdown",
   "metadata": {},
   "source": [
    "### Load in `conn` (connection) logs into a GDF (GPU Data Frame)\n",
    "Since there are 442 file, we could load each one in sequencially and then merge the DataFrame, but a better way is to use Dask-cuDF. Then we compute the GDF to convert to a cuDF data frame. \n",
    "\n",
    "Dask-cuDF is appropriate if your data doesn't fit in memory on a single GPU, you want to distribute your workflow across multiple GPUs, or (as is the case here) [you want to analyze data spread across many files at once](https://rapidsai.github.io/projects/cudf/en/latest/10min.html#When-to-use-cuDF-and-Dask-cuDF)."
   ]
  },
  {
   "cell_type": "code",
   "execution_count": 6,
   "metadata": {},
   "outputs": [],
   "source": [
    "# specify the location of the data\n",
    "DATA_LOCATION = DATA_DIRECTORY + \"*.csv\""
   ]
  },
  {
   "cell_type": "code",
   "execution_count": 7,
   "metadata": {},
   "outputs": [
    {
     "name": "stdout",
     "output_type": "stream",
     "text": [
      "CPU times: user 604 ms, sys: 588 ms, total: 1.19 s\n",
      "Wall time: 1.21 s\n"
     ]
    }
   ],
   "source": [
    "%%time\n",
    "dask_gdf = dask_cudf.read_csv(DATA_LOCATION, \n",
    "                              sep=',',\n",
    "                              dtype=[\"str\",\"str\",\"int32\",\"str\",\"int32\",\"int32\",\"str\",\"int32\",\"int32\",\"int32\",\n",
    "                                     \"float32\",\"float32\",\"float32\",\"float32\",\"float32\",\"float32\",\"float32\",\n",
    "                                     \"float32\",\"float32\",\"float32\",\"str\",\"str\",\"float32\",\"float32\",\"float32\",\n",
    "                                     \"float32\",\"float32\",\"float32\",\"float32\",\"float32\",\"float32\",\"float32\",\n",
    "                                     \"float32\",\"float32\",\"float32\",\"float32\",\"int32\",\"int32\",\"int32\",\"int32\",\n",
    "                                     \"int32\",\"int32\",\"float32\",\"float32\",\"float32\",\"float32\",\"float32\",\"float32\",\n",
    "                                     \"float32\",\"int32\",\"int32\",\"int32\",\"int32\",\"int32\",\"int32\",\"int32\",\"int32\",\n",
    "                                     \"float32\",\"float32\",\"float32\",\"float32\",\"int32\",\"int32\",\"int32\",\"int32\",\n",
    "                                     \"int32\",\"int32\",\"int32\",\"int32\",\"int32\",\"int32\",\"int32\",\"int32\",\"int32\",\n",
    "                                     \"int32\",\"float32\",\"float32\",\"float32\",\"float32\",\"float32\",\"float32\",\"float32\",\n",
    "                                     \"float32\",\"str\"])"
   ]
  },
  {
   "cell_type": "code",
   "execution_count": 8,
   "metadata": {},
   "outputs": [
    {
     "name": "stdout",
     "output_type": "stream",
     "text": [
      "CPU times: user 26.1 s, sys: 3.09 s, total: 29.2 s\n",
      "Wall time: 29.2 s\n"
     ]
    }
   ],
   "source": [
    "%%time\n",
    "gdf = dask_gdf.compute()"
   ]
  },
  {
   "cell_type": "markdown",
   "metadata": {},
   "source": [
    "__That's it.__  data is loaded and ready for processing"
   ]
  },
  {
   "cell_type": "markdown",
   "metadata": {},
   "source": [
    "----"
   ]
  },
  {
   "cell_type": "markdown",
   "metadata": {},
   "source": [
    "We'll inspect the head of the new cuDF as a sanity check."
   ]
  },
  {
   "cell_type": "code",
   "execution_count": 9,
   "metadata": {
    "scrolled": true
   },
   "outputs": [
    {
     "data": {
      "text/html": [
       "<div>\n",
       "<style scoped>\n",
       "    .dataframe tbody tr th:only-of-type {\n",
       "        vertical-align: middle;\n",
       "    }\n",
       "\n",
       "    .dataframe tbody tr th {\n",
       "        vertical-align: top;\n",
       "    }\n",
       "\n",
       "    .dataframe thead th {\n",
       "        text-align: right;\n",
       "    }\n",
       "</style>\n",
       "<table border=\"1\" class=\"dataframe\">\n",
       "  <thead>\n",
       "    <tr style=\"text-align: right;\">\n",
       "      <th></th>\n",
       "      <th>Flow ID</th>\n",
       "      <th>Src IP</th>\n",
       "      <th>Src Port</th>\n",
       "      <th>Dst IP</th>\n",
       "      <th>Dst Port</th>\n",
       "      <th>Protocol</th>\n",
       "      <th>Timestamp</th>\n",
       "      <th>Flow Duration</th>\n",
       "      <th>Tot Fwd Pkts</th>\n",
       "      <th>Tot Bwd Pkts</th>\n",
       "      <th>...</th>\n",
       "      <th>Fwd Seg Size Min</th>\n",
       "      <th>Active Mean</th>\n",
       "      <th>Active Std</th>\n",
       "      <th>Active Max</th>\n",
       "      <th>Active Min</th>\n",
       "      <th>Idle Mean</th>\n",
       "      <th>Idle Std</th>\n",
       "      <th>Idle Max</th>\n",
       "      <th>Idle Min</th>\n",
       "      <th>Label</th>\n",
       "    </tr>\n",
       "  </thead>\n",
       "  <tbody>\n",
       "    <tr>\n",
       "      <th>0</th>\n",
       "      <td>8.0.6.4-8.6.0.1-0-0-0</td>\n",
       "      <td>8.6.0.1</td>\n",
       "      <td>0</td>\n",
       "      <td>8.0.6.4</td>\n",
       "      <td>0</td>\n",
       "      <td>0</td>\n",
       "      <td>02/03/2018 12:50:13 PM</td>\n",
       "      <td>112640178</td>\n",
       "      <td>2</td>\n",
       "      <td>1</td>\n",
       "      <td>...</td>\n",
       "      <td>0</td>\n",
       "      <td>0.0</td>\n",
       "      <td>0.0</td>\n",
       "      <td>0.0</td>\n",
       "      <td>0.0</td>\n",
       "      <td>56320092.0</td>\n",
       "      <td>159.806137</td>\n",
       "      <td>56320200.0</td>\n",
       "      <td>56319976.0</td>\n",
       "      <td>No Label</td>\n",
       "    </tr>\n",
       "    <tr>\n",
       "      <th>1</th>\n",
       "      <td>8.0.6.4-8.6.0.1-0-0-0</td>\n",
       "      <td>8.6.0.1</td>\n",
       "      <td>0</td>\n",
       "      <td>8.0.6.4</td>\n",
       "      <td>0</td>\n",
       "      <td>0</td>\n",
       "      <td>02/03/2018 12:53:02 PM</td>\n",
       "      <td>112642593</td>\n",
       "      <td>2</td>\n",
       "      <td>1</td>\n",
       "      <td>...</td>\n",
       "      <td>0</td>\n",
       "      <td>0.0</td>\n",
       "      <td>0.0</td>\n",
       "      <td>0.0</td>\n",
       "      <td>0.0</td>\n",
       "      <td>56321296.0</td>\n",
       "      <td>120.915260</td>\n",
       "      <td>56321384.0</td>\n",
       "      <td>56321212.0</td>\n",
       "      <td>No Label</td>\n",
       "    </tr>\n",
       "    <tr>\n",
       "      <th>2</th>\n",
       "      <td>8.0.6.4-8.6.0.1-0-0-0</td>\n",
       "      <td>8.6.0.1</td>\n",
       "      <td>0</td>\n",
       "      <td>8.0.6.4</td>\n",
       "      <td>0</td>\n",
       "      <td>0</td>\n",
       "      <td>02/03/2018 12:55:51 PM</td>\n",
       "      <td>112640127</td>\n",
       "      <td>2</td>\n",
       "      <td>1</td>\n",
       "      <td>...</td>\n",
       "      <td>0</td>\n",
       "      <td>0.0</td>\n",
       "      <td>0.0</td>\n",
       "      <td>0.0</td>\n",
       "      <td>0.0</td>\n",
       "      <td>56320068.0</td>\n",
       "      <td>251.022903</td>\n",
       "      <td>56320240.0</td>\n",
       "      <td>56319884.0</td>\n",
       "      <td>No Label</td>\n",
       "    </tr>\n",
       "    <tr>\n",
       "      <th>3</th>\n",
       "      <td>8.0.6.4-8.6.0.1-0-0-0</td>\n",
       "      <td>8.6.0.1</td>\n",
       "      <td>0</td>\n",
       "      <td>8.0.6.4</td>\n",
       "      <td>0</td>\n",
       "      <td>0</td>\n",
       "      <td>02/03/2018 12:58:40 PM</td>\n",
       "      <td>112641715</td>\n",
       "      <td>2</td>\n",
       "      <td>1</td>\n",
       "      <td>...</td>\n",
       "      <td>0</td>\n",
       "      <td>0.0</td>\n",
       "      <td>0.0</td>\n",
       "      <td>0.0</td>\n",
       "      <td>0.0</td>\n",
       "      <td>56320852.0</td>\n",
       "      <td>67.175140</td>\n",
       "      <td>56320904.0</td>\n",
       "      <td>56320812.0</td>\n",
       "      <td>No Label</td>\n",
       "    </tr>\n",
       "    <tr>\n",
       "      <th>4</th>\n",
       "      <td>8.0.6.4-8.6.0.1-0-0-0</td>\n",
       "      <td>8.6.0.1</td>\n",
       "      <td>0</td>\n",
       "      <td>8.0.6.4</td>\n",
       "      <td>0</td>\n",
       "      <td>0</td>\n",
       "      <td>02/03/2018 01:01:29 PM</td>\n",
       "      <td>112642245</td>\n",
       "      <td>2</td>\n",
       "      <td>1</td>\n",
       "      <td>...</td>\n",
       "      <td>0</td>\n",
       "      <td>0.0</td>\n",
       "      <td>0.0</td>\n",
       "      <td>0.0</td>\n",
       "      <td>0.0</td>\n",
       "      <td>56321120.0</td>\n",
       "      <td>3.535534</td>\n",
       "      <td>56321124.0</td>\n",
       "      <td>56321120.0</td>\n",
       "      <td>No Label</td>\n",
       "    </tr>\n",
       "  </tbody>\n",
       "</table>\n",
       "<p>5 rows × 84 columns</p>\n",
       "</div>"
      ],
      "text/plain": [
       "                 Flow ID   Src IP  Src Port   Dst IP  Dst Port  Protocol  \\\n",
       "0  8.0.6.4-8.6.0.1-0-0-0  8.6.0.1         0  8.0.6.4         0         0   \n",
       "1  8.0.6.4-8.6.0.1-0-0-0  8.6.0.1         0  8.0.6.4         0         0   \n",
       "2  8.0.6.4-8.6.0.1-0-0-0  8.6.0.1         0  8.0.6.4         0         0   \n",
       "3  8.0.6.4-8.6.0.1-0-0-0  8.6.0.1         0  8.0.6.4         0         0   \n",
       "4  8.0.6.4-8.6.0.1-0-0-0  8.6.0.1         0  8.0.6.4         0         0   \n",
       "\n",
       "                Timestamp  Flow Duration  Tot Fwd Pkts  Tot Bwd Pkts  ...  \\\n",
       "0  02/03/2018 12:50:13 PM      112640178             2             1  ...   \n",
       "1  02/03/2018 12:53:02 PM      112642593             2             1  ...   \n",
       "2  02/03/2018 12:55:51 PM      112640127             2             1  ...   \n",
       "3  02/03/2018 12:58:40 PM      112641715             2             1  ...   \n",
       "4  02/03/2018 01:01:29 PM      112642245             2             1  ...   \n",
       "\n",
       "   Fwd Seg Size Min  Active Mean  Active Std  Active Max  Active Min  \\\n",
       "0                 0          0.0         0.0         0.0         0.0   \n",
       "1                 0          0.0         0.0         0.0         0.0   \n",
       "2                 0          0.0         0.0         0.0         0.0   \n",
       "3                 0          0.0         0.0         0.0         0.0   \n",
       "4                 0          0.0         0.0         0.0         0.0   \n",
       "\n",
       "    Idle Mean    Idle Std    Idle Max    Idle Min     Label  \n",
       "0  56320092.0  159.806137  56320200.0  56319976.0  No Label  \n",
       "1  56321296.0  120.915260  56321384.0  56321212.0  No Label  \n",
       "2  56320068.0  251.022903  56320240.0  56319884.0  No Label  \n",
       "3  56320852.0   67.175140  56320904.0  56320812.0  No Label  \n",
       "4  56321120.0    3.535534  56321124.0  56321120.0  No Label  \n",
       "\n",
       "[5 rows x 84 columns]"
      ]
     },
     "execution_count": 9,
     "metadata": {},
     "output_type": "execute_result"
    }
   ],
   "source": [
    "gdf.head()"
   ]
  },
  {
   "cell_type": "markdown",
   "metadata": {},
   "source": [
    "The timestamp is in string format, so we'll convert to epoch time."
   ]
  },
  {
   "cell_type": "code",
   "execution_count": 10,
   "metadata": {},
   "outputs": [
    {
     "name": "stdout",
     "output_type": "stream",
     "text": [
      "CPU times: user 728 ms, sys: 236 ms, total: 964 ms\n",
      "Wall time: 978 ms\n"
     ]
    }
   ],
   "source": [
    "%%time\n",
    "gdf['datetime'] = gdf['Timestamp'].str.timestamp2int(format='%d/%m/%Y %I:%M:%S %p')"
   ]
  },
  {
   "cell_type": "markdown",
   "metadata": {},
   "source": [
    "IP addresses in the dataset are also formatted as strings, in a format like: ```192.168.0.1``` We use one of the built-in IPv4 primitive functions `ip2int()` to convert IPv4 addresses to their integer (int64) representations."
   ]
  },
  {
   "cell_type": "code",
   "execution_count": 11,
   "metadata": {
    "raw_mimetype": "text/x-python"
   },
   "outputs": [
    {
     "name": "stdout",
     "output_type": "stream",
     "text": [
      "CPU times: user 1.07 s, sys: 480 ms, total: 1.55 s\n",
      "Wall time: 1.54 s\n"
     ]
    }
   ],
   "source": [
    "%%time\n",
    "gdf['src_ip'] = gdf['Src IP'].str.ip2int()\n",
    "gdf['dst_ip'] = gdf['Dst IP'].str.ip2int()"
   ]
  },
  {
   "cell_type": "markdown",
   "metadata": {},
   "source": [
    "----"
   ]
  },
  {
   "cell_type": "markdown",
   "metadata": {},
   "source": [
    "# Data Exploration"
   ]
  },
  {
   "cell_type": "markdown",
   "metadata": {},
   "source": [
    "## Dataset Summary"
   ]
  },
  {
   "cell_type": "markdown",
   "metadata": {},
   "source": [
    "There's 89 features for each flow! You can find descriptions of all of them here: https://www.unb.ca/cic/datasets/ids-2018.html. Or look at the table below with some of the ones we'll be using highlighted below.\n",
    "\n",
    "\n",
    "|Field | Description|\n",
    "|---|---|\n",
    "|Src IP | Source IP\n",
    "|Src Port | Source Port\n",
    "|Dst IP| Destination IP\n",
    "|Dst Port| Destination Port\n",
    "|Tot Fwd Pkts| Total Forward Packets\n",
    "|Tot Bwd Pkts| Total Backward Packets\n",
    "|Fwd Header Len| Forward Header Length\n",
    "|Bwd Header Len| Backward Header Lenght\n",
    "|Fwd Pkts/s| Foward Packets per second\n",
    "|Bwd Pkts/s | Backward Packets per second"
   ]
  },
  {
   "cell_type": "markdown",
   "metadata": {},
   "source": [
    "## Data Exploration"
   ]
  },
  {
   "cell_type": "markdown",
   "metadata": {},
   "source": [
    "### Dataset Size and Data Types"
   ]
  },
  {
   "cell_type": "markdown",
   "metadata": {},
   "source": [
    "We first get a sense of how large the dataset is, and what some column names and their associated data types are."
   ]
  },
  {
   "cell_type": "code",
   "execution_count": 12,
   "metadata": {
    "scrolled": true
   },
   "outputs": [
    {
     "name": "stdout",
     "output_type": "stream",
     "text": [
      "(8217202, 87)\n"
     ]
    }
   ],
   "source": [
    "print(gdf.shape)"
   ]
  },
  {
   "cell_type": "code",
   "execution_count": 13,
   "metadata": {},
   "outputs": [
    {
     "name": "stdout",
     "output_type": "stream",
     "text": [
      "Flow ID               object\n",
      "Src IP                object\n",
      "Src Port               int32\n",
      "Dst IP                object\n",
      "Dst Port               int32\n",
      "Protocol               int32\n",
      "Timestamp             object\n",
      "Flow Duration          int32\n",
      "Tot Fwd Pkts           int32\n",
      "Tot Bwd Pkts           int32\n",
      "TotLen Fwd Pkts      float32\n",
      "TotLen Bwd Pkts      float32\n",
      "Fwd Pkt Len Max      float32\n",
      "Fwd Pkt Len Min      float32\n",
      "Fwd Pkt Len Mean     float32\n",
      "Fwd Pkt Len Std      float32\n",
      "Bwd Pkt Len Max      float32\n",
      "Bwd Pkt Len Min      float32\n",
      "Bwd Pkt Len Mean     float32\n",
      "Bwd Pkt Len Std      float32\n",
      "Flow Byts/s           object\n",
      "Flow Pkts/s           object\n",
      "Flow IAT Mean        float32\n",
      "Flow IAT Std         float32\n",
      "Flow IAT Max         float32\n",
      "Flow IAT Min         float32\n",
      "Fwd IAT Tot          float32\n",
      "Fwd IAT Mean         float32\n",
      "Fwd IAT Std          float32\n",
      "Fwd IAT Max          float32\n",
      "                      ...   \n",
      "Down/Up Ratio        float32\n",
      "Pkt Size Avg         float32\n",
      "Fwd Seg Size Avg     float32\n",
      "Bwd Seg Size Avg     float32\n",
      "Fwd Byts/b Avg         int32\n",
      "Fwd Pkts/b Avg         int32\n",
      "Fwd Blk Rate Avg       int32\n",
      "Bwd Byts/b Avg         int32\n",
      "Bwd Pkts/b Avg         int32\n",
      "Bwd Blk Rate Avg       int32\n",
      "Subflow Fwd Pkts       int32\n",
      "Subflow Fwd Byts       int32\n",
      "Subflow Bwd Pkts       int32\n",
      "Subflow Bwd Byts       int32\n",
      "Init Fwd Win Byts      int32\n",
      "Init Bwd Win Byts      int32\n",
      "Fwd Act Data Pkts      int32\n",
      "Fwd Seg Size Min       int32\n",
      "Active Mean          float32\n",
      "Active Std           float32\n",
      "Active Max           float32\n",
      "Active Min           float32\n",
      "Idle Mean            float32\n",
      "Idle Std             float32\n",
      "Idle Max             float32\n",
      "Idle Min             float32\n",
      "Label                 object\n",
      "datetime               int64\n",
      "src_ip                 int64\n",
      "dst_ip                 int64\n",
      "Length: 87, dtype: object\n"
     ]
    }
   ],
   "source": [
    "print(gdf.dtypes)"
   ]
  },
  {
   "cell_type": "markdown",
   "metadata": {},
   "source": [
    "### Summary Statistics on Numeric Fields"
   ]
  },
  {
   "cell_type": "markdown",
   "metadata": {},
   "source": [
    "Often it's useful to generate summary statistics on numeric fields. This is easy with the `describe()` function. Here, the output includes the minimum, maximum, mean, median, standard deviation, and various quantiles for selected fields in the dataset."
   ]
  },
  {
   "cell_type": "code",
   "execution_count": 14,
   "metadata": {},
   "outputs": [
    {
     "name": "stdout",
     "output_type": "stream",
     "text": [
      "       Flow Duration  Tot Fwd Pkts  Tot Bwd Pkts  Fwd Header Len  \\\n",
      "count   8.217202e+06  8.217202e+06  8.217202e+06    8.217202e+06   \n",
      "mean    1.601290e+07  5.229578e+00  7.693485e+00    1.013261e+02   \n",
      "std     3.450459e+07  5.748743e+01  1.530253e+02    1.768820e+03   \n",
      "min     0.000000e+00  0.000000e+00  1.000000e+00    0.000000e+00   \n",
      "25%     6.480000e+02  1.000000e+00  2.000000e+00    0.000000e+00   \n",
      "50%     2.041365e+05  2.000000e+00  2.000000e+00    2.000000e+01   \n",
      "75%     4.082616e+06  7.000000e+00  8.000000e+00    1.400000e+02   \n",
      "max     1.200000e+08  4.315800e+04  1.220150e+05    2.275004e+06   \n",
      "\n",
      "       Bwd Header Len    Fwd Pkts/s    Bwd Pkts/s  \n",
      "count    8.217202e+06  8.217202e+06  8.217202e+06  \n",
      "mean     1.597771e+02  1.196901e+04  1.589824e+04  \n",
      "std      3.028208e+03  1.072087e+05  1.082609e+05  \n",
      "min      0.000000e+00  0.000000e+00  0.000000e+00  \n",
      "25%      2.000000e+01  0.000000e+00  1.973443e+00  \n",
      "50%      4.000000e+01  2.093290e+00  1.242776e+01  \n",
      "75%      1.840000e+02  9.494061e+00  2.564103e+03  \n",
      "max      2.440324e+06  4.000000e+06  3.000000e+06  \n"
     ]
    }
   ],
   "source": [
    "print(gdf[['Flow Duration','Tot Fwd Pkts','Tot Bwd Pkts', 'Fwd Header Len', 'Bwd Header Len', 'Fwd Pkts/s', \n",
    "           'Bwd Pkts/s']].describe())"
   ]
  },
  {
   "cell_type": "markdown",
   "metadata": {},
   "source": [
    "### Value Counts of Fields"
   ]
  },
  {
   "cell_type": "markdown",
   "metadata": {},
   "source": [
    "Ports are interesting. They help us determine what applications are being used by referring back to [IANA service mappings](https://www.iana.org/assignments/service-names-port-numbers/service-names-port-numbers.xhtml). For example, port 53 (UDP protocol) is commonly associated with DNS, while ports 80, 443, and 8080 (TCP protocol) are associated with HTTP and HTTPS. For TCP and UDP, ports are interpreted as you would imagine. However, network data often includes [ICMP](https://en.wikipedia.org/wiki/Internet_Control_Message_Protocol) traffic, which has no traditional notion of ports. In these cases, values for ports are interpreted as the [ICMP type](https://en.wikipedia.org/wiki/Internet_Control_Message_Protocol#Control_messages).\n",
    "\n",
    "Let's investigate some of the destination ports and their value counts in the dataset."
   ]
  },
  {
   "cell_type": "code",
   "execution_count": 15,
   "metadata": {},
   "outputs": [
    {
     "name": "stdout",
     "output_type": "stream",
     "text": [
      "53       2093020\n",
      "3389     1909699\n",
      "443      1040455\n",
      "80        759641\n",
      "445       462400\n",
      "8080      281728\n",
      "0         142358\n",
      "5355       16314\n",
      "3128       15323\n",
      "123         9034\n",
      "139         8095\n",
      "67          7338\n",
      "22          4310\n",
      "137         4104\n",
      "23          2854\n",
      "138         1817\n",
      "1900        1245\n",
      "135         1216\n",
      "500         1140\n",
      "18183        727\n",
      "7112         619\n",
      "36496        532\n",
      "30303        268\n",
      "49705        256\n",
      "49707        256\n",
      "50467        252\n",
      "50214        247\n",
      "50392        247\n",
      "50611        246\n",
      "50085        245\n",
      "          ...   \n",
      "999            1\n",
      "1013           1\n",
      "1023           1\n",
      "1029           1\n",
      "5756           1\n",
      "7390           1\n",
      "12142          1\n",
      "13786          1\n",
      "14097          1\n",
      "17815          1\n",
      "21269          1\n",
      "22795          1\n",
      "24779          1\n",
      "25748          1\n",
      "28734          1\n",
      "30109          1\n",
      "30917          1\n",
      "30970          1\n",
      "31292          1\n",
      "36502          1\n",
      "36782          1\n",
      "37211          1\n",
      "37325          1\n",
      "37572          1\n",
      "38018          1\n",
      "44327          1\n",
      "45703          1\n",
      "46057          1\n",
      "47001          1\n",
      "47670          1\n",
      "Name: Dst Port, Length: 64601, dtype: int32\n"
     ]
    }
   ],
   "source": [
    "# returns values from largest to smallest count\n",
    "print(gdf['Dst Port'].value_counts())"
   ]
  },
  {
   "cell_type": "markdown",
   "metadata": {},
   "source": [
    "If we sort by the port, we can see that port 0 is represented quite frquently. This typically corresponds with ICMP traffic, meaning an echo reply (used to ping assets on the network)."
   ]
  },
  {
   "cell_type": "code",
   "execution_count": 16,
   "metadata": {
    "scrolled": true
   },
   "outputs": [
    {
     "name": "stdout",
     "output_type": "stream",
     "text": [
      "0         142358\n",
      "3              1\n",
      "5              2\n",
      "10             3\n",
      "12             1\n",
      "15             2\n",
      "21           223\n",
      "22          4310\n",
      "23          2854\n",
      "25            56\n",
      "26             1\n",
      "53       2093020\n",
      "67          7338\n",
      "68            48\n",
      "70             1\n",
      "79             2\n",
      "80        759641\n",
      "81            36\n",
      "82             2\n",
      "83             2\n",
      "84             1\n",
      "85             3\n",
      "88             3\n",
      "89             1\n",
      "90             3\n",
      "91             2\n",
      "101            1\n",
      "102            2\n",
      "110           13\n",
      "111            8\n",
      "          ...   \n",
      "65506         10\n",
      "65507         14\n",
      "65508         11\n",
      "65509         16\n",
      "65510         11\n",
      "65511         13\n",
      "65512         11\n",
      "65513          6\n",
      "65514         16\n",
      "65515         11\n",
      "65516         15\n",
      "65517         11\n",
      "65518         12\n",
      "65519         20\n",
      "65520         13\n",
      "65521         13\n",
      "65522          9\n",
      "65523          6\n",
      "65524          7\n",
      "65525         13\n",
      "65526         14\n",
      "65527         16\n",
      "65528         14\n",
      "65529          8\n",
      "65530         10\n",
      "65531          8\n",
      "65532         14\n",
      "65533          8\n",
      "65534         10\n",
      "65535          2\n",
      "Name: Dst Port, Length: 64601, dtype: int32\n"
     ]
    }
   ],
   "source": [
    "# sort by port number\n",
    "print(gdf['Dst Port'].value_counts().sort_index())"
   ]
  },
  {
   "cell_type": "markdown",
   "metadata": {},
   "source": [
    "### Aggregate Statistics"
   ]
  },
  {
   "cell_type": "markdown",
   "metadata": {},
   "source": [
    "Another common way to investigate a new dataset is to calculate aggregate statistics on various fields (and groupings of fields) in the data. Below, we apply a `groupby()` then a `sum()` to calculate total forward-direction (outbound) packets for each source IP address."
   ]
  },
  {
   "cell_type": "code",
   "execution_count": 17,
   "metadata": {},
   "outputs": [
    {
     "name": "stdout",
     "output_type": "stream",
     "text": [
      "                Tot Fwd Pkts\n",
      "Src IP                      \n",
      "0.0.0.0                  702\n",
      "1.0.150.69                87\n",
      "1.0.196.220               10\n",
      "1.1.165.90               186\n",
      "1.1.174.152               44\n",
      "1.1.237.80                22\n",
      "1.1.254.189               95\n",
      "1.10.133.107              60\n",
      "1.10.140.140              12\n",
      "1.10.247.85               26\n",
      "1.10.252.155              37\n",
      "1.10.252.249              17\n",
      "1.10.252.38              161\n",
      "1.160.205.143             13\n",
      "1.160.208.123             19\n",
      "1.160.213.194             42\n",
      "1.161.175.33              12\n",
      "1.161.211.20             101\n",
      "1.161.215.210            142\n",
      "1.161.244.226            283\n",
      "1.161.47.126              12\n",
      "1.161.56.36               54\n",
      "1.161.60.101             225\n",
      "1.162.172.25              72\n",
      "1.162.21.171              23\n",
      "1.162.32.117             756\n",
      "1.162.36.120               0\n",
      "1.162.7.175                1\n",
      "1.163.114.156             44\n",
      "1.163.169.158             12\n",
      "...                      ...\n",
      "98.114.52.121            210\n",
      "98.126.38.138             20\n",
      "98.126.38.141             23\n",
      "98.126.6.234              10\n",
      "98.136.103.23              1\n",
      "98.136.241.156             2\n",
      "98.137.159.48              0\n",
      "98.138.49.44               1\n",
      "98.138.49.92              23\n",
      "98.139.180.180             5\n",
      "98.139.199.204             2\n",
      "98.139.199.205             3\n",
      "98.139.21.169              3\n",
      "98.139.225.35           1094\n",
      "98.139.225.43              2\n",
      "98.139.28.141            119\n",
      "98.159.210.45             49\n",
      "98.173.53.124            119\n",
      "98.18.19.223              12\n",
      "98.199.237.70             30\n",
      "98.228.65.24            1036\n",
      "98.23.116.10             282\n",
      "98.29.109.242             24\n",
      "98.6.254.218              10\n",
      "98.64.36.12                0\n",
      "99.158.245.186             2\n",
      "99.178.244.230            27\n",
      "99.46.42.37                1\n",
      "99.47.33.152               2\n",
      "99.60.19.158              91\n",
      "\n",
      "[32674 rows x 1 columns]\n"
     ]
    }
   ],
   "source": [
    "print(gdf[['Src IP','Tot Fwd Pkts']].groupby('Src IP').sum())"
   ]
  },
  {
   "cell_type": "markdown",
   "metadata": {},
   "source": [
    "## Visualizing Data Distribution"
   ]
  },
  {
   "cell_type": "markdown",
   "metadata": {},
   "source": [
    "A big challenge for cyber security is to distinguish normal network traffic from malicious traffic. We can plot a feature's distribution to try to decide where a cut-offs for \"normal\" traffic could be.  \n",
    "\n",
    "Let's start with something easy, ports (specifically destination ports, for the reasons above). "
   ]
  },
  {
   "cell_type": "code",
   "execution_count": 18,
   "metadata": {},
   "outputs": [],
   "source": [
    "plotdf = cudf.DataFrame()\n",
    "plotdf['Dst Port'] = gdf['Dst Port'].value_counts().head(30).sort_index().index\n",
    "plotdf['Freq'] = gdf['Dst Port'].value_counts().head(30).sort_index()"
   ]
  },
  {
   "cell_type": "code",
   "execution_count": 19,
   "metadata": {},
   "outputs": [
    {
     "data": {
      "image/png": "[encoded data removed]",
      "text/plain": [
       "<Figure size 1440x360 with 1 Axes>"
      ]
     },
     "metadata": {
      "needs_background": "light"
     },
     "output_type": "display_data"
    },
    {
     "name": "stdout",
     "output_type": "stream",
     "text": [
      "CPU times: user 276 ms, sys: 4 ms, total: 280 ms\n",
      "Wall time: 275 ms\n"
     ]
    }
   ],
   "source": [
    "%%time\n",
    "ports = plotdf['Dst Port']\n",
    "y_pos = np.arange(len(ports))\n",
    "frequency = plotdf['Freq']\n",
    "\n",
    "plt.figure(figsize=(20,5))\n",
    "plt.bar(y_pos, frequency, align='center', alpha=0.5)\n",
    "plt.xticks(y_pos, ports)\n",
    "plt.ylabel('frequency')\n",
    "plt.xlabel('dest port')\n",
    "plt.title('Top 30 Most Frequently Used Destination Ports')\n",
    "\n",
    "plt.show()"
   ]
  },
  {
   "cell_type": "markdown",
   "metadata": {},
   "source": [
    "Should we block traffic that uses abnormal ports? If only 0.00001% of traffic is malicious, we would have a very high-false positive rate and lots of unhappy users if we blocked the traffic using abnormal destination ports.\n",
    "\n",
    "Let's look at a continuous field instead of a categorical one, `Total Forward Packets`."
   ]
  },
  {
   "cell_type": "code",
   "execution_count": 20,
   "metadata": {},
   "outputs": [
    {
     "data": {
      "text/plain": [
       "<matplotlib.axes._subplots.AxesSubplot at 0x7fd6160e51d0>"
      ]
     },
     "execution_count": 20,
     "metadata": {},
     "output_type": "execute_result"
    },
    {
     "data": {
      "image/png": "[encoded data removed]",
      "text/plain": [
       "<Figure size 432x288 with 1 Axes>"
      ]
     },
     "metadata": {
      "needs_background": "light"
     },
     "output_type": "display_data"
    }
   ],
   "source": [
    "# plot a histogram of a sample of our dataset with a kde kernal density estimate overlaid \n",
    "sns.distplot(gdf['Tot Fwd Pkts'].head(1000))"
   ]
  },
  {
   "cell_type": "markdown",
   "metadata": {},
   "source": [
    "It looks like our data has a long tail distribution. We can visualize it another way with a cummulative frequency histogram."
   ]
  },
  {
   "cell_type": "code",
   "execution_count": 26,
   "metadata": {},
   "outputs": [
    {
     "data": {
      "image/png": "[encoded data removed]",
      "text/plain": [
       "<Figure size 432x288 with 1 Axes>"
      ]
     },
     "metadata": {
      "needs_background": "light"
     },
     "output_type": "display_data"
    }
   ],
   "source": [
    "# evaluate the histogram\n",
    "values, base = np.histogram(gdf['Tot Fwd Pkts'].head(1000).to_pandas(), bins=40)\n",
    "\n",
    "#evaluate the cumulative\n",
    "cumulative = np.cumsum(values)\n",
    "\n",
    "# plot the cumulative function\n",
    "plt.plot(base[:-1], cumulative, c='blue')\n",
    "plt.show()"
   ]
  },
  {
   "cell_type": "markdown",
   "metadata": {},
   "source": [
    "It looks like over 99.5% of our traffic has less than 25 total forward packets. Could we just flag all the traffic with greater than 25 forward packets as anaomolous? Is this a good idea? Why or why not?\n",
    "\n",
    "Let's plot another data field, `Flow Duration`."
   ]
  },
  {
   "cell_type": "code",
   "execution_count": 27,
   "metadata": {},
   "outputs": [
    {
     "data": {
      "text/plain": [
       "<matplotlib.axes._subplots.AxesSubplot at 0x7fd732cd1358>"
      ]
     },
     "execution_count": 27,
     "metadata": {},
     "output_type": "execute_result"
    },
    {
     "data": {
      "image/png": "[encoded data removed]",
      "text/plain": [
       "<Figure size 432x288 with 1 Axes>"
      ]
     },
     "metadata": {
      "needs_background": "light"
     },
     "output_type": "display_data"
    }
   ],
   "source": [
    "#plot a histogram of a sample of our dataset with a kde kernal density estimate overlaid \n",
    "sns.distplot(gdf['Flow Duration'].head(1000))"
   ]
  },
  {
   "cell_type": "markdown",
   "metadata": {},
   "source": [
    "It looks like `Flow Duration` is bimodal, what would it mean to have a single threshold to determine outliers within this field?"
   ]
  },
  {
   "cell_type": "markdown",
   "metadata": {},
   "source": [
    "# Graph Representation of the Network Data"
   ]
  },
  {
   "cell_type": "markdown",
   "metadata": {},
   "source": [
    "Networks (including cybersecurity networks) are frequently interpreted and represented as graphs. A graph representation affords us many benefits during analysis, including using both the structure, edge features, and generated features for anomaly detection. We first demonstrate how to create a [cuGraph](https://github.com/rapidsai/cugraph) representation of graph data represented in cuDF, then we walk through some analysis."
   ]
  },
  {
   "cell_type": "code",
   "execution_count": 28,
   "metadata": {},
   "outputs": [],
   "source": [
    "G = cugraph.Graph()"
   ]
  },
  {
   "cell_type": "code",
   "execution_count": 29,
   "metadata": {},
   "outputs": [
    {
     "name": "stdout",
     "output_type": "stream",
     "text": [
      "CPU times: user 44 ms, sys: 20 ms, total: 64 ms\n",
      "Wall time: 64.6 ms\n"
     ]
    }
   ],
   "source": [
    "%%time\n",
    "gdf['src_ip_r'], gdf['dst_ip_r'], numbering = cugraph.renumber(gdf['src_ip'], gdf['dst_ip'])"
   ]
  },
  {
   "cell_type": "code",
   "execution_count": 30,
   "metadata": {},
   "outputs": [
    {
     "data": {
      "text/html": [
       "<div>\n",
       "<style scoped>\n",
       "    .dataframe tbody tr th:only-of-type {\n",
       "        vertical-align: middle;\n",
       "    }\n",
       "\n",
       "    .dataframe tbody tr th {\n",
       "        vertical-align: top;\n",
       "    }\n",
       "\n",
       "    .dataframe thead th {\n",
       "        text-align: right;\n",
       "    }\n",
       "</style>\n",
       "<table border=\"1\" class=\"dataframe\">\n",
       "  <thead>\n",
       "    <tr style=\"text-align: right;\">\n",
       "      <th></th>\n",
       "      <th>Flow ID</th>\n",
       "      <th>Src IP</th>\n",
       "      <th>Src Port</th>\n",
       "      <th>Dst IP</th>\n",
       "      <th>Dst Port</th>\n",
       "      <th>Protocol</th>\n",
       "      <th>Timestamp</th>\n",
       "      <th>Flow Duration</th>\n",
       "      <th>Tot Fwd Pkts</th>\n",
       "      <th>Tot Bwd Pkts</th>\n",
       "      <th>...</th>\n",
       "      <th>Idle Mean</th>\n",
       "      <th>Idle Std</th>\n",
       "      <th>Idle Max</th>\n",
       "      <th>Idle Min</th>\n",
       "      <th>Label</th>\n",
       "      <th>datetime</th>\n",
       "      <th>src_ip</th>\n",
       "      <th>dst_ip</th>\n",
       "      <th>src_ip_r</th>\n",
       "      <th>dst_ip_r</th>\n",
       "    </tr>\n",
       "  </thead>\n",
       "  <tbody>\n",
       "    <tr>\n",
       "      <th>0</th>\n",
       "      <td>8.0.6.4-8.6.0.1-0-0-0</td>\n",
       "      <td>8.6.0.1</td>\n",
       "      <td>0</td>\n",
       "      <td>8.0.6.4</td>\n",
       "      <td>0</td>\n",
       "      <td>0</td>\n",
       "      <td>02/03/2018 12:50:13 PM</td>\n",
       "      <td>112640178</td>\n",
       "      <td>2</td>\n",
       "      <td>1</td>\n",
       "      <td>...</td>\n",
       "      <td>56320092.0</td>\n",
       "      <td>159.806137</td>\n",
       "      <td>56320200.0</td>\n",
       "      <td>56319976.0</td>\n",
       "      <td>No Label</td>\n",
       "      <td>1520038213</td>\n",
       "      <td>134610945</td>\n",
       "      <td>134219268</td>\n",
       "      <td>189</td>\n",
       "      <td>6461</td>\n",
       "    </tr>\n",
       "    <tr>\n",
       "      <th>1</th>\n",
       "      <td>8.0.6.4-8.6.0.1-0-0-0</td>\n",
       "      <td>8.6.0.1</td>\n",
       "      <td>0</td>\n",
       "      <td>8.0.6.4</td>\n",
       "      <td>0</td>\n",
       "      <td>0</td>\n",
       "      <td>02/03/2018 12:53:02 PM</td>\n",
       "      <td>112642593</td>\n",
       "      <td>2</td>\n",
       "      <td>1</td>\n",
       "      <td>...</td>\n",
       "      <td>56321296.0</td>\n",
       "      <td>120.915260</td>\n",
       "      <td>56321384.0</td>\n",
       "      <td>56321212.0</td>\n",
       "      <td>No Label</td>\n",
       "      <td>1520038382</td>\n",
       "      <td>134610945</td>\n",
       "      <td>134219268</td>\n",
       "      <td>189</td>\n",
       "      <td>6461</td>\n",
       "    </tr>\n",
       "    <tr>\n",
       "      <th>2</th>\n",
       "      <td>8.0.6.4-8.6.0.1-0-0-0</td>\n",
       "      <td>8.6.0.1</td>\n",
       "      <td>0</td>\n",
       "      <td>8.0.6.4</td>\n",
       "      <td>0</td>\n",
       "      <td>0</td>\n",
       "      <td>02/03/2018 12:55:51 PM</td>\n",
       "      <td>112640127</td>\n",
       "      <td>2</td>\n",
       "      <td>1</td>\n",
       "      <td>...</td>\n",
       "      <td>56320068.0</td>\n",
       "      <td>251.022903</td>\n",
       "      <td>56320240.0</td>\n",
       "      <td>56319884.0</td>\n",
       "      <td>No Label</td>\n",
       "      <td>1520038551</td>\n",
       "      <td>134610945</td>\n",
       "      <td>134219268</td>\n",
       "      <td>189</td>\n",
       "      <td>6461</td>\n",
       "    </tr>\n",
       "    <tr>\n",
       "      <th>3</th>\n",
       "      <td>8.0.6.4-8.6.0.1-0-0-0</td>\n",
       "      <td>8.6.0.1</td>\n",
       "      <td>0</td>\n",
       "      <td>8.0.6.4</td>\n",
       "      <td>0</td>\n",
       "      <td>0</td>\n",
       "      <td>02/03/2018 12:58:40 PM</td>\n",
       "      <td>112641715</td>\n",
       "      <td>2</td>\n",
       "      <td>1</td>\n",
       "      <td>...</td>\n",
       "      <td>56320852.0</td>\n",
       "      <td>67.175140</td>\n",
       "      <td>56320904.0</td>\n",
       "      <td>56320812.0</td>\n",
       "      <td>No Label</td>\n",
       "      <td>1520038720</td>\n",
       "      <td>134610945</td>\n",
       "      <td>134219268</td>\n",
       "      <td>189</td>\n",
       "      <td>6461</td>\n",
       "    </tr>\n",
       "    <tr>\n",
       "      <th>4</th>\n",
       "      <td>8.0.6.4-8.6.0.1-0-0-0</td>\n",
       "      <td>8.6.0.1</td>\n",
       "      <td>0</td>\n",
       "      <td>8.0.6.4</td>\n",
       "      <td>0</td>\n",
       "      <td>0</td>\n",
       "      <td>02/03/2018 01:01:29 PM</td>\n",
       "      <td>112642245</td>\n",
       "      <td>2</td>\n",
       "      <td>1</td>\n",
       "      <td>...</td>\n",
       "      <td>56321120.0</td>\n",
       "      <td>3.535534</td>\n",
       "      <td>56321124.0</td>\n",
       "      <td>56321120.0</td>\n",
       "      <td>No Label</td>\n",
       "      <td>1519995689</td>\n",
       "      <td>134610945</td>\n",
       "      <td>134219268</td>\n",
       "      <td>189</td>\n",
       "      <td>6461</td>\n",
       "    </tr>\n",
       "  </tbody>\n",
       "</table>\n",
       "<p>5 rows × 89 columns</p>\n",
       "</div>"
      ],
      "text/plain": [
       "                 Flow ID   Src IP  Src Port   Dst IP  Dst Port  Protocol  \\\n",
       "0  8.0.6.4-8.6.0.1-0-0-0  8.6.0.1         0  8.0.6.4         0         0   \n",
       "1  8.0.6.4-8.6.0.1-0-0-0  8.6.0.1         0  8.0.6.4         0         0   \n",
       "2  8.0.6.4-8.6.0.1-0-0-0  8.6.0.1         0  8.0.6.4         0         0   \n",
       "3  8.0.6.4-8.6.0.1-0-0-0  8.6.0.1         0  8.0.6.4         0         0   \n",
       "4  8.0.6.4-8.6.0.1-0-0-0  8.6.0.1         0  8.0.6.4         0         0   \n",
       "\n",
       "                Timestamp  Flow Duration  Tot Fwd Pkts  Tot Bwd Pkts  ...  \\\n",
       "0  02/03/2018 12:50:13 PM      112640178             2             1  ...   \n",
       "1  02/03/2018 12:53:02 PM      112642593             2             1  ...   \n",
       "2  02/03/2018 12:55:51 PM      112640127             2             1  ...   \n",
       "3  02/03/2018 12:58:40 PM      112641715             2             1  ...   \n",
       "4  02/03/2018 01:01:29 PM      112642245             2             1  ...   \n",
       "\n",
       "    Idle Mean    Idle Std    Idle Max    Idle Min     Label    datetime  \\\n",
       "0  56320092.0  159.806137  56320200.0  56319976.0  No Label  1520038213   \n",
       "1  56321296.0  120.915260  56321384.0  56321212.0  No Label  1520038382   \n",
       "2  56320068.0  251.022903  56320240.0  56319884.0  No Label  1520038551   \n",
       "3  56320852.0   67.175140  56320904.0  56320812.0  No Label  1520038720   \n",
       "4  56321120.0    3.535534  56321124.0  56321120.0  No Label  1519995689   \n",
       "\n",
       "      src_ip     dst_ip  src_ip_r  dst_ip_r  \n",
       "0  134610945  134219268       189      6461  \n",
       "1  134610945  134219268       189      6461  \n",
       "2  134610945  134219268       189      6461  \n",
       "3  134610945  134219268       189      6461  \n",
       "4  134610945  134219268       189      6461  \n",
       "\n",
       "[5 rows x 89 columns]"
      ]
     },
     "execution_count": 30,
     "metadata": {},
     "output_type": "execute_result"
    }
   ],
   "source": [
    "gdf.head()"
   ]
  },
  {
   "cell_type": "code",
   "execution_count": 31,
   "metadata": {},
   "outputs": [
    {
     "name": "stdout",
     "output_type": "stream",
     "text": [
      "CPU times: user 4 ms, sys: 0 ns, total: 4 ms\n",
      "Wall time: 603 µs\n"
     ]
    }
   ],
   "source": [
    "%%time\n",
    "G.add_edge_list(gdf['src_ip_r'],gdf['dst_ip_r'],None)"
   ]
  },
  {
   "cell_type": "markdown",
   "metadata": {},
   "source": [
    "### Calculating the Degree"
   ]
  },
  {
   "cell_type": "markdown",
   "metadata": {},
   "source": [
    "We'll find the number of connections at each node. This is often useful to see what nodes have the most connections, as these are typically backbone assets of the network."
   ]
  },
  {
   "cell_type": "code",
   "execution_count": 32,
   "metadata": {},
   "outputs": [
    {
     "name": "stdout",
     "output_type": "stream",
     "text": [
      "CPU times: user 8 ms, sys: 8 ms, total: 16 ms\n",
      "Wall time: 12.5 ms\n"
     ]
    }
   ],
   "source": [
    "%%time\n",
    "deg = G.degree()"
   ]
  },
  {
   "cell_type": "code",
   "execution_count": 33,
   "metadata": {},
   "outputs": [
    {
     "name": "stdout",
     "output_type": "stream",
     "text": [
      "       vertex   degree\n",
      "1110     1110  2093163\n",
      "28314   28314   506784\n",
      "11418   11418   286191\n"
     ]
    }
   ],
   "source": [
    "# top 3 most connected vertices \n",
    "print(deg.sort_values('degree', ascending=False).head(3))"
   ]
  },
  {
   "cell_type": "markdown",
   "metadata": {},
   "source": [
    "This isn't super useful though since it's the internal cuGraph renumbering representation of the vertex. Ideally, we want the actual IPv4 address. We can do that via a quick [`merge` operation](https://rapidsai.github.io/projects/cudf/en/latest/api.html?highlight=merge#cudf.dataframe.DataFrame.merge)."
   ]
  },
  {
   "cell_type": "code",
   "execution_count": 34,
   "metadata": {},
   "outputs": [
    {
     "name": "stdout",
     "output_type": "stream",
     "text": [
      "CPU times: user 304 ms, sys: 232 ms, total: 536 ms\n",
      "Wall time: 536 ms\n"
     ]
    }
   ],
   "source": [
    "%%time\n",
    "ip_lookup_gdf = cudf.concat([gdf[['Src IP','src_ip_r']].rename({'Src IP': 'ip','src_ip_r':'vertex'}),\n",
    "                             gdf[['Dst IP','dst_ip_r']].rename({'Dst IP': 'ip','dst_ip_r':'vertex'})]) \\\n",
    "                .drop_duplicates()"
   ]
  },
  {
   "cell_type": "code",
   "execution_count": 35,
   "metadata": {},
   "outputs": [
    {
     "name": "stdout",
     "output_type": "stream",
     "text": [
      "CPU times: user 12 ms, sys: 20 ms, total: 32 ms\n",
      "Wall time: 30.8 ms\n"
     ]
    }
   ],
   "source": [
    "%%time\n",
    "ip_to_vertex_gdf = deg.drop_duplicates() \\\n",
    "                        .merge(ip_lookup_gdf, how='left', left_on='vertex', right_on='vertex')"
   ]
  },
  {
   "cell_type": "code",
   "execution_count": 37,
   "metadata": {
    "scrolled": true
   },
   "outputs": [
    {
     "data": {
      "text/html": [
       "<div>\n",
       "<style scoped>\n",
       "    .dataframe tbody tr th:only-of-type {\n",
       "        vertical-align: middle;\n",
       "    }\n",
       "\n",
       "    .dataframe tbody tr th {\n",
       "        vertical-align: top;\n",
       "    }\n",
       "\n",
       "    .dataframe thead th {\n",
       "        text-align: right;\n",
       "    }\n",
       "</style>\n",
       "<table border=\"1\" class=\"dataframe\">\n",
       "  <thead>\n",
       "    <tr style=\"text-align: right;\">\n",
       "      <th></th>\n",
       "      <th>vertex</th>\n",
       "      <th>degree</th>\n",
       "      <th>ip</th>\n",
       "    </tr>\n",
       "  </thead>\n",
       "  <tbody>\n",
       "    <tr>\n",
       "      <th>220</th>\n",
       "      <td>1110</td>\n",
       "      <td>2093163</td>\n",
       "      <td>172.31.0.2</td>\n",
       "    </tr>\n",
       "    <tr>\n",
       "      <th>25600</th>\n",
       "      <td>28314</td>\n",
       "      <td>506784</td>\n",
       "      <td>169.254.169.254</td>\n",
       "    </tr>\n",
       "    <tr>\n",
       "      <th>14816</th>\n",
       "      <td>11418</td>\n",
       "      <td>286191</td>\n",
       "      <td>18.219.211.138</td>\n",
       "    </tr>\n",
       "    <tr>\n",
       "      <th>27045</th>\n",
       "      <td>20991</td>\n",
       "      <td>119999</td>\n",
       "      <td>5.101.40.43</td>\n",
       "    </tr>\n",
       "    <tr>\n",
       "      <th>34391</th>\n",
       "      <td>21265</td>\n",
       "      <td>110934</td>\n",
       "      <td>5.101.40.105</td>\n",
       "    </tr>\n",
       "    <tr>\n",
       "      <th>2851</th>\n",
       "      <td>189</td>\n",
       "      <td>83222</td>\n",
       "      <td>8.6.0.1</td>\n",
       "    </tr>\n",
       "    <tr>\n",
       "      <th>30179</th>\n",
       "      <td>6461</td>\n",
       "      <td>83222</td>\n",
       "      <td>8.0.6.4</td>\n",
       "    </tr>\n",
       "    <tr>\n",
       "      <th>20341</th>\n",
       "      <td>23183</td>\n",
       "      <td>72525</td>\n",
       "      <td>213.202.230.222</td>\n",
       "    </tr>\n",
       "    <tr>\n",
       "      <th>24806</th>\n",
       "      <td>30144</td>\n",
       "      <td>63190</td>\n",
       "      <td>72.21.91.29</td>\n",
       "    </tr>\n",
       "    <tr>\n",
       "      <th>27256</th>\n",
       "      <td>22834</td>\n",
       "      <td>59877</td>\n",
       "      <td>213.202.230.143</td>\n",
       "    </tr>\n",
       "  </tbody>\n",
       "</table>\n",
       "</div>"
      ],
      "text/plain": [
       "       vertex   degree               ip\n",
       "220      1110  2093163       172.31.0.2\n",
       "25600   28314   506784  169.254.169.254\n",
       "14816   11418   286191   18.219.211.138\n",
       "27045   20991   119999      5.101.40.43\n",
       "34391   21265   110934     5.101.40.105\n",
       "2851      189    83222          8.6.0.1\n",
       "30179    6461    83222          8.0.6.4\n",
       "20341   23183    72525  213.202.230.222\n",
       "24806   30144    63190      72.21.91.29\n",
       "27256   22834    59877  213.202.230.143"
      ]
     },
     "execution_count": 37,
     "metadata": {},
     "output_type": "execute_result"
    }
   ],
   "source": [
    "# top 10 most connected vertices\n",
    "ip_to_vertex_gdf.sort_values('degree', ascending=False).head(10)"
   ]
  },
  {
   "cell_type": "markdown",
   "metadata": {},
   "source": [
    "Now we have a better idea of what IPs have the highest degree. It looks like `172.31.0.2` is the highest, followed by the `169.254.169.254` IP address and the `18.219.211.138` address. Unfortunately, only one of these (the last one) is responsible for launching any attacks in this dataset. How can we write a different analytic that will move that IP address to the top of our triage list?"
   ]
  },
  {
   "cell_type": "markdown",
   "metadata": {},
   "source": [
    "## Say Hello to PageRank"
   ]
  },
  {
   "cell_type": "markdown",
   "metadata": {},
   "source": [
    "PageRank (PR) is a [fairly well-known algorithm](https://en.wikipedia.org/wiki/PageRank), originally developed to rank web pages in Google search results. Traditionally, the PageRank algorithm outputs a probability distribution which represents the likelihood that a person randomly clicking on links will arrive at any particular page. We can use that same property to rank states of an attack graph.\n",
    "\n",
    "Fortunately for us, cuGraph makes it easy to calculate the PR of each node in a graph."
   ]
  },
  {
   "cell_type": "code",
   "execution_count": 38,
   "metadata": {},
   "outputs": [
    {
     "name": "stdout",
     "output_type": "stream",
     "text": [
      "CPU times: user 116 ms, sys: 208 ms, total: 324 ms\n",
      "Wall time: 332 ms\n"
     ]
    }
   ],
   "source": [
    "%%time\n",
    "# Call cugraph.pagerank to get the pagerank scores\n",
    "gdf_pr = cugraph.pagerank(G)"
   ]
  },
  {
   "cell_type": "markdown",
   "metadata": {},
   "source": [
    "And here are some of the PR values."
   ]
  },
  {
   "cell_type": "code",
   "execution_count": 39,
   "metadata": {
    "scrolled": true
   },
   "outputs": [
    {
     "data": {
      "text/html": [
       "<div>\n",
       "<style scoped>\n",
       "    .dataframe tbody tr th:only-of-type {\n",
       "        vertical-align: middle;\n",
       "    }\n",
       "\n",
       "    .dataframe tbody tr th {\n",
       "        vertical-align: top;\n",
       "    }\n",
       "\n",
       "    .dataframe thead th {\n",
       "        text-align: right;\n",
       "    }\n",
       "</style>\n",
       "<table border=\"1\" class=\"dataframe\">\n",
       "  <thead>\n",
       "    <tr style=\"text-align: right;\">\n",
       "      <th></th>\n",
       "      <th>vertex</th>\n",
       "      <th>pagerank</th>\n",
       "    </tr>\n",
       "  </thead>\n",
       "  <tbody>\n",
       "    <tr>\n",
       "      <th>0</th>\n",
       "      <td>0</td>\n",
       "      <td>0.000005</td>\n",
       "    </tr>\n",
       "    <tr>\n",
       "      <th>1</th>\n",
       "      <td>1</td>\n",
       "      <td>0.000013</td>\n",
       "    </tr>\n",
       "    <tr>\n",
       "      <th>2</th>\n",
       "      <td>2</td>\n",
       "      <td>0.000110</td>\n",
       "    </tr>\n",
       "    <tr>\n",
       "      <th>3</th>\n",
       "      <td>3</td>\n",
       "      <td>0.000005</td>\n",
       "    </tr>\n",
       "    <tr>\n",
       "      <th>4</th>\n",
       "      <td>4</td>\n",
       "      <td>0.000005</td>\n",
       "    </tr>\n",
       "  </tbody>\n",
       "</table>\n",
       "</div>"
      ],
      "text/plain": [
       "   vertex  pagerank\n",
       "0       0  0.000005\n",
       "1       1  0.000013\n",
       "2       2  0.000110\n",
       "3       3  0.000005\n",
       "4       4  0.000005"
      ]
     },
     "execution_count": 39,
     "metadata": {},
     "output_type": "execute_result"
    }
   ],
   "source": [
    "gdf_pr.head()"
   ]
  },
  {
   "cell_type": "markdown",
   "metadata": {},
   "source": [
    "In order to find the most important node, we first find the maximum PR value"
   ]
  },
  {
   "cell_type": "code",
   "execution_count": 40,
   "metadata": {},
   "outputs": [
    {
     "name": "stdout",
     "output_type": "stream",
     "text": [
      "0.14738354086875916\n"
     ]
    }
   ],
   "source": [
    "pr_max = gdf_pr['pagerank'].max()\n",
    "print(pr_max)"
   ]
  },
  {
   "cell_type": "markdown",
   "metadata": {},
   "source": [
    "And we then write a function that can search for that vertex and return it."
   ]
  },
  {
   "cell_type": "code",
   "execution_count": 41,
   "metadata": {},
   "outputs": [],
   "source": [
    "# Use this value in a query to find the vertex and convert back to IP\n",
    "def print_pagerank_threshold(_df, t=0) :\n",
    "    filtered = _df.query('pagerank >= @t')    \n",
    "    for i in range(len(filtered)):\n",
    "        print(\"The most important vertex is \" + str(filtered['vertex'][i]) + \n",
    "            \" with a pagerank score of \" + str(filtered['pagerank'][i]))"
   ]
  },
  {
   "cell_type": "code",
   "execution_count": 42,
   "metadata": {},
   "outputs": [
    {
     "name": "stdout",
     "output_type": "stream",
     "text": [
      "The most important vertex is 1110 with a pagerank score of 0.14738354\n"
     ]
    }
   ],
   "source": [
    "print_pagerank_threshold(gdf_pr, pr_max)"
   ]
  },
  {
   "cell_type": "markdown",
   "metadata": {},
   "source": [
    "We know either by looking or by writing some more code that the node with the maximum PR value corresponds to the IP address `172.31.0.2`. That's the IP address that had the highest degree, and it's not one of the IPs that responsible for the botnet attack. Well that wasn't super useful."
   ]
  },
  {
   "cell_type": "markdown",
   "metadata": {},
   "source": [
    "## Personalized PageRank to the Rescue"
   ]
  },
  {
   "cell_type": "markdown",
   "metadata": {},
   "source": [
    "The issue for us is that PageRank sets the initial weights of all the nodes the same. In other words, it assumes a uniform starting probability for every node. What if we have _a priori_ information about the nodes? In this context, what if we know some of the victim IP addresses, and we're not sure we have identified all of them? We can use personalized PageRank (PPR) to assist."
   ]
  },
  {
   "cell_type": "markdown",
   "metadata": {},
   "source": [
    "We first construct a list of `training_victim_ips`. These are the IP addresses that we _know_ to be compromised. But since we have ground truth data, we also know _all_ of the affected IP addresses. We'll make another list for those (but we don't use them in training)."
   ]
  },
  {
   "cell_type": "code",
   "execution_count": 43,
   "metadata": {},
   "outputs": [],
   "source": [
    "# the victim IPs we're going to consider for training\n",
    "training_victim_ips = ['172.31.69.23','172.31.69.17', '172.31.69.14', '172.31.69.12', '172.31.69.10', \n",
    "              '172.31.69.26', '172.31.69.29', '172.31.69.30']\n",
    "\n",
    "# all of the victim IPs we know via ground truth\n",
    "all_victim_ips = ['172.31.69.23','172.31.69.17', '172.31.69.14', '172.31.69.12', '172.31.69.10', '172.31.69.8', \n",
    "              '172.31.69.6', '172.31.69.26', '172.31.69.29', '172.31.69.30']\n",
    "\n",
    "# we know the times of the attack, so we put the [start, stop] times here for reference\n",
    "attack_time_1 = [1519999860, 1520004840]\n",
    "attack_time_2 = [1520015040, 1520020500]"
   ]
  },
  {
   "cell_type": "markdown",
   "metadata": {},
   "source": [
    "We can now filter out the attack flows. There were two attacks at two different times on this date. We construct two DFs for each attack. We then assign a label of `1` if the flow represents an attack and `0` if it's benign. We do this for all IP addresses in our training set over the two affected time periods.\n",
    "\n",
    "TL;DR - we're constructing a labeled training set. More accurately in this case, we're constructing a dataset to help us set initial probabilities (weights) for the PPR algorithm."
   ]
  },
  {
   "cell_type": "code",
   "execution_count": 44,
   "metadata": {},
   "outputs": [
    {
     "name": "stdout",
     "output_type": "stream",
     "text": [
      "CPU times: user 4.72 s, sys: 2.37 s, total: 7.09 s\n",
      "Wall time: 12.3 s\n"
     ]
    }
   ],
   "source": [
    "%%time\n",
    "attack1_gdf = gdf[(gdf['Src IP'] == \"18.219.211.138\") & ((gdf['Dst IP'] == training_victim_ips[0]) | \n",
    "                                                         (gdf['Dst IP'] == training_victim_ips[1]) | \n",
    "                                                         (gdf['Dst IP'] == training_victim_ips[2]) | \n",
    "                                                         (gdf['Dst IP'] == training_victim_ips[3]) | \n",
    "                                                         (gdf['Dst IP'] == training_victim_ips[4]) |\n",
    "                                                         (gdf['Dst IP'] == training_victim_ips[5]) |\n",
    "                                                         (gdf['Dst IP'] == training_victim_ips[6]) |\n",
    "                                                         (gdf['Dst IP'] == training_victim_ips[7])) &\n",
    "                    (gdf['datetime'] > attack_time_1[0]) * (gdf['datetime'] < attack_time_1[1])]\n",
    "\n",
    "attack2_gdf = gdf[(gdf['Src IP'] == \"18.219.211.138\") & ((gdf['Dst IP'] == training_victim_ips[0]) | \n",
    "                                                         (gdf['Dst IP'] == training_victim_ips[1]) | \n",
    "                                                         (gdf['Dst IP'] == training_victim_ips[2]) | \n",
    "                                                         (gdf['Dst IP'] == training_victim_ips[3]) | \n",
    "                                                         (gdf['Dst IP'] == training_victim_ips[4]) |\n",
    "                                                         (gdf['Dst IP'] == training_victim_ips[5]) |\n",
    "                                                         (gdf['Dst IP'] == training_victim_ips[6]) |\n",
    "                                                         (gdf['Dst IP'] == training_victim_ips[7])) &\n",
    "                    (gdf['datetime'] > attack_time_2[0]) * (gdf['datetime'] < attack_time_2[1])]\n",
    "\n",
    "attack_flow_ids_gdf = cudf.concat([attack1_gdf,attack2_gdf])['Flow ID'].unique().to_frame(name='Flow ID')\n",
    "attack_flow_ids_gdf['Label'] = int(1)\n",
    "\n",
    "gdf = gdf.merge(attack_flow_ids_gdf, left_on=['Flow ID'], right_on=['Flow ID'], how='left', suffixes=('_orig',''))\n",
    "gdf['Label'] = gdf['Label'].fillna(0)"
   ]
  },
  {
   "cell_type": "markdown",
   "metadata": {},
   "source": [
    "Just for fun, the cell below performs the same task using pandas. It's commented out, but feel free to uncomment and compare timings."
   ]
  },
  {
   "cell_type": "code",
   "execution_count": 45,
   "metadata": {},
   "outputs": [],
   "source": [
    "# %%time\n",
    "# gdf_as_pdf = gdf.to_pandas()\n",
    "\n",
    "# attack1 = gdf_as_pdf[(gdf_as_pdf['Src IP'] == \"18.219.211.138\") & (gdf_as_pdf['Dst IP'].isin(training_victim_ips)) & \n",
    "#                    (gdf_as_pdf['datetime'] > attack_time_1[0]) & (gdf_as_pdf['datetime'] < attack_time_1[1])]\n",
    "\n",
    "# attack2 = gdf_as_pdf[(gdf_as_pdf['Src IP'] == \"18.219.211.138\") & (gdf_as_pdf['Dst IP'].isin(training_victim_ips)) & \n",
    "#                    (gdf_as_pdf['datetime'] > attack_time_2[0]) & (gdf_as_pdf['datetime'] < attack_time_2[1])]\n",
    "\n",
    "# attack_flow_ids = set(attack1['Flow ID']) | set(attack2['Flow ID'])\n",
    "\n",
    "# gdf_as_pdf[\"Label\"] = [int(1) if fid in attack_flow_ids else int(0) for fid in gdf_as_pdf['Flow ID']]\n",
    "\n",
    "# gdf = cudf.DataFrame.from_pandas(gdf_as_pdf)"
   ]
  },
  {
   "cell_type": "markdown",
   "metadata": {},
   "source": [
    "Let's inspect the head of the DF to make sure we have what we need."
   ]
  },
  {
   "cell_type": "code",
   "execution_count": 46,
   "metadata": {},
   "outputs": [
    {
     "data": {
      "text/html": [
       "<div>\n",
       "<style scoped>\n",
       "    .dataframe tbody tr th:only-of-type {\n",
       "        vertical-align: middle;\n",
       "    }\n",
       "\n",
       "    .dataframe tbody tr th {\n",
       "        vertical-align: top;\n",
       "    }\n",
       "\n",
       "    .dataframe thead th {\n",
       "        text-align: right;\n",
       "    }\n",
       "</style>\n",
       "<table border=\"1\" class=\"dataframe\">\n",
       "  <thead>\n",
       "    <tr style=\"text-align: right;\">\n",
       "      <th></th>\n",
       "      <th>Label</th>\n",
       "      <th>datetime</th>\n",
       "      <th>Src IP</th>\n",
       "      <th>Dst IP</th>\n",
       "      <th>src_ip_r</th>\n",
       "      <th>dst_ip_r</th>\n",
       "    </tr>\n",
       "  </thead>\n",
       "  <tbody>\n",
       "    <tr>\n",
       "      <th>0</th>\n",
       "      <td>0</td>\n",
       "      <td>1520038031</td>\n",
       "      <td>46.48.152.102</td>\n",
       "      <td>172.31.64.115</td>\n",
       "      <td>10921</td>\n",
       "      <td>1587</td>\n",
       "    </tr>\n",
       "    <tr>\n",
       "      <th>1</th>\n",
       "      <td>0</td>\n",
       "      <td>1520038017</td>\n",
       "      <td>172.31.64.115</td>\n",
       "      <td>111.221.29.254</td>\n",
       "      <td>1587</td>\n",
       "      <td>31591</td>\n",
       "    </tr>\n",
       "    <tr>\n",
       "      <th>2</th>\n",
       "      <td>0</td>\n",
       "      <td>1520038152</td>\n",
       "      <td>172.31.64.115</td>\n",
       "      <td>111.221.29.254</td>\n",
       "      <td>1587</td>\n",
       "      <td>31591</td>\n",
       "    </tr>\n",
       "    <tr>\n",
       "      <th>3</th>\n",
       "      <td>0</td>\n",
       "      <td>1520038150</td>\n",
       "      <td>172.31.64.115</td>\n",
       "      <td>72.21.91.29</td>\n",
       "      <td>1587</td>\n",
       "      <td>30144</td>\n",
       "    </tr>\n",
       "    <tr>\n",
       "      <th>4</th>\n",
       "      <td>0</td>\n",
       "      <td>1520038025</td>\n",
       "      <td>172.31.64.115</td>\n",
       "      <td>152.195.32.110</td>\n",
       "      <td>1587</td>\n",
       "      <td>7068</td>\n",
       "    </tr>\n",
       "    <tr>\n",
       "      <th>5</th>\n",
       "      <td>0</td>\n",
       "      <td>1520038160</td>\n",
       "      <td>172.31.64.115</td>\n",
       "      <td>152.195.32.110</td>\n",
       "      <td>1587</td>\n",
       "      <td>7068</td>\n",
       "    </tr>\n",
       "    <tr>\n",
       "      <th>6</th>\n",
       "      <td>0</td>\n",
       "      <td>1520038160</td>\n",
       "      <td>172.31.64.115</td>\n",
       "      <td>152.195.32.110</td>\n",
       "      <td>1587</td>\n",
       "      <td>7068</td>\n",
       "    </tr>\n",
       "    <tr>\n",
       "      <th>7</th>\n",
       "      <td>0</td>\n",
       "      <td>1520038011</td>\n",
       "      <td>172.31.64.115</td>\n",
       "      <td>52.84.58.35</td>\n",
       "      <td>1587</td>\n",
       "      <td>31341</td>\n",
       "    </tr>\n",
       "    <tr>\n",
       "      <th>8</th>\n",
       "      <td>0</td>\n",
       "      <td>1520038182</td>\n",
       "      <td>172.31.64.115</td>\n",
       "      <td>52.84.58.35</td>\n",
       "      <td>1587</td>\n",
       "      <td>31341</td>\n",
       "    </tr>\n",
       "    <tr>\n",
       "      <th>9</th>\n",
       "      <td>0</td>\n",
       "      <td>1520038182</td>\n",
       "      <td>52.84.58.35</td>\n",
       "      <td>172.31.64.115</td>\n",
       "      <td>31341</td>\n",
       "      <td>1587</td>\n",
       "    </tr>\n",
       "  </tbody>\n",
       "</table>\n",
       "</div>"
      ],
      "text/plain": [
       "   Label    datetime         Src IP          Dst IP  src_ip_r  dst_ip_r\n",
       "0      0  1520038031  46.48.152.102   172.31.64.115     10921      1587\n",
       "1      0  1520038017  172.31.64.115  111.221.29.254      1587     31591\n",
       "2      0  1520038152  172.31.64.115  111.221.29.254      1587     31591\n",
       "3      0  1520038150  172.31.64.115     72.21.91.29      1587     30144\n",
       "4      0  1520038025  172.31.64.115  152.195.32.110      1587      7068\n",
       "5      0  1520038160  172.31.64.115  152.195.32.110      1587      7068\n",
       "6      0  1520038160  172.31.64.115  152.195.32.110      1587      7068\n",
       "7      0  1520038011  172.31.64.115     52.84.58.35      1587     31341\n",
       "8      0  1520038182  172.31.64.115     52.84.58.35      1587     31341\n",
       "9      0  1520038182    52.84.58.35   172.31.64.115     31341      1587"
      ]
     },
     "execution_count": 46,
     "metadata": {},
     "output_type": "execute_result"
    }
   ],
   "source": [
    "gdf[['Label', 'datetime','Src IP', 'Dst IP', 'src_ip_r', 'dst_ip_r']].head(10).to_pandas()"
   ]
  },
  {
   "cell_type": "markdown",
   "metadata": {},
   "source": [
    "Let's think about what we have here. We have _known attacks_ on _known IPs_. We also know there are some unknown number of other IPs that could be impacted. We want a way to prioritize what other IPs to investigate. Personalized PageRank take a `personalization vector` as an initialization parameter. Technically, this vector contains the transport probabilities for each node in the vector. For us, this amounts to setting some initial weights that are not uniform.\n",
    "\n",
    "But how to do this? One straightforward way is, for each node, to count the number of attack-labeled edges it has. This is a task made for a `groupby().count()`."
   ]
  },
  {
   "cell_type": "code",
   "execution_count": 47,
   "metadata": {},
   "outputs": [
    {
     "name": "stdout",
     "output_type": "stream",
     "text": [
      "CPU times: user 1.89 s, sys: 804 ms, total: 2.7 s\n",
      "Wall time: 3.43 s\n"
     ]
    }
   ],
   "source": [
    "%%time \n",
    "# Get only rows that are labeld as 1 (attack)\n",
    "attacked_gdf = gdf[gdf['Label'] == 1]\n",
    "\n",
    "# For each node, count how many attack-labeled edges it makes\n",
    "aggregated_gdf = attacked_gdf.groupby(['src_ip_r']).count()\n",
    "\n",
    "# Get personalization vector\n",
    "# (make sure that the type of vertex is int32 and that of values is float32)\n",
    "personalization_vec = cudf.DataFrame()\n",
    "personalization_vec['vertex'] = aggregated_gdf.index.values\n",
    "personalization_vec['values'] = aggregated_gdf['Timestamp'].astype('float32')"
   ]
  },
  {
   "cell_type": "markdown",
   "metadata": {},
   "source": [
    "We now have everything we need to run PPR. In cuGraph, PPR is the same function as regular PR. The only change is that we add a `personalization` parameter and feed it in the personalization vector we computed above."
   ]
  },
  {
   "cell_type": "code",
   "execution_count": 48,
   "metadata": {},
   "outputs": [
    {
     "name": "stdout",
     "output_type": "stream",
     "text": [
      "CPU times: user 120 ms, sys: 44 ms, total: 164 ms\n",
      "Wall time: 164 ms\n"
     ]
    }
   ],
   "source": [
    "%%time\n",
    "# Run PPR\n",
    "ppr = cugraph.pagerank(G, alpha=0.85, personalization=personalization_vec, max_iter=100, tol=1.0e-5, nstart=None)"
   ]
  },
  {
   "cell_type": "markdown",
   "metadata": {},
   "source": [
    "Now what if we query the PPR results for the node with the maximum PPR value?"
   ]
  },
  {
   "cell_type": "code",
   "execution_count": 49,
   "metadata": {},
   "outputs": [
    {
     "name": "stdout",
     "output_type": "stream",
     "text": [
      "The most important vertex is 11418 with a pagerank score of 0.38848737\n"
     ]
    }
   ],
   "source": [
    "ppr_max = ppr['pagerank'].max()\n",
    "\n",
    "print_pagerank_threshold(ppr, ppr_max)"
   ]
  },
  {
   "cell_type": "markdown",
   "metadata": {},
   "source": [
    "Looking back in our original dataset, we see that this vertex corresponds to the IP address `18.219.211.138`. This is the same IP address that is responsible for initiating the botnet attacks."
   ]
  },
  {
   "cell_type": "code",
   "execution_count": 50,
   "metadata": {},
   "outputs": [
    {
     "data": {
      "text/html": [
       "<div>\n",
       "<style scoped>\n",
       "    .dataframe tbody tr th:only-of-type {\n",
       "        vertical-align: middle;\n",
       "    }\n",
       "\n",
       "    .dataframe tbody tr th {\n",
       "        vertical-align: top;\n",
       "    }\n",
       "\n",
       "    .dataframe thead th {\n",
       "        text-align: right;\n",
       "    }\n",
       "</style>\n",
       "<table border=\"1\" class=\"dataframe\">\n",
       "  <thead>\n",
       "    <tr style=\"text-align: right;\">\n",
       "      <th></th>\n",
       "      <th>Flow ID</th>\n",
       "      <th>Src IP</th>\n",
       "      <th>Src Port</th>\n",
       "      <th>Dst IP</th>\n",
       "      <th>Dst Port</th>\n",
       "      <th>Protocol</th>\n",
       "      <th>Timestamp</th>\n",
       "      <th>Flow Duration</th>\n",
       "      <th>Tot Fwd Pkts</th>\n",
       "      <th>Tot Bwd Pkts</th>\n",
       "      <th>...</th>\n",
       "      <th>Idle Std</th>\n",
       "      <th>Idle Max</th>\n",
       "      <th>Idle Min</th>\n",
       "      <th>Label_orig</th>\n",
       "      <th>datetime</th>\n",
       "      <th>src_ip</th>\n",
       "      <th>dst_ip</th>\n",
       "      <th>src_ip_r</th>\n",
       "      <th>dst_ip_r</th>\n",
       "      <th>Label</th>\n",
       "    </tr>\n",
       "  </thead>\n",
       "  <tbody>\n",
       "    <tr>\n",
       "      <th>5350753</th>\n",
       "      <td>172.31.69.10-18.219.211.138-55063-8080-6</td>\n",
       "      <td>18.219.211.138</td>\n",
       "      <td>8080</td>\n",
       "      <td>172.31.69.10</td>\n",
       "      <td>55063</td>\n",
       "      <td>6</td>\n",
       "      <td>02/03/2018 03:23:29 PM</td>\n",
       "      <td>579</td>\n",
       "      <td>0</td>\n",
       "      <td>3</td>\n",
       "      <td>...</td>\n",
       "      <td>0.0</td>\n",
       "      <td>0.0</td>\n",
       "      <td>0.0</td>\n",
       "      <td>No Label</td>\n",
       "      <td>1520004209</td>\n",
       "      <td>316396426</td>\n",
       "      <td>2887730442</td>\n",
       "      <td>11418</td>\n",
       "      <td>6616</td>\n",
       "      <td>1</td>\n",
       "    </tr>\n",
       "    <tr>\n",
       "      <th>5363008</th>\n",
       "      <td>172.31.69.10-18.219.211.138-51985-8080-6</td>\n",
       "      <td>18.219.211.138</td>\n",
       "      <td>8080</td>\n",
       "      <td>172.31.69.10</td>\n",
       "      <td>51985</td>\n",
       "      <td>6</td>\n",
       "      <td>02/03/2018 07:53:43 PM</td>\n",
       "      <td>11355</td>\n",
       "      <td>4</td>\n",
       "      <td>3</td>\n",
       "      <td>...</td>\n",
       "      <td>0.0</td>\n",
       "      <td>0.0</td>\n",
       "      <td>0.0</td>\n",
       "      <td>No Label</td>\n",
       "      <td>1520020423</td>\n",
       "      <td>316396426</td>\n",
       "      <td>2887730442</td>\n",
       "      <td>11418</td>\n",
       "      <td>6616</td>\n",
       "      <td>1</td>\n",
       "    </tr>\n",
       "    <tr>\n",
       "      <th>5363010</th>\n",
       "      <td>172.31.69.10-18.219.211.138-51986-8080-6</td>\n",
       "      <td>18.219.211.138</td>\n",
       "      <td>8080</td>\n",
       "      <td>172.31.69.10</td>\n",
       "      <td>51986</td>\n",
       "      <td>6</td>\n",
       "      <td>02/03/2018 07:53:44 PM</td>\n",
       "      <td>17675</td>\n",
       "      <td>4</td>\n",
       "      <td>3</td>\n",
       "      <td>...</td>\n",
       "      <td>0.0</td>\n",
       "      <td>0.0</td>\n",
       "      <td>0.0</td>\n",
       "      <td>No Label</td>\n",
       "      <td>1520020424</td>\n",
       "      <td>316396426</td>\n",
       "      <td>2887730442</td>\n",
       "      <td>11418</td>\n",
       "      <td>6616</td>\n",
       "      <td>1</td>\n",
       "    </tr>\n",
       "    <tr>\n",
       "      <th>5364384</th>\n",
       "      <td>172.31.69.10-18.219.211.138-51543-8080-6</td>\n",
       "      <td>18.219.211.138</td>\n",
       "      <td>8080</td>\n",
       "      <td>172.31.69.10</td>\n",
       "      <td>51543</td>\n",
       "      <td>6</td>\n",
       "      <td>02/03/2018 07:50:18 PM</td>\n",
       "      <td>21134</td>\n",
       "      <td>4</td>\n",
       "      <td>3</td>\n",
       "      <td>...</td>\n",
       "      <td>0.0</td>\n",
       "      <td>0.0</td>\n",
       "      <td>0.0</td>\n",
       "      <td>No Label</td>\n",
       "      <td>1520020218</td>\n",
       "      <td>316396426</td>\n",
       "      <td>2887730442</td>\n",
       "      <td>11418</td>\n",
       "      <td>6616</td>\n",
       "      <td>1</td>\n",
       "    </tr>\n",
       "    <tr>\n",
       "      <th>5364386</th>\n",
       "      <td>172.31.69.10-18.219.211.138-51544-8080-6</td>\n",
       "      <td>18.219.211.138</td>\n",
       "      <td>8080</td>\n",
       "      <td>172.31.69.10</td>\n",
       "      <td>51544</td>\n",
       "      <td>6</td>\n",
       "      <td>02/03/2018 07:50:19 PM</td>\n",
       "      <td>39349</td>\n",
       "      <td>4</td>\n",
       "      <td>3</td>\n",
       "      <td>...</td>\n",
       "      <td>0.0</td>\n",
       "      <td>0.0</td>\n",
       "      <td>0.0</td>\n",
       "      <td>No Label</td>\n",
       "      <td>1520020219</td>\n",
       "      <td>316396426</td>\n",
       "      <td>2887730442</td>\n",
       "      <td>11418</td>\n",
       "      <td>6616</td>\n",
       "      <td>1</td>\n",
       "    </tr>\n",
       "    <tr>\n",
       "      <th>5364388</th>\n",
       "      <td>172.31.69.10-18.219.211.138-51546-8080-6</td>\n",
       "      <td>18.219.211.138</td>\n",
       "      <td>8080</td>\n",
       "      <td>172.31.69.10</td>\n",
       "      <td>51546</td>\n",
       "      <td>6</td>\n",
       "      <td>02/03/2018 07:50:19 PM</td>\n",
       "      <td>67747</td>\n",
       "      <td>4</td>\n",
       "      <td>3</td>\n",
       "      <td>...</td>\n",
       "      <td>0.0</td>\n",
       "      <td>0.0</td>\n",
       "      <td>0.0</td>\n",
       "      <td>No Label</td>\n",
       "      <td>1520020219</td>\n",
       "      <td>316396426</td>\n",
       "      <td>2887730442</td>\n",
       "      <td>11418</td>\n",
       "      <td>6616</td>\n",
       "      <td>1</td>\n",
       "    </tr>\n",
       "    <tr>\n",
       "      <th>5364390</th>\n",
       "      <td>172.31.69.10-18.219.211.138-51547-8080-6</td>\n",
       "      <td>18.219.211.138</td>\n",
       "      <td>8080</td>\n",
       "      <td>172.31.69.10</td>\n",
       "      <td>51547</td>\n",
       "      <td>6</td>\n",
       "      <td>02/03/2018 07:50:19 PM</td>\n",
       "      <td>14506</td>\n",
       "      <td>4</td>\n",
       "      <td>3</td>\n",
       "      <td>...</td>\n",
       "      <td>0.0</td>\n",
       "      <td>0.0</td>\n",
       "      <td>0.0</td>\n",
       "      <td>No Label</td>\n",
       "      <td>1520020219</td>\n",
       "      <td>316396426</td>\n",
       "      <td>2887730442</td>\n",
       "      <td>11418</td>\n",
       "      <td>6616</td>\n",
       "      <td>1</td>\n",
       "    </tr>\n",
       "    <tr>\n",
       "      <th>5364392</th>\n",
       "      <td>172.31.69.10-18.219.211.138-51548-8080-6</td>\n",
       "      <td>18.219.211.138</td>\n",
       "      <td>8080</td>\n",
       "      <td>172.31.69.10</td>\n",
       "      <td>51548</td>\n",
       "      <td>6</td>\n",
       "      <td>02/03/2018 07:50:19 PM</td>\n",
       "      <td>21378</td>\n",
       "      <td>11</td>\n",
       "      <td>2</td>\n",
       "      <td>...</td>\n",
       "      <td>0.0</td>\n",
       "      <td>0.0</td>\n",
       "      <td>0.0</td>\n",
       "      <td>No Label</td>\n",
       "      <td>1520020219</td>\n",
       "      <td>316396426</td>\n",
       "      <td>2887730442</td>\n",
       "      <td>11418</td>\n",
       "      <td>6616</td>\n",
       "      <td>1</td>\n",
       "    </tr>\n",
       "    <tr>\n",
       "      <th>5364394</th>\n",
       "      <td>172.31.69.10-18.219.211.138-51549-8080-6</td>\n",
       "      <td>18.219.211.138</td>\n",
       "      <td>8080</td>\n",
       "      <td>172.31.69.10</td>\n",
       "      <td>51549</td>\n",
       "      <td>6</td>\n",
       "      <td>02/03/2018 07:50:19 PM</td>\n",
       "      <td>10233</td>\n",
       "      <td>4</td>\n",
       "      <td>3</td>\n",
       "      <td>...</td>\n",
       "      <td>0.0</td>\n",
       "      <td>0.0</td>\n",
       "      <td>0.0</td>\n",
       "      <td>No Label</td>\n",
       "      <td>1520020219</td>\n",
       "      <td>316396426</td>\n",
       "      <td>2887730442</td>\n",
       "      <td>11418</td>\n",
       "      <td>6616</td>\n",
       "      <td>1</td>\n",
       "    </tr>\n",
       "    <tr>\n",
       "      <th>5364396</th>\n",
       "      <td>172.31.69.10-18.219.211.138-51550-8080-6</td>\n",
       "      <td>18.219.211.138</td>\n",
       "      <td>8080</td>\n",
       "      <td>172.31.69.10</td>\n",
       "      <td>51550</td>\n",
       "      <td>6</td>\n",
       "      <td>02/03/2018 07:50:20 PM</td>\n",
       "      <td>13775</td>\n",
       "      <td>4</td>\n",
       "      <td>3</td>\n",
       "      <td>...</td>\n",
       "      <td>0.0</td>\n",
       "      <td>0.0</td>\n",
       "      <td>0.0</td>\n",
       "      <td>No Label</td>\n",
       "      <td>1520020220</td>\n",
       "      <td>316396426</td>\n",
       "      <td>2887730442</td>\n",
       "      <td>11418</td>\n",
       "      <td>6616</td>\n",
       "      <td>1</td>\n",
       "    </tr>\n",
       "  </tbody>\n",
       "</table>\n",
       "<p>10 rows × 90 columns</p>\n",
       "</div>"
      ],
      "text/plain": [
       "                                          Flow ID          Src IP  Src Port  \\\n",
       "5350753  172.31.69.10-18.219.211.138-55063-8080-6  18.219.211.138      8080   \n",
       "5363008  172.31.69.10-18.219.211.138-51985-8080-6  18.219.211.138      8080   \n",
       "5363010  172.31.69.10-18.219.211.138-51986-8080-6  18.219.211.138      8080   \n",
       "5364384  172.31.69.10-18.219.211.138-51543-8080-6  18.219.211.138      8080   \n",
       "5364386  172.31.69.10-18.219.211.138-51544-8080-6  18.219.211.138      8080   \n",
       "5364388  172.31.69.10-18.219.211.138-51546-8080-6  18.219.211.138      8080   \n",
       "5364390  172.31.69.10-18.219.211.138-51547-8080-6  18.219.211.138      8080   \n",
       "5364392  172.31.69.10-18.219.211.138-51548-8080-6  18.219.211.138      8080   \n",
       "5364394  172.31.69.10-18.219.211.138-51549-8080-6  18.219.211.138      8080   \n",
       "5364396  172.31.69.10-18.219.211.138-51550-8080-6  18.219.211.138      8080   \n",
       "\n",
       "               Dst IP  Dst Port  Protocol               Timestamp  \\\n",
       "5350753  172.31.69.10     55063         6  02/03/2018 03:23:29 PM   \n",
       "5363008  172.31.69.10     51985         6  02/03/2018 07:53:43 PM   \n",
       "5363010  172.31.69.10     51986         6  02/03/2018 07:53:44 PM   \n",
       "5364384  172.31.69.10     51543         6  02/03/2018 07:50:18 PM   \n",
       "5364386  172.31.69.10     51544         6  02/03/2018 07:50:19 PM   \n",
       "5364388  172.31.69.10     51546         6  02/03/2018 07:50:19 PM   \n",
       "5364390  172.31.69.10     51547         6  02/03/2018 07:50:19 PM   \n",
       "5364392  172.31.69.10     51548         6  02/03/2018 07:50:19 PM   \n",
       "5364394  172.31.69.10     51549         6  02/03/2018 07:50:19 PM   \n",
       "5364396  172.31.69.10     51550         6  02/03/2018 07:50:20 PM   \n",
       "\n",
       "         Flow Duration  Tot Fwd Pkts  Tot Bwd Pkts  ...  Idle Std  Idle Max  \\\n",
       "5350753            579             0             3  ...       0.0       0.0   \n",
       "5363008          11355             4             3  ...       0.0       0.0   \n",
       "5363010          17675             4             3  ...       0.0       0.0   \n",
       "5364384          21134             4             3  ...       0.0       0.0   \n",
       "5364386          39349             4             3  ...       0.0       0.0   \n",
       "5364388          67747             4             3  ...       0.0       0.0   \n",
       "5364390          14506             4             3  ...       0.0       0.0   \n",
       "5364392          21378            11             2  ...       0.0       0.0   \n",
       "5364394          10233             4             3  ...       0.0       0.0   \n",
       "5364396          13775             4             3  ...       0.0       0.0   \n",
       "\n",
       "         Idle Min  Label_orig    datetime     src_ip      dst_ip  src_ip_r  \\\n",
       "5350753       0.0    No Label  1520004209  316396426  2887730442     11418   \n",
       "5363008       0.0    No Label  1520020423  316396426  2887730442     11418   \n",
       "5363010       0.0    No Label  1520020424  316396426  2887730442     11418   \n",
       "5364384       0.0    No Label  1520020218  316396426  2887730442     11418   \n",
       "5364386       0.0    No Label  1520020219  316396426  2887730442     11418   \n",
       "5364388       0.0    No Label  1520020219  316396426  2887730442     11418   \n",
       "5364390       0.0    No Label  1520020219  316396426  2887730442     11418   \n",
       "5364392       0.0    No Label  1520020219  316396426  2887730442     11418   \n",
       "5364394       0.0    No Label  1520020219  316396426  2887730442     11418   \n",
       "5364396       0.0    No Label  1520020220  316396426  2887730442     11418   \n",
       "\n",
       "         dst_ip_r  Label  \n",
       "5350753      6616      1  \n",
       "5363008      6616      1  \n",
       "5363010      6616      1  \n",
       "5364384      6616      1  \n",
       "5364386      6616      1  \n",
       "5364388      6616      1  \n",
       "5364390      6616      1  \n",
       "5364392      6616      1  \n",
       "5364394      6616      1  \n",
       "5364396      6616      1  \n",
       "\n",
       "[10 rows x 90 columns]"
      ]
     },
     "execution_count": 50,
     "metadata": {},
     "output_type": "execute_result"
    }
   ],
   "source": [
    "gdf.query('src_ip_r == 11418').head(10).to_pandas()"
   ]
  },
  {
   "cell_type": "markdown",
   "metadata": {},
   "source": [
    "Let's merge our PPR values back with this larger cuDF."
   ]
  },
  {
   "cell_type": "code",
   "execution_count": 51,
   "metadata": {},
   "outputs": [
    {
     "name": "stdout",
     "output_type": "stream",
     "text": [
      "CPU times: user 4.06 s, sys: 1.73 s, total: 5.78 s\n",
      "Wall time: 5.91 s\n"
     ]
    }
   ],
   "source": [
    "%%time\n",
    "gdf = ppr.merge(gdf, how='left', left_on='vertex', right_on='src_ip_r')"
   ]
  },
  {
   "cell_type": "markdown",
   "metadata": {},
   "source": [
    "Now the moment of truth. If we sort our entire cuDF by the PPR value, we should find those with a maximum PPR at the top. The hypothesis is that these IPs are involved in the attacks."
   ]
  },
  {
   "cell_type": "code",
   "execution_count": 52,
   "metadata": {},
   "outputs": [
    {
     "name": "stdout",
     "output_type": "stream",
     "text": [
      "CPU times: user 308 ms, sys: 320 ms, total: 628 ms\n",
      "Wall time: 633 ms\n"
     ]
    },
    {
     "data": {
      "text/html": [
       "<div>\n",
       "<style scoped>\n",
       "    .dataframe tbody tr th:only-of-type {\n",
       "        vertical-align: middle;\n",
       "    }\n",
       "\n",
       "    .dataframe tbody tr th {\n",
       "        vertical-align: top;\n",
       "    }\n",
       "\n",
       "    .dataframe thead th {\n",
       "        text-align: right;\n",
       "    }\n",
       "</style>\n",
       "<table border=\"1\" class=\"dataframe\">\n",
       "  <thead>\n",
       "    <tr style=\"text-align: right;\">\n",
       "      <th></th>\n",
       "      <th>Src IP</th>\n",
       "      <th>Src Port</th>\n",
       "      <th>Dst IP</th>\n",
       "      <th>pagerank</th>\n",
       "    </tr>\n",
       "  </thead>\n",
       "  <tbody>\n",
       "    <tr>\n",
       "      <th>245784</th>\n",
       "      <td>18.219.211.138</td>\n",
       "      <td>8080</td>\n",
       "      <td>172.31.69.10</td>\n",
       "      <td>0.388487</td>\n",
       "    </tr>\n",
       "    <tr>\n",
       "      <th>443818</th>\n",
       "      <td>18.219.211.138</td>\n",
       "      <td>8080</td>\n",
       "      <td>172.31.69.17</td>\n",
       "      <td>0.388487</td>\n",
       "    </tr>\n",
       "    <tr>\n",
       "      <th>544861</th>\n",
       "      <td>18.219.211.138</td>\n",
       "      <td>8080</td>\n",
       "      <td>172.31.69.29</td>\n",
       "      <td>0.388487</td>\n",
       "    </tr>\n",
       "    <tr>\n",
       "      <th>563046</th>\n",
       "      <td>18.219.211.138</td>\n",
       "      <td>8080</td>\n",
       "      <td>172.31.69.30</td>\n",
       "      <td>0.388487</td>\n",
       "    </tr>\n",
       "    <tr>\n",
       "      <th>649214</th>\n",
       "      <td>18.219.211.138</td>\n",
       "      <td>8080</td>\n",
       "      <td>172.31.69.6</td>\n",
       "      <td>0.388487</td>\n",
       "    </tr>\n",
       "    <tr>\n",
       "      <th>977682</th>\n",
       "      <td>18.219.211.138</td>\n",
       "      <td>8080</td>\n",
       "      <td>172.31.69.8</td>\n",
       "      <td>0.388487</td>\n",
       "    </tr>\n",
       "    <tr>\n",
       "      <th>6540162</th>\n",
       "      <td>172.31.69.30</td>\n",
       "      <td>0</td>\n",
       "      <td>131.202.242.193</td>\n",
       "      <td>0.130269</td>\n",
       "    </tr>\n",
       "    <tr>\n",
       "      <th>3311771</th>\n",
       "      <td>172.31.69.30</td>\n",
       "      <td>0</td>\n",
       "      <td>18.219.211.138</td>\n",
       "      <td>0.130269</td>\n",
       "    </tr>\n",
       "    <tr>\n",
       "      <th>7472896</th>\n",
       "      <td>172.31.69.30</td>\n",
       "      <td>0</td>\n",
       "      <td>209.85.203.91</td>\n",
       "      <td>0.130269</td>\n",
       "    </tr>\n",
       "    <tr>\n",
       "      <th>3226338</th>\n",
       "      <td>172.31.69.30</td>\n",
       "      <td>0</td>\n",
       "      <td>224.0.0.22</td>\n",
       "      <td>0.130269</td>\n",
       "    </tr>\n",
       "    <tr>\n",
       "      <th>3098043</th>\n",
       "      <td>172.31.69.30</td>\n",
       "      <td>0</td>\n",
       "      <td>23.218.62.30</td>\n",
       "      <td>0.130269</td>\n",
       "    </tr>\n",
       "    <tr>\n",
       "      <th>6767477</th>\n",
       "      <td>172.31.69.30</td>\n",
       "      <td>0</td>\n",
       "      <td>23.218.63.234</td>\n",
       "      <td>0.130269</td>\n",
       "    </tr>\n",
       "    <tr>\n",
       "      <th>6462059</th>\n",
       "      <td>172.31.69.30</td>\n",
       "      <td>0</td>\n",
       "      <td>40.80.145.27</td>\n",
       "      <td>0.130269</td>\n",
       "    </tr>\n",
       "    <tr>\n",
       "      <th>6337764</th>\n",
       "      <td>172.31.69.30</td>\n",
       "      <td>0</td>\n",
       "      <td>40.80.145.38</td>\n",
       "      <td>0.130269</td>\n",
       "    </tr>\n",
       "    <tr>\n",
       "      <th>6340475</th>\n",
       "      <td>172.31.69.30</td>\n",
       "      <td>0</td>\n",
       "      <td>52.10.55.151</td>\n",
       "      <td>0.130269</td>\n",
       "    </tr>\n",
       "  </tbody>\n",
       "</table>\n",
       "</div>"
      ],
      "text/plain": [
       "                 Src IP  Src Port           Dst IP  pagerank\n",
       "245784   18.219.211.138      8080     172.31.69.10  0.388487\n",
       "443818   18.219.211.138      8080     172.31.69.17  0.388487\n",
       "544861   18.219.211.138      8080     172.31.69.29  0.388487\n",
       "563046   18.219.211.138      8080     172.31.69.30  0.388487\n",
       "649214   18.219.211.138      8080      172.31.69.6  0.388487\n",
       "977682   18.219.211.138      8080      172.31.69.8  0.388487\n",
       "6540162    172.31.69.30         0  131.202.242.193  0.130269\n",
       "3311771    172.31.69.30         0   18.219.211.138  0.130269\n",
       "7472896    172.31.69.30         0    209.85.203.91  0.130269\n",
       "3226338    172.31.69.30         0       224.0.0.22  0.130269\n",
       "3098043    172.31.69.30         0     23.218.62.30  0.130269\n",
       "6767477    172.31.69.30         0    23.218.63.234  0.130269\n",
       "6462059    172.31.69.30         0     40.80.145.27  0.130269\n",
       "6337764    172.31.69.30         0     40.80.145.38  0.130269\n",
       "6340475    172.31.69.30         0     52.10.55.151  0.130269"
      ]
     },
     "execution_count": 52,
     "metadata": {},
     "output_type": "execute_result"
    }
   ],
   "source": [
    "%%time \n",
    "gdf[['Src IP','Src Port','Dst IP','pagerank']] \\\n",
    "        .drop_duplicates() \\\n",
    "        .sort_values(by='pagerank', ascending=False) \\\n",
    "        .head(15) \\\n",
    "        .to_pandas()"
   ]
  },
  {
   "cell_type": "code",
   "execution_count": 53,
   "metadata": {},
   "outputs": [
    {
     "data": {
      "text/plain": [
       "['172.31.69.23',\n",
       " '172.31.69.17',\n",
       " '172.31.69.14',\n",
       " '172.31.69.12',\n",
       " '172.31.69.10',\n",
       " '172.31.69.26',\n",
       " '172.31.69.29',\n",
       " '172.31.69.30']"
      ]
     },
     "execution_count": 53,
     "metadata": {},
     "output_type": "execute_result"
    }
   ],
   "source": [
    "training_victim_ips"
   ]
  },
  {
   "cell_type": "markdown",
   "metadata": {},
   "source": [
    "A visual inspection of this table shows us that there are IPs we suspect. Looking in the `Dst IP` column, we find `172.31.69.10`, `172.31.69.17`, `172.31.69.29`, and `172.31.69.30`. But we also see `172.31.69.6` and `172.31.69.8`. These were not in our original training dataset (meaning we assumed we didn't know about them), but they _are_ victims of the attack as shown in the ground truth dataset. Neat."
   ]
  },
  {
   "cell_type": "markdown",
   "metadata": {},
   "source": [
    "We've talked about PageRank and Personalized PageRank, but there are other graph analyitcs availabe in cuGraph. One of them is [Louvain modularity](https://rapidsai.github.io/projects/cugraph/en/0.8.0/api.html?highlight=louvain#cugraph.nvLouvain) (community detection). Calculating the partitions is fairly straightforward:\n",
    "\n",
    "```louvain_parts, modularity_score = cugraph.louvain(G)```\n",
    "\n",
    "Use Louvain modularity to partition the network graph, and investigate the results. Are all the the victim IPs in the same community? Would you expect them to be?"
   ]
  },
  {
   "cell_type": "code",
   "execution_count": 54,
   "metadata": {},
   "outputs": [
    {
     "name": "stdout",
     "output_type": "stream",
     "text": [
      "CPU times: user 268 ms, sys: 152 ms, total: 420 ms\n",
      "Wall time: 417 ms\n"
     ]
    }
   ],
   "source": [
    "%%time\n",
    "louvain_parts, modularity_score = cugraph.louvain(G)"
   ]
  },
  {
   "cell_type": "markdown",
   "metadata": {},
   "source": [
    "<hr />\n",
    "\n",
    "## Acknowledgmnets"
   ]
  },
  {
   "cell_type": "markdown",
   "metadata": {},
   "source": [
    "We would like to thank the [Canadian Institute for Cybersecurity](https://www.unb.ca/cic/) for the data used in this tutorial. A complete description of the dataset used is [available online](https://registry.opendata.aws/cse-cic-ids2018/). In addition, the paper associated with this dataset is:\n",
    "\n",
    "> Iman Sharafaldin, Arash Habibi Lashkari, and Ali A. Ghorbani, “Toward Generating a New Intrusion Detection Dataset and Intrusion Traffic Characterization”, 4th International Conference on Information Systems Security and Privacy (ICISSP), Portugal, January 2018\n",
    "\n",
    "We would also like to acknowledge the contributions of Eli Fajardo (NVIDIA), Brad Rees, PhD (NVIDIA), and the [RAPIDS](https://rapids.ai) engineering team."
   ]
  },
  {
   "cell_type": "code",
   "execution_count": null,
   "metadata": {},
   "outputs": [],
   "source": []
  }
 ],
 "metadata": {
  "kernelspec": {
   "display_name": "Python 3",
   "language": "python",
   "name": "python3"
  },
  "language_info": {
   "codemirror_mode": {
    "name": "ipython",
    "version": 3
   },
   "file_extension": ".py",
   "mimetype": "text/x-python",
   "name": "python",
   "nbconvert_exporter": "python",
   "pygments_lexer": "ipython3",
   "version": "3.6.7"
  }
 },
 "nbformat": 4,
 "nbformat_minor": 4
}
