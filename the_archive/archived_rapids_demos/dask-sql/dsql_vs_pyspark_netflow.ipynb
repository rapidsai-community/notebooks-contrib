{
 "cells": [
  {
   "cell_type": "markdown",
   "metadata": {
    "colab_type": "text",
    "id": "d0hJ4z8rBOFC"
   },
   "source": [
    "# ARCHIVED - Please run with RAPIDS 24.06 or earlier.  You can use conda or docker to get the correct version\n",
    "\n",
    "# Dask-SQL vs. Apache Spark \n",
    "\n",
    "*Converted from the [original BlazingSQL notebook](the_archive/archived_rapids_demos/blazingsql/bsql_vs_pyspark_netflow.ipynb) by Shondace Thomas*\n",
    "\n",
    "Below we have one of our popular workloads running with [Dask-SQL](https://docs.dask.org/en/latest/install.html) + [RAPIDS AI](https://rapids.ai) and then running the entire ETL phase again, only this time with Apache Spark + PySpark.\n",
    "\n",
    "In this notebook, we will cover: \n",
    "- How to read and query csv files with cuDF and Dask-SQL.\n",
    "- How Dask-SQL compares against Apache Spark (analyzing over 20M records)."
   ]
  },
  {
   "cell_type": "code",
   "execution_count": 1,
   "metadata": {},
   "outputs": [],
   "source": [
    "from dask.distributed import Client\n",
    "from dask_cuda import LocalCUDACluster"
   ]
  },
  {
   "cell_type": "code",
   "execution_count": 2,
   "metadata": {},
   "outputs": [
    {
     "data": {
      "text/html": [
       "<div>\n",
       "    <div style=\"width: 24px; height: 24px; background-color: #e1e1e1; border: 3px solid #9D9D9D; border-radius: 5px; position: absolute;\"> </div>\n",
       "    <div style=\"margin-left: 48px;\">\n",
       "        <h3 style=\"margin-bottom: 0px;\">Client</h3>\n",
       "        <p style=\"color: #9D9D9D; margin-bottom: 0px;\">Client-ed7d29b6-5994-11ec-86c8-0242ac110003</p>\n",
       "        <table style=\"width: 100%; text-align: left;\">\n",
       "\n",
       "        <tr>\n",
       "        \n",
       "            <td style=\"text-align: left;\"><strong>Connection method:</strong> Cluster object</td>\n",
       "            <td style=\"text-align: left;\"><strong>Cluster type:</strong> dask_cuda.LocalCUDACluster</td>\n",
       "        \n",
       "        </tr>\n",
       "\n",
       "        \n",
       "            <tr>\n",
       "                <td style=\"text-align: left;\">\n",
       "                    <strong>Dashboard: </strong> <a href=\"http://127.0.0.1:8787/status\" target=\"_blank\">http://127.0.0.1:8787/status</a>\n",
       "                </td>\n",
       "                <td style=\"text-align: left;\"></td>\n",
       "            </tr>\n",
       "        \n",
       "\n",
       "        </table>\n",
       "\n",
       "        \n",
       "            <details>\n",
       "            <summary style=\"margin-bottom: 20px;\"><h3 style=\"display: inline;\">Cluster Info</h3></summary>\n",
       "            <div class=\"jp-RenderedHTMLCommon jp-RenderedHTML jp-mod-trusted jp-OutputArea-output\">\n",
       "    <div style=\"width: 24px; height: 24px; background-color: #e1e1e1; border: 3px solid #9D9D9D; border-radius: 5px; position: absolute;\">\n",
       "    </div>\n",
       "    <div style=\"margin-left: 48px;\">\n",
       "        <h3 style=\"margin-bottom: 0px; margin-top: 0px;\">LocalCUDACluster</h3>\n",
       "        <p style=\"color: #9D9D9D; margin-bottom: 0px;\">fefdfa0a</p>\n",
       "        <table style=\"width: 100%; text-align: left;\">\n",
       "            <tr>\n",
       "                <td style=\"text-align: left;\">\n",
       "                    <strong>Dashboard:</strong> <a href=\"http://127.0.0.1:8787/status\" target=\"_blank\">http://127.0.0.1:8787/status</a>\n",
       "                </td>\n",
       "                <td style=\"text-align: left;\">\n",
       "                    <strong>Workers:</strong> 2\n",
       "                </td>\n",
       "            </tr>\n",
       "            <tr>\n",
       "                <td style=\"text-align: left;\">\n",
       "                    <strong>Total threads:</strong> 2\n",
       "                </td>\n",
       "                <td style=\"text-align: left;\">\n",
       "                    <strong>Total memory:</strong> 45.79 GiB\n",
       "                </td>\n",
       "            </tr>\n",
       "            \n",
       "            <tr>\n",
       "    <td style=\"text-align: left;\"><strong>Status:</strong> running</td>\n",
       "    <td style=\"text-align: left;\"><strong>Using processes:</strong> True</td>\n",
       "</tr>\n",
       "\n",
       "            \n",
       "        </table>\n",
       "\n",
       "        <details>\n",
       "            <summary style=\"margin-bottom: 20px;\">\n",
       "                <h3 style=\"display: inline;\">Scheduler Info</h3>\n",
       "            </summary>\n",
       "\n",
       "            <div style=\"\">\n",
       "    <div>\n",
       "        <div style=\"width: 24px; height: 24px; background-color: #FFF7E5; border: 3px solid #FF6132; border-radius: 5px; position: absolute;\"> </div>\n",
       "        <div style=\"margin-left: 48px;\">\n",
       "            <h3 style=\"margin-bottom: 0px;\">Scheduler</h3>\n",
       "            <p style=\"color: #9D9D9D; margin-bottom: 0px;\">Scheduler-286f5697-064f-445f-88c6-b3b19c9ccd1e</p>\n",
       "            <table style=\"width: 100%; text-align: left;\">\n",
       "                <tr>\n",
       "                    <td style=\"text-align: left;\">\n",
       "                        <strong>Comm:</strong> tcp://127.0.0.1:42707\n",
       "                    </td>\n",
       "                    <td style=\"text-align: left;\">\n",
       "                        <strong>Workers:</strong> 2\n",
       "                    </td>\n",
       "                </tr>\n",
       "                <tr>\n",
       "                    <td style=\"text-align: left;\">\n",
       "                        <strong>Dashboard:</strong> <a href=\"http://127.0.0.1:8787/status\" target=\"_blank\">http://127.0.0.1:8787/status</a>\n",
       "                    </td>\n",
       "                    <td style=\"text-align: left;\">\n",
       "                        <strong>Total threads:</strong> 2\n",
       "                    </td>\n",
       "                </tr>\n",
       "                <tr>\n",
       "                    <td style=\"text-align: left;\">\n",
       "                        <strong>Started:</strong> Just now\n",
       "                    </td>\n",
       "                    <td style=\"text-align: left;\">\n",
       "                        <strong>Total memory:</strong> 45.79 GiB\n",
       "                    </td>\n",
       "                </tr>\n",
       "            </table>\n",
       "        </div>\n",
       "    </div>\n",
       "\n",
       "    <details style=\"margin-left: 48px;\">\n",
       "        <summary style=\"margin-bottom: 20px;\">\n",
       "            <h3 style=\"display: inline;\">Workers</h3>\n",
       "        </summary>\n",
       "\n",
       "        \n",
       "        <div style=\"margin-bottom: 20px;\">\n",
       "            <div style=\"width: 24px; height: 24px; background-color: #DBF5FF; border: 3px solid #4CC9FF; border-radius: 5px; position: absolute;\"> </div>\n",
       "            <div style=\"margin-left: 48px;\">\n",
       "            <details>\n",
       "                <summary>\n",
       "                    <h4 style=\"margin-bottom: 0px; display: inline;\">Worker: 0</h4>\n",
       "                </summary>\n",
       "                <table style=\"width: 100%; text-align: left;\">\n",
       "                    <tr>\n",
       "                        <td style=\"text-align: left;\">\n",
       "                            <strong>Comm: </strong> tcp://127.0.0.1:34069\n",
       "                        </td>\n",
       "                        <td style=\"text-align: left;\">\n",
       "                            <strong>Total threads: </strong> 1\n",
       "                        </td>\n",
       "                    </tr>\n",
       "                    <tr>\n",
       "                        <td style=\"text-align: left;\">\n",
       "                            <strong>Dashboard: </strong> <a href=\"http://127.0.0.1:43989/status\" target=\"_blank\">http://127.0.0.1:43989/status</a>\n",
       "                        </td>\n",
       "                        <td style=\"text-align: left;\">\n",
       "                            <strong>Memory: </strong> 22.89 GiB\n",
       "                        </td>\n",
       "                    </tr>\n",
       "                    <tr>\n",
       "                        <td style=\"text-align: left;\">\n",
       "                            <strong>Nanny: </strong> tcp://127.0.0.1:35835\n",
       "                        </td>\n",
       "                        <td style=\"text-align: left;\"></td>\n",
       "                    </tr>\n",
       "                    <tr>\n",
       "                        <td colspan=\"2\" style=\"text-align: left;\">\n",
       "                            <strong>Local directory: </strong> /rapids/notebooks/extra/notebooks-contrib/community_tutorials_and_guides/dask-sql/dask-worker-space/worker-headvo3o\n",
       "                        </td>\n",
       "                    </tr>\n",
       "\n",
       "                    \n",
       "                    <tr>\n",
       "                        <td style=\"text-align: left;\">\n",
       "                            <strong>GPU: </strong>Quadro GV100\n",
       "                        </td>\n",
       "                        <td style=\"text-align: left;\">\n",
       "                            <strong>GPU memory: </strong> 31.75 GiB\n",
       "                        </td>\n",
       "                    </tr>\n",
       "                    \n",
       "\n",
       "                    \n",
       "\n",
       "                </table>\n",
       "            </details>\n",
       "            </div>\n",
       "        </div>\n",
       "        \n",
       "        <div style=\"margin-bottom: 20px;\">\n",
       "            <div style=\"width: 24px; height: 24px; background-color: #DBF5FF; border: 3px solid #4CC9FF; border-radius: 5px; position: absolute;\"> </div>\n",
       "            <div style=\"margin-left: 48px;\">\n",
       "            <details>\n",
       "                <summary>\n",
       "                    <h4 style=\"margin-bottom: 0px; display: inline;\">Worker: 1</h4>\n",
       "                </summary>\n",
       "                <table style=\"width: 100%; text-align: left;\">\n",
       "                    <tr>\n",
       "                        <td style=\"text-align: left;\">\n",
       "                            <strong>Comm: </strong> tcp://127.0.0.1:46221\n",
       "                        </td>\n",
       "                        <td style=\"text-align: left;\">\n",
       "                            <strong>Total threads: </strong> 1\n",
       "                        </td>\n",
       "                    </tr>\n",
       "                    <tr>\n",
       "                        <td style=\"text-align: left;\">\n",
       "                            <strong>Dashboard: </strong> <a href=\"http://127.0.0.1:45063/status\" target=\"_blank\">http://127.0.0.1:45063/status</a>\n",
       "                        </td>\n",
       "                        <td style=\"text-align: left;\">\n",
       "                            <strong>Memory: </strong> 22.89 GiB\n",
       "                        </td>\n",
       "                    </tr>\n",
       "                    <tr>\n",
       "                        <td style=\"text-align: left;\">\n",
       "                            <strong>Nanny: </strong> tcp://127.0.0.1:33741\n",
       "                        </td>\n",
       "                        <td style=\"text-align: left;\"></td>\n",
       "                    </tr>\n",
       "                    <tr>\n",
       "                        <td colspan=\"2\" style=\"text-align: left;\">\n",
       "                            <strong>Local directory: </strong> /rapids/notebooks/extra/notebooks-contrib/community_tutorials_and_guides/dask-sql/dask-worker-space/worker-7a0gssnu\n",
       "                        </td>\n",
       "                    </tr>\n",
       "\n",
       "                    \n",
       "                    <tr>\n",
       "                        <td style=\"text-align: left;\">\n",
       "                            <strong>GPU: </strong>Quadro GV100\n",
       "                        </td>\n",
       "                        <td style=\"text-align: left;\">\n",
       "                            <strong>GPU memory: </strong> 31.74 GiB\n",
       "                        </td>\n",
       "                    </tr>\n",
       "                    \n",
       "\n",
       "                    \n",
       "\n",
       "                </table>\n",
       "            </details>\n",
       "            </div>\n",
       "        </div>\n",
       "        \n",
       "\n",
       "    </details>\n",
       "</div>\n",
       "\n",
       "        </details>\n",
       "    </div>\n",
       "</div>\n",
       "            </details>\n",
       "        \n",
       "\n",
       "    </div>\n",
       "</div>"
      ],
      "text/plain": [
       "<Client: 'tcp://127.0.0.1:42707' processes=2 threads=2, memory=45.79 GiB>"
      ]
     },
     "execution_count": 2,
     "metadata": {},
     "output_type": "execute_result"
    }
   ],
   "source": [
    "# create a local CUDA cluster\n",
    "cluster = LocalCUDACluster()\n",
    "client = Client(cluster)\n",
    "client"
   ]
  },
  {
   "cell_type": "code",
   "execution_count": 3,
   "metadata": {},
   "outputs": [],
   "source": [
    "# cluster = LocalCUDACluster(protocol=\"ucx\", enable_tcp_over_ucx=True, enable_nvlink=True, jit_unspill=False)\n",
    "# client = Client(cluster)\n",
    "# client"
   ]
  },
  {
   "cell_type": "markdown",
   "metadata": {},
   "source": [
    "#### Download Data\n",
    "This cell will check if you have the data for this demo, and, if you don't, will download it for you."
   ]
  },
  {
   "cell_type": "code",
   "execution_count": 4,
   "metadata": {},
   "outputs": [
    {
     "name": "stdout",
     "output_type": "stream",
     "text": [
      "You've got the data!\n"
     ]
    }
   ],
   "source": [
    "import os\n",
    "# relative path to data folder\n",
    "data_dir = '../../data/dask-sql/'\n",
    "# file name\n",
    "fn = 'nf-chunk2.csv'\n",
    "\n",
    "# does folder exist?\n",
    "if not os.path.exists(data_dir):\n",
    "    print('creating dask-sql directory')\n",
    "    # create folder\n",
    "    os.system('mkdir ../../data/dask-sql')\n",
    "\n",
    "# do we have music file?\n",
    "if not os.path.isfile(data_dir + fn):\n",
    "    # save nf-chunk2 to data folder, may take a few minutes to download (21,526,138 records)\n",
    "    !wget -P ../../data/dask-sql https://blazingsql-colab.s3.amazonaws.com/netflow_data/nf-chunk2.csv\n",
    "else:\n",
    "    print(\"You've got the data!\")"
   ]
  },
  {
   "cell_type": "markdown",
   "metadata": {},
   "source": [
    "## Create DaskContext\n",
    "You can think of the DaskContext much like a Spark Context, this is where information such as FileSystems you have registered and Tables you have created will be stored. "
   ]
  },
  {
   "cell_type": "code",
   "execution_count": 5,
   "metadata": {
    "colab": {
     "base_uri": "https://localhost:8080/",
     "height": 35
    },
    "colab_type": "code",
    "id": "ojm_V-WAtz0f",
    "outputId": "a46625f4-1494-4a13-eb13-2f38efd80ccf"
   },
   "outputs": [],
   "source": [
    "import cudf\n",
    "import dask_cudf\n",
    "from dask_sql import Context\n",
    "# start up Dask-SQL\n",
    "dc = Context()"
   ]
  },
  {
   "cell_type": "markdown",
   "metadata": {
    "colab_type": "text",
    "id": "OTEaAsp2_zmf"
   },
   "source": [
    "## Dask-SQL + cuDF \n",
    "Data in hand, we can test the preformance of cuDF and Dask-SQL on this dataset. "
   ]
  },
  {
   "cell_type": "code",
   "execution_count": 6,
   "metadata": {
    "colab": {
     "base_uri": "https://localhost:8080/",
     "height": 52
    },
    "colab_type": "code",
    "id": "rirBsYQU3NH5",
    "outputId": "51ced2b1-b930-4173-bbfa-09672e751d3f"
   },
   "outputs": [
    {
     "name": "stdout",
     "output_type": "stream",
     "text": [
      "CPU times: user 1.62 s, sys: 614 ms, total: 2.23 s\n",
      "Wall time: 2.21 s\n"
     ]
    }
   ],
   "source": [
    "%%time\n",
    "# Load CSVs into GPU DataFrames (GDF)\n",
    "netflow_gdf = cudf.read_csv(data_dir + fn)"
   ]
  },
  {
   "cell_type": "code",
   "execution_count": 7,
   "metadata": {},
   "outputs": [
    {
     "data": {
      "text/plain": [
       "TimeSeconds                  float64\n",
       "parsedDate                    object\n",
       "dateTimeStr                  float64\n",
       "ipLayerProtocol                int64\n",
       "ipLayerProtocolCode           object\n",
       "firstSeenSrcIp                object\n",
       "firstSeenDestIp               object\n",
       "firstSeenSrcPort               int64\n",
       "firstSeenDestPort              int64\n",
       "moreFragments                  int64\n",
       "contFragments                  int64\n",
       "durationSeconds                int64\n",
       "firstSeenSrcPayloadBytes       int64\n",
       "firstSeenDestPayloadBytes      int64\n",
       "firstSeenSrcTotalBytes         int64\n",
       "firstSeenDestTotalBytes        int64\n",
       "firstSeenSrcPacketCount        int64\n",
       "firstSeenDestPacketCount       int64\n",
       "recordForceOut                 int64\n",
       "dtype: object"
      ]
     },
     "execution_count": 7,
     "metadata": {},
     "output_type": "execute_result"
    }
   ],
   "source": [
    "netflow_gdf.dtypes\n"
   ]
  },
  {
   "cell_type": "code",
   "execution_count": 8,
   "metadata": {
    "colab": {
     "base_uri": "https://localhost:8080/",
     "height": 52
    },
    "colab_type": "code",
    "id": "zCzLEFfB3N4k",
    "outputId": "10ff9097-2736-423e-969d-de75983fbdda"
   },
   "outputs": [
    {
     "name": "stdout",
     "output_type": "stream",
     "text": [
      "CPU times: user 108 ms, sys: 4.65 ms, total: 113 ms\n",
      "Wall time: 110 ms\n"
     ]
    }
   ],
   "source": [
    "%%time\n",
    "# Create DaskSQL table from GDF - There is no copy in this process\n",
    "dc.create_table('netflow', netflow_gdf, persist=False)"
   ]
  },
  {
   "cell_type": "code",
   "execution_count": 9,
   "metadata": {},
   "outputs": [
    {
     "data": {
      "text/html": [
       "<div>\n",
       "<style scoped>\n",
       "    .dataframe tbody tr th:only-of-type {\n",
       "        vertical-align: middle;\n",
       "    }\n",
       "\n",
       "    .dataframe tbody tr th {\n",
       "        vertical-align: top;\n",
       "    }\n",
       "\n",
       "    .dataframe thead th {\n",
       "        text-align: right;\n",
       "    }\n",
       "</style>\n",
       "<table border=\"1\" class=\"dataframe\">\n",
       "  <thead>\n",
       "    <tr style=\"text-align: right;\">\n",
       "      <th></th>\n",
       "      <th>TimeSeconds</th>\n",
       "      <th>parsedDate</th>\n",
       "      <th>dateTimeStr</th>\n",
       "      <th>ipLayerProtocol</th>\n",
       "      <th>ipLayerProtocolCode</th>\n",
       "      <th>firstSeenSrcIp</th>\n",
       "      <th>firstSeenDestIp</th>\n",
       "      <th>firstSeenSrcPort</th>\n",
       "      <th>firstSeenDestPort</th>\n",
       "      <th>moreFragments</th>\n",
       "      <th>contFragments</th>\n",
       "      <th>durationSeconds</th>\n",
       "      <th>firstSeenSrcPayloadBytes</th>\n",
       "      <th>firstSeenDestPayloadBytes</th>\n",
       "      <th>firstSeenSrcTotalBytes</th>\n",
       "      <th>firstSeenDestTotalBytes</th>\n",
       "      <th>firstSeenSrcPacketCount</th>\n",
       "      <th>firstSeenDestPacketCount</th>\n",
       "      <th>recordForceOut</th>\n",
       "    </tr>\n",
       "  </thead>\n",
       "  <tbody>\n",
       "    <tr>\n",
       "      <th>0</th>\n",
       "      <td>1.364948e+09</td>\n",
       "      <td>2013-04-03 00:11:50</td>\n",
       "      <td>2.013040e+13</td>\n",
       "      <td>6</td>\n",
       "      <td>TCP</td>\n",
       "      <td>10.38.37.13</td>\n",
       "      <td>172.20.0.3</td>\n",
       "      <td>42559</td>\n",
       "      <td>25</td>\n",
       "      <td>0</td>\n",
       "      <td>0</td>\n",
       "      <td>10</td>\n",
       "      <td>36</td>\n",
       "      <td>125</td>\n",
       "      <td>422</td>\n",
       "      <td>403</td>\n",
       "      <td>7</td>\n",
       "      <td>5</td>\n",
       "      <td>0</td>\n",
       "    </tr>\n",
       "    <tr>\n",
       "      <th>1</th>\n",
       "      <td>1.364948e+09</td>\n",
       "      <td>2013-04-03 00:11:53</td>\n",
       "      <td>2.013040e+13</td>\n",
       "      <td>6</td>\n",
       "      <td>TCP</td>\n",
       "      <td>10.13.77.49</td>\n",
       "      <td>172.30.0.4</td>\n",
       "      <td>42566</td>\n",
       "      <td>25</td>\n",
       "      <td>0</td>\n",
       "      <td>0</td>\n",
       "      <td>9</td>\n",
       "      <td>0</td>\n",
       "      <td>0</td>\n",
       "      <td>186</td>\n",
       "      <td>0</td>\n",
       "      <td>3</td>\n",
       "      <td>0</td>\n",
       "      <td>0</td>\n",
       "    </tr>\n",
       "    <tr>\n",
       "      <th>2</th>\n",
       "      <td>1.364948e+09</td>\n",
       "      <td>2013-04-03 00:11:54</td>\n",
       "      <td>2.013040e+13</td>\n",
       "      <td>17</td>\n",
       "      <td>UDP</td>\n",
       "      <td>172.10.0.40</td>\n",
       "      <td>172.255.255.255</td>\n",
       "      <td>138</td>\n",
       "      <td>138</td>\n",
       "      <td>0</td>\n",
       "      <td>0</td>\n",
       "      <td>0</td>\n",
       "      <td>201</td>\n",
       "      <td>0</td>\n",
       "      <td>243</td>\n",
       "      <td>0</td>\n",
       "      <td>1</td>\n",
       "      <td>0</td>\n",
       "      <td>0</td>\n",
       "    </tr>\n",
       "    <tr>\n",
       "      <th>3</th>\n",
       "      <td>1.364948e+09</td>\n",
       "      <td>2013-04-03 00:11:57</td>\n",
       "      <td>2.013040e+13</td>\n",
       "      <td>6</td>\n",
       "      <td>TCP</td>\n",
       "      <td>10.156.215.83</td>\n",
       "      <td>172.10.0.7</td>\n",
       "      <td>42593</td>\n",
       "      <td>80</td>\n",
       "      <td>0</td>\n",
       "      <td>0</td>\n",
       "      <td>0</td>\n",
       "      <td>170</td>\n",
       "      <td>336</td>\n",
       "      <td>448</td>\n",
       "      <td>506</td>\n",
       "      <td>5</td>\n",
       "      <td>3</td>\n",
       "      <td>0</td>\n",
       "    </tr>\n",
       "    <tr>\n",
       "      <th>4</th>\n",
       "      <td>1.364948e+09</td>\n",
       "      <td>2013-04-03 00:12:00</td>\n",
       "      <td>2.013040e+13</td>\n",
       "      <td>6</td>\n",
       "      <td>TCP</td>\n",
       "      <td>10.170.32.110</td>\n",
       "      <td>172.20.0.4</td>\n",
       "      <td>42612</td>\n",
       "      <td>80</td>\n",
       "      <td>0</td>\n",
       "      <td>0</td>\n",
       "      <td>3</td>\n",
       "      <td>1870</td>\n",
       "      <td>79850</td>\n",
       "      <td>5730</td>\n",
       "      <td>84250</td>\n",
       "      <td>70</td>\n",
       "      <td>80</td>\n",
       "      <td>0</td>\n",
       "    </tr>\n",
       "  </tbody>\n",
       "</table>\n",
       "</div>"
      ],
      "text/plain": [
       "    TimeSeconds           parsedDate   dateTimeStr  ipLayerProtocol  \\\n",
       "0  1.364948e+09  2013-04-03 00:11:50  2.013040e+13                6   \n",
       "1  1.364948e+09  2013-04-03 00:11:53  2.013040e+13                6   \n",
       "2  1.364948e+09  2013-04-03 00:11:54  2.013040e+13               17   \n",
       "3  1.364948e+09  2013-04-03 00:11:57  2.013040e+13                6   \n",
       "4  1.364948e+09  2013-04-03 00:12:00  2.013040e+13                6   \n",
       "\n",
       "  ipLayerProtocolCode firstSeenSrcIp  firstSeenDestIp  firstSeenSrcPort  \\\n",
       "0                 TCP    10.38.37.13       172.20.0.3             42559   \n",
       "1                 TCP    10.13.77.49       172.30.0.4             42566   \n",
       "2                 UDP    172.10.0.40  172.255.255.255               138   \n",
       "3                 TCP  10.156.215.83       172.10.0.7             42593   \n",
       "4                 TCP  10.170.32.110       172.20.0.4             42612   \n",
       "\n",
       "   firstSeenDestPort  moreFragments  contFragments  durationSeconds  \\\n",
       "0                 25              0              0               10   \n",
       "1                 25              0              0                9   \n",
       "2                138              0              0                0   \n",
       "3                 80              0              0                0   \n",
       "4                 80              0              0                3   \n",
       "\n",
       "   firstSeenSrcPayloadBytes  firstSeenDestPayloadBytes  \\\n",
       "0                        36                        125   \n",
       "1                         0                          0   \n",
       "2                       201                          0   \n",
       "3                       170                        336   \n",
       "4                      1870                      79850   \n",
       "\n",
       "   firstSeenSrcTotalBytes  firstSeenDestTotalBytes  firstSeenSrcPacketCount  \\\n",
       "0                     422                      403                        7   \n",
       "1                     186                        0                        3   \n",
       "2                     243                        0                        1   \n",
       "3                     448                      506                        5   \n",
       "4                    5730                    84250                       70   \n",
       "\n",
       "   firstSeenDestPacketCount  recordForceOut  \n",
       "0                         5               0  \n",
       "1                         0               0  \n",
       "2                         0               0  \n",
       "3                         3               0  \n",
       "4                        80               0  "
      ]
     },
     "execution_count": 9,
     "metadata": {},
     "output_type": "execute_result"
    }
   ],
   "source": [
    "result = dc.sql(\"SELECT * FROM netflow\")\n",
    "result.head()\n",
    "#type(result.head())"
   ]
  },
  {
   "cell_type": "code",
   "execution_count": 10,
   "metadata": {},
   "outputs": [
    {
     "data": {
      "text/plain": [
       "21526138"
      ]
     },
     "execution_count": 10,
     "metadata": {},
     "output_type": "execute_result"
    }
   ],
   "source": [
    "len(netflow_gdf.index)"
   ]
  },
  {
   "cell_type": "code",
   "execution_count": 11,
   "metadata": {},
   "outputs": [],
   "source": [
    "# import time\n",
    "\n",
    "# t0 = time.time()"
   ]
  },
  {
   "cell_type": "code",
   "execution_count": 12,
   "metadata": {
    "colab": {
     "base_uri": "https://localhost:8080/",
     "height": 295
    },
    "colab_type": "code",
    "id": "umBG2Tp0wbQx",
    "outputId": "0975395e-7f5b-4244-afa3-45c8658ce61c"
   },
   "outputs": [
    {
     "name": "stdout",
     "output_type": "stream",
     "text": [
      "run_stuff took 1.6552035808563232s\n"
     ]
    }
   ],
   "source": [
    "# %%time\n",
    "# define the query\n",
    "import time\n",
    "\n",
    "t0 = time.time()\n",
    "\n",
    "query = '''\n",
    "        select\n",
    "            a.firstSeenSrcIp as source,\n",
    "            a.firstSeenDestIp as destination,\n",
    "            count(a.firstSeenDestPort) as targetPorts,\n",
    "            sum(a.firstSeenSrcTotalBytes) as bytesOut,\n",
    "            sum(a.firstSeenDestTotalBytes) as bytesIn,\n",
    "            sum(a.durationSeconds) as durationSeconds,\n",
    "            min(parsedDate) as firstFlowDate,\n",
    "            max(parsedDate) as lastFlowDate,\n",
    "            count(*) as attemptCount\n",
    "        from \n",
    "            netflow a\n",
    "        group by\n",
    "            a.firstSeenSrcIp,\n",
    "            a.firstSeenDestIp\n",
    "        '''\n",
    "\n",
    "# query the table (returns cudf dataframe)\n",
    "result_gdf = dc.sql(query)\n",
    "\n",
    "t1 = time.time()\n",
    "print(f\"run_stuff took {t1-t0}s\")"
   ]
  },
  {
   "cell_type": "code",
   "execution_count": 13,
   "metadata": {},
   "outputs": [],
   "source": [
    "# t1 = time.time()\n",
    "# print(f\"run_stuff took {t1-t0}s\")"
   ]
  },
  {
   "cell_type": "code",
   "execution_count": 14,
   "metadata": {
    "scrolled": true
   },
   "outputs": [
    {
     "data": {
      "text/html": [
       "<div>\n",
       "<style scoped>\n",
       "    .dataframe tbody tr th:only-of-type {\n",
       "        vertical-align: middle;\n",
       "    }\n",
       "\n",
       "    .dataframe tbody tr th {\n",
       "        vertical-align: top;\n",
       "    }\n",
       "\n",
       "    .dataframe thead th {\n",
       "        text-align: right;\n",
       "    }\n",
       "</style>\n",
       "<table border=\"1\" class=\"dataframe\">\n",
       "  <thead>\n",
       "    <tr style=\"text-align: right;\">\n",
       "      <th></th>\n",
       "      <th>source</th>\n",
       "      <th>destination</th>\n",
       "      <th>targetPorts</th>\n",
       "      <th>bytesOut</th>\n",
       "      <th>bytesIn</th>\n",
       "      <th>durationSeconds</th>\n",
       "      <th>firstFlowDate</th>\n",
       "      <th>lastFlowDate</th>\n",
       "      <th>attemptCount</th>\n",
       "    </tr>\n",
       "  </thead>\n",
       "  <tbody>\n",
       "    <tr>\n",
       "      <th>0</th>\n",
       "      <td>10.0.0.10</td>\n",
       "      <td>172.10.1.10</td>\n",
       "      <td>1</td>\n",
       "      <td>571</td>\n",
       "      <td>108</td>\n",
       "      <td>0</td>\n",
       "      <td>2013-04-03 10:47:33</td>\n",
       "      <td>2013-04-03 10:47:33</td>\n",
       "      <td>1</td>\n",
       "    </tr>\n",
       "    <tr>\n",
       "      <th>1</th>\n",
       "      <td>10.0.0.10</td>\n",
       "      <td>172.10.1.100</td>\n",
       "      <td>1</td>\n",
       "      <td>633</td>\n",
       "      <td>392</td>\n",
       "      <td>0</td>\n",
       "      <td>2013-04-03 10:43:15</td>\n",
       "      <td>2013-04-03 10:43:15</td>\n",
       "      <td>1</td>\n",
       "    </tr>\n",
       "    <tr>\n",
       "      <th>2</th>\n",
       "      <td>10.0.0.10</td>\n",
       "      <td>172.10.1.102</td>\n",
       "      <td>1</td>\n",
       "      <td>571</td>\n",
       "      <td>108</td>\n",
       "      <td>0</td>\n",
       "      <td>2013-04-03 09:58:01</td>\n",
       "      <td>2013-04-03 09:58:01</td>\n",
       "      <td>1</td>\n",
       "    </tr>\n",
       "    <tr>\n",
       "      <th>3</th>\n",
       "      <td>10.0.0.10</td>\n",
       "      <td>172.10.1.109</td>\n",
       "      <td>1</td>\n",
       "      <td>633</td>\n",
       "      <td>392</td>\n",
       "      <td>0</td>\n",
       "      <td>2013-04-03 10:02:42</td>\n",
       "      <td>2013-04-03 10:02:42</td>\n",
       "      <td>1</td>\n",
       "    </tr>\n",
       "    <tr>\n",
       "      <th>4</th>\n",
       "      <td>10.0.0.10</td>\n",
       "      <td>172.10.1.112</td>\n",
       "      <td>1</td>\n",
       "      <td>571</td>\n",
       "      <td>108</td>\n",
       "      <td>0</td>\n",
       "      <td>2013-04-03 13:13:49</td>\n",
       "      <td>2013-04-03 13:13:49</td>\n",
       "      <td>1</td>\n",
       "    </tr>\n",
       "  </tbody>\n",
       "</table>\n",
       "</div>"
      ],
      "text/plain": [
       "      source   destination  targetPorts  bytesOut  bytesIn  durationSeconds  \\\n",
       "0  10.0.0.10   172.10.1.10            1       571      108                0   \n",
       "1  10.0.0.10  172.10.1.100            1       633      392                0   \n",
       "2  10.0.0.10  172.10.1.102            1       571      108                0   \n",
       "3  10.0.0.10  172.10.1.109            1       633      392                0   \n",
       "4  10.0.0.10  172.10.1.112            1       571      108                0   \n",
       "\n",
       "         firstFlowDate         lastFlowDate  attemptCount  \n",
       "0  2013-04-03 10:47:33  2013-04-03 10:47:33             1  \n",
       "1  2013-04-03 10:43:15  2013-04-03 10:43:15             1  \n",
       "2  2013-04-03 09:58:01  2013-04-03 09:58:01             1  \n",
       "3  2013-04-03 10:02:42  2013-04-03 10:02:42             1  \n",
       "4  2013-04-03 13:13:49  2013-04-03 13:13:49             1  "
      ]
     },
     "execution_count": 14,
     "metadata": {},
     "output_type": "execute_result"
    }
   ],
   "source": [
    "result_gdf.head()"
   ]
  },
  {
   "cell_type": "code",
   "execution_count": 15,
   "metadata": {},
   "outputs": [
    {
     "data": {
      "text/html": [
       "<div><strong>Dask DataFrame Structure:</strong></div>\n",
       "<div>\n",
       "<style scoped>\n",
       "    .dataframe tbody tr th:only-of-type {\n",
       "        vertical-align: middle;\n",
       "    }\n",
       "\n",
       "    .dataframe tbody tr th {\n",
       "        vertical-align: top;\n",
       "    }\n",
       "\n",
       "    .dataframe thead th {\n",
       "        text-align: right;\n",
       "    }\n",
       "</style>\n",
       "<table border=\"1\" class=\"dataframe\">\n",
       "  <thead>\n",
       "    <tr style=\"text-align: right;\">\n",
       "      <th></th>\n",
       "      <th>source</th>\n",
       "      <th>destination</th>\n",
       "      <th>targetPorts</th>\n",
       "      <th>bytesOut</th>\n",
       "      <th>bytesIn</th>\n",
       "      <th>durationSeconds</th>\n",
       "      <th>firstFlowDate</th>\n",
       "      <th>lastFlowDate</th>\n",
       "      <th>attemptCount</th>\n",
       "    </tr>\n",
       "    <tr>\n",
       "      <th>npartitions=1</th>\n",
       "      <th></th>\n",
       "      <th></th>\n",
       "      <th></th>\n",
       "      <th></th>\n",
       "      <th></th>\n",
       "      <th></th>\n",
       "      <th></th>\n",
       "      <th></th>\n",
       "      <th></th>\n",
       "    </tr>\n",
       "  </thead>\n",
       "  <tbody>\n",
       "    <tr>\n",
       "      <th></th>\n",
       "      <td>object</td>\n",
       "      <td>object</td>\n",
       "      <td>int32</td>\n",
       "      <td>int64</td>\n",
       "      <td>int64</td>\n",
       "      <td>int64</td>\n",
       "      <td>object</td>\n",
       "      <td>object</td>\n",
       "      <td>int32</td>\n",
       "    </tr>\n",
       "    <tr>\n",
       "      <th></th>\n",
       "      <td>...</td>\n",
       "      <td>...</td>\n",
       "      <td>...</td>\n",
       "      <td>...</td>\n",
       "      <td>...</td>\n",
       "      <td>...</td>\n",
       "      <td>...</td>\n",
       "      <td>...</td>\n",
       "      <td>...</td>\n",
       "    </tr>\n",
       "  </tbody>\n",
       "</table>\n",
       "</div>\n",
       "<div>Dask Name: rename, 28 tasks</div>"
      ],
      "text/plain": [
       "<dask_cudf.DataFrame | 28 tasks | 1 npartitions>"
      ]
     },
     "execution_count": 15,
     "metadata": {},
     "output_type": "execute_result"
    }
   ],
   "source": [
    "result_gdf\n"
   ]
  },
  {
   "cell_type": "code",
   "execution_count": 16,
   "metadata": {
    "colab": {},
    "colab_type": "code",
    "id": "48_W2v8q_zmq",
    "outputId": "db0394f1-e082-49b0-c477-e3bba8d3d0f4"
   },
   "outputs": [
    {
     "data": {
      "text/html": [
       "<div>\n",
       "<style scoped>\n",
       "    .dataframe tbody tr th:only-of-type {\n",
       "        vertical-align: middle;\n",
       "    }\n",
       "\n",
       "    .dataframe tbody tr th {\n",
       "        vertical-align: top;\n",
       "    }\n",
       "\n",
       "    .dataframe thead th {\n",
       "        text-align: right;\n",
       "    }\n",
       "</style>\n",
       "<table border=\"1\" class=\"dataframe\">\n",
       "  <thead>\n",
       "    <tr style=\"text-align: right;\">\n",
       "      <th></th>\n",
       "      <th>source</th>\n",
       "      <th>destination</th>\n",
       "      <th>targetPorts</th>\n",
       "      <th>bytesOut</th>\n",
       "      <th>bytesIn</th>\n",
       "      <th>durationSeconds</th>\n",
       "      <th>firstFlowDate</th>\n",
       "      <th>lastFlowDate</th>\n",
       "      <th>attemptCount</th>\n",
       "    </tr>\n",
       "  </thead>\n",
       "  <tbody>\n",
       "    <tr>\n",
       "      <th>0</th>\n",
       "      <td>10.0.0.10</td>\n",
       "      <td>172.10.1.10</td>\n",
       "      <td>1</td>\n",
       "      <td>571</td>\n",
       "      <td>108</td>\n",
       "      <td>0</td>\n",
       "      <td>2013-04-03 10:47:33</td>\n",
       "      <td>2013-04-03 10:47:33</td>\n",
       "      <td>1</td>\n",
       "    </tr>\n",
       "    <tr>\n",
       "      <th>1</th>\n",
       "      <td>10.0.0.10</td>\n",
       "      <td>172.10.1.100</td>\n",
       "      <td>1</td>\n",
       "      <td>633</td>\n",
       "      <td>392</td>\n",
       "      <td>0</td>\n",
       "      <td>2013-04-03 10:43:15</td>\n",
       "      <td>2013-04-03 10:43:15</td>\n",
       "      <td>1</td>\n",
       "    </tr>\n",
       "    <tr>\n",
       "      <th>2</th>\n",
       "      <td>10.0.0.10</td>\n",
       "      <td>172.10.1.102</td>\n",
       "      <td>1</td>\n",
       "      <td>571</td>\n",
       "      <td>108</td>\n",
       "      <td>0</td>\n",
       "      <td>2013-04-03 09:58:01</td>\n",
       "      <td>2013-04-03 09:58:01</td>\n",
       "      <td>1</td>\n",
       "    </tr>\n",
       "    <tr>\n",
       "      <th>3</th>\n",
       "      <td>10.0.0.10</td>\n",
       "      <td>172.10.1.109</td>\n",
       "      <td>1</td>\n",
       "      <td>633</td>\n",
       "      <td>392</td>\n",
       "      <td>0</td>\n",
       "      <td>2013-04-03 10:02:42</td>\n",
       "      <td>2013-04-03 10:02:42</td>\n",
       "      <td>1</td>\n",
       "    </tr>\n",
       "    <tr>\n",
       "      <th>4</th>\n",
       "      <td>10.0.0.10</td>\n",
       "      <td>172.10.1.112</td>\n",
       "      <td>1</td>\n",
       "      <td>571</td>\n",
       "      <td>108</td>\n",
       "      <td>0</td>\n",
       "      <td>2013-04-03 13:13:49</td>\n",
       "      <td>2013-04-03 13:13:49</td>\n",
       "      <td>1</td>\n",
       "    </tr>\n",
       "    <tr>\n",
       "      <th>5</th>\n",
       "      <td>10.0.0.10</td>\n",
       "      <td>172.10.1.114</td>\n",
       "      <td>1</td>\n",
       "      <td>633</td>\n",
       "      <td>392</td>\n",
       "      <td>0</td>\n",
       "      <td>2013-04-03 11:49:06</td>\n",
       "      <td>2013-04-03 11:49:06</td>\n",
       "      <td>1</td>\n",
       "    </tr>\n",
       "    <tr>\n",
       "      <th>6</th>\n",
       "      <td>10.0.0.10</td>\n",
       "      <td>172.10.1.116</td>\n",
       "      <td>1</td>\n",
       "      <td>54</td>\n",
       "      <td>0</td>\n",
       "      <td>0</td>\n",
       "      <td>2013-04-03 10:55:57</td>\n",
       "      <td>2013-04-03 10:55:57</td>\n",
       "      <td>1</td>\n",
       "    </tr>\n",
       "    <tr>\n",
       "      <th>7</th>\n",
       "      <td>10.0.0.10</td>\n",
       "      <td>172.10.1.117</td>\n",
       "      <td>1</td>\n",
       "      <td>54</td>\n",
       "      <td>0</td>\n",
       "      <td>0</td>\n",
       "      <td>2013-04-03 10:15:42</td>\n",
       "      <td>2013-04-03 10:15:42</td>\n",
       "      <td>1</td>\n",
       "    </tr>\n",
       "    <tr>\n",
       "      <th>8</th>\n",
       "      <td>10.0.0.10</td>\n",
       "      <td>172.10.1.119</td>\n",
       "      <td>1</td>\n",
       "      <td>54</td>\n",
       "      <td>0</td>\n",
       "      <td>0</td>\n",
       "      <td>2013-04-03 10:25:07</td>\n",
       "      <td>2013-04-03 10:25:07</td>\n",
       "      <td>1</td>\n",
       "    </tr>\n",
       "    <tr>\n",
       "      <th>9</th>\n",
       "      <td>10.0.0.10</td>\n",
       "      <td>172.10.1.120</td>\n",
       "      <td>1</td>\n",
       "      <td>571</td>\n",
       "      <td>108</td>\n",
       "      <td>0</td>\n",
       "      <td>2013-04-03 10:25:01</td>\n",
       "      <td>2013-04-03 10:25:01</td>\n",
       "      <td>1</td>\n",
       "    </tr>\n",
       "  </tbody>\n",
       "</table>\n",
       "</div>"
      ],
      "text/plain": [
       "      source   destination  targetPorts  bytesOut  bytesIn  durationSeconds  \\\n",
       "0  10.0.0.10   172.10.1.10            1       571      108                0   \n",
       "1  10.0.0.10  172.10.1.100            1       633      392                0   \n",
       "2  10.0.0.10  172.10.1.102            1       571      108                0   \n",
       "3  10.0.0.10  172.10.1.109            1       633      392                0   \n",
       "4  10.0.0.10  172.10.1.112            1       571      108                0   \n",
       "5  10.0.0.10  172.10.1.114            1       633      392                0   \n",
       "6  10.0.0.10  172.10.1.116            1        54        0                0   \n",
       "7  10.0.0.10  172.10.1.117            1        54        0                0   \n",
       "8  10.0.0.10  172.10.1.119            1        54        0                0   \n",
       "9  10.0.0.10  172.10.1.120            1       571      108                0   \n",
       "\n",
       "         firstFlowDate         lastFlowDate  attemptCount  \n",
       "0  2013-04-03 10:47:33  2013-04-03 10:47:33             1  \n",
       "1  2013-04-03 10:43:15  2013-04-03 10:43:15             1  \n",
       "2  2013-04-03 09:58:01  2013-04-03 09:58:01             1  \n",
       "3  2013-04-03 10:02:42  2013-04-03 10:02:42             1  \n",
       "4  2013-04-03 13:13:49  2013-04-03 13:13:49             1  \n",
       "5  2013-04-03 11:49:06  2013-04-03 11:49:06             1  \n",
       "6  2013-04-03 10:55:57  2013-04-03 10:55:57             1  \n",
       "7  2013-04-03 10:15:42  2013-04-03 10:15:42             1  \n",
       "8  2013-04-03 10:25:07  2013-04-03 10:25:07             1  \n",
       "9  2013-04-03 10:25:01  2013-04-03 10:25:01             1  "
      ]
     },
     "execution_count": 16,
     "metadata": {},
     "output_type": "execute_result"
    }
   ],
   "source": [
    "# how's it looking?\n",
    "result_gdf.head(10)\n"
   ]
  },
  {
   "cell_type": "markdown",
   "metadata": {
    "colab_type": "text",
    "id": "6PXbjW1hTxrD"
   },
   "source": [
    "## Apache Spark\n",
    "The cell below installs Apache Spark ([PySpark](https://spark.apache.org/docs/latest/api/python/index.html))."
   ]
  },
  {
   "cell_type": "code",
   "execution_count": 17,
   "metadata": {
    "colab": {},
    "colab_type": "code",
    "id": "pnEEvVEtT8xi"
   },
   "outputs": [
    {
     "name": "stdout",
     "output_type": "stream",
     "text": [
      "Collecting pyspark\n",
      "  Downloading pyspark-3.2.0.tar.gz (281.3 MB)\n",
      "     |████████████████████████████████| 281.3 MB 98 kB/s              \n",
      "\u001b[?25h  Preparing metadata (setup.py) ... \u001b[?25ldone\n",
      "\u001b[?25hCollecting py4j==0.10.9.2\n",
      "  Downloading py4j-0.10.9.2-py2.py3-none-any.whl (198 kB)\n",
      "     |████████████████████████████████| 198 kB 43.7 MB/s            \n",
      "\u001b[?25hBuilding wheels for collected packages: pyspark\n",
      "  Building wheel for pyspark (setup.py) ... \u001b[?25ldone\n",
      "\u001b[?25h  Created wheel for pyspark: filename=pyspark-3.2.0-py2.py3-none-any.whl size=281805912 sha256=4d5a723adc6f54e0e2168f2e1bfb3be356418285ce90f31ed893c23f09cb4943\n",
      "  Stored in directory: /root/.cache/pip/wheels/23/f6/d3/110e53bd43baeb8d7d38049733d48e39cbecd056f01dba7ee8\n",
      "Successfully built pyspark\n",
      "Installing collected packages: py4j, pyspark\n",
      "Successfully installed py4j-0.10.9.2 pyspark-3.2.0\n",
      "\u001b[33mWARNING: Running pip as the 'root' user can result in broken permissions and conflicting behaviour with the system package manager. It is recommended to use a virtual environment instead: https://pip.pypa.io/warnings/venv\u001b[0m\n"
     ]
    }
   ],
   "source": [
    "# installs Spark (2.4.4 Jan 2020)\n",
    "!pip install pyspark"
   ]
  },
  {
   "cell_type": "code",
   "execution_count": 18,
   "metadata": {},
   "outputs": [
    {
     "name": "stdout",
     "output_type": "stream",
     "text": [
      "Collecting install-jdk\n",
      "  Downloading install-jdk-0.3.0.tar.gz (3.8 kB)\n",
      "  Preparing metadata (setup.py) ... \u001b[?25ldone\n",
      "\u001b[?25hBuilding wheels for collected packages: install-jdk\n",
      "  Building wheel for install-jdk (setup.py) ... \u001b[?25ldone\n",
      "\u001b[?25h  Created wheel for install-jdk: filename=install_jdk-0.3.0-py3-none-any.whl size=3740 sha256=e3015ac2be81c909a5e918b6935010f3417e190a9f290da78149c8940a5dfe2a\n",
      "  Stored in directory: /root/.cache/pip/wheels/89/a9/a3/03dc102cdcd442b9bca361f8c64fd4bb9b47ce75d9c8d56c91\n",
      "Successfully built install-jdk\n",
      "Installing collected packages: install-jdk\n",
      "Successfully installed install-jdk-0.3.0\n",
      "\u001b[33mWARNING: Running pip as the 'root' user can result in broken permissions and conflicting behaviour with the system package manager. It is recommended to use a virtual environment instead: https://pip.pypa.io/warnings/venv\u001b[0m\n"
     ]
    }
   ],
   "source": [
    "!pip install install-jdk"
   ]
  },
  {
   "cell_type": "code",
   "execution_count": 19,
   "metadata": {},
   "outputs": [],
   "source": [
    "#import os\n",
    "#os.environ[\"PYSPARK_SUBMIT_ARGS\"]=\"--master local[3] pyspark-shell\"\n",
    "#os.environ['SPARK_LOCAL_IP'] =  '10.150.160.7'"
   ]
  },
  {
   "cell_type": "markdown",
   "metadata": {
    "colab_type": "text",
    "id": "W3-XmZkz_zmw"
   },
   "source": [
    "#### Dask-SQL vs PySpark\n",
    "With everything installed we can launch a SparkSession and see how Dask-SQL stacks up."
   ]
  },
  {
   "cell_type": "code",
   "execution_count": 20,
   "metadata": {
    "colab": {
     "base_uri": "https://localhost:8080/",
     "height": 51
    },
    "colab_type": "code",
    "id": "nioEt2MqT9B0",
    "outputId": "f75b9823-5dbd-45b1-9282-562d3d6ddaf0",
    "scrolled": true
   },
   "outputs": [
    {
     "name": "stdout",
     "output_type": "stream",
     "text": [
      "CPU times: user 159 ms, sys: 113 ms, total: 273 ms\n",
      "Wall time: 2.98 s\n"
     ]
    }
   ],
   "source": [
    "%%time\n",
    "#I copied this cell's snippet from another Google Colab by Luca Canali here: https://colab.research.google.com/github/LucaCanali/sparkMeasure/blob/master/examples/SparkMeasure_Jupyter_Colab_Example.ipynb\n",
    "\n",
    "from pyspark.sql import SparkSession\n",
    "from pyspark import SparkConf, StorageLevel, SparkContext\n",
    "\n",
    "# Create Spark Session\n",
    "# This example uses a local cluster, you can modify master to use  YARN or K8S if available \n",
    "# This example downloads sparkMeasure 0.13 for scala 2_11 from maven central\n",
    "\n",
    "# spark = SparkSession \\\n",
    "#         .builder \\\n",
    "#         .master(\"local[*]\") \\\n",
    "#         .appName(\"PySpark Netflow Benchmark code\") \\\n",
    "#         .config(\"spark.jars.packages\",\"ch.cern.sparkmeasure:spark-measure_2.11:0.13\")  \\\n",
    "#         .getOrCreate()\n",
    "\n",
    "conf = (SparkConf().setMaster(\"local[*]\")\n",
    "                .setAppName(\"PySpark Netflow Benchmark code\")\n",
    "                .set('spark.driver.memory', '300G')\n",
    "                .set('spark.driver.maxResultSize', '20G')\n",
    "                .set('spark.network.timeout', '7200s'))\n",
    "\n",
    "sc = SparkContext(conf=conf)\n",
    "\n",
    "spark = SparkSession(sc)"
   ]
  },
  {
   "cell_type": "markdown",
   "metadata": {
    "colab_type": "text",
    "id": "G8XSppQiUdLY"
   },
   "source": [
    "### Load & Query Table"
   ]
  },
  {
   "cell_type": "code",
   "execution_count": 21,
   "metadata": {
    "colab": {
     "base_uri": "https://localhost:8080/",
     "height": 51
    },
    "colab_type": "code",
    "id": "ZSLuSYSOUDtf",
    "outputId": "2b93169b-63c5-4c46-da14-af87645bf51b"
   },
   "outputs": [
    {
     "name": "stdout",
     "output_type": "stream",
     "text": [
      "CPU times: user 536 ms, sys: 247 ms, total: 783 ms\n",
      "Wall time: 17 s\n"
     ]
    }
   ],
   "source": [
    "%%time\n",
    "# load CSV into Spark\n",
    "netflow_df = spark.read.format('com.databricks.spark.csv').options(header='true', inferschema='true').load(data_dir+fn)"
   ]
  },
  {
   "cell_type": "code",
   "execution_count": 22,
   "metadata": {
    "colab": {
     "base_uri": "https://localhost:8080/",
     "height": 51
    },
    "colab_type": "code",
    "id": "iT3BwLn8UDwE",
    "outputId": "4eeff800-489f-4230-adb9-f3a1c16ede66"
   },
   "outputs": [
    {
     "name": "stdout",
     "output_type": "stream",
     "text": [
      "CPU times: user 4.33 ms, sys: 439 µs, total: 4.77 ms\n",
      "Wall time: 35.3 ms\n"
     ]
    }
   ],
   "source": [
    "%%time\n",
    "# create table for querying\n",
    "netflow_df.createOrReplaceTempView('netflow')"
   ]
  },
  {
   "cell_type": "code",
   "execution_count": 23,
   "metadata": {},
   "outputs": [],
   "source": [
    "import time\n",
    "\n",
    "t0 = time.time()\n"
   ]
  },
  {
   "cell_type": "code",
   "execution_count": 24,
   "metadata": {
    "colab": {
     "base_uri": "https://localhost:8080/",
     "height": 493
    },
    "colab_type": "code",
    "id": "9SBhahA5UD2k",
    "outputId": "accc1938-6470-44df-ab7f-70058c755b2b"
   },
   "outputs": [
    {
     "name": "stdout",
     "output_type": "stream",
     "text": [
      "+---------+------------+-----------+--------+-------+---------------+-------------------+-------------------+------------+\n",
      "|   source| destination|targetPorts|bytesOut|bytesIn|durationSeconds|      firstFlowDate|       lastFlowDate|attemptCount|\n",
      "+---------+------------+-----------+--------+-------+---------------+-------------------+-------------------+------------+\n",
      "|10.0.0.10|172.10.1.116|          1|      54|      0|              0|2013-04-03 10:55:57|2013-04-03 10:55:57|           1|\n",
      "|10.0.0.10|172.10.1.146|          1|     571|    108|              0|2013-04-03 10:21:51|2013-04-03 10:21:51|           1|\n",
      "|10.0.0.10|172.10.1.156|          1|     571|    108|              0|2013-04-03 09:54:01|2013-04-03 09:54:01|           1|\n",
      "|10.0.0.10|172.10.1.182|          1|     571|    108|              0|2013-04-03 10:44:59|2013-04-03 10:44:59|           1|\n",
      "|10.0.0.10|172.10.1.201|          2|    1204|    500|              0|2013-04-03 09:50:16|2013-04-03 10:02:54|           2|\n",
      "+---------+------------+-----------+--------+-------+---------------+-------------------+-------------------+------------+\n",
      "only showing top 5 rows\n",
      "\n",
      "CPU times: user 272 ms, sys: 147 ms, total: 419 ms\n",
      "Wall time: 10.6 s\n"
     ]
    }
   ],
   "source": [
    "%%time\n",
    "# define the same query run tested on blazingsql above\n",
    "query = '''\n",
    "        SELECT\n",
    "            a.firstSeenSrcIp as source,\n",
    "            a.firstSeenDestIp as destination,\n",
    "            count(a.firstSeenDestPort) as targetPorts,\n",
    "            SUM(a.firstSeenSrcTotalBytes) as bytesOut,\n",
    "            SUM(a.firstSeenDestTotalBytes) as bytesIn,\n",
    "            SUM(a.durationSeconds) as durationSeconds,\n",
    "            MIN(parsedDate) as firstFlowDate,\n",
    "            MAX(parsedDate) as lastFlowDate,\n",
    "            COUNT(*) as attemptCount\n",
    "        FROM\n",
    "            netflow a\n",
    "        GROUP BY\n",
    "            a.firstSeenSrcIp,\n",
    "            a.firstSeenDestIp\n",
    "        '''\n",
    "\n",
    "# query with Spark\n",
    "edges_df = spark.sql(query)\n",
    "\n",
    "# set/display results\n",
    "edges_df.show(5)"
   ]
  },
  {
   "cell_type": "code",
   "execution_count": 25,
   "metadata": {},
   "outputs": [
    {
     "name": "stdout",
     "output_type": "stream",
     "text": [
      "run_stuff took 10.61590027809143s\n"
     ]
    }
   ],
   "source": [
    "t1 = time.time()\n",
    "print(f\"run_stuff took {t1-t0}s\")"
   ]
  },
  {
   "cell_type": "code",
   "execution_count": 26,
   "metadata": {},
   "outputs": [
    {
     "data": {
      "text/plain": [
       "pyspark.sql.dataframe.DataFrame"
      ]
     },
     "execution_count": 26,
     "metadata": {},
     "output_type": "execute_result"
    }
   ],
   "source": [
    "type(edges_df)\n"
   ]
  },
  {
   "cell_type": "code",
   "execution_count": 27,
   "metadata": {},
   "outputs": [
    {
     "data": {
      "text/plain": [
       "18881"
      ]
     },
     "execution_count": 27,
     "metadata": {},
     "output_type": "execute_result"
    }
   ],
   "source": [
    "edges_df.count()"
   ]
  }
 ],
 "metadata": {
  "accelerator": "GPU",
  "colab": {
   "collapsed_sections": [],
   "name": "vs_pyspark_netflow.ipynb",
   "provenance": [],
   "toc_visible": true
  },
  "kernelspec": {
   "display_name": "Python 3",
   "language": "python",
   "name": "python3"
  },
  "language_info": {
   "codemirror_mode": {
    "name": "ipython",
    "version": 3
   },
   "file_extension": ".py",
   "mimetype": "text/x-python",
   "name": "python",
   "nbconvert_exporter": "python",
   "pygments_lexer": "ipython3",
   "version": "3.8.12"
  }
 },
 "nbformat": 4,
 "nbformat_minor": 4
}
