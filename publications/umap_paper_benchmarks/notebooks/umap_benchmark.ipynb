{
 "cells": [
  {
   "cell_type": "markdown",
   "metadata": {},
   "source": [
    "# UMAP Experiment"
   ]
  },
  {
   "cell_type": "code",
   "execution_count": null,
   "metadata": {},
   "outputs": [],
   "source": [
    "import sys\n",
    "sys.path.append(\"..\")\n",
    "\n",
    "import datasets\n",
    "\n",
    "from umap_bench.funcs import build_and_train\n",
    "from umap_bench.funcs import draw_chart\n",
    "from umap_bench.funcs import _run_build_and_train_once\n",
    "from umap_bench.funcs import store_results\n",
    "from umap_bench.funcs import maybe_load_results\n",
    "from umap_bench.funcs import maybe_get_results\n",
    "\n",
    "from umap_bench.funcs import perform_n_samples_test\n",
    "from umap_bench.funcs import perform_n_components_test\n",
    "\n",
    "from umap_bench import loaders\n",
    "\n",
    "import warnings\n",
    "warnings.filterwarnings(\"ignore\")\n",
    "\n",
    "import pickle\n",
    "import rmm\n",
    "import time\n",
    "import numpy as np\n",
    "\n",
    "from cuml.metrics import trustworthiness\n",
    "\n",
    "import matplotlib.pyplot as plt\n",
    "\n",
    "from umap import UMAP as UMAP_LEARN\n",
    "from cuml.manifold import UMAP as UMAP_CUML\n",
    "\n",
    "import os\n",
    "os.getcwd()"
   ]
  },
  {
   "cell_type": "markdown",
   "metadata": {},
   "source": [
    "Define the number of cores for the multi-core CPU UMAP implementation to use"
   ]
  },
  {
   "cell_type": "code",
   "execution_count": null,
   "metadata": {},
   "outputs": [],
   "source": [
    "import os\n",
    "os.environ[\"NUMBA_NUM_THREADS\"] = \"80\""
   ]
  },
  {
   "cell_type": "markdown",
   "metadata": {},
   "source": [
    "Since the GPUMAP project is no longer being maintained, we make a best effort to provide reproducibility of benchmarks. We make it optional so the other implementations may still be evaluated if GPUMAP is not installed. "
   ]
  },
  {
   "cell_type": "code",
   "execution_count": null,
   "metadata": {},
   "outputs": [],
   "source": [
    "has_gpumap = True\n",
    "try:\n",
    "    from gpumap import GPUMAP as UMAP_GPUMAP\n",
    "except ImportError:\n",
    "    has_gpumap = False\n",
    "    \n",
    "has_gpumap"
   ]
  },
  {
   "cell_type": "code",
   "execution_count": null,
   "metadata": {},
   "outputs": [],
   "source": [
    "RESULTS_FILE=\"results/results.pickle\"\n",
    "SCALE_RESULTS_FILE=\"results/scale_results.pickle\"\n",
    "\n",
    "POOL_SIZE_GB=15 # Number of GB to use for device memory pool\n",
    "\n",
    "TRUST_BATCH_SIZE=5000 # Number of rows to use per batch for computing trustworthiness\n",
    "\n",
    "KEY_UMAPCUML = \"umapcuml\"\n",
    "KEY_UMAPLEARN = \"umaplearn\"\n",
    "KEY_UMAPGPUMAP = \"umapgpumap\""
   ]
  },
  {
   "cell_type": "code",
   "execution_count": null,
   "metadata": {},
   "outputs": [],
   "source": [
    "rmm.reinitialize(\n",
    "    pool_allocator=True, # default is False\n",
    "    managed_memory=False, # default is False\n",
    "    initial_pool_size=int(1024*1024*1024*POOL_SIZE_GB), # set to 2GiB. Default is 1/2 total GPU memory\n",
    "    devices=0, # GPU device  IDs to register. By default registers only GPU 0.\n",
    "    logging=False, # default is False -- has perf overhead\n",
    ")"
   ]
  },
  {
   "cell_type": "code",
   "execution_count": null,
   "metadata": {},
   "outputs": [],
   "source": [
    "final_results = maybe_load_results(RESULTS_FILE)"
   ]
  },
  {
   "cell_type": "code",
   "execution_count": null,
   "metadata": {},
   "outputs": [],
   "source": [
    "final_results"
   ]
  },
  {
   "cell_type": "markdown",
   "metadata": {},
   "source": [
    "## Pen Digits Dataset"
   ]
  },
  {
   "cell_type": "code",
   "execution_count": null,
   "metadata": {},
   "outputs": [],
   "source": [
    "KEY_DIGITS = \"digits\"\n",
    "\n",
    "X, y = loaders.load_digits()"
   ]
  },
  {
   "cell_type": "code",
   "execution_count": null,
   "metadata": {},
   "outputs": [],
   "source": [
    "results_digits = maybe_get_results(final_results, KEY_DIGITS)"
   ]
  },
  {
   "cell_type": "code",
   "execution_count": null,
   "metadata": {},
   "outputs": [],
   "source": [
    "results_digits[KEY_UMAPCUML] = build_and_train(UMAP_CUML, X, y, {})"
   ]
  },
  {
   "cell_type": "code",
   "execution_count": null,
   "metadata": {},
   "outputs": [],
   "source": [
    "results_digits[KEY_UMAPLEARN] = build_and_train(UMAP_LEARN, X, y, {})"
   ]
  },
  {
   "cell_type": "code",
   "execution_count": null,
   "metadata": {},
   "outputs": [],
   "source": [
    "results_digits[KEY_UMAPGPUMAP] = build_and_train(UMAP_GPUMAP, X, y, {})"
   ]
  },
  {
   "cell_type": "code",
   "execution_count": null,
   "metadata": {},
   "outputs": [],
   "source": [
    "final_results[KEY_DIGITS] = results_digits"
   ]
  },
  {
   "cell_type": "code",
   "execution_count": null,
   "metadata": {},
   "outputs": [],
   "source": [
    "final_results[KEY_DIGITS]"
   ]
  },
  {
   "cell_type": "code",
   "execution_count": null,
   "metadata": {},
   "outputs": [],
   "source": [
    "store_results(final_results, RESULTS_FILE)"
   ]
  },
  {
   "cell_type": "markdown",
   "metadata": {},
   "source": [
    "## Fashion MNIST Dataset"
   ]
  },
  {
   "cell_type": "code",
   "execution_count": null,
   "metadata": {},
   "outputs": [],
   "source": [
    "# https://github.com/zalandoresearch/fashion-mnist/blob/master/utils/mnist_reader.py\n",
    "KEY_FASHION_MNIST = \"fashion_mnist\""
   ]
  },
  {
   "cell_type": "code",
   "execution_count": null,
   "metadata": {},
   "outputs": [],
   "source": [
    "train, train_labels = loaders.load_fashion_mnist('data/fashion', kind='train')\n",
    "test, test_labels = loaders.load_fashion_mnist('data/fashion', kind='t10k')\n",
    "X = (np.array(np.vstack([train, test]), dtype=np.float64) [:50000]/ 255.0).astype(np.float32)\n",
    "y = np.array(np.hstack([train_labels, test_labels]))[:50000].astype(np.float32)"
   ]
  },
  {
   "cell_type": "code",
   "execution_count": null,
   "metadata": {},
   "outputs": [],
   "source": [
    "results_fashion = maybe_get_results(final_results, KEY_FASHION_MNIST)"
   ]
  },
  {
   "cell_type": "code",
   "execution_count": null,
   "metadata": {},
   "outputs": [],
   "source": [
    "results_fashion[KEY_UMAPCUML] = build_and_train(UMAP_CUML, X, y, {})"
   ]
  },
  {
   "cell_type": "code",
   "execution_count": null,
   "metadata": {},
   "outputs": [],
   "source": [
    "results_fashion[KEY_UMAPLEARN] = build_and_train(UMAP_LEARN, X, y, {})"
   ]
  },
  {
   "cell_type": "code",
   "execution_count": null,
   "metadata": {},
   "outputs": [],
   "source": [
    "results_fashion[KEY_UMAPGPUMAP] = build_and_train(UMAP_GPUMAP, X, y, {})"
   ]
  },
  {
   "cell_type": "code",
   "execution_count": null,
   "metadata": {},
   "outputs": [],
   "source": [
    "final_results[KEY_FASHION_MNIST] = results_fashion"
   ]
  },
  {
   "cell_type": "code",
   "execution_count": null,
   "metadata": {},
   "outputs": [],
   "source": [
    "store_results(final_results, RESULTS_FILE)"
   ]
  },
  {
   "cell_type": "code",
   "execution_count": null,
   "metadata": {},
   "outputs": [],
   "source": [
    "final_results[KEY_FASHION_MNIST]"
   ]
  },
  {
   "cell_type": "code",
   "execution_count": null,
   "metadata": {},
   "outputs": [],
   "source": [
    "classes = [\n",
    "    'T-shirt/top',\n",
    "    'Trouser',\n",
    "    'Pullover',\n",
    "    'Dress',\n",
    "    'Coat',\n",
    "    'Sandal',\n",
    "    'Shirt',\n",
    "    'Sneaker',\n",
    "    'Bag',\n",
    "    'Ankle boot']"
   ]
  },
  {
   "cell_type": "code",
   "execution_count": null,
   "metadata": {},
   "outputs": [],
   "source": [
    "draw_chart(UMAP_LEARN(n_neighbors=10, min_dist=0.01), X, y, \"Fashion MNIST\", \"UMAP-learn\", classes)"
   ]
  },
  {
   "cell_type": "code",
   "execution_count": null,
   "metadata": {},
   "outputs": [],
   "source": [
    "draw_chart(UMAP_CUML(n_neighbors=10, min_dist=0.01), X, y, \"Fashion MNIST\", \"cuML UMAP\", classes)"
   ]
  },
  {
   "cell_type": "code",
   "execution_count": null,
   "metadata": {},
   "outputs": [],
   "source": [
    "draw_chart(UMAP_GPUMAP(n_neighbors=10, min_dist=0.01), X, y, \"Fashion MNIST\", \"GPUUMAP\", classes)"
   ]
  },
  {
   "cell_type": "markdown",
   "metadata": {},
   "source": [
    "### CIFAR-100"
   ]
  },
  {
   "cell_type": "code",
   "execution_count": null,
   "metadata": {},
   "outputs": [],
   "source": [
    "KEY_CIFAR100 = \"cifar100\"\n",
    "\n",
    "train, test = loaders.load_cifar100(\"data/cifar100/cifar-100-python\")\n",
    "\n",
    "train, train_labels = (train[b\"data\"], train[b\"fine_labels\"])\n",
    "test, test_labels = (test[b\"data\"], test[b\"fine_labels\"])"
   ]
  },
  {
   "cell_type": "code",
   "execution_count": null,
   "metadata": {},
   "outputs": [],
   "source": [
    "X = (np.array(np.vstack([train, test]), dtype=np.float64) [:60000]/ 255.0).astype(np.float32)\n",
    "y = np.array(np.hstack([train_labels, test_labels]))[:60000].astype(np.float32)"
   ]
  },
  {
   "cell_type": "code",
   "execution_count": null,
   "metadata": {},
   "outputs": [],
   "source": [
    "results_cifar100 = maybe_get_results(final_results, KEY_CIFAR100)"
   ]
  },
  {
   "cell_type": "code",
   "execution_count": null,
   "metadata": {},
   "outputs": [],
   "source": [
    "results_cifar100[KEY_UMAPLEARN] = build_and_train(UMAP_LEARN, X, y, {})"
   ]
  },
  {
   "cell_type": "code",
   "execution_count": null,
   "metadata": {},
   "outputs": [],
   "source": [
    "results_cifar100[KEY_UMAPCUML] = build_and_train(UMAP_CUML, X, y, {})"
   ]
  },
  {
   "cell_type": "code",
   "execution_count": null,
   "metadata": {},
   "outputs": [],
   "source": [
    "results_cifar100[KEY_UMAPGPUMAP] = build_and_train(UMAP_GPUMAP, X, y, {})"
   ]
  },
  {
   "cell_type": "code",
   "execution_count": null,
   "metadata": {},
   "outputs": [],
   "source": [
    "final_results[KEY_CIFAR100] = results_cifar100\n",
    "store_results(final_results, RESULTS_FILE)"
   ]
  },
  {
   "cell_type": "code",
   "execution_count": null,
   "metadata": {},
   "outputs": [],
   "source": [
    "results_cifar100"
   ]
  },
  {
   "cell_type": "code",
   "execution_count": null,
   "metadata": {},
   "outputs": [],
   "source": []
  },
  {
   "cell_type": "markdown",
   "metadata": {},
   "source": [
    "## Shuttle Dataset"
   ]
  },
  {
   "cell_type": "code",
   "execution_count": null,
   "metadata": {},
   "outputs": [],
   "source": [
    "KEY_SHUTTLE = \"shuttle\"\n",
    "\n",
    "X, y = loaders.load_shuttle(\"data/shuttle.mat\")"
   ]
  },
  {
   "cell_type": "code",
   "execution_count": null,
   "metadata": {},
   "outputs": [],
   "source": [
    "results_shuttle = maybe_get_results(final_results, KEY_SHUTTLE)"
   ]
  },
  {
   "cell_type": "code",
   "execution_count": null,
   "metadata": {},
   "outputs": [],
   "source": [
    "results_shuttle[KEY_UMAPCUML] = build_and_train(UMAP_CUML, X, y, {})"
   ]
  },
  {
   "cell_type": "code",
   "execution_count": null,
   "metadata": {},
   "outputs": [],
   "source": [
    "results_shuttle[KEY_UMAPLEARN] = build_and_train(UMAP_LEARN, X, y, {})"
   ]
  },
  {
   "cell_type": "code",
   "execution_count": null,
   "metadata": {},
   "outputs": [],
   "source": [
    "results_shuttle[KEY_UMAPGPUMAP] = build_and_train(UMAP_GPUMAP, X, y, {})"
   ]
  },
  {
   "cell_type": "code",
   "execution_count": null,
   "metadata": {},
   "outputs": [],
   "source": [
    "final_results[KEY_SHUTTLE] = results_shuttle\n",
    "store_results(final_results, RESULTS_FILE)"
   ]
  },
  {
   "cell_type": "code",
   "execution_count": null,
   "metadata": {},
   "outputs": [],
   "source": [
    "results_shuttle"
   ]
  },
  {
   "cell_type": "markdown",
   "metadata": {},
   "source": [
    "## COIL-20 Dataset"
   ]
  },
  {
   "cell_type": "code",
   "execution_count": null,
   "metadata": {},
   "outputs": [],
   "source": [
    "KEY_COIL20 = \"coil20\"\n",
    "\n",
    "X, y = loaders.load_coil20(\"data/\")"
   ]
  },
  {
   "cell_type": "code",
   "execution_count": null,
   "metadata": {},
   "outputs": [],
   "source": [
    "results_coil20 = maybe_get_results(final_results, KEY_COIL20)"
   ]
  },
  {
   "cell_type": "code",
   "execution_count": null,
   "metadata": {},
   "outputs": [],
   "source": [
    "results_coil20[KEY_UMAPCUML] = build_and_train(UMAP_CUML, X, y, {})"
   ]
  },
  {
   "cell_type": "code",
   "execution_count": null,
   "metadata": {},
   "outputs": [],
   "source": [
    "results_coil20[KEY_UMAPGPUMAP] = build_and_train(UMAP_GPUMAP, X, y, {})"
   ]
  },
  {
   "cell_type": "code",
   "execution_count": null,
   "metadata": {},
   "outputs": [],
   "source": [
    "results_coil20[KEY_UMAPLEARN] = build_and_train(UMAP_LEARN, X, y, {})"
   ]
  },
  {
   "cell_type": "code",
   "execution_count": null,
   "metadata": {},
   "outputs": [],
   "source": [
    "final_results[KEY_COIL20] = results_coil20\n",
    "store_results(final_results, RESULTS_FILE)"
   ]
  },
  {
   "cell_type": "code",
   "execution_count": null,
   "metadata": {},
   "outputs": [],
   "source": [
    "final_results[KEY_COIL20]"
   ]
  },
  {
   "cell_type": "markdown",
   "metadata": {},
   "source": [
    "## MNIST Dataset"
   ]
  },
  {
   "cell_type": "code",
   "execution_count": null,
   "metadata": {},
   "outputs": [],
   "source": [
    "KEY_MNIST = \"mnist\"\n",
    "\n",
    "X, y = loaders.load_mnist(\"data/\")"
   ]
  },
  {
   "cell_type": "code",
   "execution_count": null,
   "metadata": {},
   "outputs": [],
   "source": [
    "results_mnist = maybe_get_results(final_results, KEY_MNIST)"
   ]
  },
  {
   "cell_type": "code",
   "execution_count": null,
   "metadata": {},
   "outputs": [],
   "source": [
    "results_mnist[KEY_UMAPCUML] = build_and_train(UMAP_CUML, X, y, {})"
   ]
  },
  {
   "cell_type": "code",
   "execution_count": null,
   "metadata": {},
   "outputs": [],
   "source": [
    "results_mnist[KEY_UMAPLEARN] = build_and_train(UMAP_LEARN, X, y, {})"
   ]
  },
  {
   "cell_type": "code",
   "execution_count": null,
   "metadata": {},
   "outputs": [],
   "source": [
    "results_mnist[KEY_UMAPGPUMAP] = build_and_train(UMAP_GPUMAP, X, y, {})"
   ]
  },
  {
   "cell_type": "code",
   "execution_count": null,
   "metadata": {},
   "outputs": [],
   "source": [
    "final_results[KEY_MNIST] = results_mnist\n",
    "store_results(final_results, RESULTS_FILE)"
   ]
  },
  {
   "cell_type": "code",
   "execution_count": null,
   "metadata": {},
   "outputs": [],
   "source": [
    "results_mnist"
   ]
  },
  {
   "cell_type": "markdown",
   "metadata": {},
   "source": [
    "## scRNA\n",
    "\n",
    "This benchmark requires a pickle file to be output from the GPU notebook [here](https://github.com/clara-parabricks/rapids-single-cell-examples)"
   ]
  },
  {
   "cell_type": "code",
   "execution_count": null,
   "metadata": {},
   "outputs": [],
   "source": [
    "KEY_SCRNA = \"scrna\"\n",
    "\n",
    "X = pickle.load( open( \"data/scrna.pickle\", \"rb\" ) )"
   ]
  },
  {
   "cell_type": "code",
   "execution_count": null,
   "metadata": {},
   "outputs": [],
   "source": [
    "X.shape"
   ]
  },
  {
   "cell_type": "code",
   "execution_count": null,
   "metadata": {},
   "outputs": [],
   "source": [
    "results_scrna = maybe_get_results(final_results, KEY_SCRNA)"
   ]
  },
  {
   "cell_type": "code",
   "execution_count": null,
   "metadata": {},
   "outputs": [],
   "source": [
    "results_scrna[KEY_UMAPCUML] = build_and_train(UMAP_CUML, X, None, {})"
   ]
  },
  {
   "cell_type": "code",
   "execution_count": null,
   "metadata": {},
   "outputs": [],
   "source": [
    "results_scrna[KEY_UMAPLEARN] = build_and_train(UMAP_LEARN, X, None, {})"
   ]
  },
  {
   "cell_type": "code",
   "execution_count": null,
   "metadata": {},
   "outputs": [],
   "source": [
    "results_scrna[KEY_UMAPGPUMAP] = build_and_train(UMAP_GPUMAP, X, None, {})"
   ]
  },
  {
   "cell_type": "code",
   "execution_count": null,
   "metadata": {},
   "outputs": [],
   "source": [
    "final_results[KEY_SCRNA] = results_scrna\n",
    "store_results(final_results, RESULTS_FILE)"
   ]
  },
  {
   "cell_type": "code",
   "execution_count": null,
   "metadata": {},
   "outputs": [],
   "source": [
    "results_scrna"
   ]
  },
  {
   "cell_type": "markdown",
   "metadata": {},
   "source": [
    "## Scale Benchmark\n",
    "\n",
    "Test UMAP variants at different `n_samples` and `n_components`. Need to download the \"GoogleNews-vectors-negative300.bin.gz\" dataset."
   ]
  },
  {
   "cell_type": "code",
   "execution_count": null,
   "metadata": {},
   "outputs": [],
   "source": [
    "X = load_word2vec(\"data/\")"
   ]
  },
  {
   "cell_type": "code",
   "execution_count": null,
   "metadata": {},
   "outputs": [],
   "source": [
    "scale_results = maybe_load_results(SCALE_RESULTS_FILE)"
   ]
  },
  {
   "cell_type": "code",
   "execution_count": null,
   "metadata": {},
   "outputs": [],
   "source": [
    "scale_results"
   ]
  },
  {
   "cell_type": "code",
   "execution_count": null,
   "metadata": {},
   "outputs": [],
   "source": [
    "%%time\n",
    "perform_n_components_test(UMAP_CUML, X, KEY_UMAPCUML)"
   ]
  },
  {
   "cell_type": "code",
   "execution_count": null,
   "metadata": {},
   "outputs": [],
   "source": [
    "store_results(scale_results, SCALE_RESULTS_FILE)"
   ]
  },
  {
   "cell_type": "code",
   "execution_count": null,
   "metadata": {},
   "outputs": [],
   "source": [
    "%%time\n",
    "scale_results[KEY_UMAPCUML] = perform_n_samples_test(UMAP_CUML, X)"
   ]
  },
  {
   "cell_type": "code",
   "execution_count": null,
   "metadata": {},
   "outputs": [],
   "source": [
    "store_results(scale_results, SCALE_RESULTS_FILE)"
   ]
  }
 ],
 "metadata": {
  "kernelspec": {
   "display_name": "Python 3",
   "language": "python",
   "name": "python3"
  },
  "language_info": {
   "codemirror_mode": {
    "name": "ipython",
    "version": 3
   },
   "file_extension": ".py",
   "mimetype": "text/x-python",
   "name": "python",
   "nbconvert_exporter": "python",
   "pygments_lexer": "ipython3",
   "version": "3.7.6"
  }
 },
 "nbformat": 4,
 "nbformat_minor": 4
}
