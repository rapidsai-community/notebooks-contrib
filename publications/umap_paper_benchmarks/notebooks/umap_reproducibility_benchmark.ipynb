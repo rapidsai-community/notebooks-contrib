{
 "cells": [
  {
   "cell_type": "markdown",
   "metadata": {},
   "source": [
    "## UMAP reproducibility benchmark (runtime & trustworthiness)"
   ]
  },
  {
   "cell_type": "code",
   "execution_count": 1,
   "metadata": {},
   "outputs": [],
   "source": [
    "from umap import UMAP as umap_learn\n",
    "from cuml.manifold import UMAP as umap_cuml\n",
    "from cuml.metrics import trustworthiness\n",
    "\n",
    "from sklearn.datasets import make_blobs\n",
    "import time\n",
    "import numpy as np"
   ]
  },
  {
   "cell_type": "code",
   "execution_count": 2,
   "metadata": {},
   "outputs": [],
   "source": [
    "def generate_data(n_samples):\n",
    "    X, y = make_blobs(n_samples=n_samples, n_features=args['n_features'],\n",
    "                      centers=int(n_samples/20), cluster_std=8.0)\n",
    "    return X"
   ]
  },
  {
   "cell_type": "code",
   "execution_count": 3,
   "metadata": {},
   "outputs": [],
   "source": [
    "def benchmark_model(model_constr, args, data, n_components):\n",
    "    durations = []\n",
    "    trust_scores = []\n",
    "    for i in range(args['n_iter'] + 1):\n",
    "        # Instantiate model\n",
    "        model = model_constr(n_components=n_components, n_neighbors=args['n_neighbors'],\n",
    "                             n_epochs=args['n_epochs'], random_state=args['random_state'])\n",
    "        \n",
    "        # Perform transformation and measure time\n",
    "        start = time.time()\n",
    "        transformed = model.fit_transform(data)\n",
    "        durations.append(time.time()-start)\n",
    "        \n",
    "        # Compute trustworthiness score\n",
    "        trust_scores.append(trustworthiness(data, transformed, n_neighbors=args['n_neighbors']))\n",
    "    \n",
    "    durations = np.array(durations[1:])\n",
    "    trust_scores = np.array(trust_scores)\n",
    "    \n",
    "    # Compute runtime average and variance as well as trustworthiness score average\n",
    "    return durations.mean(), durations.var(), trust_scores.mean()"
   ]
  },
  {
   "cell_type": "code",
   "execution_count": 4,
   "metadata": {},
   "outputs": [],
   "source": [
    "def benchmark(args):\n",
    "    for n_samples in args['n_samples']:\n",
    "        for n_components in args['n_components']:\n",
    "            # Generate dataset\n",
    "            X = generate_data(n_samples)\n",
    "\n",
    "            # Benchmarks the two models\n",
    "            print(\"For dataset of shape ({}, {}) and n_components = {}:\".format(n_samples, args['n_features'], n_components))\n",
    "\n",
    "            n_elements = n_samples * args['n_features']\n",
    "            if n_elements <= 10000000:\n",
    "                print(\"\\tUMAP-LEARN:\")\n",
    "                args['random_state'] = None\n",
    "                ul_inconsistent = benchmark_model(umap_learn, args, X, n_components)\n",
    "                args['random_state'] = 42\n",
    "                ul_consistent = benchmark_model(umap_learn, args, X, n_components)\n",
    "                print_results(ul_inconsistent, ul_consistent)\n",
    "\n",
    "            print(\"\\tCUML UMAP:\")\n",
    "            args['random_state'] = None\n",
    "            cuml_inconsistent = benchmark_model(umap_cuml, args, X, n_components)\n",
    "            args['random_state'] = 42\n",
    "            cuml_consistent = benchmark_model(umap_cuml, args, X, n_components)\n",
    "            print_results(cuml_inconsistent, cuml_consistent)\n",
    "\n",
    "            a = cuml_consistent[0]\n",
    "            b = cuml_inconsistent[0]\n",
    "            slowdown = ((a - b) / a) * 100\n",
    "            print('\\t\\tcuML consistent pathway is {:.2f}% slower\\n'.format(slowdown))"
   ]
  },
  {
   "cell_type": "code",
   "execution_count": 5,
   "metadata": {},
   "outputs": [],
   "source": [
    "def print_results(inconsistent, consistent):\n",
    "    ic_dur_mean, ic_dur_var, ic_trust = inconsistent\n",
    "    print(\"\\t\\tWithout random seed: runtime avg - var: {:.2f} - {:.2f}, tustworthiness: {:.2f}\".format(ic_dur_mean, ic_dur_var, ic_trust))\n",
    "    c_dur_mean, c_dur_var, c_trust = consistent\n",
    "    print(\"\\t\\tWith random seed: runtime avg - var: {:.2f} - {:.2f}, tustworthiness: {:.2f}\".format(c_dur_mean, c_dur_var, c_trust))"
   ]
  },
  {
   "cell_type": "code",
   "execution_count": 6,
   "metadata": {},
   "outputs": [
    {
     "name": "stdout",
     "output_type": "stream",
     "text": [
      "For dataset of shape (1000, 1000) and n_components = 2:\n",
      "\tUMAP-LEARN:\n",
      "\t\tWithout random seed: runtime avg - var: 2.56 - 0.00, tustworthiness: 1.00\n",
      "\t\tWith random seed: runtime avg - var: 2.54 - 0.00, tustworthiness: 1.00\n",
      "\tCUML UMAP:\n",
      "\t\tWithout random seed: runtime avg - var: 0.24 - 0.00, tustworthiness: 1.00\n",
      "\t\tWith random seed: runtime avg - var: 0.24 - 0.00, tustworthiness: 1.00\n",
      "\t\tcuML consistent pathway is -3.18% slower\n",
      "\n",
      "For dataset of shape (1000, 1000) and n_components = 8:\n",
      "\tUMAP-LEARN:\n",
      "\t\tWithout random seed: runtime avg - var: 2.75 - 0.00, tustworthiness: 1.00\n",
      "\t\tWith random seed: runtime avg - var: 2.71 - 0.00, tustworthiness: 1.00\n",
      "\tCUML UMAP:\n",
      "\t\tWithout random seed: runtime avg - var: 0.25 - 0.00, tustworthiness: 1.00\n",
      "\t\tWith random seed: runtime avg - var: 0.26 - 0.00, tustworthiness: 1.00\n",
      "\t\tcuML consistent pathway is 5.35% slower\n",
      "\n",
      "For dataset of shape (1000, 1000) and n_components = 16:\n",
      "\tUMAP-LEARN:\n",
      "\t\tWithout random seed: runtime avg - var: 2.85 - 0.00, tustworthiness: 1.00\n",
      "\t\tWith random seed: runtime avg - var: 2.88 - 0.00, tustworthiness: 1.00\n",
      "\tCUML UMAP:\n",
      "\t\tWithout random seed: runtime avg - var: 0.27 - 0.00, tustworthiness: 1.00\n",
      "\t\tWith random seed: runtime avg - var: 0.31 - 0.00, tustworthiness: 1.00\n",
      "\t\tcuML consistent pathway is 11.07% slower\n",
      "\n",
      "For dataset of shape (10000, 1000) and n_components = 2:\n",
      "\tUMAP-LEARN:\n",
      "\t\tWithout random seed: runtime avg - var: 31.17 - 0.10, tustworthiness: 1.00\n",
      "\t\tWith random seed: runtime avg - var: 31.08 - 0.02, tustworthiness: 1.00\n",
      "\tCUML UMAP:\n",
      "\t\tWithout random seed: runtime avg - var: 0.29 - 0.00, tustworthiness: 1.00\n",
      "\t\tWith random seed: runtime avg - var: 0.32 - 0.00, tustworthiness: 1.00\n",
      "\t\tcuML consistent pathway is 9.54% slower\n",
      "\n",
      "For dataset of shape (10000, 1000) and n_components = 8:\n",
      "\tUMAP-LEARN:\n",
      "\t\tWithout random seed: runtime avg - var: 37.21 - 0.37, tustworthiness: 1.00\n",
      "\t\tWith random seed: runtime avg - var: 35.90 - 0.03, tustworthiness: 1.00\n",
      "\tCUML UMAP:\n",
      "\t\tWithout random seed: runtime avg - var: 0.35 - 0.00, tustworthiness: 1.00\n",
      "\t\tWith random seed: runtime avg - var: 0.46 - 0.00, tustworthiness: 1.00\n",
      "\t\tcuML consistent pathway is 24.26% slower\n",
      "\n",
      "For dataset of shape (10000, 1000) and n_components = 16:\n",
      "\tUMAP-LEARN:\n",
      "\t\tWithout random seed: runtime avg - var: 42.85 - 0.02, tustworthiness: 1.00\n",
      "\t\tWith random seed: runtime avg - var: 45.47 - 0.01, tustworthiness: 1.00\n",
      "\tCUML UMAP:\n",
      "\t\tWithout random seed: runtime avg - var: 0.43 - 0.00, tustworthiness: 1.00\n",
      "\t\tWith random seed: runtime avg - var: 0.84 - 0.00, tustworthiness: 1.00\n",
      "\t\tcuML consistent pathway is 49.20% slower\n",
      "\n",
      "For dataset of shape (100000, 1000) and n_components = 2:\n",
      "\tCUML UMAP:\n",
      "\t\tWithout random seed: runtime avg - var: 1.26 - 0.00, tustworthiness: 1.00\n",
      "\t\tWith random seed: runtime avg - var: 1.59 - 0.00, tustworthiness: 1.00\n",
      "\t\tcuML consistent pathway is 20.60% slower\n",
      "\n",
      "For dataset of shape (100000, 1000) and n_components = 8:\n",
      "\tCUML UMAP:\n",
      "\t\tWithout random seed: runtime avg - var: 1.80 - 0.00, tustworthiness: 1.00\n",
      "\t\tWith random seed: runtime avg - var: 3.20 - 0.00, tustworthiness: 0.80\n",
      "\t\tcuML consistent pathway is 43.67% slower\n",
      "\n",
      "For dataset of shape (100000, 1000) and n_components = 16:\n",
      "\tCUML UMAP:\n",
      "\t\tWithout random seed: runtime avg - var: 2.58 - 0.00, tustworthiness: 1.00\n",
      "\t\tWith random seed: runtime avg - var: 7.09 - 0.00, tustworthiness: 0.76\n",
      "\t\tcuML consistent pathway is 63.67% slower\n",
      "\n"
     ]
    }
   ],
   "source": [
    "import warnings\n",
    "warnings.filterwarnings('ignore')\n",
    "\n",
    "args = {'n_samples':[1000, 10000, 100000], 'n_features':1000, 'centers':500,\n",
    "        'n_components':[2, 8, 16], 'n_neighbors':15, 'n_epochs':500, 'n_iter':3}\n",
    "\n",
    "benchmark(args)"
   ]
  }
 ],
 "metadata": {
  "kernelspec": {
   "display_name": "Python 3",
   "language": "python",
   "name": "python3"
  },
  "language_info": {
   "codemirror_mode": {
    "name": "ipython",
    "version": 3
   },
   "file_extension": ".py",
   "mimetype": "text/x-python",
   "name": "python",
   "nbconvert_exporter": "python",
   "pygments_lexer": "ipython3",
   "version": "3.7.6"
  }
 },
 "nbformat": 4,
 "nbformat_minor": 4
}
