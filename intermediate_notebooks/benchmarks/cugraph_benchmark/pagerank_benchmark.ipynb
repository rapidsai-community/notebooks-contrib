{
 "cells": [
  {
   "cell_type": "markdown",
   "metadata": {},
   "source": [
    "# PageRank Performance Benchmarking\n",
    "\n",
    "This notebook benchmarks performance improvement of running PageRank within cuGraph against NetworkX.\n",
    "\n",
    "Notebook Credits\n",
    "\n",
    "    Original Authors: Bradley Rees\n",
    "    Last Edit: 09/30/2019\n",
    "        - added NetworkX pagerank_scipy\n",
    "\n",
    "RAPIDS Versions: 0.10.0\n",
    "\n",
    "Test Hardware\n",
    "\n",
    "    GV100 32G, CUDA 10.1\n",
    "    Intel(R) Xeon(R) CPU E5-2643 v4 @ 3.40GHz\n",
    "    64GB system memory\n",
    "    \n",
    "   "
   ]
  },
  {
   "cell_type": "code",
   "execution_count": 1,
   "metadata": {},
   "outputs": [
    {
     "name": "stdout",
     "output_type": "stream",
     "text": [
      "Wed Sep 18 16:14:15 2019       \n",
      "+-----------------------------------------------------------------------------+\n",
      "| NVIDIA-SMI 418.87.00    Driver Version: 418.87.00    CUDA Version: 10.1     |\n",
      "|-------------------------------+----------------------+----------------------+\n",
      "| GPU  Name        Persistence-M| Bus-Id        Disp.A | Volatile Uncorr. ECC |\n",
      "| Fan  Temp  Perf  Pwr:Usage/Cap|         Memory-Usage | GPU-Util  Compute M. |\n",
      "|===============================+======================+======================|\n",
      "|   0  Quadro GV100        Off  | 00000000:04:00.0  On |                  Off |\n",
      "| 40%   53C    P0    48W / 250W |    526MiB / 32455MiB |      2%      Default |\n",
      "+-------------------------------+----------------------+----------------------+\n",
      "|   1  Quadro GV100        Off  | 00000000:84:00.0 Off |                  Off |\n",
      "| 36%   49C    P2    41W / 250W |      1MiB / 32478MiB |      0%      Default |\n",
      "+-------------------------------+----------------------+----------------------+\n",
      "                                                                               \n",
      "+-----------------------------------------------------------------------------+\n",
      "| Processes:                                                       GPU Memory |\n",
      "|  GPU       PID   Type   Process name                             Usage      |\n",
      "|=============================================================================|\n",
      "|    0      3318      G   /usr/lib/xorg/Xorg                            77MiB |\n",
      "|    0     26453      G   /usr/lib/xorg/Xorg                           190MiB |\n",
      "|    0     26664      G   /usr/bin/gnome-shell                         170MiB |\n",
      "+-----------------------------------------------------------------------------+\n"
     ]
    }
   ],
   "source": [
    "!nvidia-smi"
   ]
  },
  {
   "cell_type": "code",
   "execution_count": 2,
   "metadata": {},
   "outputs": [
    {
     "name": "stdout",
     "output_type": "stream",
     "text": [
      "processor\t: 0\n",
      "vendor_id\t: GenuineIntel\n",
      "cpu family\t: 6\n",
      "model\t\t: 79\n",
      "model name\t: Intel(R) Xeon(R) CPU E5-2643 v4 @ 3.40GHz\n",
      "stepping\t: 1\n",
      "microcode\t: 0xb000036\n",
      "cpu MHz\t\t: 1212.171\n",
      "cache size\t: 20480 KB\n",
      "physical id\t: 0\n"
     ]
    }
   ],
   "source": [
    "! head /proc/cpuinfo"
   ]
  },
  {
   "cell_type": "code",
   "execution_count": 3,
   "metadata": {},
   "outputs": [],
   "source": [
    "# Import needed libraries\n",
    "import time\n",
    "import cugraph\n",
    "import cudf\n",
    "import numpy as np\n",
    "from collections import OrderedDict"
   ]
  },
  {
   "cell_type": "code",
   "execution_count": 4,
   "metadata": {},
   "outputs": [],
   "source": [
    "# NetworkX libraries\n",
    "import networkx as nx\n",
    "from scipy.io import mmread"
   ]
  },
  {
   "cell_type": "markdown",
   "metadata": {},
   "source": [
    "### Define the test data"
   ]
  },
  {
   "cell_type": "code",
   "execution_count": 5,
   "metadata": {},
   "outputs": [],
   "source": [
    "# Test File\n",
    "data = {\n",
    "    'preferentialAttachment' : './data/preferentialAttachment.mtx',\n",
    "    'caidaRouterLevel'       : './data/caidaRouterLevel.mtx',\n",
    "    'coAuthorsDBLP'          : './data/coAuthorsDBLP.mtx',\n",
    "    'dblp'                   : './data/dblp-2010.mtx',\n",
    "    'citationCiteseer'       : './data/citationCiteseer.mtx',\n",
    "    'coPapersDBLP'           : './data/coPapersDBLP.mtx',\n",
    "    'coPapersCiteseer'       : './data/coPapersCiteseer.mtx',\n",
    "    'as-Skitter'             : './data/as-Skitter.mtx'\n",
    "}"
   ]
  },
  {
   "cell_type": "markdown",
   "metadata": {},
   "source": [
    "### Define the testing functions"
   ]
  },
  {
   "cell_type": "code",
   "execution_count": 6,
   "metadata": {},
   "outputs": [],
   "source": [
    "def read_mtx_file(mm_file):\n",
    "    print('Reading ' + str(mm_file) + '...')\n",
    "    M = mmread(mm_file).asfptype()\n",
    "     \n",
    "    return M"
   ]
  },
  {
   "cell_type": "code",
   "execution_count": 7,
   "metadata": {},
   "outputs": [],
   "source": [
    "def cugraph_call(M, max_iter, tol, alpha):\n",
    "    # Device data\n",
    "    sources = cudf.Series(M.row)\n",
    "    destinations = cudf.Series(M.col)\n",
    "\n",
    "    # cugraph Pagerank Call\n",
    "    G = cugraph.Graph()\n",
    "    G.add_edge_list(sources, destinations, None)\n",
    "    \n",
    "    t1 = time.time()\n",
    "    df = cugraph.pagerank(G, alpha=alpha, max_iter=max_iter, tol=tol)\n",
    "    t2 = time.time() - t1\n",
    "    \n",
    "    return t2\n",
    "    "
   ]
  },
  {
   "cell_type": "code",
   "execution_count": 8,
   "metadata": {},
   "outputs": [],
   "source": [
    "def networkx_call(M, max_iter, tol, alpha):\n",
    "    nnz_per_row = {r: 0 for r in range(M.get_shape()[0])}\n",
    "    for nnz in range(M.getnnz()):\n",
    "        nnz_per_row[M.row[nnz]] = 1 + nnz_per_row[M.row[nnz]]\n",
    "    for nnz in range(M.getnnz()):\n",
    "        M.data[nnz] = 1.0/float(nnz_per_row[M.row[nnz]])\n",
    "\n",
    "    M = M.tocsr()\n",
    "    if M is None:\n",
    "        raise TypeError('Could not read the input graph')\n",
    "    if M.shape[0] != M.shape[1]:\n",
    "        raise TypeError('Shape is not square')\n",
    "\n",
    "    # should be autosorted, but check just to make sure\n",
    "    if not M.has_sorted_indices:\n",
    "        print('sort_indices ... ')\n",
    "        M.sort_indices()\n",
    "\n",
    "    # Directed NetworkX graph\n",
    "    Gnx = nx.DiGraph(M)\n",
    "\n",
    "    z = {k: 1.0/M.shape[0] for k in range(M.shape[0])}\n",
    "\n",
    "    # Networkx Pagerank Call\n",
    "    print('Solving... ')\n",
    "    t1 = time.time()\n",
    "    pr = nx.pagerank(Gnx, alpha, z, max_iter, tol)\n",
    "    t2 = time.time() - t1\n",
    "\n",
    "    return t2"
   ]
  },
  {
   "cell_type": "code",
   "execution_count": 9,
   "metadata": {},
   "outputs": [],
   "source": [
    "def networkx_scipy_call(M, max_iter, tol, alpha):\n",
    "    nnz_per_row = {r: 0 for r in range(M.get_shape()[0])}\n",
    "    for nnz in range(M.getnnz()):\n",
    "        nnz_per_row[M.row[nnz]] = 1 + nnz_per_row[M.row[nnz]]\n",
    "    for nnz in range(M.getnnz()):\n",
    "        M.data[nnz] = 1.0/float(nnz_per_row[M.row[nnz]])\n",
    "\n",
    "    M = M.tocsr()\n",
    "    if M is None:\n",
    "        raise TypeError('Could not read the input graph')\n",
    "    if M.shape[0] != M.shape[1]:\n",
    "        raise TypeError('Shape is not square')\n",
    "\n",
    "    # should be autosorted, but check just to make sure\n",
    "    if not M.has_sorted_indices:\n",
    "        print('sort_indices ... ')\n",
    "        M.sort_indices()\n",
    "\n",
    "    # Directed NetworkX graph\n",
    "    Gnx = nx.DiGraph(M)\n",
    "\n",
    "    z = {k: 1.0/M.shape[0] for k in range(M.shape[0])}\n",
    "\n",
    "    # Networkx Pagerank Call\n",
    "    print('Solving... ')\n",
    "    t1 = time.time()\n",
    "    pr = nx.pagerank_scipy(Gnx, alpha, z, max_iter, tol)\n",
    "    t2 = time.time() - t1\n",
    "\n",
    "    return t2"
   ]
  },
  {
   "cell_type": "markdown",
   "metadata": {},
   "source": [
    "### Run the benchmarks"
   ]
  },
  {
   "cell_type": "code",
   "execution_count": 10,
   "metadata": {
    "scrolled": true
   },
   "outputs": [
    {
     "name": "stdout",
     "output_type": "stream",
     "text": [
      "Reading ./data/preferentialAttachment.mtx...\n",
      "Solving... \n",
      "364.88122014792077x faster =>  cugraph 0.03603982925415039 vs 13.150256872177124\n",
      "Solving... \n",
      "177.29639062727406x faster =>  cugraph 0.03603982925415039 vs 6.3897316455841064\n",
      "Reading ./data/caidaRouterLevel.mtx...\n",
      "Solving... \n",
      "245.10296080757286x faster =>  cugraph 0.07054781913757324 vs 17.291479349136353\n",
      "Solving... \n",
      "121.57388500806019x faster =>  cugraph 0.07054781913757324 vs 8.576772451400757\n",
      "Reading ./data/coAuthorsDBLP.mtx...\n",
      "Solving... \n",
      "569.551331379166x faster =>  cugraph 0.048395395278930664 vs 27.563661813735962\n",
      "Solving... \n",
      "264.0304505259009x faster =>  cugraph 0.048395395278930664 vs 12.777858018875122\n",
      "Reading ./data/dblp-2010.mtx...\n",
      "Solving... \n",
      "654.8223139341629x faster =>  cugraph 0.03414201736450195 vs 22.35695481300354\n",
      "Solving... \n",
      "270.3595480510049x faster =>  cugraph 0.03414201736450195 vs 9.230620384216309\n",
      "Reading ./data/citationCiteseer.mtx...\n",
      "Solving... \n",
      "632.5896733157168x faster =>  cugraph 0.050977468490600586 vs 32.247820138931274\n",
      "Solving... \n",
      "323.1067184248065x faster =>  cugraph 0.050977468490600586 vs 16.47116255760193\n",
      "Reading ./data/coPapersDBLP.mtx...\n",
      "Solving... \n",
      "2924.6171803248194x faster =>  cugraph 0.12304830551147461 vs 359.8691883087158\n",
      "Solving... \n",
      "1559.0179286265118x faster =>  cugraph 0.12304830551147461 vs 191.83451437950134\n",
      "Reading ./data/coPapersCiteseer.mtx...\n",
      "Solving... \n",
      "3451.68862581713x faster =>  cugraph 0.10861349105834961 vs 374.8999516963959\n",
      "Solving... \n",
      "2555.495126855417x faster =>  cugraph 0.10861349105834961 vs 277.5612471103668\n",
      "Reading ./data/as-Skitter.mtx...\n",
      "Solving... \n",
      "1960.2096072805145x faster =>  cugraph 0.14183592796325684 vs 278.02814865112305\n",
      "Solving... \n",
      "1040.4541311776877x faster =>  cugraph 0.14183592796325684 vs 147.5737771987915\n"
     ]
    }
   ],
   "source": [
    "perf_nx = []\n",
    "perf_sp = []\n",
    "names = []\n",
    "\n",
    "for k,v in data.items():\n",
    "    # capture the file name\n",
    "    names.append(k)\n",
    "    \n",
    "    M = read_mtx_file(v)\n",
    "    trapids = cugraph_call(M, 100, 0.00001, 0.85)\n",
    "    tn = networkx_call(M, 100, 0.00001, 0.85)\n",
    "    speedUp = (tn / trapids)\n",
    "    perf_nx.append(speedUp)\n",
    "    print(str(speedUp) + \"x faster =>  cugraph \" + str(trapids) + \" vs \" + str(tn))\n",
    "    \n",
    "    tsp = networkx_scipy_call(M, 100, 0.00001, 0.85)\n",
    "    speedUp = (tsp / trapids)\n",
    "    perf_sp.append(speedUp)  \n",
    "    \n",
    "    print(str(speedUp) + \"x faster =>  cugraph \" + str(trapids) + \" vs \" + str(tsp))"
   ]
  },
  {
   "cell_type": "code",
   "execution_count": 11,
   "metadata": {},
   "outputs": [],
   "source": [
    "### plot the output"
   ]
  },
  {
   "cell_type": "code",
   "execution_count": 12,
   "metadata": {},
   "outputs": [
    {
     "data": {
      "image/png": "[encoded data removed]",
      "text/plain": [
       "<Figure size 640x480 with 1 Axes>"
      ]
     },
     "metadata": {},
     "output_type": "display_data"
    }
   ],
   "source": [
    "%matplotlib inline\n",
    "\n",
    "import matplotlib.pyplot as plt; plt.rcdefaults()\n",
    "import numpy as np\n",
    "import matplotlib.pyplot as plt\n",
    "\n",
    "bar_width = 0.35\n",
    "index = np.arange(len(names))\n",
    "\n",
    "_ = plt.bar(index, perf_nx, bar_width, color='g', label='Nx')\n",
    "_ = plt.bar(index + bar_width, perf_sp, bar_width, color='b', label='NumPy')\n",
    "\n",
    "\n",
    "plt.xlabel('Datasets')\n",
    "plt.ylabel('Speedup')\n",
    "plt.title('PageRank Performance Speedup')\n",
    "plt.xticks(index + (bar_width / 2), names)\n",
    "plt.xticks(rotation=90) \n",
    "\n",
    "plt.legend()\n",
    "plt.show()"
   ]
  },
  {
   "cell_type": "code",
   "execution_count": null,
   "metadata": {},
   "outputs": [],
   "source": []
  }
 ],
 "metadata": {
  "kernelspec": {
   "display_name": "cugraph_dev",
   "language": "python",
   "name": "cugraph_dev"
  },
  "language_info": {
   "codemirror_mode": {
    "name": "ipython",
    "version": 3
   },
   "file_extension": ".py",
   "mimetype": "text/x-python",
   "name": "python",
   "nbconvert_exporter": "python",
   "pygments_lexer": "ipython3",
   "version": "3.7.3"
  }
 },
 "nbformat": 4,
 "nbformat_minor": 4
}
