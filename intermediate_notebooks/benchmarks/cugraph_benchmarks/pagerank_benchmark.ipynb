{
 "cells": [
  {
   "cell_type": "markdown",
   "metadata": {},
   "source": [
    "# PageRank Performance Benchmarking\n",
    "\n",
    "This notebook benchmarks performance of running PageRank within cuGraph against NetworkX. NetworkX contains several implementations of PageRank.  This benchmark will compare cuGraph versus the defaukt Nx implementation as well as the SciPy version\n",
    "\n",
    "Notebook Credits\n",
    "\n",
    "    Original Authors: Bradley Rees\n",
    "    Last Edit: 10/30/2019\n",
    "    \n",
    "RAPIDS Versions: 0.10.0\n",
    "\n",
    "Test Hardware\n",
    "\n",
    "    GV100 32G, CUDA 10,0\n",
    "    Intel(R) Core(TM) CPU i7-7800X @ 3.50GHz\n",
    "    32GB system memory\n",
    "    \n"
   ]
  },
  {
   "cell_type": "markdown",
   "metadata": {},
   "source": [
    "### Test Data\n",
    "\n",
    "| File Name              | Num of Vertices | Num of Edges |\n",
    "|:---------------------- | --------------: | -----------: |\n",
    "| preferentialAttachment |         100,000 |      999,970 |\n",
    "| caidaRouterLevel       |         192,244 |    1,218,132 |\n",
    "| coAuthorsDBLP          |         299,067 |    1,955,352 |\n",
    "| dblp-2010              |         326,186 |    1,615,400 |\n",
    "| citationCiteseer       |         268,495 |    2,313,294 |\n",
    "| coPapersDBLP           |         540,486 |   30,491,458 |\n",
    "| coPapersCiteseer       |         434,102 |   32,073,440 |\n",
    "| as-Skitter             |       1,696,415 |   22,190,596 |\n",
    "\n",
    "\n"
   ]
  },
  {
   "cell_type": "markdown",
   "metadata": {},
   "source": [
    "### Timing \n",
    "What is not timed:  Reading the data\n",
    "What is timmed: (1) creating a Graph, (2) running PageRank\n",
    "\n",
    "The data file is read in once for all flavors of PageRank.  Each timed block will craete a Graph and then execute the algorithm.  The results of the algorithm are not compared.  If you are interested in seeing the comparison of results, then please see PageRank in the __notebooks__ repo. "
   ]
  },
  {
   "cell_type": "markdown",
   "metadata": {},
   "source": [
    "## NOTICE\n",
    "You must have run the dataPrep script prior to running this notebook so that the data is downloaded\n",
    "\n",
    "See the README file in this folder for a discription of how to get the data"
   ]
  },
  {
   "cell_type": "code",
   "execution_count": 1,
   "metadata": {},
   "outputs": [],
   "source": [
    "# Import needed libraries\n",
    "import time\n",
    "import cugraph\n",
    "import cudf"
   ]
  },
  {
   "cell_type": "code",
   "execution_count": 2,
   "metadata": {},
   "outputs": [],
   "source": [
    "# NetworkX libraries\n",
    "import networkx as nx\n",
    "from scipy.io import mmread"
   ]
  },
  {
   "cell_type": "code",
   "execution_count": 3,
   "metadata": {},
   "outputs": [],
   "source": [
    "import matplotlib.pyplot as plt; plt.rcdefaults()\n",
    "import numpy as np"
   ]
  },
  {
   "cell_type": "markdown",
   "metadata": {},
   "source": [
    "### Define the test data"
   ]
  },
  {
   "cell_type": "code",
   "execution_count": 4,
   "metadata": {},
   "outputs": [],
   "source": [
    "# Test File\n",
    "data = {\n",
    "    'preferentialAttachment' : './data/preferentialAttachment.mtx',\n",
    "    'caidaRouterLevel'       : './data/caidaRouterLevel.mtx',\n",
    "    'coAuthorsDBLP'          : './data/coAuthorsDBLP.mtx',\n",
    "    'dblp'                   : './data/dblp-2010.mtx',\n",
    "    'citationCiteseer'       : './data/citationCiteseer.mtx',\n",
    "    'coPapersDBLP'           : './data/coPapersDBLP.mtx',\n",
    "    'coPapersCiteseer'       : './data/coPapersCiteseer.mtx',\n",
    "    'as-Skitter'             : './data/as-Skitter.mtx'\n",
    "}"
   ]
  },
  {
   "cell_type": "markdown",
   "metadata": {},
   "source": [
    "### Define the testing functions"
   ]
  },
  {
   "cell_type": "code",
   "execution_count": 5,
   "metadata": {},
   "outputs": [],
   "source": [
    "# Data reader - the file format is MTX, so we will use the reader from SciPy\n",
    "def read_mtx_file(mm_file):\n",
    "    print('Reading ' + str(mm_file) + '...')\n",
    "    M = mmread(mm_file).asfptype()\n",
    "     \n",
    "    return M"
   ]
  },
  {
   "cell_type": "code",
   "execution_count": 6,
   "metadata": {},
   "outputs": [],
   "source": [
    "# CuGraph PageRank\n",
    "\n",
    "def cugraph_call(M, max_iter, tol, alpha):\n",
    "\n",
    "    sources = cudf.Series(M.row)\n",
    "    destinations = cudf.Series(M.col)\n",
    "    \n",
    "    print('\\tcuGraph Solving... ')\n",
    "    \n",
    "    t1 = time.time()\n",
    "        \n",
    "    # cugraph Pagerank Call\n",
    "    G = cugraph.Graph()\n",
    "    G.add_edge_list(sources, destinations, None)    \n",
    "    \n",
    "    df = cugraph.pagerank(G, alpha=alpha, max_iter=max_iter, tol=tol)\n",
    "    t2 = time.time() - t1\n",
    "    \n",
    "    return t2\n",
    "    "
   ]
  },
  {
   "cell_type": "code",
   "execution_count": 7,
   "metadata": {},
   "outputs": [],
   "source": [
    "# Basic NetworkX PageRank\n",
    "\n",
    "def networkx_call(M, max_iter, tol, alpha):\n",
    "    nnz_per_row = {r: 0 for r in range(M.get_shape()[0])}\n",
    "    for nnz in range(M.getnnz()):\n",
    "        nnz_per_row[M.row[nnz]] = 1 + nnz_per_row[M.row[nnz]]\n",
    "    for nnz in range(M.getnnz()):\n",
    "        M.data[nnz] = 1.0/float(nnz_per_row[M.row[nnz]])\n",
    "\n",
    "    M = M.tocsr()\n",
    "    if M is None:\n",
    "        raise TypeError('Could not read the input graph')\n",
    "    if M.shape[0] != M.shape[1]:\n",
    "        raise TypeError('Shape is not square')\n",
    "\n",
    "    # should be autosorted, but check just to make sure\n",
    "    if not M.has_sorted_indices:\n",
    "        print('sort_indices ... ')\n",
    "        M.sort_indices()\n",
    "\n",
    "    z = {k: 1.0/M.shape[0] for k in range(M.shape[0])}\n",
    "        \n",
    "    print('\\tNetworkX Solving... ')\n",
    "        \n",
    "    # start timer\n",
    "    t1 = time.time()\n",
    "    \n",
    "    Gnx = nx.DiGraph(M)\n",
    "\n",
    "    pr = nx.pagerank(Gnx, alpha, z, max_iter, tol)\n",
    "    \n",
    "    t2 = time.time() - t1\n",
    "\n",
    "    return t2"
   ]
  },
  {
   "cell_type": "code",
   "execution_count": 8,
   "metadata": {},
   "outputs": [],
   "source": [
    "# SciPy PageRank\n",
    "\n",
    "def networkx_scipy_call(M, max_iter, tol, alpha):\n",
    "    nnz_per_row = {r: 0 for r in range(M.get_shape()[0])}\n",
    "    for nnz in range(M.getnnz()):\n",
    "        nnz_per_row[M.row[nnz]] = 1 + nnz_per_row[M.row[nnz]]\n",
    "    for nnz in range(M.getnnz()):\n",
    "        M.data[nnz] = 1.0/float(nnz_per_row[M.row[nnz]])\n",
    "\n",
    "    M = M.tocsr()\n",
    "    if M is None:\n",
    "        raise TypeError('Could not read the input graph')\n",
    "    if M.shape[0] != M.shape[1]:\n",
    "        raise TypeError('Shape is not square')\n",
    "\n",
    "    # should be autosorted, but check just to make sure\n",
    "    if not M.has_sorted_indices:\n",
    "        print('sort_indices ... ')\n",
    "        M.sort_indices()\n",
    "\n",
    "    z = {k: 1.0/M.shape[0] for k in range(M.shape[0])}\n",
    "\n",
    "    # SciPy Pagerank Call\n",
    "    print('\\tSciPy Solving... ')\n",
    "    t1 = time.time()\n",
    "    \n",
    "    Gnx = nx.DiGraph(M)    \n",
    "    \n",
    "    pr = nx.pagerank_scipy(Gnx, alpha, z, max_iter, tol)\n",
    "    t2 = time.time() - t1\n",
    "\n",
    "    return t2"
   ]
  },
  {
   "cell_type": "markdown",
   "metadata": {},
   "source": [
    "### Run the benchmarks"
   ]
  },
  {
   "cell_type": "code",
   "execution_count": 9,
   "metadata": {},
   "outputs": [
    {
     "name": "stdout",
     "output_type": "stream",
     "text": [
      "Reading ./data/preferentialAttachment.mtx...\n",
      "\tcuGraph Solving... \n",
      "\tNetworkX Solving... \n",
      "\tSciPy Solving... \n",
      "cuGraph (0.012440204620361328)  Nx (19.16742968559265)  SciPy (12.127779245376587)\n",
      "Reading ./data/caidaRouterLevel.mtx...\n",
      "\tcuGraph Solving... \n",
      "\tNetworkX Solving... \n",
      "\tSciPy Solving... \n",
      "cuGraph (0.04079031944274902)  Nx (27.284186840057373)  SciPy (15.545288801193237)\n",
      "Reading ./data/coAuthorsDBLP.mtx...\n",
      "\tcuGraph Solving... \n",
      "\tNetworkX Solving... \n",
      "\tSciPy Solving... \n",
      "cuGraph (0.04593801498413086)  Nx (37.1155571937561)  SciPy (23.589280605316162)\n",
      "Reading ./data/dblp-2010.mtx...\n",
      "\tcuGraph Solving... \n",
      "\tNetworkX Solving... \n",
      "\tSciPy Solving... \n",
      "cuGraph (0.049619197845458984)  Nx (35.91420578956604)  SciPy (20.76064920425415)\n",
      "Reading ./data/citationCiteseer.mtx...\n",
      "\tcuGraph Solving... \n",
      "\tNetworkX Solving... \n",
      "\tSciPy Solving... \n",
      "cuGraph (0.05932188034057617)  Nx (47.17170071601868)  SciPy (29.797624588012695)\n",
      "Reading ./data/coPapersDBLP.mtx...\n",
      "\tcuGraph Solving... \n",
      "\tNetworkX Solving... \n",
      "\tSciPy Solving... \n",
      "cuGraph (0.11396980285644531)  Nx (505.5883526802063)  SciPy (359.45723390579224)\n",
      "Reading ./data/coPapersCiteseer.mtx...\n",
      "\tcuGraph Solving... \n",
      "\tNetworkX Solving... \n",
      "\tSciPy Solving... \n",
      "cuGraph (0.11734366416931152)  Nx (538.7830519676208)  SciPy (353.66144013404846)\n",
      "Reading ./data/as-Skitter.mtx...\n",
      "\tcuGraph Solving... \n",
      "\tNetworkX Solving... \n",
      "\tSciPy Solving... \n",
      "cuGraph (0.1381855010986328)  Nx (422.65945768356323)  SciPy (284.13229751586914)\n"
     ]
    }
   ],
   "source": [
    "# arrays to capture performance gains\n",
    "perf_nx = []\n",
    "perf_sp = []\n",
    "names = []\n",
    "\n",
    "for k,v in data.items():\n",
    "    # Saved the file Name\n",
    "    names.append(k)\n",
    "    \n",
    "    # read the data\n",
    "    M = read_mtx_file(v)\n",
    "    \n",
    "    # call cuGraph - this will be the baseline\n",
    "    trapids = cugraph_call(M, 100, 0.00001, 0.85)\n",
    "    \n",
    "    # Now call NetworkX\n",
    "    tn = networkx_call(M, 100, 0.00001, 0.85)\n",
    "    speedUp = (tn / trapids)\n",
    "    perf_nx.append(speedUp)\n",
    "    \n",
    "    # Now call SciPy\n",
    "    tsp = networkx_scipy_call(M, 100, 0.00001, 0.85)\n",
    "    speedUp = (tsp / trapids)\n",
    "    perf_sp.append(speedUp)  \n",
    "    \n",
    "    print(\"cuGraph (\" + str(trapids) + \")  Nx (\" + str(tn) + \")  SciPy (\" + str(tsp) + \")\" )"
   ]
  },
  {
   "cell_type": "code",
   "execution_count": 10,
   "metadata": {},
   "outputs": [
    {
     "data": {
      "image/png": "[encoded data removed]",
      "text/plain": [
       "<Figure size 720x576 with 1 Axes>"
      ]
     },
     "metadata": {
      "needs_background": "light"
     },
     "output_type": "display_data"
    }
   ],
   "source": [
    "%matplotlib inline\n",
    "\n",
    "plt.figure(figsize=(10,8))\n",
    "\n",
    "bar_width = 0.35\n",
    "index = np.arange(len(names))\n",
    "\n",
    "_ = plt.bar(index, perf_nx, bar_width, color='g', label='vs Nx')\n",
    "_ = plt.bar(index + bar_width, perf_sp, bar_width, color='b', label='vs SciPy')\n",
    "\n",
    "plt.xlabel('Datasets')\n",
    "plt.ylabel('Speedup')\n",
    "plt.title('PageRank Performance Speedup')\n",
    "plt.xticks(index + (bar_width / 2), names)\n",
    "plt.xticks(rotation=90) \n",
    "\n",
    "# Text on the top of each barplot\n",
    "for i in range(len(perf_nx)):\n",
    "    plt.text(x = (i - 0.55) + bar_width, y = perf_nx[i] + 25, s = round(perf_nx[i], 1), size = 12)\n",
    "\n",
    "for i in range(len(perf_sp)):\n",
    "    plt.text(x = (i - 0.1) + bar_width, y = perf_sp[i] + 25, s = round(perf_sp[i], 1), size = 12)\n",
    "\n",
    "\n",
    "plt.legend()\n",
    "plt.show()"
   ]
  },
  {
   "cell_type": "code",
   "execution_count": null,
   "metadata": {},
   "outputs": [],
   "source": []
  }
 ],
 "metadata": {
  "kernelspec": {
   "display_name": "cugraph_dev",
   "language": "python",
   "name": "cugraph_dev"
  },
  "language_info": {
   "codemirror_mode": {
    "name": "ipython",
    "version": 3
   },
   "file_extension": ".py",
   "mimetype": "text/x-python",
   "name": "python",
   "nbconvert_exporter": "python",
   "pygments_lexer": "ipython3",
   "version": "3.7.3"
  }
 },
 "nbformat": 4,
 "nbformat_minor": 4
}
