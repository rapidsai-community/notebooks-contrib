{
 "cells": [
  {
   "cell_type": "markdown",
   "metadata": {},
   "source": [
    "# Louvain Performance Benchmarking\n",
    "\n",
    "This notebook benchmarks performance improvement of running the Louvain clustering algorithm within cuGraph against NetworkX. The test is run over eight test networks (graphs) and then results plotted.  \n",
    "<p><p>\n",
    "\n",
    "\n",
    "#### Notebook Credits\n",
    "\n",
    "    Original Authors: Bradley Rees\n",
    "    Last Edit: 10/31/2019\n",
    "\n",
    "\n",
    "#### Test Environment\n",
    "\n",
    "    RAPIDS Versions: 0.10.0\n",
    "\n",
    "    Test Hardware:\n",
    "    GV100 32G, CUDA 10,0\n",
    "    Intel(R) Core(TM) CPU i7-7800X @ 3.50GHz\n",
    "    32GB system memory\n",
    "\n",
    "\n",
    "\n",
    "#### Updates\n",
    "- moved loading ploting libraries to front so that dependencies can be checked before running algorithms\n",
    "- added edge values \n",
    "- changed timing to including Graph creation for both cuGraph and NetworkX.  This will better represent end-to-end times\n",
    "\n",
    "\n",
    "\n",
    "#### Dependencies\n",
    "- RAPIDS cuDF and cuGraph version 0.10.0 \n",
    "- NetworkX \n",
    "- Matplotlib \n",
    "- Scipy \n",
    "- data prep script run\n",
    "\n",
    "\n",
    "\n",
    "#### Note: Comparison against published results\n",
    "\n",
    "The cuGraph blog post included performance numbers that were collected over a year ago.  For the test graphs, int32 values are now used.  That improves GPUs performance.  Additionally, the initial benchamrks were measured on a P100 GPU. \n",
    "\n",
    "This test only comparse the modularity scores and a success is if the scores are within 15% of each other.  That comparison is done by adjusting the NetworkX modularity score and then verifying that the cuGraph score is higher.\n",
    "\n",
    "cuGraph did a full validation of NetworkX results against cuGraph results.  That included cross-validation of every cluster.  That test is very slow and not included here"
   ]
  },
  {
   "cell_type": "markdown",
   "metadata": {},
   "source": [
    "## NOTICE: This benchamark can take several hours to run.  \n",
    "A few of the tets graph can take over 4,000 seconds each for NetworkX to complete\n"
   ]
  },
  {
   "cell_type": "code",
   "execution_count": 1,
   "metadata": {},
   "outputs": [],
   "source": [
    "#pip install cylouvain"
   ]
  },
  {
   "cell_type": "code",
   "execution_count": 2,
   "metadata": {},
   "outputs": [],
   "source": [
    "# Import needed libraries\n",
    "import time\n",
    "import cugraph\n",
    "import cudf"
   ]
  },
  {
   "cell_type": "code",
   "execution_count": 3,
   "metadata": {},
   "outputs": [],
   "source": [
    "# NetworkX libraries\n",
    "import community\n",
    "import networkx as nx\n",
    "from scipy.io import mmread"
   ]
  },
  {
   "cell_type": "code",
   "execution_count": 4,
   "metadata": {},
   "outputs": [],
   "source": [
    "# CyLouvain - Cython wrapper to C for performance - See:  https://github.com/ahollocou/cylouvain\n",
    "import cylouvain"
   ]
  },
  {
   "cell_type": "code",
   "execution_count": 5,
   "metadata": {},
   "outputs": [],
   "source": [
    "# Loading plotting libraries\n",
    "import matplotlib.pyplot as plt; plt.rcdefaults()\n",
    "import numpy as np"
   ]
  },
  {
   "cell_type": "markdown",
   "metadata": {},
   "source": [
    "### Define the test data"
   ]
  },
  {
   "cell_type": "code",
   "execution_count": 6,
   "metadata": {},
   "outputs": [],
   "source": [
    "# Test File\n",
    "data = {\n",
    "    'preferentialAttachment' : './data/preferentialAttachment.mtx',\n",
    "    'caidaRouterLevel'       : './data/caidaRouterLevel.mtx',\n",
    "    'coAuthorsDBLP'          : './data/coAuthorsDBLP.mtx',\n",
    "    'dblp'                   : './data/dblp-2010.mtx',\n",
    "    'citationCiteseer'       : './data/citationCiteseer.mtx',\n",
    "    'coPapersDBLP'           : './data/coPapersDBLP.mtx',\n",
    "    'coPapersCiteseer'       : './data/coPapersCiteseer.mtx',\n",
    "    'as-Skitter'             : './data/as-Skitter.mtx'\n",
    "}"
   ]
  },
  {
   "cell_type": "markdown",
   "metadata": {},
   "source": [
    "### Define the testing functions"
   ]
  },
  {
   "cell_type": "code",
   "execution_count": 7,
   "metadata": {},
   "outputs": [],
   "source": [
    "# Data reader - the file format is MTX, so we will use the reader from SciPy\n",
    "def read_mtx_file(mm_file):\n",
    "    print('Reading ' + str(mm_file) + '...')\n",
    "    M = mmread(mm_file).asfptype()\n",
    "     \n",
    "    return M"
   ]
  },
  {
   "cell_type": "code",
   "execution_count": 8,
   "metadata": {},
   "outputs": [],
   "source": [
    "def prep_mtx_data(M) :\n",
    "    nnz_per_row = {r: 0 for r in range(M.get_shape()[0])}\n",
    "    for nnz in range(M.getnnz()):\n",
    "        nnz_per_row[M.row[nnz]] = 1 + nnz_per_row[M.row[nnz]]\n",
    "    for nnz in range(M.getnnz()):\n",
    "        M.data[nnz] = 1.0/float(nnz_per_row[M.row[nnz]])\n",
    "\n",
    "    M = M.tocsr()\n",
    "    if M is None:\n",
    "        raise TypeError('Could not read the input graph')\n",
    "    if M.shape[0] != M.shape[1]:\n",
    "        raise TypeError('Shape is not square')\n",
    "\n",
    "    # should be autosorted, but check just to make sure\n",
    "    if not M.has_sorted_indices:\n",
    "        print('sort_indices ... ')\n",
    "        M.sort_indices()\n",
    "        \n",
    "    return M"
   ]
  },
  {
   "cell_type": "code",
   "execution_count": 9,
   "metadata": {},
   "outputs": [],
   "source": [
    "# Run the cuGraph Louvain analytic (using nvGRAPH function)\n",
    "def cugraph_call(M):\n",
    "\n",
    "    print('\\tcuGraph Solving... ')\n",
    "    \n",
    "    # data\n",
    "    sources = cudf.Series(M.row)\n",
    "    destinations = cudf.Series(M.col)\n",
    "    data = cudf.Series(M.data)\n",
    "  \n",
    "    t1 = time.time()\n",
    "\n",
    "    # create graph \n",
    "    G = cugraph.Graph()\n",
    "    G.add_edge_list(sources, destinations, None)\n",
    "\n",
    "    # cugraph Louvain Call\n",
    "    df, mod = cugraph.louvain(G)   \n",
    "    \n",
    "    t2 = time.time() - t1\n",
    "    \n",
    "    del G\n",
    "    \n",
    "    return t2, mod\n"
   ]
  },
  {
   "cell_type": "code",
   "execution_count": 10,
   "metadata": {},
   "outputs": [],
   "source": [
    "# Run the NetworkX Louvain analytic.  This is done in two parts since the modularity score is not returned \n",
    "def networkx_call(M):\n",
    "    \n",
    "    print('\\tNetworkX Solving... ', end='')\n",
    "\n",
    "    t1 = time.time()\n",
    "\n",
    "    # Directed NetworkX graph\n",
    "    print(' Gs', end='')\n",
    "    Gnx = nx.Graph(M)\n",
    "    print(' e ', end='')\n",
    "\n",
    "    # Networkx \n",
    "    print(' 1s', end='')\n",
    "    parts = community.best_partition(Gnx)\n",
    "    print(' e ', end='')\n",
    "\n",
    "    # Calculating modularity scores for comparison \n",
    "    mod = community.modularity(parts, Gnx)   \n",
    "    \n",
    "    print(' 2s', end='')\n",
    "    t2 = time.time() - t1\n",
    "    print(' e ')\n",
    "    \n",
    "    del Gnx\n",
    "    \n",
    "    return t2, mod"
   ]
  },
  {
   "cell_type": "code",
   "execution_count": 11,
   "metadata": {},
   "outputs": [],
   "source": [
    "# Run the Cy-Louvain analytic.  This is done in two parts since the modularity score is not returned \n",
    "def cylouvain_call(M):\n",
    "     \n",
    "    print('\\tCylouvain Solving... ', end=' ')\n",
    "\n",
    "    t1 = time.time()\n",
    "\n",
    "    # Directed NetworkX graph\n",
    "    Gnx = nx.Graph(M)\n",
    "\n",
    "    # Networkx \n",
    "    print(' 1 ', end='')\n",
    "    parts = cylouvain.best_partition(Gnx)\n",
    "    print(' 2 ', end='')\n",
    "\n",
    "        \n",
    "    # Calculating modularity scores for comparison \n",
    "    print(' 3 ', end='')\n",
    "    mod = cylouvain.modularity(parts, Gnx)   \n",
    "    print(' 4 ')\n",
    "   \n",
    "    t2 = time.time() - t1\n",
    "    \n",
    "    del Gnx\n",
    "    \n",
    "    return t2, mod"
   ]
  },
  {
   "cell_type": "markdown",
   "metadata": {},
   "source": [
    "### Run the benchmarks"
   ]
  },
  {
   "cell_type": "code",
   "execution_count": 12,
   "metadata": {
    "scrolled": true
   },
   "outputs": [
    {
     "name": "stdout",
     "output_type": "stream",
     "text": [
      "Reading ./data/preferentialAttachment.mtx...\n",
      "\tcuGraph Solving... \n",
      "\tNetworkX Solving...  Gs e  1s e  2s e \n",
      "\t\t1795.4017550391795x faster =>  cugraph 0.31 vs 556.437\n",
      "\tCylouvain Solving...   1  2  3  4 \n",
      "\t\t86.92332646621239x faster =>  cugraph 0.31 vs 26.94\n",
      "Reading ./data/caidaRouterLevel.mtx...\n",
      "\tcuGraph Solving... \n",
      "\tNetworkX Solving...  Gs e  1s e  2s e \n",
      "\t\t26892.88842645783x faster =>  cugraph 0.041 vs 1093.821\n",
      "\tCylouvain Solving...   1  2  3  4 \n",
      "\t\t648.1360758751671x faster =>  cugraph 0.041 vs 26.362\n",
      "Reading ./data/coAuthorsDBLP.mtx...\n",
      "\tcuGraph Solving... \n",
      "\tNetworkX Solving...  Gs e  1s e  2s e \n",
      "\t\t7354.454443845678x faster =>  cugraph 0.084 vs 614.968\n",
      "\tCylouvain Solving...   1  2  3  4 \n",
      "\t\t471.16397649413636x faster =>  cugraph 0.084 vs 39.398\n",
      "Reading ./data/dblp-2010.mtx...\n",
      "\tcuGraph Solving... \n",
      "\tNetworkX Solving...  Gs e  1s e  2s e \n",
      "\t\t5043.552869038876x faster =>  cugraph 0.094 vs 473.209\n",
      "\tCylouvain Solving...   1  2  3  4 \n",
      "\t\t301.1379949127002x faster =>  cugraph 0.094 vs 28.254\n",
      "Reading ./data/citationCiteseer.mtx...\n",
      "\tcuGraph Solving... \n",
      "\tCylouvain Solving...   1  2  3  4 \n",
      "\t\t1016.5921634352593x faster =>  cugraph 0.059 vs 60.305\n",
      "Reading ./data/coPapersDBLP.mtx...\n",
      "\tcuGraph Solving... \n",
      "\tCylouvain Solving...   1  2  3  4 \n",
      "\t\t2247.590898249935x faster =>  cugraph 0.196 vs 440.375\n",
      "Reading ./data/coPapersCiteseer.mtx...\n",
      "\tcuGraph Solving... \n",
      "\tCylouvain Solving...   1  2  3  4 \n",
      "\t\t2442.4116982342657x faster =>  cugraph 0.182 vs 444.718\n",
      "Reading ./data/as-Skitter.mtx...\n",
      "\tcuGraph Solving... \n",
      "\tCylouvain Solving...   1  2  3  4 \n",
      "\t\t1628.9178547472015x faster =>  cugraph 0.296 vs 482.862\n"
     ]
    }
   ],
   "source": [
    "# Loop through each test file and compute the speedup\n",
    "perf_nx = []\n",
    "perf_cy = []\n",
    "names = []\n",
    "\n",
    "for k,v in data.items():\n",
    "\n",
    "    names.append(k)\n",
    "    \n",
    "    iot1 = time.time()\n",
    "    M = read_mtx_file(v)\n",
    "    M2 = prep_mtx_data(M)  \n",
    "    iot2 = time.time() - iot1\n",
    "    \n",
    "    tg, modg = cugraph_call(M)\n",
    "    \n",
    "    if len(M.row) < 2000000 :\n",
    "        tn, modx = networkx_call(M2)\n",
    "        speedUp_nx = (tn / tg)\n",
    "        perf_nx.append(speedUp_nx)\n",
    "        print(\"\\t\\t\" + str(speedUp_nx) + \"x faster =>  cugraph \" + str(round(tg, 3)) + \" vs \" + str(round(tn,3)))\n",
    "    else :\n",
    "        perf_nx.append(0)\n",
    "        \n",
    "\n",
    "    tc, modc = cylouvain_call(M2)\n",
    "    \n",
    "    speedUp_cy = (tc / tg)\n",
    "    perf_cy.append(speedUp_cy)       \n",
    "    print(\"\\t\\t\" + str(speedUp_cy) + \"x faster =>  cugraph \" + str(round(tg, 3)) + \" vs \" + str(round(tc,3)))"
   ]
  },
  {
   "cell_type": "markdown",
   "metadata": {},
   "source": [
    "### plot the output"
   ]
  },
  {
   "cell_type": "code",
   "execution_count": 20,
   "metadata": {},
   "outputs": [
    {
     "data": {
      "image/png": "[encoded data removed]",
      "text/plain": [
       "<Figure size 720x576 with 1 Axes>"
      ]
     },
     "metadata": {
      "needs_background": "light"
     },
     "output_type": "display_data"
    }
   ],
   "source": [
    "%matplotlib inline\n",
    "\n",
    "plt.figure(figsize=(10,8))\n",
    "\n",
    "bar_width = 0.35\n",
    "index = np.arange(len(names))\n",
    "\n",
    "_ = plt.bar(index, perf_nx, bar_width, color='g', label='vs Nx')\n",
    "_ = plt.bar(index + bar_width, perf_cy, bar_width, color='b', label='vs Cylouvain')\n",
    "\n",
    "plt.xlabel('Datasets')\n",
    "plt.ylabel('Speedup')\n",
    "plt.title('PageRank Performance Speedup')\n",
    "plt.xticks(index + (bar_width / 2), names)\n",
    "plt.xticks(rotation=90) \n",
    "\n",
    "# Text on the top of each barplot\n",
    "for i in range(len(perf_nx)):\n",
    "    if perf_nx[i] > 0 :\n",
    "        plt.text(x = (i - 0.55) + bar_width, y = perf_nx[i] + 25, s = round(perf_nx[i], 1), size = 12)\n",
    "\n",
    "for i in range(len(perf_cy)):\n",
    "    plt.text(x = (i - 0.1) + bar_width, y = perf_cy[i] + 25, s = round(perf_cy[i], 1), size = 12)\n",
    "\n",
    "\n",
    "plt.legend()\n",
    "plt.show()"
   ]
  },
  {
   "cell_type": "code",
   "execution_count": null,
   "metadata": {},
   "outputs": [],
   "source": []
  },
  {
   "cell_type": "code",
   "execution_count": null,
   "metadata": {},
   "outputs": [],
   "source": []
  },
  {
   "cell_type": "code",
   "execution_count": null,
   "metadata": {},
   "outputs": [],
   "source": []
  }
 ],
 "metadata": {
  "kernelspec": {
   "display_name": "cugraph_dev",
   "language": "python",
   "name": "cugraph_dev"
  },
  "language_info": {
   "codemirror_mode": {
    "name": "ipython",
    "version": 3
   },
   "file_extension": ".py",
   "mimetype": "text/x-python",
   "name": "python",
   "nbconvert_exporter": "python",
   "pygments_lexer": "ipython3",
   "version": "3.7.3"
  }
 },
 "nbformat": 4,
 "nbformat_minor": 4
}
