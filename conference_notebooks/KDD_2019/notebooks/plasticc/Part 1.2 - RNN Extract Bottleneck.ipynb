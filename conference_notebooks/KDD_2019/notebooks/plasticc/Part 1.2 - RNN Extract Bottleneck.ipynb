{
 "cells": [
  {
   "cell_type": "markdown",
   "metadata": {},
   "source": [
    "# Part 1.2 - Extract Predictions for RNN \n",
    "In this notebook, we will load a pre-trained RNN model, run our train and test data through it, and extract the set of bottleneck features from it (the outputs of the layer just before the fully connected / classification layer). These features will be used to represent embedded timeseries features, which we can concatenate with other features to train our final XGBoost classification model. "
   ]
  },
  {
   "cell_type": "code",
   "execution_count": 1,
   "metadata": {},
   "outputs": [],
   "source": [
    "import os\n",
    "GPU_id = 0\n",
    "os.environ['CUDA_VISIBLE_DEVICES'] = str(GPU_id)"
   ]
  },
  {
   "cell_type": "code",
   "execution_count": 2,
   "metadata": {},
   "outputs": [
    {
     "name": "stdout",
     "output_type": "stream",
     "text": [
      "1.11.0\n"
     ]
    }
   ],
   "source": [
    "import warnings\n",
    "warnings.filterwarnings(\"ignore\")\n",
    "import math\n",
    "import pandas as pd\n",
    "import numpy as np\n",
    "import time\n",
    "import tensorflow as tf\n",
    "from rnn import PlasticcRNN\n",
    "import matplotlib.pyplot as plt\n",
    "%matplotlib inline\n",
    "\n",
    "print(tf.__version__)"
   ]
  },
  {
   "cell_type": "markdown",
   "metadata": {},
   "source": [
    "### Load Train & Test Data"
   ]
  },
  {
   "cell_type": "code",
   "execution_count": 3,
   "metadata": {},
   "outputs": [],
   "source": [
    "train = pd.read_pickle('train_rnn.pkl')\n",
    "test = pd.read_pickle('test_rnn.pkl')"
   ]
  },
  {
   "cell_type": "markdown",
   "metadata": {},
   "source": [
    "### Load pre-trained RNN model\n",
    "\n",
    "Set relevant parameters and load the model. You can find the code for this model in `rnn.py` if you'd like to look further into the RNN implementation."
   ]
  },
  {
   "cell_type": "code",
   "execution_count": 4,
   "metadata": {},
   "outputs": [],
   "source": [
    "params = {\n",
    "        'load_path':'weight/rnn.npy',\n",
    "        'hidden':64,\n",
    "        'bottleneck':True,\n",
    "        'classes':14,\n",
    "        'num_features':4,\n",
    "        'embedding_size':4,\n",
    "        'stratified':True,\n",
    "        'objective':'multiclassification',\n",
    "        'metric':'cross_entropy',\n",
    "        'save_path':'weights',      \n",
    "        'epochs':100,\n",
    "        'early_stopping_epochs':10,\n",
    "        'learning_rate':0.01,\n",
    "        'batch_size':2048,\n",
    "        'verbosity':10,\n",
    "    }"
   ]
  },
  {
   "cell_type": "code",
   "execution_count": 5,
   "metadata": {},
   "outputs": [],
   "source": [
    "model = PlasticcRNN(**params)"
   ]
  },
  {
   "cell_type": "markdown",
   "metadata": {},
   "source": [
    "Call `predict_bottleneck` to feed each training example through the RNN and extract the outputs from the layer just before the final classification layer ."
   ]
  },
  {
   "cell_type": "code",
   "execution_count": 6,
   "metadata": {},
   "outputs": [
    {
     "name": "stdout",
     "output_type": "stream",
     "text": [
      "restore RNN/rnn3/bidirectional_rnn/fw/gru_cell/gates/kernel:0\n",
      "restore RNN/rnn3/bidirectional_rnn/fw/gru_cell/gates/bias:0\n",
      "restore RNN/rnn3/bidirectional_rnn/fw/gru_cell/candidate/kernel:0\n",
      "restore RNN/rnn3/bidirectional_rnn/fw/gru_cell/candidate/bias:0\n",
      "restore RNN/rnn3/bidirectional_rnn/bw/gru_cell/gates/kernel:0\n",
      "restore RNN/rnn3/bidirectional_rnn/bw/gru_cell/gates/bias:0\n",
      "restore RNN/rnn3/bidirectional_rnn/bw/gru_cell/candidate/kernel:0\n",
      "restore RNN/rnn3/bidirectional_rnn/bw/gru_cell/candidate/bias:0\n",
      "restore RNN/rnn5/bidirectional_rnn/fw/output_projection_wrapper/gru_cell/gates/kernel:0\n",
      "restore RNN/rnn5/bidirectional_rnn/fw/output_projection_wrapper/gru_cell/gates/bias:0\n",
      "restore RNN/rnn5/bidirectional_rnn/fw/output_projection_wrapper/gru_cell/candidate/kernel:0\n",
      "restore RNN/rnn5/bidirectional_rnn/fw/output_projection_wrapper/gru_cell/candidate/bias:0\n",
      "restore RNN/rnn5/bidirectional_rnn/fw/output_projection_wrapper/kernel:0\n",
      "restore RNN/rnn5/bidirectional_rnn/fw/output_projection_wrapper/bias:0\n",
      "restore RNN/rnn5/bidirectional_rnn/bw/output_projection_wrapper/gru_cell/gates/kernel:0\n",
      "restore RNN/rnn5/bidirectional_rnn/bw/output_projection_wrapper/gru_cell/gates/bias:0\n",
      "restore RNN/rnn5/bidirectional_rnn/bw/output_projection_wrapper/gru_cell/candidate/kernel:0\n",
      "restore RNN/rnn5/bidirectional_rnn/bw/output_projection_wrapper/gru_cell/candidate/bias:0\n",
      "restore RNN/rnn5/bidirectional_rnn/bw/output_projection_wrapper/kernel:0\n",
      "restore RNN/rnn5/bidirectional_rnn/bw/output_projection_wrapper/bias:0\n",
      "restore RNN/rnn4/bidirectional_rnn/fw/gru_cell/gates/kernel:0\n",
      "restore RNN/rnn4/bidirectional_rnn/fw/gru_cell/gates/bias:0\n",
      "restore RNN/rnn4/bidirectional_rnn/fw/gru_cell/candidate/kernel:0\n",
      "restore RNN/rnn4/bidirectional_rnn/fw/gru_cell/candidate/bias:0\n",
      "restore RNN/rnn4/bidirectional_rnn/bw/gru_cell/gates/kernel:0\n",
      "restore RNN/rnn4/bidirectional_rnn/bw/gru_cell/gates/bias:0\n",
      "restore RNN/rnn4/bidirectional_rnn/bw/gru_cell/candidate/kernel:0\n"
     ]
    },
    {
     "name": "stderr",
     "output_type": "stream",
     "text": [
      "  0%|          | 0/3 [00:00<?, ?it/s]"
     ]
    },
    {
     "name": "stdout",
     "output_type": "stream",
     "text": [
      "restore RNN/rnn4/bidirectional_rnn/bw/gru_cell/candidate/bias:0\n"
     ]
    },
    {
     "name": "stderr",
     "output_type": "stream",
     "text": [
      "4it [00:08,  2.22s/it]                       \n"
     ]
    }
   ],
   "source": [
    "train_bn = model.predict_bottleneck(train)"
   ]
  },
  {
   "cell_type": "markdown",
   "metadata": {},
   "source": [
    "Call `predict_bottleneck` to do the same with the testing data. This can take a little time, so it might be worthwhile to move onto the next nextbook and return to this once it's complete. "
   ]
  },
  {
   "cell_type": "code",
   "execution_count": 8,
   "metadata": {},
   "outputs": [
    {
     "name": "stdout",
     "output_type": "stream",
     "text": [
      "restore RNN/rnn3/bidirectional_rnn/fw/gru_cell/gates/kernel:0\n",
      "restore RNN/rnn3/bidirectional_rnn/fw/gru_cell/gates/bias:0\n",
      "restore RNN/rnn3/bidirectional_rnn/fw/gru_cell/candidate/kernel:0\n",
      "restore RNN/rnn3/bidirectional_rnn/fw/gru_cell/candidate/bias:0\n",
      "restore RNN/rnn3/bidirectional_rnn/bw/gru_cell/gates/kernel:0\n",
      "restore RNN/rnn3/bidirectional_rnn/bw/gru_cell/gates/bias:0\n",
      "restore RNN/rnn3/bidirectional_rnn/bw/gru_cell/candidate/kernel:0\n",
      "restore RNN/rnn3/bidirectional_rnn/bw/gru_cell/candidate/bias:0\n",
      "restore RNN/rnn5/bidirectional_rnn/fw/output_projection_wrapper/gru_cell/gates/kernel:0\n",
      "restore RNN/rnn5/bidirectional_rnn/fw/output_projection_wrapper/gru_cell/gates/bias:0\n",
      "restore RNN/rnn5/bidirectional_rnn/fw/output_projection_wrapper/gru_cell/candidate/kernel:0\n",
      "restore RNN/rnn5/bidirectional_rnn/fw/output_projection_wrapper/gru_cell/candidate/bias:0\n",
      "restore RNN/rnn5/bidirectional_rnn/fw/output_projection_wrapper/kernel:0\n",
      "restore RNN/rnn5/bidirectional_rnn/fw/output_projection_wrapper/bias:0\n",
      "restore RNN/rnn5/bidirectional_rnn/bw/output_projection_wrapper/gru_cell/gates/kernel:0\n",
      "restore RNN/rnn5/bidirectional_rnn/bw/output_projection_wrapper/gru_cell/gates/bias:0\n",
      "restore RNN/rnn5/bidirectional_rnn/bw/output_projection_wrapper/gru_cell/candidate/kernel:0\n",
      "restore RNN/rnn5/bidirectional_rnn/bw/output_projection_wrapper/gru_cell/candidate/bias:0\n",
      "restore RNN/rnn5/bidirectional_rnn/bw/output_projection_wrapper/kernel:0\n",
      "restore RNN/rnn5/bidirectional_rnn/bw/output_projection_wrapper/bias:0\n",
      "restore RNN/rnn4/bidirectional_rnn/fw/gru_cell/gates/kernel:0\n",
      "restore RNN/rnn4/bidirectional_rnn/fw/gru_cell/gates/bias:0\n",
      "restore RNN/rnn4/bidirectional_rnn/fw/gru_cell/candidate/kernel:0\n",
      "restore RNN/rnn4/bidirectional_rnn/fw/gru_cell/candidate/bias:0\n",
      "restore RNN/rnn4/bidirectional_rnn/bw/gru_cell/gates/kernel:0\n",
      "restore RNN/rnn4/bidirectional_rnn/bw/gru_cell/gates/bias:0\n",
      "restore RNN/rnn4/bidirectional_rnn/bw/gru_cell/candidate/kernel:0\n",
      "restore RNN/rnn4/bidirectional_rnn/bw/gru_cell/candidate/bias:0\n"
     ]
    },
    {
     "name": "stderr",
     "output_type": "stream",
     "text": [
      "722it [16:30,  1.08s/it]                         \n"
     ]
    }
   ],
   "source": [
    "test_bn = model.predict_bottleneck(test)"
   ]
  },
  {
   "cell_type": "markdown",
   "metadata": {},
   "source": [
    "Let's verify that we have embedded each of our timeseries into 16-dimensional space. "
   ]
  },
  {
   "cell_type": "code",
   "execution_count": 9,
   "metadata": {},
   "outputs": [
    {
     "name": "stdout",
     "output_type": "stream",
     "text": [
      "(7848, 16)\n",
      "(1477022, 16)\n"
     ]
    }
   ],
   "source": [
    "print(train_bn.shape)\n",
    "print(test_bn.shape)"
   ]
  },
  {
   "cell_type": "markdown",
   "metadata": {},
   "source": [
    "### Convert Bottleneck Features to DataFrames"
   ]
  },
  {
   "cell_type": "code",
   "execution_count": 19,
   "metadata": {},
   "outputs": [],
   "source": [
    "train_bn = pd.DataFrame(train_bn,columns=['bottleneck%d'%i for i in range(train_bn.shape[1])])\n",
    "train_bn['object_id'] = train.object_id.unique()"
   ]
  },
  {
   "cell_type": "code",
   "execution_count": 13,
   "metadata": {},
   "outputs": [
    {
     "data": {
      "text/html": [
       "<div>\n",
       "<style scoped>\n",
       "    .dataframe tbody tr th:only-of-type {\n",
       "        vertical-align: middle;\n",
       "    }\n",
       "\n",
       "    .dataframe tbody tr th {\n",
       "        vertical-align: top;\n",
       "    }\n",
       "\n",
       "    .dataframe thead th {\n",
       "        text-align: right;\n",
       "    }\n",
       "</style>\n",
       "<table border=\"1\" class=\"dataframe\">\n",
       "  <thead>\n",
       "    <tr style=\"text-align: right;\">\n",
       "      <th></th>\n",
       "      <th>bottleneck0</th>\n",
       "      <th>bottleneck1</th>\n",
       "      <th>bottleneck2</th>\n",
       "      <th>bottleneck3</th>\n",
       "      <th>bottleneck4</th>\n",
       "      <th>bottleneck5</th>\n",
       "      <th>bottleneck6</th>\n",
       "      <th>bottleneck7</th>\n",
       "      <th>bottleneck8</th>\n",
       "      <th>bottleneck9</th>\n",
       "      <th>bottleneck10</th>\n",
       "      <th>bottleneck11</th>\n",
       "      <th>bottleneck12</th>\n",
       "      <th>bottleneck13</th>\n",
       "      <th>bottleneck14</th>\n",
       "      <th>bottleneck15</th>\n",
       "      <th>bottleneck16</th>\n",
       "      <th>object_id</th>\n",
       "    </tr>\n",
       "  </thead>\n",
       "  <tbody>\n",
       "    <tr>\n",
       "      <th>0</th>\n",
       "      <td>39.732151</td>\n",
       "      <td>0.481644</td>\n",
       "      <td>9.545370</td>\n",
       "      <td>0.620394</td>\n",
       "      <td>0.356216</td>\n",
       "      <td>36.236847</td>\n",
       "      <td>0.001318</td>\n",
       "      <td>0.045979</td>\n",
       "      <td>0.075107</td>\n",
       "      <td>7.429893</td>\n",
       "      <td>0.131433</td>\n",
       "      <td>0.000731</td>\n",
       "      <td>0.459892</td>\n",
       "      <td>56.466637</td>\n",
       "      <td>0.147015</td>\n",
       "      <td>20.742081</td>\n",
       "      <td>NaN</td>\n",
       "      <td>615</td>\n",
       "    </tr>\n",
       "    <tr>\n",
       "      <th>1</th>\n",
       "      <td>2.141679</td>\n",
       "      <td>6.474417</td>\n",
       "      <td>8.759014</td>\n",
       "      <td>0.114259</td>\n",
       "      <td>2.240714</td>\n",
       "      <td>9.736774</td>\n",
       "      <td>7.122031</td>\n",
       "      <td>10.171884</td>\n",
       "      <td>3.942687</td>\n",
       "      <td>1.042940</td>\n",
       "      <td>1.473609</td>\n",
       "      <td>0.025091</td>\n",
       "      <td>6.322166</td>\n",
       "      <td>1.655637</td>\n",
       "      <td>3.261946</td>\n",
       "      <td>18.709688</td>\n",
       "      <td>NaN</td>\n",
       "      <td>713</td>\n",
       "    </tr>\n",
       "    <tr>\n",
       "      <th>2</th>\n",
       "      <td>1.139722</td>\n",
       "      <td>28.513437</td>\n",
       "      <td>0.475543</td>\n",
       "      <td>0.954774</td>\n",
       "      <td>9.411217</td>\n",
       "      <td>1.062097</td>\n",
       "      <td>18.426241</td>\n",
       "      <td>2.884042</td>\n",
       "      <td>2.424168</td>\n",
       "      <td>1.874315</td>\n",
       "      <td>0.666815</td>\n",
       "      <td>10.709197</td>\n",
       "      <td>5.510744</td>\n",
       "      <td>0.388814</td>\n",
       "      <td>8.288029</td>\n",
       "      <td>2.827859</td>\n",
       "      <td>NaN</td>\n",
       "      <td>730</td>\n",
       "    </tr>\n",
       "    <tr>\n",
       "      <th>3</th>\n",
       "      <td>13.054775</td>\n",
       "      <td>24.500601</td>\n",
       "      <td>3.417211</td>\n",
       "      <td>2.564081</td>\n",
       "      <td>0.949257</td>\n",
       "      <td>1.549924</td>\n",
       "      <td>21.927143</td>\n",
       "      <td>6.542567</td>\n",
       "      <td>6.207689</td>\n",
       "      <td>4.959152</td>\n",
       "      <td>2.384895</td>\n",
       "      <td>2.566335</td>\n",
       "      <td>9.735003</td>\n",
       "      <td>0.954085</td>\n",
       "      <td>17.784241</td>\n",
       "      <td>3.097171</td>\n",
       "      <td>NaN</td>\n",
       "      <td>745</td>\n",
       "    </tr>\n",
       "    <tr>\n",
       "      <th>4</th>\n",
       "      <td>2.804560</td>\n",
       "      <td>22.519880</td>\n",
       "      <td>5.931810</td>\n",
       "      <td>2.715422</td>\n",
       "      <td>2.990606</td>\n",
       "      <td>2.720281</td>\n",
       "      <td>20.145365</td>\n",
       "      <td>4.909352</td>\n",
       "      <td>5.238781</td>\n",
       "      <td>2.418495</td>\n",
       "      <td>0.306975</td>\n",
       "      <td>3.099148</td>\n",
       "      <td>7.483629</td>\n",
       "      <td>0.263368</td>\n",
       "      <td>8.544585</td>\n",
       "      <td>1.836024</td>\n",
       "      <td>NaN</td>\n",
       "      <td>1124</td>\n",
       "    </tr>\n",
       "  </tbody>\n",
       "</table>\n",
       "</div>"
      ],
      "text/plain": [
       "   bottleneck0  bottleneck1  bottleneck2  bottleneck3  bottleneck4  \\\n",
       "0    39.732151     0.481644     9.545370     0.620394     0.356216   \n",
       "1     2.141679     6.474417     8.759014     0.114259     2.240714   \n",
       "2     1.139722    28.513437     0.475543     0.954774     9.411217   \n",
       "3    13.054775    24.500601     3.417211     2.564081     0.949257   \n",
       "4     2.804560    22.519880     5.931810     2.715422     2.990606   \n",
       "\n",
       "   bottleneck5  bottleneck6  bottleneck7  bottleneck8  bottleneck9  \\\n",
       "0    36.236847     0.001318     0.045979     0.075107     7.429893   \n",
       "1     9.736774     7.122031    10.171884     3.942687     1.042940   \n",
       "2     1.062097    18.426241     2.884042     2.424168     1.874315   \n",
       "3     1.549924    21.927143     6.542567     6.207689     4.959152   \n",
       "4     2.720281    20.145365     4.909352     5.238781     2.418495   \n",
       "\n",
       "   bottleneck10  bottleneck11  bottleneck12  bottleneck13  bottleneck14  \\\n",
       "0      0.131433      0.000731      0.459892     56.466637      0.147015   \n",
       "1      1.473609      0.025091      6.322166      1.655637      3.261946   \n",
       "2      0.666815     10.709197      5.510744      0.388814      8.288029   \n",
       "3      2.384895      2.566335      9.735003      0.954085     17.784241   \n",
       "4      0.306975      3.099148      7.483629      0.263368      8.544585   \n",
       "\n",
       "   bottleneck15  bottleneck16  object_id  \n",
       "0     20.742081           NaN        615  \n",
       "1     18.709688           NaN        713  \n",
       "2      2.827859           NaN        730  \n",
       "3      3.097171           NaN        745  \n",
       "4      1.836024           NaN       1124  "
      ]
     },
     "execution_count": 13,
     "metadata": {},
     "output_type": "execute_result"
    }
   ],
   "source": [
    "train_bn.head()"
   ]
  },
  {
   "cell_type": "code",
   "execution_count": 14,
   "metadata": {},
   "outputs": [],
   "source": [
    "test_bn = pd.DataFrame(test_bn,columns=['bottleneck%d'%i for i in range(test_bn.shape[1])])\n",
    "test_bn['object_id'] = test.object_id.unique()"
   ]
  },
  {
   "cell_type": "code",
   "execution_count": 15,
   "metadata": {},
   "outputs": [
    {
     "data": {
      "text/html": [
       "<div>\n",
       "<style scoped>\n",
       "    .dataframe tbody tr th:only-of-type {\n",
       "        vertical-align: middle;\n",
       "    }\n",
       "\n",
       "    .dataframe tbody tr th {\n",
       "        vertical-align: top;\n",
       "    }\n",
       "\n",
       "    .dataframe thead th {\n",
       "        text-align: right;\n",
       "    }\n",
       "</style>\n",
       "<table border=\"1\" class=\"dataframe\">\n",
       "  <thead>\n",
       "    <tr style=\"text-align: right;\">\n",
       "      <th></th>\n",
       "      <th>bottleneck0</th>\n",
       "      <th>bottleneck1</th>\n",
       "      <th>bottleneck2</th>\n",
       "      <th>bottleneck3</th>\n",
       "      <th>bottleneck4</th>\n",
       "      <th>bottleneck5</th>\n",
       "      <th>bottleneck6</th>\n",
       "      <th>bottleneck7</th>\n",
       "      <th>bottleneck8</th>\n",
       "      <th>bottleneck9</th>\n",
       "      <th>bottleneck10</th>\n",
       "      <th>bottleneck11</th>\n",
       "      <th>bottleneck12</th>\n",
       "      <th>bottleneck13</th>\n",
       "      <th>bottleneck14</th>\n",
       "      <th>bottleneck15</th>\n",
       "      <th>object_id</th>\n",
       "    </tr>\n",
       "  </thead>\n",
       "  <tbody>\n",
       "    <tr>\n",
       "      <th>0</th>\n",
       "      <td>0.951065</td>\n",
       "      <td>0.251944</td>\n",
       "      <td>3.318631</td>\n",
       "      <td>0.000736</td>\n",
       "      <td>2.441335</td>\n",
       "      <td>2.927944</td>\n",
       "      <td>1.147541</td>\n",
       "      <td>4.429285</td>\n",
       "      <td>3.313077</td>\n",
       "      <td>0.003929</td>\n",
       "      <td>1.196650</td>\n",
       "      <td>0.306425</td>\n",
       "      <td>1.503735</td>\n",
       "      <td>0.039145</td>\n",
       "      <td>0.131615</td>\n",
       "      <td>0.641173</td>\n",
       "      <td>49433749</td>\n",
       "    </tr>\n",
       "    <tr>\n",
       "      <th>1</th>\n",
       "      <td>10.752063</td>\n",
       "      <td>2.291001</td>\n",
       "      <td>3.327534</td>\n",
       "      <td>1.669377</td>\n",
       "      <td>1.118063</td>\n",
       "      <td>1.246555</td>\n",
       "      <td>3.303480</td>\n",
       "      <td>7.597233</td>\n",
       "      <td>10.859297</td>\n",
       "      <td>0.491332</td>\n",
       "      <td>6.444759</td>\n",
       "      <td>3.714056</td>\n",
       "      <td>2.977883</td>\n",
       "      <td>0.727499</td>\n",
       "      <td>8.415609</td>\n",
       "      <td>5.365536</td>\n",
       "      <td>49433769</td>\n",
       "    </tr>\n",
       "    <tr>\n",
       "      <th>2</th>\n",
       "      <td>0.783580</td>\n",
       "      <td>7.849600</td>\n",
       "      <td>0.511415</td>\n",
       "      <td>2.363375</td>\n",
       "      <td>3.164018</td>\n",
       "      <td>1.021770</td>\n",
       "      <td>7.064287</td>\n",
       "      <td>3.281813</td>\n",
       "      <td>5.019171</td>\n",
       "      <td>1.784291</td>\n",
       "      <td>4.517396</td>\n",
       "      <td>2.340689</td>\n",
       "      <td>1.919580</td>\n",
       "      <td>0.080436</td>\n",
       "      <td>5.031866</td>\n",
       "      <td>4.927161</td>\n",
       "      <td>49433826</td>\n",
       "    </tr>\n",
       "    <tr>\n",
       "      <th>3</th>\n",
       "      <td>5.999391</td>\n",
       "      <td>4.163189</td>\n",
       "      <td>2.212541</td>\n",
       "      <td>0.434298</td>\n",
       "      <td>1.154951</td>\n",
       "      <td>4.638716</td>\n",
       "      <td>7.524286</td>\n",
       "      <td>6.470578</td>\n",
       "      <td>6.138537</td>\n",
       "      <td>1.092754</td>\n",
       "      <td>4.615686</td>\n",
       "      <td>5.806997</td>\n",
       "      <td>3.477196</td>\n",
       "      <td>0.701255</td>\n",
       "      <td>8.968193</td>\n",
       "      <td>10.473463</td>\n",
       "      <td>49433842</td>\n",
       "    </tr>\n",
       "    <tr>\n",
       "      <th>4</th>\n",
       "      <td>2.767841</td>\n",
       "      <td>8.570056</td>\n",
       "      <td>2.039268</td>\n",
       "      <td>0.764214</td>\n",
       "      <td>0.918890</td>\n",
       "      <td>2.032314</td>\n",
       "      <td>1.962744</td>\n",
       "      <td>1.229086</td>\n",
       "      <td>11.210052</td>\n",
       "      <td>3.119526</td>\n",
       "      <td>1.505225</td>\n",
       "      <td>8.089894</td>\n",
       "      <td>3.605137</td>\n",
       "      <td>4.458409</td>\n",
       "      <td>10.702964</td>\n",
       "      <td>5.939608</td>\n",
       "      <td>49433919</td>\n",
       "    </tr>\n",
       "  </tbody>\n",
       "</table>\n",
       "</div>"
      ],
      "text/plain": [
       "   bottleneck0  bottleneck1  bottleneck2  bottleneck3  bottleneck4  \\\n",
       "0     0.951065     0.251944     3.318631     0.000736     2.441335   \n",
       "1    10.752063     2.291001     3.327534     1.669377     1.118063   \n",
       "2     0.783580     7.849600     0.511415     2.363375     3.164018   \n",
       "3     5.999391     4.163189     2.212541     0.434298     1.154951   \n",
       "4     2.767841     8.570056     2.039268     0.764214     0.918890   \n",
       "\n",
       "   bottleneck5  bottleneck6  bottleneck7  bottleneck8  bottleneck9  \\\n",
       "0     2.927944     1.147541     4.429285     3.313077     0.003929   \n",
       "1     1.246555     3.303480     7.597233    10.859297     0.491332   \n",
       "2     1.021770     7.064287     3.281813     5.019171     1.784291   \n",
       "3     4.638716     7.524286     6.470578     6.138537     1.092754   \n",
       "4     2.032314     1.962744     1.229086    11.210052     3.119526   \n",
       "\n",
       "   bottleneck10  bottleneck11  bottleneck12  bottleneck13  bottleneck14  \\\n",
       "0      1.196650      0.306425      1.503735      0.039145      0.131615   \n",
       "1      6.444759      3.714056      2.977883      0.727499      8.415609   \n",
       "2      4.517396      2.340689      1.919580      0.080436      5.031866   \n",
       "3      4.615686      5.806997      3.477196      0.701255      8.968193   \n",
       "4      1.505225      8.089894      3.605137      4.458409     10.702964   \n",
       "\n",
       "   bottleneck15  object_id  \n",
       "0      0.641173   49433749  \n",
       "1      5.365536   49433769  \n",
       "2      4.927161   49433826  \n",
       "3     10.473463   49433842  \n",
       "4      5.939608   49433919  "
      ]
     },
     "execution_count": 15,
     "metadata": {},
     "output_type": "execute_result"
    }
   ],
   "source": [
    "test_bn.head()"
   ]
  },
  {
   "cell_type": "markdown",
   "metadata": {},
   "source": [
    "### Store Features to Disk"
   ]
  },
  {
   "cell_type": "code",
   "execution_count": 17,
   "metadata": {},
   "outputs": [],
   "source": [
    "train_bn.to_pickle('train_bn.pkl')\n",
    "test_bn.to_pickle('test_bn.pkl')"
   ]
  },
  {
   "cell_type": "code",
   "execution_count": null,
   "metadata": {},
   "outputs": [],
   "source": []
  }
 ],
 "metadata": {
  "kernelspec": {
   "display_name": "cuml4",
   "language": "python",
   "name": "python3"
  },
  "language_info": {
   "codemirror_mode": {
    "name": "ipython",
    "version": 3
   },
   "file_extension": ".py",
   "mimetype": "text/x-python",
   "name": "python",
   "nbconvert_exporter": "python",
   "pygments_lexer": "ipython3",
   "version": "3.6.8"
  }
 },
 "nbformat": 4,
 "nbformat_minor": 4
}
