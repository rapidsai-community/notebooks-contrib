{
 "cells": [
  {
   "cell_type": "markdown",
   "metadata": {},
   "source": [
    "# Part 2.1 - Feature Engineering for XGBoost Model"
   ]
  },
  {
   "cell_type": "markdown",
   "metadata": {},
   "source": [
    "A great, and comprehensive, description of the dataset we will be using can be found [here](https://www.kaggle.com/c/PLAsTiCC-2018/data). \n",
    "\n",
    "#### The columns in the training set contain the following fields:\n",
    "- **object_id** [int32]: Unique id that can be used to reference the metadata.\n",
    "- **mjd** [float64]: the time in Modified Julian Date (MJD) of the observation.\n",
    "- **passband** [int8]: The specific LSST passband integer, such that u, g, r, i, z, Y = 0, 1, 2, 3, 4, 5 in which it was viewed.\n",
    "- **flux** [float32]: the measured flux (brightness) in the passband of observation as listed in the passband column.\n",
    "- **flux_err** [float32]: the uncertainty on the measurement of the flux listed above.\n",
    "- **detected** [boolean]: If 1, the object's brightness is significantly different at the 3-sigma level relative to the reference template. Only objects with at least 2 detections are included in the dataset."
   ]
  },
  {
   "cell_type": "markdown",
   "metadata": {},
   "source": [
    "The first thing we can do is pin our GPU-based computations to a specific GPU. The `GPU_id` can be changed in order to use a different GPU. The instance in this tutorial uses 2x P40 GPUs, so you should be able to set `GPU_id` to `0` or `1`"
   ]
  },
  {
   "cell_type": "code",
   "execution_count": 1,
   "metadata": {},
   "outputs": [],
   "source": [
    "import os\n",
    "GPU_id = 1\n",
    "os.environ['CUDA_VISIBLE_DEVICES'] = str(GPU_id)"
   ]
  },
  {
   "cell_type": "code",
   "execution_count": 2,
   "metadata": {},
   "outputs": [],
   "source": [
    "import cudf as gd\n",
    "import pandas as pd\n",
    "import numpy as np\n",
    "import math\n",
    "import seaborn as sns\n",
    "from termcolor import colored\n",
    "from cudf_workaround import cudf_groupby_aggs\n",
    "import matplotlib.pyplot as plt\n",
    "import warnings\n",
    "\n",
    "from utils import scatter, groupby_aggs"
   ]
  },
  {
   "cell_type": "code",
   "execution_count": 3,
   "metadata": {},
   "outputs": [
    {
     "name": "stdout",
     "output_type": "stream",
     "text": [
      "0.9.0a+1267.gd69c846.dirty\n"
     ]
    }
   ],
   "source": [
    "warnings.filterwarnings(\"ignore\")\n",
    "sns.set()\n",
    "print(gd.__version__)"
   ]
  },
  {
   "cell_type": "markdown",
   "metadata": {},
   "source": [
    "<a id=\"global\"></a>\n",
    "## Global variables "
   ]
  },
  {
   "cell_type": "markdown",
   "metadata": {},
   "source": [
    "Here's the path to the dataset. *This is on a shared drive*"
   ]
  },
  {
   "cell_type": "code",
   "execution_count": 4,
   "metadata": {},
   "outputs": [],
   "source": [
    "PATH = '/home/cjnolet/workspace/notebooks-extended/competition_notebooks/kaggle/plasticc/data'"
   ]
  },
  {
   "cell_type": "markdown",
   "metadata": {},
   "source": [
    "We will be using Nvidia P40 cards for this tutorial, which have 24gb of memory. Our test set contains the most data, with over 19gb. In order to fit this on a single device, we will be subsampling from out test set. "
   ]
  },
  {
   "cell_type": "code",
   "execution_count": 5,
   "metadata": {},
   "outputs": [],
   "source": [
    "GPU_MEMORY = 16 # GB."
   ]
  },
  {
   "cell_type": "code",
   "execution_count": 6,
   "metadata": {},
   "outputs": [],
   "source": [
    "TEST_ROWS = 453653104 # number of rows in test data\n",
    "# no skip if your gpu has 32 GB memory\n",
    "# otherwise, skip rows porportionally\n",
    "OVERHEAD = 1.2 # cudf 0.7 introduces 20% memory overhead comparing to cudf 0.4\n",
    "SKIP_ROWS = int((1 - GPU_MEMORY/(GPU_MEMORY*OVERHEAD))*TEST_ROWS) \n",
    "GPU_RUN_TIME = {}"
   ]
  },
  {
   "cell_type": "markdown",
   "metadata": {},
   "source": [
    "<a id=\"etl\"></a>\n",
    "## ETL & Visualizations"
   ]
  },
  {
   "cell_type": "markdown",
   "metadata": {},
   "source": [
    "### Load data for ETL part 1\n",
    "**GPU load data**\n",
    "\n",
    "The first thing we will need to do is load the CSV files for our training and test datasets into cuDF DataFrames.\n",
    "\n",
    "You can do this using the `read_csv` on the cuDF API.\n",
    "\n",
    "Below is the function header for the `read_csv` function. See if you can load the CSV files for the training and testing datasets into\n",
    "variables named `train_dg` and `test_gd`.\n",
    "\n",
    "```\n",
    "gd.read_csv(filepath_or_buffer, names=None, dtype=None, skiprows=None)\n",
    "```"
   ]
  },
  {
   "cell_type": "code",
   "execution_count": 7,
   "metadata": {},
   "outputs": [],
   "source": [
    "def load_train_test_csv(path):\n",
    "    \"\"\"\n",
    "    Loads the CSV files for the test & train datasets into cuDFs\n",
    "    \"\"\"\n",
    "    \n",
    "    ts_cols = ['object_id', 'mjd', 'passband', 'flux', 'flux_err', 'detected']\n",
    "    ts_dtypes = ['int32', 'float32', 'int32', 'float32','float32','int32']\n",
    "    \n",
    "    train_gd = gd.read_csv('%s/training_set.csv'%PATH, names=ts_cols,dtype=ts_dtypes,skiprows=1)\n",
    "    test_gd = gd.read_csv('%s/test_set.csv'%PATH, names=ts_cols,dtype=ts_dtypes,skiprows=1+SKIP_ROWS)\n",
    "    \n",
    "    return train_gd, test_gd"
   ]
  },
  {
   "cell_type": "code",
   "execution_count": 8,
   "metadata": {},
   "outputs": [],
   "source": [
    "train_gd, test_gd = load_train_test_csv(PATH)"
   ]
  },
  {
   "cell_type": "markdown",
   "metadata": {},
   "source": [
    "Let's look at the contents of the first row"
   ]
  },
  {
   "cell_type": "code",
   "execution_count": 9,
   "metadata": {},
   "outputs": [
    {
     "data": {
      "text/html": [
       "<div>\n",
       "<style scoped>\n",
       "    .dataframe tbody tr th:only-of-type {\n",
       "        vertical-align: middle;\n",
       "    }\n",
       "\n",
       "    .dataframe tbody tr th {\n",
       "        vertical-align: top;\n",
       "    }\n",
       "\n",
       "    .dataframe thead th {\n",
       "        text-align: right;\n",
       "    }\n",
       "</style>\n",
       "<table border=\"1\" class=\"dataframe\">\n",
       "  <thead>\n",
       "    <tr style=\"text-align: right;\">\n",
       "      <th></th>\n",
       "      <th>object_id</th>\n",
       "      <th>mjd</th>\n",
       "      <th>passband</th>\n",
       "      <th>flux</th>\n",
       "      <th>flux_err</th>\n",
       "      <th>detected</th>\n",
       "    </tr>\n",
       "  </thead>\n",
       "  <tbody>\n",
       "    <tr>\n",
       "      <th>0</th>\n",
       "      <td>615</td>\n",
       "      <td>59750.421875</td>\n",
       "      <td>2</td>\n",
       "      <td>-544.810303</td>\n",
       "      <td>3.622952</td>\n",
       "      <td>1</td>\n",
       "    </tr>\n",
       "    <tr>\n",
       "      <th>1</th>\n",
       "      <td>615</td>\n",
       "      <td>59750.429688</td>\n",
       "      <td>1</td>\n",
       "      <td>-816.434387</td>\n",
       "      <td>5.553370</td>\n",
       "      <td>1</td>\n",
       "    </tr>\n",
       "    <tr>\n",
       "      <th>2</th>\n",
       "      <td>615</td>\n",
       "      <td>59750.437500</td>\n",
       "      <td>3</td>\n",
       "      <td>-471.385498</td>\n",
       "      <td>3.801213</td>\n",
       "      <td>1</td>\n",
       "    </tr>\n",
       "    <tr>\n",
       "      <th>3</th>\n",
       "      <td>615</td>\n",
       "      <td>59750.441406</td>\n",
       "      <td>4</td>\n",
       "      <td>-388.984955</td>\n",
       "      <td>11.395031</td>\n",
       "      <td>1</td>\n",
       "    </tr>\n",
       "    <tr>\n",
       "      <th>4</th>\n",
       "      <td>615</td>\n",
       "      <td>59752.406250</td>\n",
       "      <td>2</td>\n",
       "      <td>-681.858826</td>\n",
       "      <td>4.041203</td>\n",
       "      <td>1</td>\n",
       "    </tr>\n",
       "  </tbody>\n",
       "</table>\n",
       "</div>"
      ],
      "text/plain": [
       "   object_id           mjd  passband        flux   flux_err  detected\n",
       "0        615  59750.421875         2 -544.810303   3.622952         1\n",
       "1        615  59750.429688         1 -816.434387   5.553370         1\n",
       "2        615  59750.437500         3 -471.385498   3.801213         1\n",
       "3        615  59750.441406         4 -388.984955  11.395031         1\n",
       "4        615  59752.406250         2 -681.858826   4.041203         1"
      ]
     },
     "execution_count": 9,
     "metadata": {},
     "output_type": "execute_result"
    }
   ],
   "source": [
    "train_gd.head().to_pandas()"
   ]
  },
  {
   "cell_type": "markdown",
   "metadata": {},
   "source": [
    "### Visualizations\n",
    "\n",
    "Let's visualize the flux for different passbands at different times for a few different objects in our data set."
   ]
  },
  {
   "cell_type": "code",
   "execution_count": 10,
   "metadata": {},
   "outputs": [
    {
     "data": {
      "image/png": "[encoded data removed]",
      "text/plain": [
       "<Figure size 432x288 with 1 Axes>"
      ]
     },
     "metadata": {},
     "output_type": "display_data"
    },
    {
     "data": {
      "image/png": "[encoded data removed]",
      "text/plain": [
       "<Figure size 432x288 with 1 Axes>"
      ]
     },
     "metadata": {},
     "output_type": "display_data"
    },
    {
     "data": {
      "image/png": "[encoded data removed]",
      "text/plain": [
       "<Figure size 432x288 with 1 Axes>"
      ]
     },
     "metadata": {},
     "output_type": "display_data"
    }
   ],
   "source": [
    "n_objects = 3\n",
    "\n",
    "for idx, oid in zip(range(n_objects), train_gd.object_id.unique()[:n_objects]):\n",
    "    train = train_gd.to_pandas()\n",
    "    mask = train.object_id== oid\n",
    "\n",
    "    scatter(train.loc[mask,'mjd'].values,\n",
    "            train.loc[mask,'flux'].values,\n",
    "            values=train.loc[mask,'passband'].values,\n",
    "            xlabel='time',\n",
    "            ylabel='flux',\n",
    "            title='Object %d class 42'%oid)\n",
    "    plt.show()"
   ]
  },
  {
   "cell_type": "markdown",
   "metadata": {},
   "source": [
    "### Perform ETL Pt 1 - Compute flux skewness for each object_id\n",
    "\n",
    "To begin our ETL, we are going to compue the skewness across the flux for all times and sort the resulting dataframes by their ids. "
   ]
  },
  {
   "cell_type": "code",
   "execution_count": 11,
   "metadata": {},
   "outputs": [],
   "source": [
    "test_gd = test_gd[['object_id','flux']]\n",
    "train_gd = train_gd[['object_id','flux']]"
   ]
  },
  {
   "cell_type": "code",
   "execution_count": 12,
   "metadata": {},
   "outputs": [],
   "source": [
    "aggs = {'flux':['skew']}\n",
    "\n",
    "test_gd = cudf_groupby_aggs(test_gd,group_id_col='object_id',aggs=aggs)\n",
    "train_gd = cudf_groupby_aggs(train_gd,group_id_col='object_id',aggs=aggs)"
   ]
  },
  {
   "cell_type": "code",
   "execution_count": 13,
   "metadata": {},
   "outputs": [],
   "source": [
    "test_flux_skew_gd = test_gd.sort_values(by='object_id')\n",
    "train_flux_skew_gd = train_gd.sort_values(by='object_id')"
   ]
  },
  {
   "cell_type": "markdown",
   "metadata": {},
   "source": [
    "Let's print out the first row of the aggregated dataframe"
   ]
  },
  {
   "cell_type": "code",
   "execution_count": 14,
   "metadata": {},
   "outputs": [
    {
     "data": {
      "text/html": [
       "<div>\n",
       "<style scoped>\n",
       "    .dataframe tbody tr th:only-of-type {\n",
       "        vertical-align: middle;\n",
       "    }\n",
       "\n",
       "    .dataframe tbody tr th {\n",
       "        vertical-align: top;\n",
       "    }\n",
       "\n",
       "    .dataframe thead th {\n",
       "        text-align: right;\n",
       "    }\n",
       "</style>\n",
       "<table border=\"1\" class=\"dataframe\">\n",
       "  <thead>\n",
       "    <tr style=\"text-align: right;\">\n",
       "      <th></th>\n",
       "      <th>object_id</th>\n",
       "      <th>skew_flux</th>\n",
       "    </tr>\n",
       "  </thead>\n",
       "  <tbody>\n",
       "    <tr>\n",
       "      <th>0</th>\n",
       "      <td>615</td>\n",
       "      <td>-0.349541</td>\n",
       "    </tr>\n",
       "    <tr>\n",
       "      <th>1</th>\n",
       "      <td>713</td>\n",
       "      <td>0.014989</td>\n",
       "    </tr>\n",
       "    <tr>\n",
       "      <th>2</th>\n",
       "      <td>730</td>\n",
       "      <td>3.177856</td>\n",
       "    </tr>\n",
       "    <tr>\n",
       "      <th>3</th>\n",
       "      <td>745</td>\n",
       "      <td>4.979831</td>\n",
       "    </tr>\n",
       "    <tr>\n",
       "      <th>4</th>\n",
       "      <td>1124</td>\n",
       "      <td>4.406288</td>\n",
       "    </tr>\n",
       "  </tbody>\n",
       "</table>\n",
       "</div>"
      ],
      "text/plain": [
       "   object_id  skew_flux\n",
       "0        615  -0.349541\n",
       "1        713   0.014989\n",
       "2        730   3.177856\n",
       "3        745   4.979831\n",
       "4       1124   4.406288"
      ]
     },
     "execution_count": 14,
     "metadata": {},
     "output_type": "execute_result"
    }
   ],
   "source": [
    "train_flux_skew_gd.head().to_pandas()"
   ]
  },
  {
   "cell_type": "markdown",
   "metadata": {},
   "source": [
    "### Perform ETL Pt 2 - Flux & timestamp summary statistics"
   ]
  },
  {
   "cell_type": "markdown",
   "metadata": {},
   "source": [
    "We computed the flux skew in the previous ETL step and only kept those columns on GPU. Next we will need to load our original train & test CSV files back in so that we can do some additional aggregations."
   ]
  },
  {
   "cell_type": "code",
   "execution_count": 15,
   "metadata": {},
   "outputs": [],
   "source": [
    "train_gd, test_gd = load_train_test_csv(PATH)"
   ]
  },
  {
   "cell_type": "markdown",
   "metadata": {},
   "source": [
    "Read in the training metadata fields"
   ]
  },
  {
   "cell_type": "code",
   "execution_count": 16,
   "metadata": {},
   "outputs": [],
   "source": [
    "cols = ['object_id', 'ra', 'decl', 'gal_l', 'gal_b', 'ddf',\n",
    "       'hostgal_specz', 'hostgal_photoz', 'hostgal_photoz_err', \n",
    "       'distmod','mwebv', 'target']\n",
    "\n",
    "dtypes = ['int32']+['float32']*4+['int32']+['float32']*5+['int32']\n",
    "\n",
    "train_meta_gd = gd.read_csv('%s/training_set_metadata.csv'%PATH, names=cols, dtype=dtypes, skiprows=1)"
   ]
  },
  {
   "cell_type": "code",
   "execution_count": 17,
   "metadata": {},
   "outputs": [
    {
     "data": {
      "text/html": [
       "<div>\n",
       "<style scoped>\n",
       "    .dataframe tbody tr th:only-of-type {\n",
       "        vertical-align: middle;\n",
       "    }\n",
       "\n",
       "    .dataframe tbody tr th {\n",
       "        vertical-align: top;\n",
       "    }\n",
       "\n",
       "    .dataframe thead th {\n",
       "        text-align: right;\n",
       "    }\n",
       "</style>\n",
       "<table border=\"1\" class=\"dataframe\">\n",
       "  <thead>\n",
       "    <tr style=\"text-align: right;\">\n",
       "      <th></th>\n",
       "      <th>object_id</th>\n",
       "      <th>ra</th>\n",
       "      <th>decl</th>\n",
       "      <th>gal_l</th>\n",
       "      <th>gal_b</th>\n",
       "      <th>ddf</th>\n",
       "      <th>hostgal_specz</th>\n",
       "      <th>hostgal_photoz</th>\n",
       "      <th>hostgal_photoz_err</th>\n",
       "      <th>distmod</th>\n",
       "      <th>mwebv</th>\n",
       "      <th>target</th>\n",
       "    </tr>\n",
       "  </thead>\n",
       "  <tbody>\n",
       "    <tr>\n",
       "      <th>0</th>\n",
       "      <td>615</td>\n",
       "      <td>349.046082</td>\n",
       "      <td>-61.943840</td>\n",
       "      <td>320.796539</td>\n",
       "      <td>-51.753708</td>\n",
       "      <td>1</td>\n",
       "      <td>0.0000</td>\n",
       "      <td>0.0000</td>\n",
       "      <td>0.0000</td>\n",
       "      <td>NaN</td>\n",
       "      <td>0.017</td>\n",
       "      <td>92</td>\n",
       "    </tr>\n",
       "    <tr>\n",
       "      <th>1</th>\n",
       "      <td>713</td>\n",
       "      <td>53.085941</td>\n",
       "      <td>-27.784407</td>\n",
       "      <td>223.525528</td>\n",
       "      <td>-54.460751</td>\n",
       "      <td>1</td>\n",
       "      <td>1.8181</td>\n",
       "      <td>1.6267</td>\n",
       "      <td>0.2552</td>\n",
       "      <td>45.406303</td>\n",
       "      <td>0.007</td>\n",
       "      <td>88</td>\n",
       "    </tr>\n",
       "    <tr>\n",
       "      <th>2</th>\n",
       "      <td>730</td>\n",
       "      <td>33.574219</td>\n",
       "      <td>-6.579593</td>\n",
       "      <td>170.455582</td>\n",
       "      <td>-61.548218</td>\n",
       "      <td>1</td>\n",
       "      <td>0.2320</td>\n",
       "      <td>0.2262</td>\n",
       "      <td>0.0157</td>\n",
       "      <td>40.256100</td>\n",
       "      <td>0.021</td>\n",
       "      <td>42</td>\n",
       "    </tr>\n",
       "    <tr>\n",
       "      <th>3</th>\n",
       "      <td>745</td>\n",
       "      <td>0.189873</td>\n",
       "      <td>-45.586655</td>\n",
       "      <td>328.254456</td>\n",
       "      <td>-68.969299</td>\n",
       "      <td>1</td>\n",
       "      <td>0.3037</td>\n",
       "      <td>0.2813</td>\n",
       "      <td>1.1523</td>\n",
       "      <td>40.795101</td>\n",
       "      <td>0.007</td>\n",
       "      <td>90</td>\n",
       "    </tr>\n",
       "    <tr>\n",
       "      <th>4</th>\n",
       "      <td>1124</td>\n",
       "      <td>352.711304</td>\n",
       "      <td>-63.823654</td>\n",
       "      <td>316.922302</td>\n",
       "      <td>-51.059402</td>\n",
       "      <td>1</td>\n",
       "      <td>0.1934</td>\n",
       "      <td>0.2415</td>\n",
       "      <td>0.0176</td>\n",
       "      <td>40.416599</td>\n",
       "      <td>0.024</td>\n",
       "      <td>90</td>\n",
       "    </tr>\n",
       "  </tbody>\n",
       "</table>\n",
       "</div>"
      ],
      "text/plain": [
       "   object_id          ra       decl       gal_l      gal_b  ddf  \\\n",
       "0        615  349.046082 -61.943840  320.796539 -51.753708    1   \n",
       "1        713   53.085941 -27.784407  223.525528 -54.460751    1   \n",
       "2        730   33.574219  -6.579593  170.455582 -61.548218    1   \n",
       "3        745    0.189873 -45.586655  328.254456 -68.969299    1   \n",
       "4       1124  352.711304 -63.823654  316.922302 -51.059402    1   \n",
       "\n",
       "   hostgal_specz  hostgal_photoz  hostgal_photoz_err    distmod  mwebv  target  \n",
       "0         0.0000          0.0000              0.0000        NaN  0.017      92  \n",
       "1         1.8181          1.6267              0.2552  45.406303  0.007      88  \n",
       "2         0.2320          0.2262              0.0157  40.256100  0.021      42  \n",
       "3         0.3037          0.2813              1.1523  40.795101  0.007      90  \n",
       "4         0.1934          0.2415              0.0176  40.416599  0.024      90  "
      ]
     },
     "execution_count": 17,
     "metadata": {},
     "output_type": "execute_result"
    }
   ],
   "source": [
    "train_meta_gd.head().to_pandas()"
   ]
  },
  {
   "cell_type": "markdown",
   "metadata": {},
   "source": [
    "And the resulting testing metadata fields, excluding the `target` label field"
   ]
  },
  {
   "cell_type": "code",
   "execution_count": 18,
   "metadata": {},
   "outputs": [],
   "source": [
    "# # Remove the target field from the cols \n",
    "del cols[-1],dtypes[-1]\n",
    "\n",
    "test_meta_gd = gd.read_csv('%s/test_set_metadata.csv'%PATH, names=cols,dtype=dtypes,skiprows=1)"
   ]
  },
  {
   "cell_type": "code",
   "execution_count": 19,
   "metadata": {},
   "outputs": [],
   "source": [
    "def etl_gpu(df,df_meta):\n",
    "    \n",
    "    aggs = {\n",
    "        'passband': ['mean'],  # mean passband\n",
    "        'detected': ['mean'],  # mean detected\n",
    "        'mjd':['max','min'],   # min / max time range\n",
    "    }\n",
    "    \n",
    "    agg_df = groupby_aggs(df, aggs)\n",
    "    \n",
    "    # If flux uncertanty is low, we get a high ratio squared. If the uncertainty is high, \n",
    "    # we will get a low ratio squared.\n",
    "    df['flux_ratio_sq'] = df['flux'] / df['flux_err']\n",
    "    df['flux_ratio_sq'] = df['flux_ratio_sq'].applymap(lambda x: math.pow(x,2))\n",
    "    \n",
    "    # Multiply flux by the ratio squared\n",
    "    df['flux_by_flux_ratio_sq'] = df['flux'] * df['flux_ratio_sq']\n",
    "    \n",
    "    aggs2 = {\n",
    "        'flux_ratio_sq':['sum'],            # Sum the sq flux ratios\n",
    "        'flux_by_flux_ratio_sq':['sum'],    # Sum the flux * sq flux ratios\n",
    "        'flux': ['min', 'max', 'mean'],     # Summary stats for flux\n",
    "        'flux_err': ['min', 'max', 'mean'], # Summary stats for flux certainty\n",
    "    }\n",
    "    \n",
    "    agg_df2 = groupby_aggs(df, aggs2)\n",
    "    agg_df = agg_df.merge(agg_df2,on=['object_id'],how='left')\n",
    "    del agg_df2\n",
    "\n",
    "    agg_df['flux_diff'] = agg_df['max_flux'] - agg_df['min_flux']\n",
    "    agg_df['flux_dif2'] = (agg_df['max_flux'] - agg_df['min_flux']) / agg_df['mean_flux']\n",
    "    \n",
    "    agg_df['flux_w_mean'] = agg_df['sum_flux_by_flux_ratio_sq'] / agg_df['sum_flux_ratio_sq']\n",
    "    agg_df['flux_dif3'] = (agg_df['max_flux'] - agg_df['min_flux']) / agg_df['flux_w_mean']\n",
    "    \n",
    "    agg_df['mjd_diff'] = agg_df['max_mjd'] - agg_df['min_mjd']\n",
    "    agg_df.drop_column('max_mjd')\n",
    "    agg_df.drop_column('min_mjd')\n",
    "    \n",
    "    for col in ['ra','decl','gal_l','gal_b']:\n",
    "        df_meta.drop_column(col)\n",
    "    \n",
    "    df_meta = df_meta.merge(agg_df,on=['object_id'],how='left')\n",
    "    return df_meta"
   ]
  },
  {
   "cell_type": "code",
   "execution_count": 20,
   "metadata": {},
   "outputs": [],
   "source": [
    "train_final_gd = etl_gpu(train_gd,train_meta_gd)\n",
    "train_final_gd = train_final_gd.merge(train_flux_skew_gd,on=['object_id'],how='left')"
   ]
  },
  {
   "cell_type": "code",
   "execution_count": 21,
   "metadata": {},
   "outputs": [],
   "source": [
    "test_final_gd = etl_gpu(test_gd,test_meta_gd)\n",
    "del test_gd,test_meta_gd\n",
    "test_final_gd = test_final_gd.merge(test_flux_skew_gd,on=['object_id'],how='left')"
   ]
  },
  {
   "cell_type": "code",
   "execution_count": 22,
   "metadata": {},
   "outputs": [
    {
     "data": {
      "text/html": [
       "<div>\n",
       "<style scoped>\n",
       "    .dataframe tbody tr th:only-of-type {\n",
       "        vertical-align: middle;\n",
       "    }\n",
       "\n",
       "    .dataframe tbody tr th {\n",
       "        vertical-align: top;\n",
       "    }\n",
       "\n",
       "    .dataframe thead th {\n",
       "        text-align: right;\n",
       "    }\n",
       "</style>\n",
       "<table border=\"1\" class=\"dataframe\">\n",
       "  <thead>\n",
       "    <tr style=\"text-align: right;\">\n",
       "      <th></th>\n",
       "      <th>object_id</th>\n",
       "      <th>ddf</th>\n",
       "      <th>hostgal_specz</th>\n",
       "      <th>hostgal_photoz</th>\n",
       "      <th>hostgal_photoz_err</th>\n",
       "      <th>distmod</th>\n",
       "      <th>mwebv</th>\n",
       "      <th>target</th>\n",
       "      <th>mean_passband</th>\n",
       "      <th>mean_detected</th>\n",
       "      <th>...</th>\n",
       "      <th>mean_flux</th>\n",
       "      <th>min_flux_err</th>\n",
       "      <th>max_flux_err</th>\n",
       "      <th>mean_flux_err</th>\n",
       "      <th>flux_diff</th>\n",
       "      <th>flux_dif2</th>\n",
       "      <th>flux_w_mean</th>\n",
       "      <th>flux_dif3</th>\n",
       "      <th>mjd_diff</th>\n",
       "      <th>skew_flux</th>\n",
       "    </tr>\n",
       "  </thead>\n",
       "  <tbody>\n",
       "    <tr>\n",
       "      <th>0</th>\n",
       "      <td>39420562</td>\n",
       "      <td>0</td>\n",
       "      <td>0.1400</td>\n",
       "      <td>0.1440</td>\n",
       "      <td>0.1291</td>\n",
       "      <td>39.169300</td>\n",
       "      <td>0.125</td>\n",
       "      <td>15</td>\n",
       "      <td>3.161074</td>\n",
       "      <td>0.020134</td>\n",
       "      <td>...</td>\n",
       "      <td>4.812442</td>\n",
       "      <td>2.030897</td>\n",
       "      <td>78.555534</td>\n",
       "      <td>17.274596</td>\n",
       "      <td>235.335602</td>\n",
       "      <td>48.901491</td>\n",
       "      <td>58.419155</td>\n",
       "      <td>4.028398</td>\n",
       "      <td>1090.023438</td>\n",
       "      <td>1.689423</td>\n",
       "    </tr>\n",
       "    <tr>\n",
       "      <th>1</th>\n",
       "      <td>39446441</td>\n",
       "      <td>0</td>\n",
       "      <td>0.3628</td>\n",
       "      <td>0.4729</td>\n",
       "      <td>0.0922</td>\n",
       "      <td>42.116398</td>\n",
       "      <td>0.058</td>\n",
       "      <td>15</td>\n",
       "      <td>3.264000</td>\n",
       "      <td>0.048000</td>\n",
       "      <td>...</td>\n",
       "      <td>8.521700</td>\n",
       "      <td>1.610613</td>\n",
       "      <td>43.066505</td>\n",
       "      <td>13.048984</td>\n",
       "      <td>260.390259</td>\n",
       "      <td>30.556139</td>\n",
       "      <td>164.063049</td>\n",
       "      <td>1.587135</td>\n",
       "      <td>1079.050781</td>\n",
       "      <td>3.215945</td>\n",
       "    </tr>\n",
       "    <tr>\n",
       "      <th>2</th>\n",
       "      <td>39488530</td>\n",
       "      <td>0</td>\n",
       "      <td>0.2935</td>\n",
       "      <td>1.4029</td>\n",
       "      <td>0.4197</td>\n",
       "      <td>45.009701</td>\n",
       "      <td>0.052</td>\n",
       "      <td>15</td>\n",
       "      <td>2.967742</td>\n",
       "      <td>0.016129</td>\n",
       "      <td>...</td>\n",
       "      <td>3.117172</td>\n",
       "      <td>1.593112</td>\n",
       "      <td>69.034836</td>\n",
       "      <td>11.826148</td>\n",
       "      <td>114.494293</td>\n",
       "      <td>36.730187</td>\n",
       "      <td>28.208723</td>\n",
       "      <td>4.058826</td>\n",
       "      <td>898.699219</td>\n",
       "      <td>0.679230</td>\n",
       "    </tr>\n",
       "    <tr>\n",
       "      <th>3</th>\n",
       "      <td>39501380</td>\n",
       "      <td>0</td>\n",
       "      <td>0.2130</td>\n",
       "      <td>0.2166</td>\n",
       "      <td>0.0082</td>\n",
       "      <td>40.150097</td>\n",
       "      <td>0.105</td>\n",
       "      <td>52</td>\n",
       "      <td>2.933884</td>\n",
       "      <td>0.049587</td>\n",
       "      <td>...</td>\n",
       "      <td>5.297178</td>\n",
       "      <td>1.767563</td>\n",
       "      <td>61.292171</td>\n",
       "      <td>12.513083</td>\n",
       "      <td>218.538284</td>\n",
       "      <td>41.255608</td>\n",
       "      <td>71.603760</td>\n",
       "      <td>3.052050</td>\n",
       "      <td>907.628906</td>\n",
       "      <td>1.891616</td>\n",
       "    </tr>\n",
       "    <tr>\n",
       "      <th>4</th>\n",
       "      <td>39511222</td>\n",
       "      <td>0</td>\n",
       "      <td>0.0000</td>\n",
       "      <td>0.0000</td>\n",
       "      <td>0.0000</td>\n",
       "      <td>NaN</td>\n",
       "      <td>0.011</td>\n",
       "      <td>6</td>\n",
       "      <td>2.992481</td>\n",
       "      <td>0.105263</td>\n",
       "      <td>...</td>\n",
       "      <td>17.711097</td>\n",
       "      <td>2.380389</td>\n",
       "      <td>45.077370</td>\n",
       "      <td>12.902523</td>\n",
       "      <td>323.815430</td>\n",
       "      <td>18.283194</td>\n",
       "      <td>154.930008</td>\n",
       "      <td>2.090075</td>\n",
       "      <td>900.734375</td>\n",
       "      <td>3.166074</td>\n",
       "    </tr>\n",
       "  </tbody>\n",
       "</table>\n",
       "<p>5 rows × 24 columns</p>\n",
       "</div>"
      ],
      "text/plain": [
       "   object_id  ddf  hostgal_specz  hostgal_photoz  hostgal_photoz_err  \\\n",
       "0   39420562    0         0.1400          0.1440              0.1291   \n",
       "1   39446441    0         0.3628          0.4729              0.0922   \n",
       "2   39488530    0         0.2935          1.4029              0.4197   \n",
       "3   39501380    0         0.2130          0.2166              0.0082   \n",
       "4   39511222    0         0.0000          0.0000              0.0000   \n",
       "\n",
       "     distmod  mwebv  target  mean_passband  mean_detected  ...  mean_flux  \\\n",
       "0  39.169300  0.125      15       3.161074       0.020134  ...   4.812442   \n",
       "1  42.116398  0.058      15       3.264000       0.048000  ...   8.521700   \n",
       "2  45.009701  0.052      15       2.967742       0.016129  ...   3.117172   \n",
       "3  40.150097  0.105      52       2.933884       0.049587  ...   5.297178   \n",
       "4        NaN  0.011       6       2.992481       0.105263  ...  17.711097   \n",
       "\n",
       "   min_flux_err  max_flux_err  mean_flux_err   flux_diff  flux_dif2  \\\n",
       "0      2.030897     78.555534      17.274596  235.335602  48.901491   \n",
       "1      1.610613     43.066505      13.048984  260.390259  30.556139   \n",
       "2      1.593112     69.034836      11.826148  114.494293  36.730187   \n",
       "3      1.767563     61.292171      12.513083  218.538284  41.255608   \n",
       "4      2.380389     45.077370      12.902523  323.815430  18.283194   \n",
       "\n",
       "   flux_w_mean  flux_dif3     mjd_diff  skew_flux  \n",
       "0    58.419155   4.028398  1090.023438   1.689423  \n",
       "1   164.063049   1.587135  1079.050781   3.215945  \n",
       "2    28.208723   4.058826   898.699219   0.679230  \n",
       "3    71.603760   3.052050   907.628906   1.891616  \n",
       "4   154.930008   2.090075   900.734375   3.166074  \n",
       "\n",
       "[5 rows x 24 columns]"
      ]
     },
     "execution_count": 22,
     "metadata": {},
     "output_type": "execute_result"
    }
   ],
   "source": [
    "train_final_gd.head().to_pandas()"
   ]
  },
  {
   "cell_type": "markdown",
   "metadata": {},
   "source": [
    "### Merge in Bottleneck Features\n",
    "\n",
    "Load the bottleneck features from `Part 1.2` and merge with `flux` & `mjd` statistical features. At this point, the notebook from `Part 1.2` should have been executed end-to-end. "
   ]
  },
  {
   "cell_type": "code",
   "execution_count": 27,
   "metadata": {},
   "outputs": [],
   "source": [
    "train_bn = gd.from_pandas(pd.read_pickle('train_bn.pkl'))\n",
    "train_bn['object_id'] = train_bn['object_id'].astype('int32')\n",
    "train_final_gd = train_final_gd.merge(train_bn,on=['object_id'],how='left')"
   ]
  },
  {
   "cell_type": "code",
   "execution_count": 28,
   "metadata": {},
   "outputs": [],
   "source": [
    "test_bn = gd.from_pandas(pd.read_pickle('test_bn.pkl'))\n",
    "test_bn['object_id'] = test_bn['object_id'].astype('int32')\n",
    "test_final_gd = test_final_gd.merge(test_bn,on=['object_id'],how='left')\n",
    "\n",
    "del train_bn,test_bn  # Save device memory"
   ]
  },
  {
   "cell_type": "code",
   "execution_count": 29,
   "metadata": {},
   "outputs": [
    {
     "data": {
      "text/html": [
       "<div>\n",
       "<style scoped>\n",
       "    .dataframe tbody tr th:only-of-type {\n",
       "        vertical-align: middle;\n",
       "    }\n",
       "\n",
       "    .dataframe tbody tr th {\n",
       "        vertical-align: top;\n",
       "    }\n",
       "\n",
       "    .dataframe thead th {\n",
       "        text-align: right;\n",
       "    }\n",
       "</style>\n",
       "<table border=\"1\" class=\"dataframe\">\n",
       "  <thead>\n",
       "    <tr style=\"text-align: right;\">\n",
       "      <th></th>\n",
       "      <th>object_id</th>\n",
       "      <th>ddf</th>\n",
       "      <th>hostgal_specz</th>\n",
       "      <th>hostgal_photoz</th>\n",
       "      <th>hostgal_photoz_err</th>\n",
       "      <th>distmod</th>\n",
       "      <th>mwebv</th>\n",
       "      <th>target</th>\n",
       "      <th>mean_passband</th>\n",
       "      <th>mean_detected</th>\n",
       "      <th>...</th>\n",
       "      <th>bottleneck7_y</th>\n",
       "      <th>bottleneck8_y</th>\n",
       "      <th>bottleneck9_y</th>\n",
       "      <th>bottleneck10_y</th>\n",
       "      <th>bottleneck11_y</th>\n",
       "      <th>bottleneck12_y</th>\n",
       "      <th>bottleneck13_y</th>\n",
       "      <th>bottleneck14_y</th>\n",
       "      <th>bottleneck15_y</th>\n",
       "      <th>bottleneck16_y</th>\n",
       "    </tr>\n",
       "  </thead>\n",
       "  <tbody>\n",
       "    <tr>\n",
       "      <th>0</th>\n",
       "      <td>39420562</td>\n",
       "      <td>0</td>\n",
       "      <td>0.1400</td>\n",
       "      <td>0.1440</td>\n",
       "      <td>0.1291</td>\n",
       "      <td>39.169300</td>\n",
       "      <td>0.125</td>\n",
       "      <td>15</td>\n",
       "      <td>3.161074</td>\n",
       "      <td>0.020134</td>\n",
       "      <td>...</td>\n",
       "      <td>7.576410</td>\n",
       "      <td>8.293227</td>\n",
       "      <td>1.879001</td>\n",
       "      <td>7.890970</td>\n",
       "      <td>1.332858</td>\n",
       "      <td>5.112309</td>\n",
       "      <td>3.297430</td>\n",
       "      <td>5.024965</td>\n",
       "      <td>10.317993</td>\n",
       "      <td>NaN</td>\n",
       "    </tr>\n",
       "    <tr>\n",
       "      <th>1</th>\n",
       "      <td>39446441</td>\n",
       "      <td>0</td>\n",
       "      <td>0.3628</td>\n",
       "      <td>0.4729</td>\n",
       "      <td>0.0922</td>\n",
       "      <td>42.116398</td>\n",
       "      <td>0.058</td>\n",
       "      <td>15</td>\n",
       "      <td>3.264000</td>\n",
       "      <td>0.048000</td>\n",
       "      <td>...</td>\n",
       "      <td>11.122344</td>\n",
       "      <td>11.219645</td>\n",
       "      <td>0.311516</td>\n",
       "      <td>5.098414</td>\n",
       "      <td>1.574665</td>\n",
       "      <td>5.603317</td>\n",
       "      <td>0.539438</td>\n",
       "      <td>4.548590</td>\n",
       "      <td>8.742874</td>\n",
       "      <td>NaN</td>\n",
       "    </tr>\n",
       "    <tr>\n",
       "      <th>2</th>\n",
       "      <td>39488530</td>\n",
       "      <td>0</td>\n",
       "      <td>0.2935</td>\n",
       "      <td>1.4029</td>\n",
       "      <td>0.4197</td>\n",
       "      <td>45.009701</td>\n",
       "      <td>0.052</td>\n",
       "      <td>15</td>\n",
       "      <td>2.967742</td>\n",
       "      <td>0.016129</td>\n",
       "      <td>...</td>\n",
       "      <td>7.085365</td>\n",
       "      <td>9.345343</td>\n",
       "      <td>0.254227</td>\n",
       "      <td>4.393797</td>\n",
       "      <td>0.933248</td>\n",
       "      <td>4.269485</td>\n",
       "      <td>0.310794</td>\n",
       "      <td>4.531470</td>\n",
       "      <td>4.948567</td>\n",
       "      <td>NaN</td>\n",
       "    </tr>\n",
       "    <tr>\n",
       "      <th>3</th>\n",
       "      <td>39501380</td>\n",
       "      <td>0</td>\n",
       "      <td>0.2130</td>\n",
       "      <td>0.2166</td>\n",
       "      <td>0.0082</td>\n",
       "      <td>40.150097</td>\n",
       "      <td>0.105</td>\n",
       "      <td>52</td>\n",
       "      <td>2.933884</td>\n",
       "      <td>0.049587</td>\n",
       "      <td>...</td>\n",
       "      <td>1.321868</td>\n",
       "      <td>6.200110</td>\n",
       "      <td>5.247348</td>\n",
       "      <td>2.655985</td>\n",
       "      <td>10.224786</td>\n",
       "      <td>3.501489</td>\n",
       "      <td>2.755972</td>\n",
       "      <td>19.987167</td>\n",
       "      <td>2.101240</td>\n",
       "      <td>NaN</td>\n",
       "    </tr>\n",
       "    <tr>\n",
       "      <th>4</th>\n",
       "      <td>39511222</td>\n",
       "      <td>0</td>\n",
       "      <td>0.0000</td>\n",
       "      <td>0.0000</td>\n",
       "      <td>0.0000</td>\n",
       "      <td>NaN</td>\n",
       "      <td>0.011</td>\n",
       "      <td>6</td>\n",
       "      <td>2.992481</td>\n",
       "      <td>0.105263</td>\n",
       "      <td>...</td>\n",
       "      <td>5.538800</td>\n",
       "      <td>6.747206</td>\n",
       "      <td>0.311665</td>\n",
       "      <td>3.058628</td>\n",
       "      <td>1.451684</td>\n",
       "      <td>10.459454</td>\n",
       "      <td>4.461523</td>\n",
       "      <td>6.548872</td>\n",
       "      <td>6.281870</td>\n",
       "      <td>NaN</td>\n",
       "    </tr>\n",
       "  </tbody>\n",
       "</table>\n",
       "<p>5 rows × 58 columns</p>\n",
       "</div>"
      ],
      "text/plain": [
       "   object_id  ddf  hostgal_specz  hostgal_photoz  hostgal_photoz_err  \\\n",
       "0   39420562    0         0.1400          0.1440              0.1291   \n",
       "1   39446441    0         0.3628          0.4729              0.0922   \n",
       "2   39488530    0         0.2935          1.4029              0.4197   \n",
       "3   39501380    0         0.2130          0.2166              0.0082   \n",
       "4   39511222    0         0.0000          0.0000              0.0000   \n",
       "\n",
       "     distmod  mwebv  target  mean_passband  mean_detected  ...  bottleneck7_y  \\\n",
       "0  39.169300  0.125      15       3.161074       0.020134  ...       7.576410   \n",
       "1  42.116398  0.058      15       3.264000       0.048000  ...      11.122344   \n",
       "2  45.009701  0.052      15       2.967742       0.016129  ...       7.085365   \n",
       "3  40.150097  0.105      52       2.933884       0.049587  ...       1.321868   \n",
       "4        NaN  0.011       6       2.992481       0.105263  ...       5.538800   \n",
       "\n",
       "   bottleneck8_y  bottleneck9_y  bottleneck10_y  bottleneck11_y  \\\n",
       "0       8.293227       1.879001        7.890970        1.332858   \n",
       "1      11.219645       0.311516        5.098414        1.574665   \n",
       "2       9.345343       0.254227        4.393797        0.933248   \n",
       "3       6.200110       5.247348        2.655985       10.224786   \n",
       "4       6.747206       0.311665        3.058628        1.451684   \n",
       "\n",
       "   bottleneck12_y  bottleneck13_y  bottleneck14_y  bottleneck15_y  \\\n",
       "0        5.112309        3.297430        5.024965       10.317993   \n",
       "1        5.603317        0.539438        4.548590        8.742874   \n",
       "2        4.269485        0.310794        4.531470        4.948567   \n",
       "3        3.501489        2.755972       19.987167        2.101240   \n",
       "4       10.459454        4.461523        6.548872        6.281870   \n",
       "\n",
       "   bottleneck16_y  \n",
       "0             NaN  \n",
       "1             NaN  \n",
       "2             NaN  \n",
       "3             NaN  \n",
       "4             NaN  \n",
       "\n",
       "[5 rows x 58 columns]"
      ]
     },
     "execution_count": 29,
     "metadata": {},
     "output_type": "execute_result"
    }
   ],
   "source": [
    "train_final_gd.head().to_pandas()"
   ]
  },
  {
   "cell_type": "markdown",
   "metadata": {},
   "source": [
    "### Store Final Train/Test Data to Disk"
   ]
  },
  {
   "cell_type": "markdown",
   "metadata": {},
   "source": [
    "Store our extracted data out to csv files so that we can use it downstream "
   ]
  },
  {
   "cell_type": "code",
   "execution_count": 30,
   "metadata": {},
   "outputs": [],
   "source": [
    "train_final_gd.to_pandas().to_pickle(\"train_gdf.pkl\")\n",
    "test_final_gd.to_pandas().to_pickle(\"test_gdf.pkl\")"
   ]
  }
 ],
 "metadata": {
  "kernelspec": {
   "display_name": "cuml4",
   "language": "python",
   "name": "python3"
  },
  "language_info": {
   "codemirror_mode": {
    "name": "ipython",
    "version": 3
   },
   "file_extension": ".py",
   "mimetype": "text/x-python",
   "name": "python",
   "nbconvert_exporter": "python",
   "pygments_lexer": "ipython3",
   "version": "3.6.8"
  }
 },
 "nbformat": 4,
 "nbformat_minor": 4
}
