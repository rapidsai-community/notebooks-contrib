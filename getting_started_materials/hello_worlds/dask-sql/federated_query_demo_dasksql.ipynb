{
 "cells": [
  {
   "cell_type": "markdown",
   "metadata": {
    "colab_type": "text",
    "id": "8AdUt3HiUrc3",
    "tags": []
   },
   "source": [
    "# Querying Multiple Data Formats \n",
    "*By Winston Robson, edited for Dask-SQL by Shondace Thomas*\n",
    "\n",
    "In this notebook, we will cover: \n",
    "- How to create DaskSQL tables from: \n",
    "    - Text file (CSV)\n",
    "    - Apache Parquet \n",
    "    - cuDF DataFrame (GDF)\n",
    "- How to `JOIN` multiple DaskSQL tables into one cuDF DataFrame with a single query."
   ]
  },
  {
   "cell_type": "markdown",
   "metadata": {},
   "source": [
    "#### Download Data\n",
    "This cell will check if you have the data for this demo, and, if you don't, will download it for you."
   ]
  },
  {
   "cell_type": "code",
   "execution_count": 1,
   "metadata": {
    "tags": []
   },
   "outputs": [],
   "source": [
    "import os\n",
    "\n",
    "# relative path to data folder\n",
    "data_dir = '../../../data/dask-sql/'\n",
    "\n",
    "# does folder exist?\n",
    "if not os.path.exists(data_dir):\n",
    "    print('creating dask-sql directory\\n')\n",
    "    # create folder\n",
    "    os.system('mkdir ../../data/dask-sql')\n",
    "\n",
    "# do we have file 0?\n",
    "if not os.path.isfile(data_dir + 'cancer_data_00.csv'):\n",
    "    !wget -P ../../../data/dask-sql https://raw.githubusercontent.com/BlazingDB/bsql-demos/master/data/cancer_data_00.csv\n",
    "\n",
    "# do we have file 1?\n",
    "if not os.path.isfile(data_dir + 'cancer_data_01.parquet'):\n",
    "    !wget -P ../../../data/dask-sql https://blazingsql-colab.s3.amazonaws.com/cancer_data/cancer_data_01.parquet\n",
    "\n",
    "# do we have file 2?\n",
    "if not os.path.isfile(data_dir + 'cancer_data_02.csv'):\n",
    "    !wget -P ../../../data/dask-sql https://raw.githubusercontent.com/BlazingDB/bsql-demos/master/data/cancer_data_02.csv"
   ]
  },
  {
   "cell_type": "markdown",
   "metadata": {},
   "source": [
    "## Create DaskContext\n",
    "You can think of the DaskContext much like a Spark Context (i.e. information such as FileSystems registered & Tables created will be stored)."
   ]
  },
  {
   "cell_type": "code",
   "execution_count": 2,
   "metadata": {
    "colab": {
     "base_uri": "https://localhost:8080/",
     "height": 35
    },
    "colab_type": "code",
    "id": "azZ7l2q7odYT",
    "outputId": "a5302d6e-307e-45c5-a682-c786cc999a40",
    "tags": []
   },
   "outputs": [],
   "source": [
    "from dask_sql import Context\n",
    "# start up DaskSQL\n",
    "dc = Context()"
   ]
  },
  {
   "cell_type": "markdown",
   "metadata": {},
   "source": [
    "#### Data Path\n",
    "Dask-SQL requires the full path to the data. This cell uses the `pwd` bash command to identify the path to this directory, then add it to the relative path to the notebooks-contrib `data` directory (i.e. what you'd type in Terminal to navigate to the data)."
   ]
  },
  {
   "cell_type": "code",
   "execution_count": 3,
   "metadata": {
    "tags": []
   },
   "outputs": [
    {
     "data": {
      "text/plain": [
       "'/rapids/notebooks/extra/notebooks-contrib/data/dask-sql/'"
      ]
     },
     "execution_count": 3,
     "metadata": {},
     "output_type": "execute_result"
    }
   ],
   "source": [
    "# bash command, returns SList w/ path (str) at 0th index\n",
    "path = !pwd\n",
    "\n",
    "# extract path to notebooks-contrib\n",
    "path = path[0].split('getting_started_materials')[0] \n",
    "\n",
    "# add path to Dask-SQL data\n",
    "path = path + 'data/dask-sql/'\n",
    "\n",
    "# what's it look like?\n",
    "path"
   ]
  },
  {
   "cell_type": "markdown",
   "metadata": {
    "colab_type": "text",
    "id": "N2bqpDEnZyQf"
   },
   "source": [
    "### Create Table from CSV\n",
    "Here we create a Dask-SQL table directly from a comma-separated values (CSV) file. "
   ]
  },
  {
   "cell_type": "code",
   "execution_count": 4,
   "metadata": {
    "colab": {},
    "colab_type": "code",
    "id": "HhRhj-ZvZygH",
    "tags": []
   },
   "outputs": [],
   "source": [
    "# define column names and types\n",
    "col_names = ['diagnosis_result', 'radius', 'texture', 'perimeter']\n",
    "col_types = ['float32', 'float32', 'float32', 'float32'] \n",
    "\n",
    "# create table from CSV file\n",
    "dc.create_table('data_00', path +'cancer_data_00.csv', gpu=True, names=col_names, dtype=col_types)\n",
    "\n",
    "\n",
    "# df_result = dc.sql(\"SELECT * FROM data_00\")\n",
    "# df_result.head()\n",
    "# type(df_result)\n",
    "# df_result"
   ]
  },
  {
   "cell_type": "markdown",
   "metadata": {
    "colab_type": "text",
    "id": "HJFz-mqZTJ5Z"
   },
   "source": [
    "### Create Table from Parquet\n",
    "Here we create a Dask-SQL table directly from an Apache Parquet file."
   ]
  },
  {
   "cell_type": "code",
   "execution_count": 5,
   "metadata": {
    "colab": {},
    "colab_type": "code",
    "id": "HJuvtJDYTMyb",
    "tags": []
   },
   "outputs": [],
   "source": [
    "# create table from Parquet file\n",
    "dc.create_table('data_01', path+'cancer_data_01.parquet', gpu= True)"
   ]
  },
  {
   "cell_type": "markdown",
   "metadata": {
    "colab_type": "text",
    "id": "98HJFrt5TRa0"
   },
   "source": [
    "### Create Table from GPU DataFrame\n",
    "Here we use cuDF to create a GPU DataFrame (GDF), then use Dask-SQL to create a table from that GDF.\n",
    "\n",
    "The GDF is the standard memory representation for the RAPIDS AI ecosystem."
   ]
  },
  {
   "cell_type": "code",
   "execution_count": 7,
   "metadata": {
    "colab": {},
    "colab_type": "code",
    "id": "14GwxmLsTV_p",
    "scrolled": true,
    "tags": []
   },
   "outputs": [],
   "source": [
    "import cudf\n",
    "\n",
    "# define column names & types\n",
    "col_names = ['compactness', 'symmetry', 'fractal_dimension']\n",
    "col_types = ['float32', 'float32', 'float32']\n",
    "\n",
    "# make GPU DataFrame from CSV w/ cuDF\n",
    "gdf_02 = cudf.read_csv(path+'cancer_data_02.csv', names=col_names, dtype=col_types)\n",
    "\n",
    "# create BlazingSQL table from cuDF DataFrame\n",
    "dc.create_table('data_02', gdf_02)"
   ]
  },
  {
   "cell_type": "code",
   "execution_count": 8,
   "metadata": {
    "tags": []
   },
   "outputs": [],
   "source": [
    "import time\n",
    "\n",
    "t0 = time.time()"
   ]
  },
  {
   "cell_type": "markdown",
   "metadata": {
    "colab_type": "text",
    "id": "9DAZShZ2y-Nx"
   },
   "source": [
    "# Join Tables Together \n",
    "\n",
    "Now we can use Dask-SQL to join all three data formats in a single federated query. Dask-SQL queries return results as a cuDF DataFrame."
   ]
  },
  {
   "cell_type": "code",
   "execution_count": 9,
   "metadata": {
    "colab": {
     "base_uri": "https://localhost:8080/",
     "height": 1000
    },
    "colab_type": "code",
    "id": "HOYSFebvzGcX",
    "outputId": "ad133dfd-540e-4142-8f12-a4a70d803bb6",
    "scrolled": true,
    "tags": []
   },
   "outputs": [
    {
     "data": {
      "text/html": [
       "<div>\n",
       "<style scoped>\n",
       "    .dataframe tbody tr th:only-of-type {\n",
       "        vertical-align: middle;\n",
       "    }\n",
       "\n",
       "    .dataframe tbody tr th {\n",
       "        vertical-align: top;\n",
       "    }\n",
       "\n",
       "    .dataframe thead th {\n",
       "        text-align: right;\n",
       "    }\n",
       "</style>\n",
       "<table border=\"1\" class=\"dataframe\">\n",
       "  <thead>\n",
       "    <tr style=\"text-align: right;\">\n",
       "      <th></th>\n",
       "      <th>diagnosis_result</th>\n",
       "      <th>radius</th>\n",
       "      <th>texture</th>\n",
       "      <th>perimeter</th>\n",
       "      <th>area</th>\n",
       "      <th>smoothness</th>\n",
       "      <th>compactness</th>\n",
       "      <th>symmetry</th>\n",
       "      <th>fractal_dimension</th>\n",
       "    </tr>\n",
       "  </thead>\n",
       "  <tbody>\n",
       "    <tr>\n",
       "      <th>0</th>\n",
       "      <td>0.0</td>\n",
       "      <td>17.0</td>\n",
       "      <td>21.0</td>\n",
       "      <td>81.0</td>\n",
       "      <td>503.0</td>\n",
       "      <td>0.098</td>\n",
       "      <td>0.052</td>\n",
       "      <td>0.159</td>\n",
       "      <td>0.057</td>\n",
       "    </tr>\n",
       "    <tr>\n",
       "      <th>1</th>\n",
       "      <td>1.0</td>\n",
       "      <td>21.0</td>\n",
       "      <td>18.0</td>\n",
       "      <td>124.0</td>\n",
       "      <td>1076.0</td>\n",
       "      <td>0.110</td>\n",
       "      <td>0.169</td>\n",
       "      <td>0.191</td>\n",
       "      <td>0.060</td>\n",
       "    </tr>\n",
       "    <tr>\n",
       "      <th>2</th>\n",
       "      <td>0.0</td>\n",
       "      <td>9.0</td>\n",
       "      <td>26.0</td>\n",
       "      <td>59.0</td>\n",
       "      <td>251.0</td>\n",
       "      <td>0.107</td>\n",
       "      <td>0.141</td>\n",
       "      <td>0.211</td>\n",
       "      <td>0.080</td>\n",
       "    </tr>\n",
       "    <tr>\n",
       "      <th>3</th>\n",
       "      <td>0.0</td>\n",
       "      <td>9.0</td>\n",
       "      <td>26.0</td>\n",
       "      <td>59.0</td>\n",
       "      <td>261.0</td>\n",
       "      <td>0.077</td>\n",
       "      <td>0.088</td>\n",
       "      <td>0.234</td>\n",
       "      <td>0.070</td>\n",
       "    </tr>\n",
       "    <tr>\n",
       "      <th>4</th>\n",
       "      <td>1.0</td>\n",
       "      <td>22.0</td>\n",
       "      <td>25.0</td>\n",
       "      <td>90.0</td>\n",
       "      <td>584.0</td>\n",
       "      <td>0.101</td>\n",
       "      <td>0.128</td>\n",
       "      <td>0.166</td>\n",
       "      <td>0.066</td>\n",
       "    </tr>\n",
       "  </tbody>\n",
       "</table>\n",
       "</div>"
      ],
      "text/plain": [
       "   diagnosis_result  radius  texture  perimeter    area  smoothness  \\\n",
       "0               0.0    17.0     21.0       81.0   503.0       0.098   \n",
       "1               1.0    21.0     18.0      124.0  1076.0       0.110   \n",
       "2               0.0     9.0     26.0       59.0   251.0       0.107   \n",
       "3               0.0     9.0     26.0       59.0   261.0       0.077   \n",
       "4               1.0    22.0     25.0       90.0   584.0       0.101   \n",
       "\n",
       "   compactness  symmetry  fractal_dimension  \n",
       "0        0.052     0.159              0.057  \n",
       "1        0.169     0.191              0.060  \n",
       "2        0.141     0.211              0.080  \n",
       "3        0.088     0.234              0.070  \n",
       "4        0.128     0.166              0.066  "
      ]
     },
     "execution_count": 9,
     "metadata": {},
     "output_type": "execute_result"
    }
   ],
   "source": [
    "# grab everything from data_00 & data_01 and area & smoothness from data_01\n",
    "query = '''\n",
    "        SELECT \n",
    "            a.*, \n",
    "            b.area, b.smoothness, \n",
    "            c.* \n",
    "        FROM \n",
    "            data_00 AS a\n",
    "        LEFT JOIN data_01 AS b\n",
    "            ON (a.perimeter = b.perimeter)\n",
    "        LEFT JOIN data_02 AS c\n",
    "            ON (b.compactness = c.compactness)\n",
    "            '''\n",
    "\n",
    "# join the tables together\n",
    "join = dc.sql(query)\n",
    "\n",
    "# display results (type(join)==cudf.core.dataframe.DataFrame)\n",
    "join.head()"
   ]
  },
  {
   "cell_type": "code",
   "execution_count": 10,
   "metadata": {
    "tags": []
   },
   "outputs": [
    {
     "name": "stdout",
     "output_type": "stream",
     "text": [
      "run_stuff took 3.951575756072998s\n"
     ]
    }
   ],
   "source": [
    "t1 = time.time()\n",
    "print(f\"run_stuff took {t1-t0}s\")"
   ]
  },
  {
   "cell_type": "code",
   "execution_count": 11,
   "metadata": {
    "tags": []
   },
   "outputs": [
    {
     "data": {
      "text/plain": [
       "316"
      ]
     },
     "execution_count": 11,
     "metadata": {},
     "output_type": "execute_result"
    }
   ],
   "source": [
    "len(join.index)"
   ]
  },
  {
   "cell_type": "markdown",
   "metadata": {
    "colab_type": "text",
    "id": "wygAeTIFTm2X"
   },
   "source": [
    "# You're Ready to Rock\n",
    "And... thats it! You are now live with Dask-SQL.\n",
    "\n",
    "Check out our [docs](https://dask-sql.readthedocs.io/) to get fancy or to learn more about how Dask-SQL works with the rest of [RAPIDS AI](https://rapids.ai/)."
   ]
  }
 ],
 "metadata": {
  "accelerator": "GPU",
  "colab": {
   "collapsed_sections": [
    "McVBO7GHRDzz"
   ],
   "name": "BlazingSQL_Federated_Query_Demo.ipynb",
   "provenance": [],
   "toc_visible": true
  },
  "kernelspec": {
   "display_name": "Python 3 (ipykernel)",
   "language": "python",
   "name": "python3"
  },
  "language_info": {
   "codemirror_mode": {
    "name": "ipython",
    "version": 3
   },
   "file_extension": ".py",
   "mimetype": "text/x-python",
   "name": "python",
   "nbconvert_exporter": "python",
   "pygments_lexer": "ipython3",
   "version": "3.8.13"
  }
 },
 "nbformat": 4,
 "nbformat_minor": 4
}
