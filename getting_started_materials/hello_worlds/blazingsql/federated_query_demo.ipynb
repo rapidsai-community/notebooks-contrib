{
 "cells": [
  {
   "cell_type": "markdown",
   "metadata": {
    "colab_type": "text",
    "id": "8AdUt3HiUrc3"
   },
   "source": [
    "# Querying Multiple Data Formats \n",
    "*By Winston Robson*\n",
    "\n",
    "In this notebook, we will cover: \n",
    "- How to create BlazingSQL tables from: \n",
    "    - Text file (CSV)\n",
    "    - Apache Parquet \n",
    "    - cuDF DataFrame (GDF)\n",
    "- How to `JOIN` multiple BlazingSQL tables into one cuDF DataFrame with a single query."
   ]
  },
  {
   "cell_type": "markdown",
   "metadata": {
    "colab_type": "text",
    "id": "aMwNKxePSwOp"
   },
   "source": [
    "#### BlazingSQL install check\n",
    "The next cell checks that you have BlazingSQL installed, and offers to install it if not (making sure the notebook will run as expected)."
   ]
  },
  {
   "cell_type": "code",
   "execution_count": 1,
   "metadata": {},
   "outputs": [
    {
     "data": {
      "text/plain": [
       "\"You've got BlazingSQL set up perfectly! Let's get started with SQL in RAPIDS AI!\""
      ]
     },
     "execution_count": 1,
     "metadata": {},
     "output_type": "execute_result"
    }
   ],
   "source": [
    "import sys \n",
    "# point import path notebooks-contrib/utils\n",
    "sys.path.append('../../../utils/')\n",
    "\n",
    "from sql_check import bsql_start\n",
    "# check that BlazingSQL is installed\n",
    "bsql_start()"
   ]
  },
  {
   "cell_type": "markdown",
   "metadata": {},
   "source": [
    "#### Download Data\n",
    "This cell will check if you have the data for this demo, and, if you don't, will download it for you."
   ]
  },
  {
   "cell_type": "code",
   "execution_count": 2,
   "metadata": {},
   "outputs": [],
   "source": [
    "import os\n",
    "\n",
    "# relative path to data folder\n",
    "data_dir = '../../../data/blazingsql/'\n",
    "\n",
    "# does folder exist?\n",
    "if not os.path.exists(data_dir):\n",
    "    print('creating blazingsql directory\\n')\n",
    "    # create folder\n",
    "    os.system('mkdir ../../data/blazingsql')\n",
    "\n",
    "# do we have file 0?\n",
    "if not os.path.isfile(data_dir + 'cancer_data_00.csv'):\n",
    "    !wget -P ../../../data/blazingsql https://raw.githubusercontent.com/BlazingDB/bsql-demos/master/data/cancer_data_00.csv\n",
    "\n",
    "# do we have file 1?\n",
    "if not os.path.isfile(data_dir + 'cancer_data_01.parquet'):\n",
    "    !wget -P ../../../data/blazingsql https://blazingsql-colab.s3.amazonaws.com/cancer_data/cancer_data_01.parquet\n",
    "\n",
    "# do we have file 2?\n",
    "if not os.path.isfile(data_dir + 'cancer_data_02.csv'):\n",
    "    !wget -P ../../../data/blazingsql https://raw.githubusercontent.com/BlazingDB/bsql-demos/master/data/cancer_data_02.csv"
   ]
  },
  {
   "cell_type": "markdown",
   "metadata": {},
   "source": [
    "## Create BlazingContext\n",
    "You can think of the BlazingContext much like a Spark Context (i.e. information such as FileSystems registered & Tables created will be stored)."
   ]
  },
  {
   "cell_type": "code",
   "execution_count": 3,
   "metadata": {
    "colab": {
     "base_uri": "https://localhost:8080/",
     "height": 35
    },
    "colab_type": "code",
    "id": "azZ7l2q7odYT",
    "outputId": "a5302d6e-307e-45c5-a682-c786cc999a40"
   },
   "outputs": [
    {
     "name": "stdout",
     "output_type": "stream",
     "text": [
      "BlazingContext ready\n"
     ]
    }
   ],
   "source": [
    "from blazingsql import BlazingContext\n",
    "# start up BlazingSQL\n",
    "bc = BlazingContext()"
   ]
  },
  {
   "cell_type": "markdown",
   "metadata": {},
   "source": [
    "#### Data Path\n",
    "BlazingSQL requires the full path to the data. This cell uses the `pwd` bash command to identify the path to this directory, then add it to the relative path to the notebooks-contrib `data` directory (i.e. what you'd type in Terminal to navigate to the data)."
   ]
  },
  {
   "cell_type": "code",
   "execution_count": 4,
   "metadata": {},
   "outputs": [
    {
     "name": "stdout",
     "output_type": "stream",
     "text": [
      "['/rapids/notebooks/nc/notebooks-contrib/getting_started_materials/hello_worlds/blazingsql']\n"
     ]
    },
    {
     "data": {
      "text/plain": [
       "'/rapids/notebooks/nc/notebooks-contrib/data/blazingsql/'"
      ]
     },
     "execution_count": 4,
     "metadata": {},
     "output_type": "execute_result"
    }
   ],
   "source": [
    "# bash command, returns SList w/ path (str) at 0th index\n",
    "path = !pwd\n",
    "print(path)\n",
    "# extract path to notebooks-contrib\n",
    "path = path[0].split('getting_started_notebooks')[0] \n",
    "\n",
    "# add path to blazingsql data\n",
    "#path = path + 'data/blazingsql/'\n",
    "path = \"/rapids/notebooks/nc/notebooks-contrib/data/blazingsql/\"\n",
    "# what's it look like?\n",
    "path"
   ]
  },
  {
   "cell_type": "markdown",
   "metadata": {
    "colab_type": "text",
    "id": "N2bqpDEnZyQf"
   },
   "source": [
    "### Create Table from CSV\n",
    "Here we create a BlazingSQL table directly from a comma-separated values (CSV) file. "
   ]
  },
  {
   "cell_type": "code",
   "execution_count": 5,
   "metadata": {
    "colab": {},
    "colab_type": "code",
    "id": "HhRhj-ZvZygH"
   },
   "outputs": [],
   "source": [
    "# define column names and types\n",
    "col_names = ['diagnosis_result', 'radius', 'texture', 'perimeter']\n",
    "col_types = ['float32', 'float32', 'float32', 'float32']\n",
    "\n",
    "# create table from CSV file\n",
    "bc.create_table('data_00', path+'cancer_data_00.csv', names=col_names, dtype=col_types)"
   ]
  },
  {
   "cell_type": "markdown",
   "metadata": {
    "colab_type": "text",
    "id": "HJFz-mqZTJ5Z"
   },
   "source": [
    "### Create Table from Parquet\n",
    "Here we create a BlazingSQL table directly from an Apache Parquet file."
   ]
  },
  {
   "cell_type": "code",
   "execution_count": 6,
   "metadata": {
    "colab": {},
    "colab_type": "code",
    "id": "HJuvtJDYTMyb"
   },
   "outputs": [],
   "source": [
    "# create table from Parquet file\n",
    "bc.create_table('data_01', path+'cancer_data_01.parquet')"
   ]
  },
  {
   "cell_type": "markdown",
   "metadata": {
    "colab_type": "text",
    "id": "98HJFrt5TRa0"
   },
   "source": [
    "### Create Table from GPU DataFrame\n",
    "Here we use cuDF to create a GPU DataFrame (GDF), then use BlazingSQL to create a table from that GDF.\n",
    "\n",
    "The GDF is the standard memory representation for the RAPIDS AI ecosystem."
   ]
  },
  {
   "cell_type": "code",
   "execution_count": 7,
   "metadata": {
    "colab": {},
    "colab_type": "code",
    "id": "14GwxmLsTV_p",
    "scrolled": true
   },
   "outputs": [],
   "source": [
    "import cudf\n",
    "\n",
    "# define column names & types\n",
    "col_names = ['compactness', 'symmetry', 'fractal_dimension']\n",
    "col_types = ['float32', 'float32', 'float32', 'float32']\n",
    "\n",
    "# make GPU DataFrame from CSV w/ cuDF\n",
    "gdf_02 = cudf.read_csv(path+'cancer_data_02.csv', names=col_names, dtype=col_types)\n",
    "\n",
    "# create BlazingSQL table from cuDF DataFrame\n",
    "bc.create_table('data_02', gdf_02)"
   ]
  },
  {
   "cell_type": "markdown",
   "metadata": {
    "colab_type": "text",
    "id": "9DAZShZ2y-Nx"
   },
   "source": [
    "# Join Tables Together \n",
    "\n",
    "Now we can use BlazingSQL to join all three data formats in a single federated query. BlazingSQL queries return results as a cuDF DataFrame."
   ]
  },
  {
   "cell_type": "code",
   "execution_count": 8,
   "metadata": {
    "colab": {
     "base_uri": "https://localhost:8080/",
     "height": 1000
    },
    "colab_type": "code",
    "id": "HOYSFebvzGcX",
    "outputId": "ad133dfd-540e-4142-8f12-a4a70d803bb6",
    "scrolled": true
   },
   "outputs": [
    {
     "data": {
      "text/html": [
       "<div>\n",
       "<style scoped>\n",
       "    .dataframe tbody tr th:only-of-type {\n",
       "        vertical-align: middle;\n",
       "    }\n",
       "\n",
       "    .dataframe tbody tr th {\n",
       "        vertical-align: top;\n",
       "    }\n",
       "\n",
       "    .dataframe thead th {\n",
       "        text-align: right;\n",
       "    }\n",
       "</style>\n",
       "<table border=\"1\" class=\"dataframe\">\n",
       "  <thead>\n",
       "    <tr style=\"text-align: right;\">\n",
       "      <th></th>\n",
       "      <th>diagnosis_result</th>\n",
       "      <th>radius</th>\n",
       "      <th>texture</th>\n",
       "      <th>perimeter</th>\n",
       "      <th>area</th>\n",
       "      <th>smoothness</th>\n",
       "      <th>compactness</th>\n",
       "      <th>symmetry</th>\n",
       "      <th>fractal_dimension</th>\n",
       "    </tr>\n",
       "  </thead>\n",
       "  <tbody>\n",
       "    <tr>\n",
       "      <th>0</th>\n",
       "      <td>0.0</td>\n",
       "      <td>17.0</td>\n",
       "      <td>24.0</td>\n",
       "      <td>60.0</td>\n",
       "      <td>274.0</td>\n",
       "      <td>0.102</td>\n",
       "      <td>0.064999998</td>\n",
       "      <td>0.182000011</td>\n",
       "      <td>0.068999998</td>\n",
       "    </tr>\n",
       "    <tr>\n",
       "      <th>1</th>\n",
       "      <td>1.0</td>\n",
       "      <td>20.0</td>\n",
       "      <td>27.0</td>\n",
       "      <td>103.0</td>\n",
       "      <td>798.0</td>\n",
       "      <td>0.082</td>\n",
       "      <td>0.067000002</td>\n",
       "      <td>0.153000012</td>\n",
       "      <td>0.057</td>\n",
       "    </tr>\n",
       "    <tr>\n",
       "      <th>2</th>\n",
       "      <td>1.0</td>\n",
       "      <td>19.0</td>\n",
       "      <td>12.0</td>\n",
       "      <td>137.0</td>\n",
       "      <td>1404.0</td>\n",
       "      <td>0.094</td>\n",
       "      <td>0.101999998</td>\n",
       "      <td>0.177000001</td>\n",
       "      <td>0.052999999</td>\n",
       "    </tr>\n",
       "    <tr>\n",
       "      <th>3</th>\n",
       "      <td>1.0</td>\n",
       "      <td>9.0</td>\n",
       "      <td>13.0</td>\n",
       "      <td>110.0</td>\n",
       "      <td>905.0</td>\n",
       "      <td>0.112</td>\n",
       "      <td>0.145999998</td>\n",
       "      <td>0.200000003</td>\n",
       "      <td>0.063000001</td>\n",
       "    </tr>\n",
       "    <tr>\n",
       "      <th>4</th>\n",
       "      <td>1.0</td>\n",
       "      <td>19.0</td>\n",
       "      <td>27.0</td>\n",
       "      <td>116.0</td>\n",
       "      <td>913.0</td>\n",
       "      <td>0.119</td>\n",
       "      <td>0.228</td>\n",
       "      <td>0.30400002</td>\n",
       "      <td>0.074000001</td>\n",
       "    </tr>\n",
       "    <tr>\n",
       "      <th>...</th>\n",
       "      <td>...</td>\n",
       "      <td>...</td>\n",
       "      <td>...</td>\n",
       "      <td>...</td>\n",
       "      <td>...</td>\n",
       "      <td>...</td>\n",
       "      <td>...</td>\n",
       "      <td>...</td>\n",
       "      <td>...</td>\n",
       "    </tr>\n",
       "    <tr>\n",
       "      <th>311</th>\n",
       "      <td>0.0</td>\n",
       "      <td>10.0</td>\n",
       "      <td>17.0</td>\n",
       "      <td>87.0</td>\n",
       "      <td>566.0</td>\n",
       "      <td>0.098</td>\n",
       "      <td>0.081</td>\n",
       "      <td>0.274000019</td>\n",
       "      <td>0.07</td>\n",
       "    </tr>\n",
       "    <tr>\n",
       "      <th>312</th>\n",
       "      <td>0.0</td>\n",
       "      <td>10.0</td>\n",
       "      <td>17.0</td>\n",
       "      <td>88.0</td>\n",
       "      <td>559.0</td>\n",
       "      <td>0.102</td>\n",
       "      <td>0.126000002</td>\n",
       "      <td>0.191</td>\n",
       "      <td>0.066</td>\n",
       "    </tr>\n",
       "    <tr>\n",
       "      <th>313</th>\n",
       "      <td>0.0</td>\n",
       "      <td>17.0</td>\n",
       "      <td>21.0</td>\n",
       "      <td>86.0</td>\n",
       "      <td>520.0</td>\n",
       "      <td>0.108</td>\n",
       "      <td>0.127000004</td>\n",
       "      <td>0.192000002</td>\n",
       "      <td>0.059999999</td>\n",
       "    </tr>\n",
       "    <tr>\n",
       "      <th>314</th>\n",
       "      <td>0.0</td>\n",
       "      <td>25.0</td>\n",
       "      <td>21.0</td>\n",
       "      <td>77.0</td>\n",
       "      <td>443.0</td>\n",
       "      <td>0.097</td>\n",
       "      <td>0.071999997</td>\n",
       "      <td>0.208000004</td>\n",
       "      <td>0.059999999</td>\n",
       "    </tr>\n",
       "    <tr>\n",
       "      <th>315</th>\n",
       "      <td>0.0</td>\n",
       "      <td>23.0</td>\n",
       "      <td>27.0</td>\n",
       "      <td>95.0</td>\n",
       "      <td>685.0</td>\n",
       "      <td>0.099</td>\n",
       "      <td>0.071999997</td>\n",
       "      <td>0.208000004</td>\n",
       "      <td>0.059999999</td>\n",
       "    </tr>\n",
       "  </tbody>\n",
       "</table>\n",
       "<p>316 rows × 9 columns</p>\n",
       "</div>"
      ],
      "text/plain": [
       "     diagnosis_result  radius  texture  perimeter    area  smoothness  \\\n",
       "0                 0.0    17.0     24.0       60.0   274.0       0.102   \n",
       "1                 1.0    20.0     27.0      103.0   798.0       0.082   \n",
       "2                 1.0    19.0     12.0      137.0  1404.0       0.094   \n",
       "3                 1.0     9.0     13.0      110.0   905.0       0.112   \n",
       "4                 1.0    19.0     27.0      116.0   913.0       0.119   \n",
       "..                ...     ...      ...        ...     ...         ...   \n",
       "311               0.0    10.0     17.0       87.0   566.0       0.098   \n",
       "312               0.0    10.0     17.0       88.0   559.0       0.102   \n",
       "313               0.0    17.0     21.0       86.0   520.0       0.108   \n",
       "314               0.0    25.0     21.0       77.0   443.0       0.097   \n",
       "315               0.0    23.0     27.0       95.0   685.0       0.099   \n",
       "\n",
       "     compactness     symmetry fractal_dimension  \n",
       "0    0.064999998  0.182000011       0.068999998  \n",
       "1    0.067000002  0.153000012             0.057  \n",
       "2    0.101999998  0.177000001       0.052999999  \n",
       "3    0.145999998  0.200000003       0.063000001  \n",
       "4          0.228   0.30400002       0.074000001  \n",
       "..           ...          ...               ...  \n",
       "311        0.081  0.274000019              0.07  \n",
       "312  0.126000002        0.191             0.066  \n",
       "313  0.127000004  0.192000002       0.059999999  \n",
       "314  0.071999997  0.208000004       0.059999999  \n",
       "315  0.071999997  0.208000004       0.059999999  \n",
       "\n",
       "[316 rows x 9 columns]"
      ]
     },
     "execution_count": 8,
     "metadata": {},
     "output_type": "execute_result"
    }
   ],
   "source": [
    "# grab everything from data_00 & data_01 and area & smoothness from data_01\n",
    "query = '''\n",
    "        SELECT \n",
    "            a.*, \n",
    "            b.area, b.smoothness, \n",
    "            c.* \n",
    "        FROM \n",
    "            data_00 AS a\n",
    "        LEFT JOIN data_01 AS b\n",
    "            ON (a.perimeter = b.perimeter)\n",
    "        LEFT JOIN data_02 AS c\n",
    "            ON (b.compactness = c.compactness)\n",
    "            '''\n",
    "\n",
    "# join the tables together\n",
    "join = bc.sql(query)\n",
    "\n",
    "# display results (type(join)==cudf.core.dataframe.DataFrame)\n",
    "join"
   ]
  },
  {
   "cell_type": "markdown",
   "metadata": {
    "colab_type": "text",
    "id": "wygAeTIFTm2X"
   },
   "source": [
    "# You're Ready to Rock\n",
    "And... thats it! You are now live with BlazingSQL.\n",
    "\n",
    "Check out our [docs](https://docs.blazingdb.com) or [Twitter](https://twitter.com/blazingsql) to get fancy or to learn more about how BlazingSQL works with the rest of [RAPIDS AI](https://rapids.ai/)."
   ]
  }
 ],
 "metadata": {
  "accelerator": "GPU",
  "colab": {
   "collapsed_sections": [
    "McVBO7GHRDzz"
   ],
   "name": "BlazingSQL_Federated_Query_Demo.ipynb",
   "provenance": [],
   "toc_visible": true
  },
  "kernelspec": {
   "display_name": "Python 3",
   "language": "python",
   "name": "python3"
  },
  "language_info": {
   "codemirror_mode": {
    "name": "ipython",
    "version": 3
   },
   "file_extension": ".py",
   "mimetype": "text/x-python",
   "name": "python",
   "nbconvert_exporter": "python",
   "pygments_lexer": "ipython3",
   "version": "3.7.10"
  }
 },
 "nbformat": 4,
 "nbformat_minor": 4
}
