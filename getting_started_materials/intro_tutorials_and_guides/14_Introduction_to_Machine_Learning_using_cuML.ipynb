{
 "cells": [
  {
   "cell_type": "markdown",
   "metadata": {
    "id": "5gcvn0P37nJJ"
   },
   "source": [
    "## Machine Learning using cuML and cuDF\n",
    "\n",
    "Original Author: Jay Rodge"
   ]
  },
  {
   "cell_type": "markdown",
   "metadata": {
    "id": "fIrRbq_d7nJK"
   },
   "source": [
    "This notebook introduces how to use cuML and cuDF to build Machine Learning models.\n",
    "\n",
    "\n",
    "cuML is a suite of fast, GPU-accelerated machine learning algorithms designed for data science and analytical tasks. The API mirrors Sklearn’s, and provides practitioners with the easy fit-predict-transform paradigm without ever having to program on a GPU.\n",
    "\n",
    "cuDF is a GPU DataFrame library for loading, joining, aggregating, filtering, and otherwise manipulating data in time series datasets, especially large ones. It provides a pandas-like API, so users can readily speed up their workflow by ~800x, by changing pandas.DataFrame() to cudf.DataFrame(). You may explore the latest [cuDF API](https://docs.rapids.ai/api/cudf/nightly/api_docs/index.html)."
   ]
  },
  {
   "cell_type": "markdown",
   "metadata": {
    "id": "SSYr6H1I7nJL"
   },
   "source": [
    "The table shows the performance speed-up, comparing cuDF vs Pandas on an RTX 8000 GPU with an Intel® Core™ i7-7800X CPU @ 3.50GHz × 12 .(Details at the end.)\n",
    "\n",
    "**<p style=\"text-align: center;\">Performance Results based on test results</p>**\n",
    "\n",
    "\n",
    "|function| GPU Time | CPU Time| GPU Speedup |\n",
    "| --- | --- | --- | --- |   \n",
    "|Classification|30.2|1323.8|43.83|    \n",
    "|Regression|2.99|73.64|24.62|    \n",
    "|Clustering|3.1|60.72|19.58|    \n"
   ]
  },
  {
   "cell_type": "markdown",
   "metadata": {
    "id": "OXAPWpd97nJM"
   },
   "source": [
    "**Note**: This resource serves as an introduction to machine learning with cuML, demonstrating common algorithms for learning purposes. It's not intended as a definitive guide for feature engineering or model building. Each ML scenario is unique and might require custom techniques. Always consider your problem specifics when building ML models.\n",
    "\n",
    "The [MeteoNet Dataset](https://www.kaggle.com/datasets/katerpillar/meteonet) is downloaded and analyzed in this notebook to provide a practical example to data scientists.\n",
    "\n",
    "We'll download the dataset for you in this notebook, but it can be manually downloaded from https://meteonet.umr-cnrm.fr/dataset/data/ ."
   ]
  },
  {
   "cell_type": "markdown",
   "metadata": {
    "id": "yGwxvXJz7nJM"
   },
   "source": [
    "### Environment for RAPIDS\n",
    "You can install one of below environments for RAPIDS. Referring to [Step 2: Install Environment](https://rapids.ai/start.html), the possible environments are:\n",
    "* PIP installation\n",
    "* Conda\n",
    "* Build from source\n",
    "* Running a Docker container\n",
    "\n",
    "We'll use pip installation for this notebook. Use the [selector tool](https://docs.rapids.ai/install) to choose preferred packages:\n",
    "\n"
   ]
  },
  {
   "cell_type": "code",
   "execution_count": null,
   "metadata": {
    "colab": {
     "base_uri": "https://localhost:8080/"
    },
    "id": "IwaHFRIl9KAj",
    "outputId": "2e46cbd9-b7d3-4f17-d405-202e99cafc30"
   },
   "outputs": [
    {
     "name": "stdout",
     "output_type": "stream",
     "text": [
      "Looking in indexes: https://pypi.org/simple, https://pypi.nvidia.com\n",
      "Collecting cudf-cu11\n",
      "  Downloading https://pypi.nvidia.com/cudf-cu11/cudf_cu11-23.6.1-cp310-cp310-manylinux_2_17_x86_64.manylinux2014_x86_64.whl (489.3 MB)\n",
      "\u001b[2K     \u001b[90m━━━━━━━━━━━━━━━━━━━━━━━━━━━━━━━━━━━━━━━\u001b[0m \u001b[32m489.3/489.3 MB\u001b[0m \u001b[31m3.1 MB/s\u001b[0m eta \u001b[36m0:00:00\u001b[0m\n",
      "\u001b[?25hCollecting cuml-cu11\n",
      "  Downloading https://pypi.nvidia.com/cuml-cu11/cuml_cu11-23.6.0-cp310-cp310-manylinux_2_17_x86_64.manylinux2014_x86_64.whl (1079.0 MB)\n",
      "\u001b[2K     \u001b[90m━━━━━━━━━━━━━━━━━━━━━━━━━━━━━━━━━━━━━━━━\u001b[0m \u001b[32m1.1/1.1 GB\u001b[0m \u001b[31m688.2 kB/s\u001b[0m eta \u001b[36m0:00:00\u001b[0m\n",
      "\u001b[?25hRequirement already satisfied: cachetools in /usr/local/lib/python3.10/dist-packages (from cudf-cu11) (5.3.1)\n",
      "Collecting cubinlinker-cu11 (from cudf-cu11)\n",
      "  Downloading https://pypi.nvidia.com/cubinlinker-cu11/cubinlinker_cu11-0.3.0.post1-cp310-cp310-manylinux_2_17_x86_64.manylinux2014_x86_64.whl (8.8 MB)\n",
      "\u001b[2K     \u001b[90m━━━━━━━━━━━━━━━━━━━━━━━━━━━━━━━━━━━━━━━━\u001b[0m \u001b[32m8.8/8.8 MB\u001b[0m \u001b[31m24.7 MB/s\u001b[0m eta \u001b[36m0:00:00\u001b[0m\n",
      "\u001b[?25hCollecting cuda-python<12.0,>=11.7.1 (from cudf-cu11)\n",
      "  Downloading cuda_python-11.8.2-cp310-cp310-manylinux_2_17_x86_64.manylinux2014_x86_64.whl (16.5 MB)\n",
      "\u001b[2K     \u001b[90m━━━━━━━━━━━━━━━━━━━━━━━━━━━━━━━━━━━━━━━━\u001b[0m \u001b[32m16.5/16.5 MB\u001b[0m \u001b[31m40.2 MB/s\u001b[0m eta \u001b[36m0:00:00\u001b[0m\n",
      "\u001b[?25hCollecting cupy-cuda11x>=12.0.0 (from cudf-cu11)\n",
      "  Downloading cupy_cuda11x-12.1.0-cp310-cp310-manylinux2014_x86_64.whl (89.3 MB)\n",
      "\u001b[2K     \u001b[90m━━━━━━━━━━━━━━━━━━━━━━━━━━━━━━━━━━━━━━━━\u001b[0m \u001b[32m89.3/89.3 MB\u001b[0m \u001b[31m8.7 MB/s\u001b[0m eta \u001b[36m0:00:00\u001b[0m\n",
      "\u001b[?25hRequirement already satisfied: fsspec>=0.6.0 in /usr/local/lib/python3.10/dist-packages (from cudf-cu11) (2023.6.0)\n",
      "Collecting numba>=0.57 (from cudf-cu11)\n",
      "  Downloading numba-0.57.1-cp310-cp310-manylinux2014_x86_64.manylinux_2_17_x86_64.whl (3.6 MB)\n",
      "\u001b[2K     \u001b[90m━━━━━━━━━━━━━━━━━━━━━━━━━━━━━━━━━━━━━━━━\u001b[0m \u001b[32m3.6/3.6 MB\u001b[0m \u001b[31m32.4 MB/s\u001b[0m eta \u001b[36m0:00:00\u001b[0m\n",
      "\u001b[?25hRequirement already satisfied: numpy>=1.21 in /usr/local/lib/python3.10/dist-packages (from cudf-cu11) (1.22.4)\n",
      "Collecting nvtx>=0.2.1 (from cudf-cu11)\n",
      "  Downloading nvtx-0.2.5-cp310-cp310-manylinux_2_17_x86_64.manylinux2014_x86_64.whl (428 kB)\n",
      "\u001b[2K     \u001b[90m━━━━━━━━━━━━━━━━━━━━━━━━━━━━━━━━━━━━━━\u001b[0m \u001b[32m428.4/428.4 kB\u001b[0m \u001b[31m33.3 MB/s\u001b[0m eta \u001b[36m0:00:00\u001b[0m\n",
      "\u001b[?25hRequirement already satisfied: packaging in /usr/local/lib/python3.10/dist-packages (from cudf-cu11) (23.1)\n",
      "Requirement already satisfied: pandas<1.6.0dev0,>=1.3 in /usr/local/lib/python3.10/dist-packages (from cudf-cu11) (1.5.3)\n",
      "Collecting protobuf<4.22,>=4.21.6 (from cudf-cu11)\n",
      "  Downloading protobuf-4.21.12-cp37-abi3-manylinux2014_x86_64.whl (409 kB)\n",
      "\u001b[2K     \u001b[90m━━━━━━━━━━━━━━━━━━━━━━━━━━━━━━━━━━━━━━\u001b[0m \u001b[32m409.8/409.8 kB\u001b[0m \u001b[31m31.5 MB/s\u001b[0m eta \u001b[36m0:00:00\u001b[0m\n",
      "\u001b[?25hCollecting ptxcompiler-cu11 (from cudf-cu11)\n",
      "  Downloading https://pypi.nvidia.com/ptxcompiler-cu11/ptxcompiler_cu11-0.7.0.post1-cp310-cp310-manylinux_2_17_x86_64.manylinux2014_x86_64.whl (8.8 MB)\n",
      "\u001b[2K     \u001b[90m━━━━━━━━━━━━━━━━━━━━━━━━━━━━━━━━━━━━━━━━\u001b[0m \u001b[32m8.8/8.8 MB\u001b[0m \u001b[31m104.2 MB/s\u001b[0m eta \u001b[36m0:00:00\u001b[0m\n",
      "\u001b[?25hCollecting pyarrow==11.* (from cudf-cu11)\n",
      "  Downloading pyarrow-11.0.0-cp310-cp310-manylinux_2_17_x86_64.manylinux2014_x86_64.whl (34.9 MB)\n",
      "\u001b[2K     \u001b[90m━━━━━━━━━━━━━━━━━━━━━━━━━━━━━━━━━━━━━━━━\u001b[0m \u001b[32m34.9/34.9 MB\u001b[0m \u001b[31m14.2 MB/s\u001b[0m eta \u001b[36m0:00:00\u001b[0m\n",
      "\u001b[?25hCollecting rmm-cu11==23.6.* (from cudf-cu11)\n",
      "  Downloading https://pypi.nvidia.com/rmm-cu11/rmm_cu11-23.6.0-cp310-cp310-manylinux_2_17_x86_64.manylinux2014_x86_64.whl (1.7 MB)\n",
      "\u001b[2K     \u001b[90m━━━━━━━━━━━━━━━━━━━━━━━━━━━━━━━━━━━━━━━━\u001b[0m \u001b[32m1.7/1.7 MB\u001b[0m \u001b[31m74.1 MB/s\u001b[0m eta \u001b[36m0:00:00\u001b[0m\n",
      "\u001b[?25hRequirement already satisfied: typing-extensions>=4.0.0 in /usr/local/lib/python3.10/dist-packages (from cudf-cu11) (4.6.3)\n",
      "Collecting dask-cuda==23.6.* (from cuml-cu11)\n",
      "  Downloading dask_cuda-23.6.0-py3-none-any.whl (125 kB)\n",
      "\u001b[2K     \u001b[90m━━━━━━━━━━━━━━━━━━━━━━━━━━━━━━━━━━━━━━\u001b[0m \u001b[32m125.2/125.2 kB\u001b[0m \u001b[31m11.7 MB/s\u001b[0m eta \u001b[36m0:00:00\u001b[0m\n",
      "\u001b[?25hCollecting dask-cudf-cu11==23.6.* (from cuml-cu11)\n",
      "  Downloading https://pypi.nvidia.com/dask-cudf-cu11/dask_cudf_cu11-23.6.0-py3-none-any.whl (79 kB)\n",
      "\u001b[2K     \u001b[90m━━━━━━━━━━━━━━━━━━━━━━━━━━━━━━━━━━━━━━━━\u001b[0m \u001b[32m79.6/79.6 kB\u001b[0m \u001b[31m8.4 MB/s\u001b[0m eta \u001b[36m0:00:00\u001b[0m\n",
      "\u001b[?25hCollecting dask==2023.3.2 (from cuml-cu11)\n",
      "  Downloading dask-2023.3.2-py3-none-any.whl (1.2 MB)\n",
      "\u001b[2K     \u001b[90m━━━━━━━━━━━━━━━━━━━━━━━━━━━━━━━━━━━━━━━━\u001b[0m \u001b[32m1.2/1.2 MB\u001b[0m \u001b[31m34.6 MB/s\u001b[0m eta \u001b[36m0:00:00\u001b[0m\n",
      "\u001b[?25hCollecting distributed==2023.3.2.1 (from cuml-cu11)\n",
      "  Downloading distributed-2023.3.2.1-py3-none-any.whl (957 kB)\n",
      "\u001b[2K     \u001b[90m━━━━━━━━━━━━━━━━━━━━━━━━━━━━━━━━━━━━━━\u001b[0m \u001b[32m957.1/957.1 kB\u001b[0m \u001b[31m36.7 MB/s\u001b[0m eta \u001b[36m0:00:00\u001b[0m\n",
      "\u001b[?25hRequirement already satisfied: joblib>=0.11 in /usr/local/lib/python3.10/dist-packages (from cuml-cu11) (1.2.0)\n",
      "Collecting raft-dask-cu11==23.6.* (from cuml-cu11)\n",
      "  Downloading https://pypi.nvidia.com/raft-dask-cu11/raft_dask_cu11-23.6.2-cp310-cp310-manylinux_2_17_x86_64.manylinux2014_x86_64.whl (214.7 MB)\n",
      "\u001b[2K     \u001b[90m━━━━━━━━━━━━━━━━━━━━━━━━━━━━━━━━━━━━━━━\u001b[0m \u001b[32m214.7/214.7 MB\u001b[0m \u001b[31m2.2 MB/s\u001b[0m eta \u001b[36m0:00:00\u001b[0m\n",
      "\u001b[?25hRequirement already satisfied: scipy in /usr/local/lib/python3.10/dist-packages (from cuml-cu11) (1.10.1)\n",
      "Collecting treelite==3.2.0 (from cuml-cu11)\n",
      "  Downloading treelite-3.2.0-py3-none-manylinux2014_x86_64.whl (1.0 MB)\n",
      "\u001b[2K     \u001b[90m━━━━━━━━━━━━━━━━━━━━━━━━━━━━━━━━━━━━━━━━\u001b[0m \u001b[32m1.0/1.0 MB\u001b[0m \u001b[31m58.5 MB/s\u001b[0m eta \u001b[36m0:00:00\u001b[0m\n",
      "\u001b[?25hCollecting treelite-runtime==3.2.0 (from cuml-cu11)\n",
      "  Downloading treelite_runtime-3.2.0-py3-none-manylinux2014_x86_64.whl (198 kB)\n",
      "\u001b[2K     \u001b[90m━━━━━━━━━━━━━━━━━━━━━━━━━━━━━━━━━━━━━━\u001b[0m \u001b[32m198.2/198.2 kB\u001b[0m \u001b[31m21.5 MB/s\u001b[0m eta \u001b[36m0:00:00\u001b[0m\n",
      "\u001b[?25hRequirement already satisfied: click>=7.0 in /usr/local/lib/python3.10/dist-packages (from dask==2023.3.2->cuml-cu11) (8.1.3)\n",
      "Requirement already satisfied: cloudpickle>=1.1.1 in /usr/local/lib/python3.10/dist-packages (from dask==2023.3.2->cuml-cu11) (2.2.1)\n",
      "Requirement already satisfied: partd>=1.2.0 in /usr/local/lib/python3.10/dist-packages (from dask==2023.3.2->cuml-cu11) (1.4.0)\n",
      "Requirement already satisfied: pyyaml>=5.3.1 in /usr/local/lib/python3.10/dist-packages (from dask==2023.3.2->cuml-cu11) (6.0)\n",
      "Requirement already satisfied: toolz>=0.8.2 in /usr/local/lib/python3.10/dist-packages (from dask==2023.3.2->cuml-cu11) (0.12.0)\n",
      "Collecting importlib-metadata>=4.13.0 (from dask==2023.3.2->cuml-cu11)\n",
      "  Downloading importlib_metadata-6.7.0-py3-none-any.whl (22 kB)\n",
      "Collecting pynvml<11.5,>=11.0.0 (from dask-cuda==23.6.*->cuml-cu11)\n",
      "  Downloading pynvml-11.4.1-py3-none-any.whl (46 kB)\n",
      "\u001b[2K     \u001b[90m━━━━━━━━━━━━━━━━━━━━━━━━━━━━━━━━━━━━━━━━\u001b[0m \u001b[32m47.0/47.0 kB\u001b[0m \u001b[31m4.6 MB/s\u001b[0m eta \u001b[36m0:00:00\u001b[0m\n",
      "\u001b[?25hRequirement already satisfied: zict>=2.0.0 in /usr/local/lib/python3.10/dist-packages (from dask-cuda==23.6.*->cuml-cu11) (3.0.0)\n",
      "Requirement already satisfied: jinja2>=2.10.3 in /usr/local/lib/python3.10/dist-packages (from distributed==2023.3.2.1->cuml-cu11) (3.1.2)\n",
      "Requirement already satisfied: locket>=1.0.0 in /usr/local/lib/python3.10/dist-packages (from distributed==2023.3.2.1->cuml-cu11) (1.0.0)\n",
      "Requirement already satisfied: msgpack>=1.0.0 in /usr/local/lib/python3.10/dist-packages (from distributed==2023.3.2.1->cuml-cu11) (1.0.5)\n",
      "Requirement already satisfied: psutil>=5.7.0 in /usr/local/lib/python3.10/dist-packages (from distributed==2023.3.2.1->cuml-cu11) (5.9.5)\n",
      "Requirement already satisfied: sortedcontainers>=2.0.5 in /usr/local/lib/python3.10/dist-packages (from distributed==2023.3.2.1->cuml-cu11) (2.4.0)\n",
      "Requirement already satisfied: tblib>=1.6.0 in /usr/local/lib/python3.10/dist-packages (from distributed==2023.3.2.1->cuml-cu11) (2.0.0)\n",
      "Requirement already satisfied: tornado>=6.0.3 in /usr/local/lib/python3.10/dist-packages (from distributed==2023.3.2.1->cuml-cu11) (6.3.1)\n",
      "Requirement already satisfied: urllib3>=1.24.3 in /usr/local/lib/python3.10/dist-packages (from distributed==2023.3.2.1->cuml-cu11) (1.26.16)\n",
      "Collecting pylibraft-cu11==23.6.* (from raft-dask-cu11==23.6.*->cuml-cu11)\n",
      "  Downloading https://pypi.nvidia.com/pylibraft-cu11/pylibraft_cu11-23.6.2-cp310-cp310-manylinux_2_17_x86_64.manylinux2014_x86_64.whl (471.7 MB)\n",
      "\u001b[2K     \u001b[90m━━━━━━━━━━━━━━━━━━━━━━━━━━━━━━━━━━━━━━━\u001b[0m \u001b[32m471.7/471.7 MB\u001b[0m \u001b[31m1.0 MB/s\u001b[0m eta \u001b[36m0:00:00\u001b[0m\n",
      "\u001b[?25hCollecting ucx-py-cu11==0.32.* (from raft-dask-cu11==23.6.*->cuml-cu11)\n",
      "  Downloading https://pypi.nvidia.com/ucx-py-cu11/ucx_py_cu11-0.32.0-cp310-cp310-manylinux_2_17_x86_64.manylinux2014_x86_64.whl (7.9 MB)\n",
      "\u001b[2K     \u001b[90m━━━━━━━━━━━━━━━━━━━━━━━━━━━━━━━━━━━━━━━━\u001b[0m \u001b[32m7.9/7.9 MB\u001b[0m \u001b[31m91.8 MB/s\u001b[0m eta \u001b[36m0:00:00\u001b[0m\n",
      "\u001b[?25hRequirement already satisfied: cython in /usr/local/lib/python3.10/dist-packages (from cuda-python<12.0,>=11.7.1->cudf-cu11) (0.29.35)\n",
      "Requirement already satisfied: fastrlock>=0.5 in /usr/local/lib/python3.10/dist-packages (from cupy-cuda11x>=12.0.0->cudf-cu11) (0.8.1)\n",
      "Collecting llvmlite<0.41,>=0.40.0dev0 (from numba>=0.57->cudf-cu11)\n",
      "  Downloading llvmlite-0.40.1-cp310-cp310-manylinux_2_17_x86_64.manylinux2014_x86_64.whl (42.1 MB)\n",
      "\u001b[2K     \u001b[90m━━━━━━━━━━━━━━━━━━━━━━━━━━━━━━━━━━━━━━━━\u001b[0m \u001b[32m42.1/42.1 MB\u001b[0m \u001b[31m12.7 MB/s\u001b[0m eta \u001b[36m0:00:00\u001b[0m\n",
      "\u001b[?25hRequirement already satisfied: python-dateutil>=2.8.1 in /usr/local/lib/python3.10/dist-packages (from pandas<1.6.0dev0,>=1.3->cudf-cu11) (2.8.2)\n",
      "Requirement already satisfied: pytz>=2020.1 in /usr/local/lib/python3.10/dist-packages (from pandas<1.6.0dev0,>=1.3->cudf-cu11) (2022.7.1)\n",
      "Requirement already satisfied: zipp>=0.5 in /usr/local/lib/python3.10/dist-packages (from importlib-metadata>=4.13.0->dask==2023.3.2->cuml-cu11) (3.15.0)\n",
      "Requirement already satisfied: MarkupSafe>=2.0 in /usr/local/lib/python3.10/dist-packages (from jinja2>=2.10.3->distributed==2023.3.2.1->cuml-cu11) (2.1.3)\n",
      "Requirement already satisfied: six>=1.5 in /usr/local/lib/python3.10/dist-packages (from python-dateutil>=2.8.1->pandas<1.6.0dev0,>=1.3->cudf-cu11) (1.16.0)\n",
      "Installing collected packages: ptxcompiler-cu11, nvtx, cubinlinker-cu11, pynvml, pyarrow, protobuf, llvmlite, importlib-metadata, cupy-cuda11x, cuda-python, ucx-py-cu11, treelite-runtime, treelite, numba, dask, rmm-cu11, distributed, pylibraft-cu11, dask-cuda, cudf-cu11, raft-dask-cu11, dask-cudf-cu11, cuml-cu11\n",
      "  Attempting uninstall: pyarrow\n",
      "    Found existing installation: pyarrow 9.0.0\n",
      "    Uninstalling pyarrow-9.0.0:\n",
      "      Successfully uninstalled pyarrow-9.0.0\n",
      "  Attempting uninstall: protobuf\n",
      "    Found existing installation: protobuf 3.20.3\n",
      "    Uninstalling protobuf-3.20.3:\n",
      "      Successfully uninstalled protobuf-3.20.3\n",
      "  Attempting uninstall: llvmlite\n",
      "    Found existing installation: llvmlite 0.39.1\n",
      "    Uninstalling llvmlite-0.39.1:\n",
      "      Successfully uninstalled llvmlite-0.39.1\n",
      "  Attempting uninstall: numba\n",
      "    Found existing installation: numba 0.56.4\n",
      "    Uninstalling numba-0.56.4:\n",
      "      Successfully uninstalled numba-0.56.4\n",
      "  Attempting uninstall: dask\n",
      "    Found existing installation: dask 2022.12.1\n",
      "    Uninstalling dask-2022.12.1:\n",
      "      Successfully uninstalled dask-2022.12.1\n",
      "  Attempting uninstall: distributed\n",
      "    Found existing installation: distributed 2022.12.1\n",
      "    Uninstalling distributed-2022.12.1:\n",
      "      Successfully uninstalled distributed-2022.12.1\n",
      "\u001b[31mERROR: pip's dependency resolver does not currently take into account all the packages that are installed. This behaviour is the source of the following dependency conflicts.\n",
      "pandas-gbq 0.17.9 requires pyarrow<10.0dev,>=3.0.0, but you have pyarrow 11.0.0 which is incompatible.\u001b[0m\u001b[31m\n",
      "\u001b[0mSuccessfully installed cubinlinker-cu11-0.3.0.post1 cuda-python-11.8.2 cudf-cu11-23.6.1 cuml-cu11-23.6.0 cupy-cuda11x-12.1.0 dask-2023.3.2 dask-cuda-23.6.0 dask-cudf-cu11-23.6.0 distributed-2023.3.2.1 importlib-metadata-6.7.0 llvmlite-0.40.1 numba-0.57.1 nvtx-0.2.5 protobuf-4.21.12 ptxcompiler-cu11-0.7.0.post1 pyarrow-11.0.0 pylibraft-cu11-23.6.2 pynvml-11.4.1 raft-dask-cu11-23.6.2 rmm-cu11-23.6.0 treelite-3.2.0 treelite-runtime-3.2.0 ucx-py-cu11-0.32.0\n"
     ]
    }
   ],
   "source": [
    "#!pip install cudf-cu12 cuml-cu12 --extra-index-url=https://pypi.nvidia.com"
   ]
  },
  {
   "cell_type": "markdown",
   "metadata": {
    "id": "3VKISyI37nJN"
   },
   "source": [
    "### Download the Dataset\n",
    "During this first task, let's use the Northwest France ground station data. Each parameter was measured every six minutes (10 times an hour). The parameters in the data set are listed below. More detailed information is available in [this Github repo](https://meteofrance.github.io/meteonet/english/data/ground-observations/)."
   ]
  },
  {
   "cell_type": "markdown",
   "metadata": {
    "id": "WyUXElMc7nJN"
   },
   "source": [
    "The parameters in the data set are listed below. Detailed information can refer [dataset information](https://meteofrance.github.io/meteonet/english/data/ground-observations/)   \n",
    "**<p style=\"text-align: center;\">Metadata</p>**\n",
    "\n",
    "|Name| Description | Unit|   \n",
    "| --- | --- | --- |          \n",
    "|number_sta|ground station ID| - |   \n",
    "|lat| latitude| decimal degrees (10^-1°) |    \n",
    "|lon| longitude| decimal degrees (10^-1°) |   \n",
    "|height_sta| station height| meters(m) |    \n",
    "|date| a datetime object| format 'YYYY-MM-DD HH:mm:ss' |    "
   ]
  },
  {
   "cell_type": "markdown",
   "metadata": {
    "id": "jHEcWKzw7nJO"
   },
   "source": [
    "**<p style=\"text-align: center;\">Meteorological Parameters</p>**\n",
    "\n",
    "|Name| Description | Unit|\n",
    "| --- | --- | --- |   \n",
    "|dd| Wind direction | degrees (°)|    \n",
    "|ff| Wind speed | m.s^-1|    \n",
    "|precip| Precipitation during the reporting period | kg.m^2|    \n",
    "|hu| Humidity | % |       \n",
    "|td| Dew point | Kelvin (K) |     \n",
    "|t| Temperature | Kelvin (K) |   \n",
    "|psl| Pressure reduced to sea level | Pascal (Pa)|   "
   ]
  },
  {
   "cell_type": "markdown",
   "metadata": {
    "id": "ocbm5fjZ7nJO"
   },
   "source": [
    "With the data now described, let's download and unzip the dataset."
   ]
  },
  {
   "cell_type": "code",
   "execution_count": null,
   "metadata": {
    "colab": {
     "base_uri": "https://localhost:8080/"
    },
    "id": "dXxjvzks7nJO",
    "outputId": "f127678c-1540-42d9-d594-c565f89ef334"
   },
   "outputs": [
    {
     "name": "stdout",
     "output_type": "stream",
     "text": [
      "  % Total    % Received % Xferd  Average Speed   Time    Time     Time  Current\n",
      "                                 Dload  Upload   Total   Spent    Left  Speed\n",
      "100  174M  100  174M    0     0  4382k      0  0:00:40  0:00:40 --:--:-- 4379k\n",
      "  % Total    % Received % Xferd  Average Speed   Time    Time     Time  Current\n",
      "                                 Dload  Upload   Total   Spent    Left  Speed\n",
      "100  174M  100  174M    0     0  4016k      0  0:00:44  0:00:44 --:--:-- 4871k\n",
      "  % Total    % Received % Xferd  Average Speed   Time    Time     Time  Current\n",
      "                                 Dload  Upload   Total   Spent    Left  Speed\n",
      "100  172M  100  172M    0     0  4083k      0  0:00:43  0:00:43 --:--:-- 4473k\n"
     ]
    }
   ],
   "source": [
    "# Download dataset\n",
    "!if [ ! -f \"NW2018.csv\" ]; then curl https://meteonet.umr-cnrm.fr/dataset/data/NW/ground_stations/NW_ground_stations_2018.tar.gz -o NW_ground_stations_2018.tar.gz; else echo \"NW2018.csv found\"; fi\n",
    "!if [ ! -f \"NW2017.csv\" ]; then curl https://meteonet.umr-cnrm.fr/dataset/data/NW/ground_stations/NW_ground_stations_2017.tar.gz -o NW_ground_stations_2017.tar.gz; else echo \"NW2017.csv found\"; fi\n",
    "!if [ ! -f \"NW2016.csv\" ]; then curl https://meteonet.umr-cnrm.fr/dataset/data/NW/ground_stations/NW_ground_stations_2016.tar.gz -o NW_ground_stations_2016.tar.gz; else echo \"NW2016.csv found\"; fi\n",
    "\n",
    "\n",
    "import warnings\n",
    "warnings.filterwarnings(\"ignore\", category=UserWarning)"
   ]
  },
  {
   "cell_type": "code",
   "execution_count": null,
   "metadata": {
    "colab": {
     "base_uri": "https://localhost:8080/"
    },
    "id": "yoLTxKCC7nJP",
    "outputId": "08041741-07e7-44bd-e3d4-f7325fc52c0d"
   },
   "outputs": [
    {
     "name": "stdout",
     "output_type": "stream",
     "text": [
      "NW2018.csv\n",
      "NW2017.csv\n",
      "NW2016.csv\n"
     ]
    }
   ],
   "source": [
    "# Unzip it in the shell\n",
    "# Let's untar and unzip them\n",
    "!if [ ! -f \"NW2018.csv\" ]; then tar -xvf NW_ground_stations_2018.tar.gz && rm -f NW_ground_stations_2018.tar.gz; else echo \"NW2018.csv found\"; fi\n",
    "!if [ ! -f \"NW2017.csv\" ]; then tar -xvf NW_ground_stations_2017.tar.gz && rm -f NW_ground_stations_2017.tar.gz; else echo \"NW2017.csv found\"; fi\n",
    "!if [ ! -f \"NW2016.csv\" ]; then tar -xvf NW_ground_stations_2016.tar.gz && rm -f NW_ground_stations_2016.tar.gz; else echo \"NW2016.csv found\"; fi"
   ]
  },
  {
   "cell_type": "code",
   "execution_count": null,
   "metadata": {
    "colab": {
     "base_uri": "https://localhost:8080/"
    },
    "id": "6o8A50lb7nJQ",
    "outputId": "5e644a5b-46ae-46ce-e53f-7adcf94db8dc"
   },
   "outputs": [
    {
     "name": "stdout",
     "output_type": "stream",
     "text": [
      "1.7G -rw-r--r-- 1 19107 23020 1.7G Jan 23  2020 NW2016.csv\n",
      "1.7G -rw-r--r-- 1 19107 23020 1.7G Jan 23  2020 NW2017.csv\n",
      "1.7G -rw-r--r-- 1 19107 23020 1.7G Jan 23  2020 NW2018.csv\n"
     ]
    }
   ],
   "source": [
    "# Are they listed?\n",
    "!ls -l -sh NW2*.csv"
   ]
  },
  {
   "cell_type": "markdown",
   "metadata": {
    "id": "vGY4XMqk7nJQ"
   },
   "source": [
    "**Note**: The following processing uses a combined dataset from years 2016, 2017, and 2018, which is about 6GB in size. If limited by the GPU's memory (out of memory error), you can load just one of the datasets to investigate how cuDF works."
   ]
  },
  {
   "cell_type": "code",
   "execution_count": 1,
   "metadata": {
    "id": "kDbd4D9V7nJR"
   },
   "outputs": [],
   "source": [
    "import cudf\n",
    "import cuml\n",
    "import pandas as pd"
   ]
  },
  {
   "cell_type": "code",
   "execution_count": 2,
   "metadata": {
    "id": "-4xgOJq47nJQ"
   },
   "outputs": [
    {
     "name": "stdout",
     "output_type": "stream",
     "text": [
      "<class 'cudf.core.dataframe.DataFrame'>\n",
      "RangeIndex: 65826837 entries, 0 to 65826836\n",
      "Data columns (total 12 columns):\n",
      " #   Column      Dtype\n",
      "---  ------      -----\n",
      " 0   number_sta  int64\n",
      " 1   lat         float64\n",
      " 2   lon         float64\n",
      " 3   height_sta  float64\n",
      " 4   date        object\n",
      " 5   dd          float64\n",
      " 6   ff          float64\n",
      " 7   precip      float64\n",
      " 8   hu          float64\n",
      " 9   td          float64\n",
      " 10  t           float64\n",
      "        object\n",
      "dtypes: float64(9), int64(1), object(2)\n",
      "memory usage: 6.5+ GB\n"
     ]
    }
   ],
   "source": [
    "# Empty DataFrame placeholders so you can select just one or two of the years of data.\n",
    "gdf_2016 = cudf.DataFrame()\n",
    "gdf_2017 = cudf.DataFrame()\n",
    "gdf_2018 = cudf.DataFrame()\n",
    "\n",
    "# **********NOTE***********\n",
    "# Comment out one or two of these if your GPU memory is full.\n",
    "gdf_2016 = cudf.read_csv('./NW2016.csv')\n",
    "gdf_2017 = cudf.read_csv('./NW2017.csv')\n",
    "gdf_2018 = cudf.read_csv('./NW2018.csv')\n",
    "\n",
    "gdf_frames =[gdf_2016,gdf_2017,gdf_2018]\n",
    "GS_cudf = cudf.concat(gdf_frames,ignore_index=True)\n",
    "GS_cudf.info()"
   ]
  },
  {
   "cell_type": "code",
   "execution_count": 3,
   "metadata": {},
   "outputs": [],
   "source": [
    "## Save the (concatenated) dataframe to csv file\n",
    "GS_cudf.to_csv('./NW_data.csv',index=False,chunksize=500000)"
   ]
  },
  {
   "cell_type": "code",
   "execution_count": 4,
   "metadata": {
    "id": "GhnmWBYp7nJR"
   },
   "outputs": [],
   "source": [
    "df = cudf.read_csv('./NW_data.csv')"
   ]
  },
  {
   "cell_type": "code",
   "execution_count": 5,
   "metadata": {
    "id": "bT--7xPy7nJR",
    "outputId": "2df9daf0-f6c0-4c97-f0df-a0f85fe817a3",
    "scrolled": true
   },
   "outputs": [
    {
     "data": {
      "text/html": [
       "<div>\n",
       "<style scoped>\n",
       "    .dataframe tbody tr th:only-of-type {\n",
       "        vertical-align: middle;\n",
       "    }\n",
       "\n",
       "    .dataframe tbody tr th {\n",
       "        vertical-align: top;\n",
       "    }\n",
       "\n",
       "    .dataframe thead th {\n",
       "        text-align: right;\n",
       "    }\n",
       "</style>\n",
       "<table border=\"1\" class=\"dataframe\">\n",
       "  <thead>\n",
       "    <tr style=\"text-align: right;\">\n",
       "      <th></th>\n",
       "      <th>number_sta</th>\n",
       "      <th>lat</th>\n",
       "      <th>lon</th>\n",
       "      <th>height_sta</th>\n",
       "      <th>date</th>\n",
       "      <th>dd</th>\n",
       "      <th>ff</th>\n",
       "      <th>precip</th>\n",
       "      <th>hu</th>\n",
       "      <th>td</th>\n",
       "      <th>t</th>\n",
       "      <th>psl</th>\n",
       "    </tr>\n",
       "  </thead>\n",
       "  <tbody>\n",
       "    <tr>\n",
       "      <th>0</th>\n",
       "      <td>14066001</td>\n",
       "      <td>49.33</td>\n",
       "      <td>-0.43</td>\n",
       "      <td>2.0</td>\n",
       "      <td>20160101 00:00</td>\n",
       "      <td>210.0</td>\n",
       "      <td>4.4</td>\n",
       "      <td>0.0</td>\n",
       "      <td>91.0</td>\n",
       "      <td>278.45</td>\n",
       "      <td>279.85</td>\n",
       "      <td>&lt;NA&gt;</td>\n",
       "    </tr>\n",
       "    <tr>\n",
       "      <th>1</th>\n",
       "      <td>14126001</td>\n",
       "      <td>49.15</td>\n",
       "      <td>0.04</td>\n",
       "      <td>125.0</td>\n",
       "      <td>20160101 00:00</td>\n",
       "      <td>&lt;NA&gt;</td>\n",
       "      <td>&lt;NA&gt;</td>\n",
       "      <td>0.0</td>\n",
       "      <td>99.0</td>\n",
       "      <td>278.35</td>\n",
       "      <td>278.45</td>\n",
       "      <td>&lt;NA&gt;</td>\n",
       "    </tr>\n",
       "    <tr>\n",
       "      <th>2</th>\n",
       "      <td>14137001</td>\n",
       "      <td>49.18</td>\n",
       "      <td>-0.46</td>\n",
       "      <td>67.0</td>\n",
       "      <td>20160101 00:00</td>\n",
       "      <td>220.0</td>\n",
       "      <td>0.6</td>\n",
       "      <td>0.0</td>\n",
       "      <td>92.0</td>\n",
       "      <td>276.45</td>\n",
       "      <td>277.65</td>\n",
       "      <td>102360.0</td>\n",
       "    </tr>\n",
       "    <tr>\n",
       "      <th>3</th>\n",
       "      <td>14216001</td>\n",
       "      <td>48.93</td>\n",
       "      <td>-0.15</td>\n",
       "      <td>155.0</td>\n",
       "      <td>20160101 00:00</td>\n",
       "      <td>220.0</td>\n",
       "      <td>1.9</td>\n",
       "      <td>0.0</td>\n",
       "      <td>95.0</td>\n",
       "      <td>278.25</td>\n",
       "      <td>278.95</td>\n",
       "      <td>&lt;NA&gt;</td>\n",
       "    </tr>\n",
       "    <tr>\n",
       "      <th>4</th>\n",
       "      <td>14296001</td>\n",
       "      <td>48.80</td>\n",
       "      <td>-1.03</td>\n",
       "      <td>339.0</td>\n",
       "      <td>20160101 00:00</td>\n",
       "      <td>&lt;NA&gt;</td>\n",
       "      <td>&lt;NA&gt;</td>\n",
       "      <td>0.0</td>\n",
       "      <td>&lt;NA&gt;</td>\n",
       "      <td>&lt;NA&gt;</td>\n",
       "      <td>278.35</td>\n",
       "      <td>&lt;NA&gt;</td>\n",
       "    </tr>\n",
       "  </tbody>\n",
       "</table>\n",
       "</div>"
      ],
      "text/plain": [
       "   number_sta    lat   lon  height_sta            date     dd    ff  precip  \\\n",
       "0    14066001  49.33 -0.43         2.0  20160101 00:00  210.0   4.4     0.0   \n",
       "1    14126001  49.15  0.04       125.0  20160101 00:00   <NA>  <NA>     0.0   \n",
       "2    14137001  49.18 -0.46        67.0  20160101 00:00  220.0   0.6     0.0   \n",
       "3    14216001  48.93 -0.15       155.0  20160101 00:00  220.0   1.9     0.0   \n",
       "4    14296001  48.80 -1.03       339.0  20160101 00:00   <NA>  <NA>     0.0   \n",
       "\n",
       "     hu      td       t       psl  \n",
       "0  91.0  278.45  279.85      <NA>  \n",
       "1  99.0  278.35  278.45      <NA>  \n",
       "2  92.0  276.45  277.65  102360.0  \n",
       "3  95.0  278.25  278.95      <NA>  \n",
       "4  <NA>    <NA>  278.35      <NA>  "
      ]
     },
     "execution_count": 5,
     "metadata": {},
     "output_type": "execute_result"
    }
   ],
   "source": [
    "df.head()"
   ]
  },
  {
   "cell_type": "markdown",
   "metadata": {
    "id": "D3GNQy0M7nJS"
   },
   "source": [
    "Now that we have our dataset is ready, let's learn build Machine Learning models for problem based on Regression, Clustering and Classification."
   ]
  },
  {
   "cell_type": "markdown",
   "metadata": {
    "id": "Vntj1Vgv7nJS"
   },
   "source": [
    "## Regression"
   ]
  },
  {
   "cell_type": "markdown",
   "metadata": {
    "id": "EsjaMBwZ7nJS"
   },
   "source": [
    "Regression is an ML algorithm used to predict a continuous value based on a set of features. For example, you could use regression to predict the price of a house based on its features, such as the number of bedrooms, the square footage, and the location."
   ]
  },
  {
   "cell_type": "markdown",
   "metadata": {
    "id": "qk9tPcf77nJT"
   },
   "source": [
    "Linear Regression, specifically, models the relationship between a dependent variable and one or more independent variables. It assumes this relationship to be linear. It's a straightforward and efficient method which can provide a useful interpretation of our weather data.\n",
    "\n"
   ]
  },
  {
   "cell_type": "markdown",
   "metadata": {
    "id": "WSgYYFM77nJT"
   },
   "source": [
    " In the context of our weather dataset, we'll be applying Linear Regression to predict following weather parameters based on other features in the dataset:\n",
    " - temperature\n",
    " - humidity"
   ]
  },
  {
   "cell_type": "markdown",
   "metadata": {
    "id": "EWprbtVV7nJT"
   },
   "source": [
    "To perform Linear Regression on the Meteonet dataset, we first load the data and preprocess it. The preprocessing includes encoding categorical variables, normalizing numeric features, and extracting the hour from the date.\n",
    "\n"
   ]
  },
  {
   "cell_type": "code",
   "execution_count": 6,
   "metadata": {
    "id": "NoilRq6M7nJT"
   },
   "outputs": [],
   "source": [
    "import cudf\n",
    "import cuml\n",
    "from cuml import make_regression, train_test_split\n",
    "from cuml.linear_model import LinearRegression as cuLinearRegression\n",
    "from cuml.metrics.regression import r2_score\n",
    "from cuml.preprocessing.LabelEncoder import LabelEncoder\n",
    "\n",
    "\n",
    "# Load data\n",
    "df = cudf.read_csv('./NW_data.csv').dropna()"
   ]
  },
  {
   "cell_type": "markdown",
   "metadata": {
    "id": "cc76q0W47nJU"
   },
   "source": [
    "#### Encoding Categorical Variables\n",
    "Machine Learning models generally prefer numerical inputs. Hence, encoding categorical variables into numeric formats often becomes a necessary preprocessing step. In our example, we encode the number_sta column, which represents the weather station number and is categorical in nature, to a numeric format using LabelEncoder. LabelEncoder assigns a unique numeric value to each unique category in the column."
   ]
  },
  {
   "cell_type": "code",
   "execution_count": 7,
   "metadata": {
    "id": "SFkfEcwu7nJU"
   },
   "outputs": [],
   "source": [
    "# Convert categorical variables to numeric variables\n",
    "le = LabelEncoder()\n",
    "df['number_sta'] = le.fit_transform(df['number_sta'])"
   ]
  },
  {
   "cell_type": "markdown",
   "metadata": {
    "id": "rTe6rUl77nJU"
   },
   "source": [
    "#### Normalizing Numeric Features\n",
    "\n",
    "Normalization of numeric features is a crucial preprocessing step, particularly for models that use distance measurement or when features are on different scales. The purpose of normalization is to scale the range of numeric feature values, typically by subtracting the mean and dividing by the standard deviation.\n",
    "\n",
    "By normalizing the data, we make the training process less sensitive to the scale of features, allowing the model to learn from the actual distributions of the features. This can result in improved model performance and prevent features with larger magnitudes from dominating the learning process."
   ]
  },
  {
   "cell_type": "code",
   "execution_count": 8,
   "metadata": {
    "id": "jM7xd7hv7nJU"
   },
   "outputs": [],
   "source": [
    "# Normalize numeric features\n",
    "numeric_columns = ['lat', 'lon', 'height_sta', 'dd', 'ff', 'hu', 'td', 't', 'psl']\n",
    "for col in numeric_columns:\n",
    "    if df[col].dtype != 'object':\n",
    "        df[col] = (df[col] - df[col].mean()) / df[col].std()\n",
    "    else:\n",
    "        print(f\"Skipping normalization for non-numeric column: {col}\")"
   ]
  },
  {
   "cell_type": "markdown",
   "metadata": {
    "id": "hI12sP4A7nJV"
   },
   "source": [
    "#### Date Handling\n",
    "We convert the ```date``` column to a datetime format and extract the hour as a separate feature. This might be helpful because weather conditions can have distinct patterns based on the time of day. The ```date``` column is then dropped as our model won't be able to understand the datetime format directly."
   ]
  },
  {
   "cell_type": "code",
   "execution_count": 9,
   "metadata": {
    "id": "2dL1MZQ77nJV"
   },
   "outputs": [],
   "source": [
    "# Convert date column to datetime and extract hour\n",
    "df['date'] = cudf.to_datetime(df['date'])\n",
    "df['hour'] = df['date'].dt.hour\n",
    "\n",
    "# Drop the original 'date' column\n",
    "df = df.drop(['date'], axis=1)"
   ]
  },
  {
   "cell_type": "markdown",
   "metadata": {
    "id": "0fNXe-YG7nJV"
   },
   "source": [
    "The function train_and_evaluate(target) prepares our data, trains a Linear Regression model, and gauges its performance using the R-squared score. This is used to predict temperature, and humidity.\n"
   ]
  },
  {
   "cell_type": "code",
   "execution_count": 10,
   "metadata": {
    "id": "WTNhbWnG7nJV"
   },
   "outputs": [],
   "source": [
    "def train_and_evaluate(target):\n",
    "    # Split into features and target\n",
    "    X = df.drop(target, axis=1)\n",
    "    y = df[target]\n",
    "\n",
    "    # Split the dataset into training set and test set\n",
    "    X_train, X_test, y_train, y_test = train_test_split(X, y, test_size=0.2)\n",
    "\n",
    "    # Define the model\n",
    "    model = cuLinearRegression()\n",
    "\n",
    "    # Train the model\n",
    "    model.fit(X_train, y_train)\n",
    "\n",
    "    # Make predictions\n",
    "    predictions = model.predict(X_test)\n",
    "\n",
    "    # Evaluate the model\n",
    "    r2 = r2_score(y_test, predictions)\n",
    "\n",
    "    return model\n",
    "\n",
    "# Train and evaluate models\n",
    "temperature_model = train_and_evaluate('t')\n",
    "humidity_model = train_and_evaluate('hu')\n"
   ]
  },
  {
   "cell_type": "markdown",
   "metadata": {
    "id": "8TCyIfEG7nJW"
   },
   "source": [
    "Through this process, we can develop effective models for predicting weather conditions based on the Meteonet dataset, leveraging the simplicity and effectiveness of Linear Regression."
   ]
  },
  {
   "cell_type": "markdown",
   "metadata": {
    "id": "jFKD04UX7nJW"
   },
   "source": [
    "## Clustering"
   ]
  },
  {
   "cell_type": "markdown",
   "metadata": {
    "id": "B75QOhYt7nJW"
   },
   "source": [
    "Clustering is an unsupervised machine learning technique used to group similar instances based on their characteristics. Unlike supervised learning methods, clustering does not rely on pre-labeled data. Instead, the algorithm determines the labels itself by identifying patterns in the data.\n",
    "\n",
    "In this particular use case, we're aiming to cluster weather conditions based on certain characteristics - specifically temperature and humidity. We'll achieve this using KMeans, a popular centroid-based clustering algorithm."
   ]
  },
  {
   "cell_type": "markdown",
   "metadata": {
    "id": "3mIekdjn7nJW"
   },
   "source": [
    "### Data Preprocessing"
   ]
  },
  {
   "cell_type": "markdown",
   "metadata": {
    "id": "Ktenhs607nJW"
   },
   "source": [
    "Our dataset includes multiple weather parameters. To make our analysis more focused, we will be simplifying our data to concentrate on two particular features: `t` (temperature) and `precip` (precipitation). Any rows with missing values will be omitted for the sake of simplicity."
   ]
  },
  {
   "cell_type": "code",
   "execution_count": 14,
   "metadata": {
    "id": "-ARIajaf7nJX"
   },
   "outputs": [],
   "source": [
    "import cudf\n",
    "from cuml import KMeans\n",
    "\n",
    "# Load data\n",
    "df = cudf.read_csv(\"./NW_data.csv\").dropna()\n",
    "\n",
    "# Select the features for clustering\n",
    "df_kmeans_temp = df['t']\n",
    "df_kmeans_precip = df['precip']"
   ]
  },
  {
   "cell_type": "markdown",
   "metadata": {
    "id": "WtX1TL7O7nJc"
   },
   "source": [
    "### Clustering with KMeans"
   ]
  },
  {
   "cell_type": "markdown",
   "metadata": {
    "id": "sPo_quXS7nJc"
   },
   "source": [
    "Now, let's dive into the clustering with KMeans. We will initialize and fit two KMeans models to our data, one for temperature and one for precipitation. Each model aims to partition the input data into a number of clusters, with each cluster represented by the mean of the data points belonging to it."
   ]
  },
  {
   "cell_type": "code",
   "execution_count": 15,
   "metadata": {
    "id": "MsFXQIiX7nJc"
   },
   "outputs": [
    {
     "data": {
      "text/plain": [
       "KMeans()"
      ]
     },
     "execution_count": 15,
     "metadata": {},
     "output_type": "execute_result"
    }
   ],
   "source": [
    "# Initialize the KMeans model\n",
    "kmeans_temp = KMeans(n_clusters=5, random_state=42)\n",
    "kmeans_precip = KMeans(n_clusters=5, random_state=42)\n",
    "\n",
    "# Fit the model\n",
    "kmeans_temp.fit(df_kmeans_temp)\n",
    "kmeans_precip.fit(df_kmeans_precip)"
   ]
  },
  {
   "cell_type": "markdown",
   "metadata": {
    "id": "cbhtsA_l7nJc"
   },
   "source": [
    "After fitting the model, we can retrieve the cluster labels, which represent the cluster each data point belongs to."
   ]
  },
  {
   "cell_type": "code",
   "execution_count": 16,
   "metadata": {
    "id": "O63_0kA17nJc"
   },
   "outputs": [],
   "source": [
    "# Get the cluster labels\n",
    "kmeans_labels_temp = kmeans_temp.labels_\n",
    "kmeans_labels_precip = kmeans_precip.labels_\n",
    "\n",
    "# Add the cluster labels as a new column to the dataframe\n",
    "df['KMeans_Labels_Temperature'] = cudf.Series(kmeans_labels_temp)\n",
    "df['KMeans_Labels_Precipitation'] = cudf.Series(kmeans_labels_precip)"
   ]
  },
  {
   "cell_type": "markdown",
   "metadata": {
    "id": "eK81Ossv7nJd"
   },
   "source": [
    "Finally, we examine the cluster centers and the model's inertia (a measure of how far the points within a cluster are)."
   ]
  },
  {
   "cell_type": "code",
   "execution_count": 17,
   "metadata": {
    "id": "LbYa5yQj7nJd"
   },
   "outputs": [
    {
     "name": "stdout",
     "output_type": "stream",
     "text": [
      "Temperature Inertia:\n",
      "61007855.94829393\n",
      "Precipitation Inertia:\n",
      "15901.910693186443\n"
     ]
    }
   ],
   "source": [
    "# Print the inertia (sum of squared distances to the closest centroid for all observations in the training set)\n",
    "print(\"Temperature Inertia:\")\n",
    "print(kmeans_temp.inertia_)\n",
    "\n",
    "print(\"Precipitation Inertia:\")\n",
    "print(kmeans_precip.inertia_)"
   ]
  },
  {
   "cell_type": "markdown",
   "metadata": {
    "id": "CrpV-1kl7nJd"
   },
   "source": [
    "This approach helps reveal patterns in weather conditions. By understanding the behavior of different clusters, we can gain insights into weather patterns which could be used for predicting weather events."
   ]
  },
  {
   "cell_type": "markdown",
   "metadata": {
    "id": "IG644hiD7nJd"
   },
   "source": [
    "As we've seen, we've somewhat arbitrarily selected 5 as the number of clusters for our KMeans models.\n",
    "But is there a better, more data-driven way to select the number of clusters? One method we can use is the Elbow Method.\n",
    "\n",
    "The Elbow Method involves running the KMeans algorithm multiple times over a loop, with an increasing number of cluster choice\n",
    "and then plotting a clustering score as a function of the number of clusters.\n",
    "\n",
    "Here, we will use inertia as the clustering score. The inertia tells us the sum of the squared distance for each\n",
    "point to it's closest centroid, i.e., its assigned cluster center. The 'elbow' in the plot, a point representing\n",
    "the number of clusters, gives us an indication of the optimal number of clusters."
   ]
  },
  {
   "cell_type": "code",
   "execution_count": 18,
   "metadata": {
    "id": "OAy2_gsQ7nJd"
   },
   "outputs": [
    {
     "data": {
      "image/png": "[encoded data removed]",
      "text/plain": [
       "<Figure size 1600x800 with 1 Axes>"
      ]
     },
     "metadata": {},
     "output_type": "display_data"
    },
    {
     "data": {
      "image/png": "[encoded data removed]",
      "text/plain": [
       "<Figure size 1600x800 with 1 Axes>"
      ]
     },
     "metadata": {},
     "output_type": "display_data"
    }
   ],
   "source": [
    "# Let's plot this for our temperature data:\n",
    "\n",
    "import matplotlib.pyplot as plt\n",
    "\n",
    "inertia = []\n",
    "K = range(1, 10)\n",
    "for k in K:\n",
    "    kmeanModel = KMeans(n_clusters=k).fit(df_kmeans_temp)\n",
    "    kmeanModel.fit(df_kmeans_temp)\n",
    "    inertia.append(kmeanModel.inertia_)\n",
    "\n",
    "plt.figure(figsize=(16,8))\n",
    "plt.plot(K, inertia, 'bx-')\n",
    "plt.xlabel('k')\n",
    "plt.ylabel('Inertia')\n",
    "plt.title('The Elbow Method showing the optimal k for temperature')\n",
    "plt.show()\n",
    "\n",
    "# We repeat the same for our precipitation data:\n",
    "\n",
    "inertia = []\n",
    "K = range(1, 10)\n",
    "for k in K:\n",
    "    kmeanModel = KMeans(n_clusters=k).fit(df_kmeans_precip)\n",
    "    kmeanModel.fit(df_kmeans_precip)\n",
    "    inertia.append(kmeanModel.inertia_)\n",
    "\n",
    "plt.figure(figsize=(16,8))\n",
    "plt.plot(K, inertia, 'bx-')\n",
    "plt.xlabel('k')\n",
    "plt.ylabel('Inertia')\n",
    "plt.title('The Elbow Method showing the optimal k for precipitation')\n",
    "plt.show()"
   ]
  },
  {
   "cell_type": "markdown",
   "metadata": {
    "id": "OFPv8sc67nJe"
   },
   "source": [
    "By inspecting the plot, the 'elbow' or bend in the plot can be used to choose the optimal number of clusters by selecting the value at the elbow as the number of clusters to use in the final model. This point represents the most optimal value for k (number of clusters). This is where the decrease in the inertia value becomes significantly smaller.\n",
    "\n",
    "In other words, adding more clusters beyond this point will not explain much more of the variance in our data: we would only be adding complexity to the model without gaining much information. If there is no clear elbow point, other methods may be needed to determine the optimal number of clusters.\n",
    "\n",
    "Note: UMAP, available in cuML, is a powerful dimensionality reduction algorithm used for visualizing high-dimensional data and uncovering underlying patterns. While UMAP itself is not a dedicated clustering algorithm, its ability to project data into a lower-dimensional space often reveals clustering structures. It is widely used for cluster exploration and analysis, providing valuable insights into the data. Its efficient implementation in cuML enables advanced data analysis and pattern identification for clustering tasks."
   ]
  },
  {
   "cell_type": "markdown",
   "metadata": {
    "id": "5d7ITQMr7nJe"
   },
   "source": [
    "## Classification"
   ]
  },
  {
   "cell_type": "markdown",
   "metadata": {
    "id": "tH2dBV3k7nJe"
   },
   "source": [
    "Classification is one of the primary tasks of machine learning, a form of supervised learning where the aim is to predict the class or category of an instance or object based on its features.\n",
    "\n",
    "In our weather forecasting context, we will use classification to predict\n",
    "\n",
    "- the weather conditions (sunny, cloudy, or rainy)\n",
    "- the wind direction (north, south, east, west) at specific times and locations.\n",
    "\n",
    "\n",
    "\n",
    "We've chosen the Random Forest algorithm for this task. Random Forest is a powerful and versatile machine learning method that is particularly effective for classification problems. It is an ensemble learning method, where many decision trees are trained and their predictions are aggregated to provide a final result. The advantage of using a Random Forest is its ability to handle a large number of features and provide a measure of feature importance, as well as its robustness to outliers and ability to avoid overfitting."
   ]
  },
  {
   "cell_type": "code",
   "execution_count": 20,
   "metadata": {
    "id": "_5rdjcE17nJe"
   },
   "outputs": [],
   "source": [
    "import cudf\n",
    "import cuml\n",
    "from cuml.ensemble import RandomForestClassifier as cuRF\n",
    "from cuml import train_test_split\n",
    "from cuml.metrics import accuracy_score\n",
    "\n",
    "# Load data\n",
    "df = cudf.read_csv('./NW_data.csv').dropna()\n"
   ]
  },
  {
   "cell_type": "markdown",
   "metadata": {
    "id": "t81LJDu27nJf"
   },
   "source": [
    "### Data Preprocessing"
   ]
  },
  {
   "cell_type": "markdown",
   "metadata": {
    "id": "y5IlQyu87nJf"
   },
   "source": [
    "Before we train our Random Forest model, we need to preprocess our data. Our Meteonet dataset contains a variety of weather-related parameters recorded at different times and locations."
   ]
  },
  {
   "cell_type": "markdown",
   "metadata": {
    "id": "BtiuoUae7nJf"
   },
   "source": [
    "Firstly, we convert the date column to datetime format and extract the hour as it might be a significant factor in determining the weather condition and wind direction. As we will not need the precise date anymore, we drop this column afterwards."
   ]
  },
  {
   "cell_type": "code",
   "execution_count": 21,
   "metadata": {
    "id": "egzjCjNg7nJf"
   },
   "outputs": [],
   "source": [
    "# Convert date column to datetime and extract hour\n",
    "df['date'] = cudf.to_datetime(df['date'])\n",
    "df['hour'] = df['date'].dt.hour"
   ]
  },
  {
   "cell_type": "markdown",
   "metadata": {
    "id": "2r6e-NXO7nJf"
   },
   "source": [
    "Next, we perform some feature engineering to create two new categorical variables from the existing data.\n",
    "Let's add two new columns `wind_direction` and `weather_condition` based on the `dd` and `precip` columns respectively."
   ]
  },
  {
   "cell_type": "markdown",
   "metadata": {
    "id": "Z7FyWRsy7nJf"
   },
   "source": [
    "Assume that the `dd` (wind direction) column contains numerical values representing wind direction in degrees (0-360), and we will discretize them into categories (N, E, S, W). Also, I'll assume that precip column can be used to infer weather conditions such as 'sunny', 'cloudy', 'rainy', etc., which we will also discretize into these categories."
   ]
  },
  {
   "cell_type": "markdown",
   "metadata": {
    "id": "Q_vXg1cX7nJf"
   },
   "source": [
    "For wind_direction, we discretized the `dd` column (which I assumed to be wind direction in degrees) into 4 categories: North (0-90 degrees), East (90-180), South (180-270) and West (270-360).\n",
    "\n",
    "For weather_condition, we discretized the precip column (which is the amount of precipitation) into 3 categories: `sunny` (no rain), `cloudy` (little rain), and `rainy` (more rain).\n",
    "Then we converted these categorical columns into numerical labels that the `RandomForestClassifier` can work with using `.cat.codes.`"
   ]
  },
  {
   "cell_type": "code",
   "execution_count": 22,
   "metadata": {
    "id": "cNjAqbEL7nJg"
   },
   "outputs": [],
   "source": [
    "# Discretize wind direction\n",
    "df['wind_direction'] = cudf.cut(df['dd'], bins=[-0.1, 90, 180, 270, 360], labels=['N', 'E', 'S', 'W'])\n",
    "\n",
    "# Discretize weather condition based on precipitation amount\n",
    "df['weather_condition'] = cudf.cut(df['precip'], bins=[-0.1, 0.1, 1, float('inf')], labels=['sunny', 'cloudy', 'rainy'])\n",
    "\n",
    "# Drop the original 'date' column\n",
    "df = df.drop(['date'], axis=1)"
   ]
  },
  {
   "cell_type": "markdown",
   "metadata": {
    "id": "uKdbqKyA7nJg"
   },
   "source": [
    "Finally, we convert these newly created categorical variables into numerical labels using .cat.codes to make them suitable for use in our Random Forest model."
   ]
  },
  {
   "cell_type": "code",
   "execution_count": 23,
   "metadata": {
    "id": "0mc2eMO-7nJg"
   },
   "outputs": [],
   "source": [
    "# Convert 'wind_direction' and 'weather_condition' columns to category\n",
    "df['wind_direction'] = df['wind_direction'].astype('category').cat.codes\n",
    "df['weather_condition'] = df['weather_condition'].astype('category').cat.codes"
   ]
  },
  {
   "cell_type": "markdown",
   "metadata": {
    "id": "SZEKlQev7nJg"
   },
   "source": [
    "Once our data preprocessing is complete, we're ready to train our model. We define a function, ```train_and_evaluate(target)```, that splits the data into training and test sets, trains the model on the training data, makes predictions on the test data, and then evaluates the model's performance by comparing the predictions to the actual values."
   ]
  },
  {
   "cell_type": "code",
   "execution_count": 24,
   "metadata": {
    "id": "Ik4vrDdA7nJg"
   },
   "outputs": [
    {
     "name": "stderr",
     "output_type": "stream",
     "text": [
      "/home/jayrodge/miniconda3/envs/rapids-23.04/lib/python3.10/site-packages/cuml/internals/api_decorators.py:188: UserWarning: To use pickling first train using float32 data to fit the estimator\n",
      "  ret = func(*args, **kwargs)\n"
     ]
    }
   ],
   "source": [
    "def train_and_evaluate(target):\n",
    "    # Split into features and target\n",
    "    X = df.drop(target, axis=1)\n",
    "    y = df[target]\n",
    "\n",
    "    # Split the dataset into training set and test set\n",
    "    X_train, X_test, y_train, y_test = train_test_split(X, y, test_size=0.2)\n",
    "\n",
    "    # Define the model\n",
    "    model = cuRF()\n",
    "\n",
    "    # Train the model\n",
    "    model.fit(X_train, y_train)\n",
    "\n",
    "    # Make predictions\n",
    "    predictions = model.predict(X_test)\n",
    "\n",
    "    # Evaluate the model\n",
    "    accuracy = accuracy_score(y_test, predictions)\n",
    "\n",
    "    return model\n",
    "\n",
    "# Train and evaluate models\n",
    "weather_condition_model = train_and_evaluate('weather_condition')\n",
    "wind_direction_model = train_and_evaluate('wind_direction')\n"
   ]
  },
  {
   "cell_type": "markdown",
   "metadata": {
    "id": "2I42KjMW7nJh"
   },
   "source": [
    "Through this method, we can efficiently predict weather conditions and wind direction using cuML's Random Forest Classifier, achieving promising results as displayed by our accuracy scores. These models could form the basis of a real-time weather prediction system, or they could be further enhanced and used in a variety of climate-related research and applications."
   ]
  },
  {
   "cell_type": "markdown",
   "metadata": {
    "id": "oBhOt00S7nJh"
   },
   "source": [
    "### Benchmarking"
   ]
  },
  {
   "cell_type": "markdown",
   "metadata": {
    "id": "3QzqEM-b7nJh"
   },
   "source": [
    "This section covers the performance of a handful of typical functions used in this notebook, comparing between Pandas (CPU) and cuDF (GPU) with minimum code change with pd(pandas) -> cudf. You can adopt the code below to compare the performance improvement on your local machine.\n",
    "\n",
    "Test machine information:\n",
    "\n",
    "- GPU: NVIDIA RTX 8000\n",
    "- CPU: Intel® Core™ i7-7800X CPU @ 3.50GHz × 12\n",
    "- RAPIDS: Rapids 23.04 with CUDA 11.8"
   ]
  },
  {
   "cell_type": "code",
   "execution_count": null,
   "metadata": {
    "id": "ylguTCnS7nJi"
   },
   "outputs": [],
   "source": [
    "import cudf\n",
    "import cuml\n",
    "import pandas as pd\n",
    "import sklearn\n",
    "from time import time\n",
    "from timeit import default_timer as timer\n",
    "from cuml import make_regression, train_test_split\n",
    "from sklearn.model_selection import train_test_split as sk_train_test_split\n",
    "\n",
    "# Create an empty DataFrame\n",
    "performance_comparison = cudf.DataFrame(columns=['Task', 'GPU Time', 'CPU Time', 'GPU Speedup'])\n",
    "\n",
    "# Function to add a row in the DataFrame\n",
    "def add_performance(task, gpu_time, cpu_time):\n",
    "    global performance_comparison\n",
    "    speedup = cpu_time / gpu_time\n",
    "    performance_comparison = performance_comparison.append({'Task': task, 'GPU Time': gpu_time, 'CPU Time': cpu_time, 'GPU Speedup': speedup}, ignore_index=True)\n"
   ]
  },
  {
   "cell_type": "markdown",
   "metadata": {
    "id": "JocoWL3G7nJi"
   },
   "source": [
    "#### Classification"
   ]
  },
  {
   "cell_type": "code",
   "execution_count": null,
   "metadata": {
    "id": "r9XwNysS7nJi",
    "outputId": "4f4c1436-41d3-467c-c104-822356a099ad"
   },
   "outputs": [
    {
     "name": "stdout",
     "output_type": "stream",
     "text": [
      "GPU training time: 28.15667176246643 seconds\n",
      "CPU training time: 1263.7000896930695 seconds\n",
      "Speedup: 44.88101791127225 times\n",
      "             Task   GPU Time     CPU Time  GPU Speedup\n",
      "0  Classification  30.200331  1323.806841    43.834184\n"
     ]
    },
    {
     "name": "stderr",
     "output_type": "stream",
     "text": [
      "/home/jayrodge/miniconda3/envs/rapids-23.04/lib/python3.10/site-packages/cudf/core/indexed_frame.py:3446: FutureWarning: The append method is deprecated and will be removed in a future version. Use cudf.concat instead.\n",
      "  warnings.warn(\n"
     ]
    }
   ],
   "source": [
    "from cuml.ensemble import RandomForestClassifier as cuRF\n",
    "from cuml import train_test_split as cu_train_test_split\n",
    "from cuml.metrics import accuracy_score as cu_accuracy_score\n",
    "from sklearn.model_selection import train_test_split as sk_train_test_split\n",
    "from sklearn.ensemble import RandomForestClassifier as skRF\n",
    "from sklearn.metrics import accuracy_score as sk_accuracy_score\n",
    "\n",
    "\n",
    "# Load data\n",
    "start_t = time()\n",
    "df_gpu = cudf.read_csv('./NW_data.csv').dropna()\n",
    "read_gpu_time = time() - start_t\n",
    "\n",
    "start_t = time()\n",
    "df_cpu = pd.read_csv('./NW_data.csv').dropna()\n",
    "read_cpu_time = time() - start_t\n",
    "\n",
    "# Convert date column to datetime and extract hour\n",
    "start_t = time()\n",
    "df_gpu['date'] = cudf.to_datetime(df_gpu['date'])\n",
    "df_gpu['hour'] = df_gpu['date'].dt.hour\n",
    "convert_gpu_time = time() - start_t\n",
    "\n",
    "start_t = time()\n",
    "df_cpu['date'] = pd.to_datetime(df_cpu['date'])\n",
    "df_cpu['hour'] = df_cpu['date'].dt.hour\n",
    "convert_cpu_time = time() - start_t\n",
    "\n",
    "# Discretize wind direction\n",
    "start_t = time()\n",
    "df_gpu['wind_direction'] = cudf.cut(df_gpu['dd'], bins=[-0.1, 90, 180, 270, 360], labels=['N', 'E', 'S', 'W'])\n",
    "discretize_gpu_time = time() - start_t\n",
    "\n",
    "start_t = time()\n",
    "df_cpu['wind_direction'] = pd.cut(df_cpu['dd'], bins=[-0.1, 90, 180, 270, 360], labels=['N', 'E', 'S', 'W'])\n",
    "discretize_cpu_time = time() - start_t\n",
    "\n",
    "\n",
    "# Drop the original 'date' column\n",
    "df_gpu = df_gpu.drop(['date'], axis=1)\n",
    "df_cpu = df_cpu.drop(['date'], axis=1)\n",
    "\n",
    "# Convert 'wind_direction' and 'weather_condition' columns to category\n",
    "df_gpu['wind_direction'] = df_gpu['wind_direction'].astype('category').cat.codes\n",
    "df_cpu['wind_direction'] = df_cpu['wind_direction'].astype('category').cat.codes\n",
    "\n",
    "\n",
    "def train_and_evaluate_gpu(target, df):\n",
    "    start_t = time()\n",
    "    X = df.drop(target, axis=1)\n",
    "    y = df[target]\n",
    "    X_train, X_test, y_train, y_test = cu_train_test_split(X, y, test_size=0.2)\n",
    "    model =cuRF()\n",
    "    model.fit(X_train, y_train)\n",
    "    predictions = model.predict(X_test)\n",
    "    accuracy = cu_accuracy_score(y_test, predictions)\n",
    "    return time() - start_t\n",
    "\n",
    "def train_and_evaluate_cpu(target, df):\n",
    "    start_t = time()\n",
    "    X = df.drop(target, axis=1)\n",
    "    y = df[target]\n",
    "    X_train, X_test, y_train, y_test = sk_train_test_split(X, y, test_size=0.2)\n",
    "    model = skRF()\n",
    "    model.fit(X_train, y_train)\n",
    "    predictions = model.predict(X_test)\n",
    "    accuracy = sk_accuracy_score(y_test, predictions)\n",
    "    return time() - start_t\n",
    "\n",
    "# Train and evaluate models\n",
    "gpu_time = train_and_evaluate_gpu('wind_direction', df_gpu)\n",
    "print(f\"GPU training time: {gpu_time} seconds\")\n",
    "cpu_time = train_and_evaluate_cpu('wind_direction', df_cpu)\n",
    "print(f\"CPU training time: {cpu_time} seconds\")\n",
    "\n",
    "\n",
    "print(f\"Speedup: {cpu_time / gpu_time} times\")\n",
    "\n",
    "# Summarizing pre-processing time\n",
    "preprocessing_gpu_time = read_gpu_time + convert_gpu_time + discretize_gpu_time\n",
    "preprocessing_cpu_time = read_cpu_time + convert_cpu_time + discretize_cpu_time\n",
    "\n",
    "# print(f\"Pre-processing GPU time: {preprocessing_gpu_time} seconds\")\n",
    "# print(f\"Pre-processing CPU time: {preprocessing_cpu_time} seconds\")\n",
    "# print(f\"Pre-processing speedup: {preprocessing_cpu_time / preprocessing_gpu_time} times\")\n",
    "\n",
    "classification_cpu = preprocessing_cpu_time + cpu_time\n",
    "classification_gpu = preprocessing_gpu_time + gpu_time\n",
    "\n",
    "\n",
    "add_performance('Classification', classification_gpu, classification_cpu )\n",
    "print(performance_comparison)"
   ]
  },
  {
   "cell_type": "code",
   "execution_count": null,
   "metadata": {
    "id": "_tAMKnOQ7nJj"
   },
   "outputs": [],
   "source": [
    "del df_gpu, df_cpu, gpu_time, cpu_time, cuRF, preprocessing_cpu_time, preprocessing_gpu_time, cu_accuracy_score, skRF, sk_accuracy_score, classification_cpu, classification_gpu\n"
   ]
  },
  {
   "cell_type": "markdown",
   "metadata": {
    "id": "tJsdfHve7nJj"
   },
   "source": [
    "#### Regression"
   ]
  },
  {
   "cell_type": "code",
   "execution_count": null,
   "metadata": {
    "id": "mYx8pv0c7nJj",
    "outputId": "c773f450-8520-4cac-9052-d7af9355af2e"
   },
   "outputs": [
    {
     "name": "stdout",
     "output_type": "stream",
     "text": [
      "             Task   GPU Time     CPU Time  GPU Speedup\n",
      "0  Classification  30.200331  1323.806841    43.834184\n",
      "1      Regression   2.998712    73.643124    24.558251\n"
     ]
    },
    {
     "name": "stderr",
     "output_type": "stream",
     "text": [
      "/home/jayrodge/miniconda3/envs/rapids-23.04/lib/python3.10/site-packages/cudf/core/indexed_frame.py:3446: FutureWarning: The append method is deprecated and will be removed in a future version. Use cudf.concat instead.\n",
      "  warnings.warn(\n"
     ]
    }
   ],
   "source": [
    "from cuml import make_regression, train_test_split\n",
    "from cuml.linear_model import LinearRegression as cuLinearRegression\n",
    "from cuml.metrics.regression import r2_score\n",
    "from cuml.preprocessing.LabelEncoder import LabelEncoder\n",
    "from sklearn.linear_model import LinearRegression as skLinearRegression\n",
    "from sklearn.model_selection import train_test_split as sk_train_test_split\n",
    "\n",
    "def train_and_evaluate_cpu(target, df):\n",
    "    start_t = time()\n",
    "    X = df.drop(target, axis=1)\n",
    "    y = df[target]\n",
    "    X_train, X_test, y_train, y_test = sk_train_test_split(X, y, test_size=0.2)\n",
    "    model = skLinearRegression()\n",
    "    model.fit(X_train, y_train)\n",
    "    predictions = model.predict(X_test)\n",
    "    r2 = sk_r2_score(y_test, predictions)\n",
    "    return time() - start_t, r2\n",
    "\n",
    "# Load data\n",
    "start_t = time()\n",
    "df_gpu = cudf.read_csv('./NW_data.csv').dropna()\n",
    "read_gpu_time = time() - start_t\n",
    "\n",
    "start_t = time()\n",
    "df_cpu = pd.read_csv('./NW_data.csv').dropna()\n",
    "read_cpu_time = time() - start_t\n",
    "\n",
    "# Convert categorical variables to numeric variables\n",
    "start_t = time()\n",
    "le = LabelEncoder()\n",
    "df_gpu['number_sta'] = le.fit_transform(df_gpu['number_sta'])\n",
    "encode_gpu_time = time() - start_t\n",
    "\n",
    "start_t = time()\n",
    "df_cpu['number_sta'] = pd.Categorical(df_cpu['number_sta']).codes\n",
    "encode_cpu_time = time() - start_t\n",
    "\n",
    "# Normalize numeric features\n",
    "numeric_columns = ['lat', 'lon', 'height_sta', 'dd', 'ff', 'hu', 'td', 't', 'psl']\n",
    "start_t = time()\n",
    "for col in numeric_columns:\n",
    "    df_gpu[col] = (df_gpu[col] - df_gpu[col].mean()) / df_gpu[col].std()\n",
    "normalize_gpu_time = time() - start_t\n",
    "\n",
    "start_t = time()\n",
    "for col in numeric_columns:\n",
    "    df_cpu[col] = (df_cpu[col] - df_cpu[col].mean()) / df_cpu[col].std()\n",
    "normalize_cpu_time = time() - start_t\n",
    "\n",
    "# Convert date column to datetime and extract hour\n",
    "start_t = time()\n",
    "df_gpu['date'] = cudf.to_datetime(df_gpu['date'])\n",
    "df_gpu['hour'] = df_gpu['date'].dt.hour\n",
    "df_gpu = df_gpu.drop(['date'], axis=1)\n",
    "convert_gpu_time = time() - start_t\n",
    "\n",
    "start_t = time()\n",
    "df_cpu['date'] = pd.to_datetime(df_cpu['date'])\n",
    "df_cpu['hour'] = df_cpu['date'].dt.hour\n",
    "df_cpu = df_cpu.drop(['date'], axis=1)\n",
    "convert_cpu_time = time() - start_t\n",
    "\n",
    "def train_and_evaluate_gpu(target, df):\n",
    "    start_t = time()\n",
    "    X = df.drop(target, axis=1)\n",
    "    y = df[target]\n",
    "    X_train, X_test, y_train, y_test = train_test_split(X, y, test_size=0.2)\n",
    "    model = cuLinearRegression()\n",
    "    model.fit(X_train, y_train)\n",
    "    predictions = model.predict(X_test)\n",
    "    r2 = r2_score(y_test, predictions)\n",
    "    return time() - start_t, r2\n",
    "\n",
    "def train_and_evaluate_cpu(target, df):\n",
    "    start_t = time()\n",
    "    X = df.drop(target, axis=1)\n",
    "    y = df[target]\n",
    "    X_train, X_test, y_train, y_test = sk_train_test_split(X, y, test_size=0.2)\n",
    "    model = skLinearRegression()\n",
    "    model.fit(X_train, y_train)\n",
    "    predictions = model.predict(X_test)\n",
    "    r2 = r2_score(y_test, predictions)\n",
    "    return time() - start_t, r2\n",
    "\n",
    "# Train and evaluate models\n",
    "gpu_time_t, r2_t = train_and_evaluate_gpu('t', df_gpu)\n",
    "cpu_time_t, r2_t = train_and_evaluate_cpu('t', df_cpu)\n",
    "\n",
    "preprocessing_gpu_time = read_gpu_time + encode_gpu_time + normalize_gpu_time + convert_gpu_time\n",
    "preprocessing_cpu_time = read_cpu_time + encode_cpu_time + normalize_cpu_time + convert_cpu_time\n",
    "\n",
    "regression_time_gpu = preprocessing_gpu_time+gpu_time_t\n",
    "regression_time_cpu = preprocessing_cpu_time+cpu_time_t\n",
    "\n",
    "add_performance('Regression', regression_time_gpu, regression_time_cpu )\n",
    "\n",
    "\n",
    "print(performance_comparison)\n"
   ]
  },
  {
   "cell_type": "code",
   "execution_count": null,
   "metadata": {
    "id": "fPPDbMji7nJk"
   },
   "outputs": [],
   "source": [
    "del LabelEncoder, col, convert_cpu_time, convert_gpu_time, cpu_time_t, df_cpu, df_gpu, encode_cpu_time, encode_gpu_time, gpu_time_t, le, make_regression, normalize_cpu_time, normalize_gpu_time, numeric_columns, preprocessing_cpu_time, preprocessing_gpu_time, r2_score, r2_t, read_cpu_time, read_gpu_time, regression_time_cpu, regression_time_gpu, start_t, train_and_evaluate_cpu, train_and_evaluate_gpu\n"
   ]
  },
  {
   "cell_type": "markdown",
   "metadata": {
    "id": "3ir-qtN_7nJl"
   },
   "source": [
    "#### Clustering"
   ]
  },
  {
   "cell_type": "code",
   "execution_count": null,
   "metadata": {
    "id": "eXVaHm8G7nJl",
    "outputId": "c8c043b0-9b37-4e48-baa4-afb12d5898e5"
   },
   "outputs": [
    {
     "name": "stdout",
     "output_type": "stream",
     "text": [
      "             Task   GPU Time     CPU Time  GPU Speedup\n",
      "0  Classification  30.200331  1323.806841    43.834184\n",
      "1      Regression   2.998712    73.643124    24.558251\n",
      "2      Clustering   3.109476    60.727291    19.529753\n"
     ]
    },
    {
     "name": "stderr",
     "output_type": "stream",
     "text": [
      "/home/jayrodge/miniconda3/envs/rapids-23.04/lib/python3.10/site-packages/cudf/core/indexed_frame.py:3446: FutureWarning: The append method is deprecated and will be removed in a future version. Use cudf.concat instead.\n",
      "  warnings.warn(\n"
     ]
    }
   ],
   "source": [
    "import cudf\n",
    "import pandas as pd\n",
    "import cuml\n",
    "from cuml import KMeans as cuKMeans\n",
    "from sklearn.cluster import KMeans as skKMeans\n",
    "from time import time\n",
    "import matplotlib.pyplot as plt\n",
    "\n",
    "# Load data\n",
    "start_t = time()\n",
    "df_gpu = cudf.read_csv('./NW_data.csv').dropna()\n",
    "read_gpu_time = time() - start_t\n",
    "\n",
    "start_t = time()\n",
    "df_cpu = pd.read_csv('./NW_data.csv').dropna()\n",
    "read_cpu_time = time() - start_t\n",
    "\n",
    "# Select the features for clustering\n",
    "features = ['t']\n",
    "df_kmeans_gpu = df_gpu[features]\n",
    "df_kmeans_cpu = df_cpu[features]\n",
    "\n",
    "# Function to train and fit KMeans model (GPU)\n",
    "def train_and_evaluate_kmeans_gpu(df, n_clusters):\n",
    "    start_t = time()\n",
    "    kmeans = cuKMeans(n_clusters=n_clusters, random_state=42)\n",
    "    kmeans.fit(df)\n",
    "    return time() - start_t, kmeans\n",
    "\n",
    "# Function to train and fit KMeans model (CPU)\n",
    "def train_and_evaluate_kmeans_cpu(df, n_clusters):\n",
    "    start_t = time()\n",
    "    kmeans = skKMeans(n_clusters=n_clusters, random_state=42, n_init=1)\n",
    "    kmeans.fit(df)\n",
    "    return time() - start_t, kmeans\n",
    "\n",
    "# Train and evaluate models\n",
    "max_clusters = 10  # Maximum number of clusters to try\n",
    "inertias_gpu = []\n",
    "inertias_cpu = []\n",
    "\n",
    "for n_clusters in range(1, max_clusters + 1):\n",
    "    # GPU\n",
    "    gpu_time, kmeans_gpu = train_and_evaluate_kmeans_gpu(df_kmeans_gpu, n_clusters)\n",
    "    preprocessing_gpu_time = read_gpu_time\n",
    "    clustering_time_gpu = preprocessing_gpu_time + gpu_time\n",
    "    inertias_gpu.append(kmeans_gpu.inertia_)\n",
    "\n",
    "    # CPU\n",
    "    cpu_time, kmeans_cpu = train_and_evaluate_kmeans_cpu(df_kmeans_cpu, n_clusters)\n",
    "    preprocessing_cpu_time = read_cpu_time\n",
    "    clustering_time_cpu = preprocessing_cpu_time + cpu_time\n",
    "    inertias_cpu.append(kmeans_cpu.inertia_)\n",
    "\n",
    "# Train and evaluate models with the optimal number of clusters\n",
    "optimal_clusters = 5  # You can choose the optimal number of clusters based on the elbow curve\n",
    "gpu_time, kmeans_gpu = train_and_evaluate_kmeans_gpu(df_kmeans_gpu, optimal_clusters)\n",
    "cpu_time, kmeans_cpu = train_and_evaluate_kmeans_cpu(df_kmeans_cpu, optimal_clusters)\n",
    "\n",
    "preprocessing_gpu_time = read_gpu_time\n",
    "preprocessing_cpu_time = read_cpu_time\n",
    "\n",
    "clustering_time_gpu = preprocessing_gpu_time + gpu_time\n",
    "clustering_time_cpu = preprocessing_cpu_time + cpu_time\n",
    "\n",
    "add_performance('Clustering', clustering_time_gpu, clustering_time_cpu)\n",
    "\n",
    "print(performance_comparison)\n"
   ]
  },
  {
   "cell_type": "markdown",
   "metadata": {
    "id": "2RpyXPVL7nJm"
   },
   "source": [
    "### Conclusion"
   ]
  },
  {
   "cell_type": "markdown",
   "metadata": {
    "id": "yGpzrKIe7nJm"
   },
   "source": [
    "In this notebook, we explored GPU-accelerated data processing using RAPIDS, cuDF, and cuML. We demonstrated various techniques for handling time series weather data and highlighted the performance benefits of GPU computation compared to CPU-only computation.\n",
    "\n",
    "The notebook showcased the power of GPU-accelerated workflows in terms of data preprocessing with cuDF, and machine learning training with cuML for Classification, Regression, and clustering. By leveraging the parallel processing capabilities of GPUs, we achieved faster execution times and improved performance. Overall, this notebook provided a comprehensive guide to harnessing the efficiency and performance of GPU-accelerated data processing and machine learning."
   ]
  },
  {
   "cell_type": "markdown",
   "metadata": {
    "id": "Y6P2eDPz7nJm"
   },
   "source": [
    "### Citation"
   ]
  },
  {
   "cell_type": "markdown",
   "metadata": {
    "id": "47yDcWrX7nJm"
   },
   "source": [
    "- Gwennaëlle Larvor, Léa Berthomier, Vincent Chabot, Brice Le Pape, Bruno Pradel, Lior Perez. MeteoNet, an open reference weather dataset by METEO FRANCE, 2020 [dataset link](https://www.kaggle.com/datasets/katerpillar/meteonet)"
   ]
  }
 ],
 "metadata": {
  "colab": {
   "provenance": []
  },
  "kernelspec": {
   "display_name": "Python 3 (ipykernel)",
   "language": "python",
   "name": "python3"
  },
  "language_info": {
   "codemirror_mode": {
    "name": "ipython",
    "version": 3
   },
   "file_extension": ".py",
   "mimetype": "text/x-python",
   "name": "python",
   "nbconvert_exporter": "python",
   "pygments_lexer": "ipython3",
   "version": "3.10.11"
  }
 },
 "nbformat": 4,
 "nbformat_minor": 1
}
