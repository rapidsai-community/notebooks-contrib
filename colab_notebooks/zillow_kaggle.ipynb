{
  "nbformat": 4,
  "nbformat_minor": 0,
  "metadata": {
    "colab": {
      "name": "zillow_kaggle_rapids_colab_conversion.ipynb",
      "version": "0.3.2",
      "provenance": [],
      "collapsed_sections": []
    },
    "kernelspec": {
      "name": "python3",
      "display_name": "Python 3"
    },
    "accelerator": "GPU"
  },
  "cells": [
    {
      "cell_type": "markdown",
      "metadata": {
        "id": "scfLT2i0MLyD",
        "colab_type": "text"
      },
      "source": [
        "# Environment Sanity Check #\n",
        "\n",
        "Click the _Runtime_ dropdown at the top of the page, then _Change Runtime Type_ and confirm the instance type is _GPU_.\n",
        "\n",
        "Check the output of `!nvidia-smi` to make sure you've been allocated a Tesla T4.\n",
        "\n",
        "#Setup:\n",
        "\n",
        "1. Install most recent Miniconda release compatible with Google Colab's Python install  (3.6.7)\n",
        "2. Install RAPIDS libraries\n",
        "3. Set necessary environment variables\n",
        "4. Copy RAPIDS .so files into current working directory, a workaround for conda/colab interactions"
      ]
    },
    {
      "cell_type": "code",
      "metadata": {
        "id": "W-um5d-x7o46",
        "colab_type": "code",
        "outputId": "7f830fca-831a-49d4-aa3c-0cd20aadc0fb",
        "colab": {
          "base_uri": "https://localhost:8080/",
          "height": 1000
        }
      },
      "source": [
        "!nvidia-smi\n",
        "\n",
        "import pynvml\n",
        "\n",
        "pynvml.nvmlInit()\n",
        "handle = pynvml.nvmlDeviceGetHandleByIndex(0)\n",
        "device_name = pynvml.nvmlDeviceGetName(handle)\n",
        "\n",
        "# your dolphin is broken, please reset & try again\n",
        "if device_name != b'Tesla T4':\n",
        "  raise Exception(\"\"\"Unfortunately this instance does not have a T4 GPU.\n",
        "    \n",
        "    Please make sure you've configured Colab to request a GPU instance type.\n",
        "    \n",
        "    Sometimes Colab allocates a Tesla K80 instead of a T4. Resetting the instance.\n",
        "\n",
        "    If you get a K80 GPU, try Runtime -> Reset all runtimes...\"\"\")\n",
        "  \n",
        "# got a T4, good to go \n",
        "else:\n",
        "  print('Woo! You got the right kind of GPU!')\n",
        "\n",
        "  # intall miniconda\n",
        "  !wget -c https://repo.continuum.io/miniconda/Miniconda3-4.5.4-Linux-x86_64.sh\n",
        "  !chmod +x Miniconda3-4.5.4-Linux-x86_64.sh\n",
        "  !bash ./Miniconda3-4.5.4-Linux-x86_64.sh -b -f -p /usr/local\n",
        "\n",
        "  # install RAPIDS packages\n",
        "  !conda install -q -y --prefix /usr/local -c conda-forge \\\n",
        "    -c rapidsai-nightly/label/cuda10.0 -c nvidia/label/cuda10.0 \\\n",
        "    cudf cuml\n",
        "\n",
        "  # set environment vars\n",
        "  import sys, os, shutil\n",
        "  sys.path.append('/usr/local/lib/python3.6/site-packages/')\n",
        "  os.environ['NUMBAPRO_NVVM'] = '/usr/local/cuda/nvvm/lib64/libnvvm.so'\n",
        "  os.environ['NUMBAPRO_LIBDEVICE'] = '/usr/local/cuda/nvvm/libdevice/'\n",
        "\n",
        "  # copy .so files to current working dir\n",
        "  for fn in ['libcudf.so', 'librmm.so']:\n",
        "    shutil.copy('/usr/local/lib/'+fn, os.getcwd())\n",
        "  \n",
        "  # miniconda and rapids install worked on first try\n",
        "  try:\n",
        "    # imports for examples\n",
        "    import pandas as pd\n",
        "    import cudf  # testing cudf only (0.8)\n",
        "    import cuml\n",
        "    import io, requests\n",
        "    print('GOOD TO GO')\n",
        "  # probably missing cudf, let's try again \n",
        "  except:\n",
        "    print('IMPORT FAILURE, RERUNNING MINICONDA AND RAPIDS INSTALLATION')\n",
        "    # intall miniconda\n",
        "    !wget -c https://repo.continuum.io/miniconda/Miniconda3-4.5.4-Linux-x86_64.sh\n",
        "    !chmod +x Miniconda3-4.5.4-Linux-x86_64.sh\n",
        "    !bash ./Miniconda3-4.5.4-Linux-x86_64.sh -b -f -p /usr/local\n",
        "\n",
        "    # install RAPIDS packages\n",
        "    !conda install -q -y --prefix /usr/local -c conda-forge \\\n",
        "      -c rapidsai-nightly/label/cuda10.0 -c nvidia/label/cuda10.0 \\\n",
        "      cudf cuml\n",
        "\n",
        "    # set environment vars\n",
        "    import sys, os, shutil\n",
        "    sys.path.append('/usr/local/lib/python3.6/site-packages/')\n",
        "    os.environ['NUMBAPRO_NVVM'] = '/usr/local/cuda/nvvm/lib64/libnvvm.so'\n",
        "    os.environ['NUMBAPRO_LIBDEVICE'] = '/usr/local/cuda/nvvm/libdevice/'\n",
        "\n",
        "    # copy .so files to current working dir\n",
        "    for fn in ['libcudf.so', 'librmm.so']:\n",
        "      shutil.copy('/usr/local/lib/'+fn, os.getcwd())\n",
        "\n",
        "    # imports for examples\n",
        "    import pandas as pd\n",
        "    import cudf  # testing cudf only\n",
        "    import cuml\n",
        "    import io, requests\n",
        "    print('GOOD TO GO')"
      ],
      "execution_count": 0,
      "outputs": [
        {
          "output_type": "stream",
          "text": [
            "Sun Jul 21 23:31:28 2019       \n",
            "+-----------------------------------------------------------------------------+\n",
            "| NVIDIA-SMI 418.67       Driver Version: 410.79       CUDA Version: 10.0     |\n",
            "|-------------------------------+----------------------+----------------------+\n",
            "| GPU  Name        Persistence-M| Bus-Id        Disp.A | Volatile Uncorr. ECC |\n",
            "| Fan  Temp  Perf  Pwr:Usage/Cap|         Memory-Usage | GPU-Util  Compute M. |\n",
            "|===============================+======================+======================|\n",
            "|   0  Tesla T4            Off  | 00000000:00:04.0 Off |                    0 |\n",
            "| N/A   49C    P8    16W /  70W |      0MiB / 15079MiB |      0%      Default |\n",
            "+-------------------------------+----------------------+----------------------+\n",
            "                                                                               \n",
            "+-----------------------------------------------------------------------------+\n",
            "| Processes:                                                       GPU Memory |\n",
            "|  GPU       PID   Type   Process name                             Usage      |\n",
            "|=============================================================================|\n",
            "|  No running processes found                                                 |\n",
            "+-----------------------------------------------------------------------------+\n",
            "Woo! You got the right kind of GPU!\n",
            "--2019-07-21 23:31:29--  https://repo.continuum.io/miniconda/Miniconda3-4.5.4-Linux-x86_64.sh\n",
            "Resolving repo.continuum.io (repo.continuum.io)... 104.18.200.79, 104.18.201.79, 2606:4700::6812:c84f, ...\n",
            "Connecting to repo.continuum.io (repo.continuum.io)|104.18.200.79|:443... connected.\n",
            "HTTP request sent, awaiting response... 200 OK\n",
            "Length: 58468498 (56M) [application/x-sh]\n",
            "Saving to: ‘Miniconda3-4.5.4-Linux-x86_64.sh’\n",
            "\n",
            "Miniconda3-4.5.4-Li 100%[===================>]  55.76M  85.9MB/s    in 0.6s    \n",
            "\n",
            "2019-07-21 23:31:30 (85.9 MB/s) - ‘Miniconda3-4.5.4-Linux-x86_64.sh’ saved [58468498/58468498]\n",
            "\n",
            "PREFIX=/usr/local\n",
            "installing: python-3.6.5-hc3d631a_2 ...\n",
            "Python 3.6.5 :: Anaconda, Inc.\n",
            "installing: ca-certificates-2018.03.07-0 ...\n",
            "installing: conda-env-2.6.0-h36134e3_1 ...\n",
            "installing: libgcc-ng-7.2.0-hdf63c60_3 ...\n",
            "installing: libstdcxx-ng-7.2.0-hdf63c60_3 ...\n",
            "installing: libffi-3.2.1-hd88cf55_4 ...\n",
            "installing: ncurses-6.1-hf484d3e_0 ...\n",
            "installing: openssl-1.0.2o-h20670df_0 ...\n",
            "installing: tk-8.6.7-hc745277_3 ...\n",
            "installing: xz-5.2.4-h14c3975_4 ...\n",
            "installing: yaml-0.1.7-had09818_2 ...\n",
            "installing: zlib-1.2.11-ha838bed_2 ...\n",
            "installing: libedit-3.1.20170329-h6b74fdf_2 ...\n",
            "installing: readline-7.0-ha6073c6_4 ...\n",
            "installing: sqlite-3.23.1-he433501_0 ...\n",
            "installing: asn1crypto-0.24.0-py36_0 ...\n",
            "installing: certifi-2018.4.16-py36_0 ...\n",
            "installing: chardet-3.0.4-py36h0f667ec_1 ...\n",
            "installing: idna-2.6-py36h82fb2a8_1 ...\n",
            "installing: pycosat-0.6.3-py36h0a5515d_0 ...\n",
            "installing: pycparser-2.18-py36hf9f622e_1 ...\n",
            "installing: pysocks-1.6.8-py36_0 ...\n",
            "installing: ruamel_yaml-0.15.37-py36h14c3975_2 ...\n",
            "installing: six-1.11.0-py36h372c433_1 ...\n",
            "installing: cffi-1.11.5-py36h9745a5d_0 ...\n",
            "installing: setuptools-39.2.0-py36_0 ...\n",
            "installing: cryptography-2.2.2-py36h14c3975_0 ...\n",
            "installing: wheel-0.31.1-py36_0 ...\n",
            "installing: pip-10.0.1-py36_0 ...\n",
            "installing: pyopenssl-18.0.0-py36_0 ...\n",
            "installing: urllib3-1.22-py36hbe7ace6_0 ...\n",
            "installing: requests-2.18.4-py36he2e5f8d_1 ...\n",
            "installing: conda-4.5.4-py36_0 ...\n",
            "installation finished.\n",
            "WARNING:\n",
            "    You currently have a PYTHONPATH environment variable set. This may cause\n",
            "    unexpected behavior when running the Python interpreter in Miniconda3.\n",
            "    For best results, please verify that your PYTHONPATH only points to\n",
            "    directories of packages that are compatible with the Python interpreter\n",
            "    in Miniconda3: /usr/local\n",
            "Solving environment: ...working... done\n",
            "\n",
            "## Package Plan ##\n",
            "\n",
            "  environment location: /usr/local\n",
            "\n",
            "  added / updated specs: \n",
            "    - cudf\n",
            "    - cuml\n",
            "\n",
            "\n",
            "The following packages will be downloaded:\n",
            "\n",
            "    package                    |            build\n",
            "    ---------------------------|-----------------\n",
            "    libcblas-3.8.0             |      10_openblas           6 KB  conda-forge\n",
            "    ncurses-6.1                |    hf484d3e_1002         1.3 MB  conda-forge\n",
            "    libgfortran-ng-7.3.0       |       hdf63c60_0         1.3 MB\n",
            "    libcudf-0.9.0a             |    cuda10.0_1525        31.2 MB  rapidsai-nightly/label/cuda10.0\n",
            "    six-1.12.0                 |        py37_1000          22 KB  conda-forge\n",
            "    tk-8.6.9                   |    hed695b0_1002         3.2 MB  conda-forge\n",
            "    certifi-2019.6.16          |           py37_1         149 KB  conda-forge\n",
            "    libopenblas-0.3.6          |       h6e990d7_4         7.7 MB  conda-forge\n",
            "    pyarrow-0.12.1             |   py37hbbcf98d_0         2.2 MB  conda-forge\n",
            "    rmm-0.9.0a1                |           py37_2          14 KB  rapidsai-nightly/label/cuda10.0\n",
            "    cuml-0.9.0a1               |cuda10.0_py37_200         4.7 MB  rapidsai-nightly/label/cuda10.0\n",
            "    numba-0.45.0               |   py37hb3f55d8_0         3.1 MB  conda-forge\n",
            "    python-3.7.3               |       h33d41f4_1        36.0 MB  conda-forge\n",
            "    arrow-cpp-0.12.1           |   py37h0e61e49_0         6.9 MB  conda-forge\n",
            "    cudatoolkit-10.0.130       |                0       380.0 MB\n",
            "    ca-certificates-2019.6.16  |       hecc5488_0         145 KB  conda-forge\n",
            "    pycparser-2.19             |           py37_1         171 KB  conda-forge\n",
            "    pip-19.1.1                 |           py37_0         1.8 MB  conda-forge\n",
            "    librmm-0.9.0a1             |       cuda10.0_2          44 KB  rapidsai-nightly/label/cuda10.0\n",
            "    liblapack-3.8.0            |      10_openblas           6 KB  conda-forge\n",
            "    numpy-1.16.4               |   py37h95a1406_0         4.3 MB  conda-forge\n",
            "    python-dateutil-2.8.0      |             py_0         219 KB  conda-forge\n",
            "    libblas-3.8.0              |      10_openblas           6 KB  conda-forge\n",
            "    readline-8.0               |       hf8c457e_0         441 KB  conda-forge\n",
            "    cffi-1.12.3                |   py37h8022711_0         218 KB  conda-forge\n",
            "    parquet-cpp-1.5.1          |                4           3 KB  conda-forge\n",
            "    libffi-3.2.1               |    he1b5a44_1006          46 KB  conda-forge\n",
            "    openblas-0.3.6             |       h6e990d7_4         8.2 MB  conda-forge\n",
            "    libgcc-ng-9.1.0            |       hdf63c60_0         8.1 MB\n",
            "    libcuml-0.9.0a1            |     cuda10.0_200        27.6 MB  rapidsai-nightly/label/cuda10.0\n",
            "    boost-cpp-1.68.0           |    h11c811c_1000        20.5 MB  conda-forge\n",
            "    bzip2-1.0.8                |       h516909a_0         396 KB  conda-forge\n",
            "    pandas-0.25.0              |   py37hb3f55d8_0        11.4 MB  conda-forge\n",
            "    _libgcc_mutex-0.1          |             main           3 KB\n",
            "    libstdcxx-ng-9.1.0         |       hdf63c60_0         4.0 MB\n",
            "    setuptools-41.0.1          |           py37_0         616 KB  conda-forge\n",
            "    zlib-1.2.11                |    h516909a_1005         105 KB  conda-forge\n",
            "    libcumlmg-0.0.0.dev0       |     cuda10.0_373         955 KB  nvidia/label/cuda10.0\n",
            "    llvmlite-0.29.0            |   py37hfd453ef_1        19.9 MB  conda-forge\n",
            "    openssl-1.1.1c             |       h516909a_0         2.1 MB  conda-forge\n",
            "    cudf-0.9.0a                |        py37_1525         3.8 MB  rapidsai-nightly/label/cuda10.0\n",
            "    sqlite-3.29.0              |       hcee41ef_0         2.0 MB  conda-forge\n",
            "    xz-5.2.4                   |    h14c3975_1001         366 KB  conda-forge\n",
            "    cython-0.29.12             |   py37he1b5a44_0         2.2 MB  conda-forge\n",
            "    wheel-0.33.4               |           py37_0          34 KB  conda-forge\n",
            "    libprotobuf-3.6.1          |    hdbcaa40_1001         4.0 MB  conda-forge\n",
            "    pytz-2019.1                |             py_0         227 KB  conda-forge\n",
            "    nvstrings-0.9.0a1          |          py37_24         122 KB  rapidsai-nightly/label/cuda10.0\n",
            "    icu-58.2                   |    hf484d3e_1000        22.6 MB  conda-forge\n",
            "    thrift-cpp-0.12.0          |    h0a07b25_1002         2.4 MB  conda-forge\n",
            "    libnvstrings-0.9.0a1       |      cuda10.0_24        16.7 MB  rapidsai-nightly/label/cuda10.0\n",
            "    ------------------------------------------------------------\n",
            "                                           Total:       643.2 MB\n",
            "\n",
            "The following NEW packages will be INSTALLED:\n",
            "\n",
            "    _libgcc_mutex:   0.1-main                                                 \n",
            "    arrow-cpp:       0.12.1-py37h0e61e49_0     conda-forge                    \n",
            "    boost-cpp:       1.68.0-h11c811c_1000      conda-forge                    \n",
            "    bzip2:           1.0.8-h516909a_0          conda-forge                    \n",
            "    cudatoolkit:     10.0.130-0                                               \n",
            "    cudf:            0.9.0a-py37_1525          rapidsai-nightly/label/cuda10.0\n",
            "    cuml:            0.9.0a1-cuda10.0_py37_200 rapidsai-nightly/label/cuda10.0\n",
            "    cython:          0.29.12-py37he1b5a44_0    conda-forge                    \n",
            "    icu:             58.2-hf484d3e_1000        conda-forge                    \n",
            "    libblas:         3.8.0-10_openblas         conda-forge                    \n",
            "    libcblas:        3.8.0-10_openblas         conda-forge                    \n",
            "    libcudf:         0.9.0a-cuda10.0_1525      rapidsai-nightly/label/cuda10.0\n",
            "    libcuml:         0.9.0a1-cuda10.0_200      rapidsai-nightly/label/cuda10.0\n",
            "    libcumlmg:       0.0.0.dev0-cuda10.0_373   nvidia/label/cuda10.0          \n",
            "    libgfortran-ng:  7.3.0-hdf63c60_0                                         \n",
            "    liblapack:       3.8.0-10_openblas         conda-forge                    \n",
            "    libnvstrings:    0.9.0a1-cuda10.0_24       rapidsai-nightly/label/cuda10.0\n",
            "    libopenblas:     0.3.6-h6e990d7_4          conda-forge                    \n",
            "    libprotobuf:     3.6.1-hdbcaa40_1001       conda-forge                    \n",
            "    librmm:          0.9.0a1-cuda10.0_2        rapidsai-nightly/label/cuda10.0\n",
            "    llvmlite:        0.29.0-py37hfd453ef_1     conda-forge                    \n",
            "    numba:           0.45.0-py37hb3f55d8_0     conda-forge                    \n",
            "    numpy:           1.16.4-py37h95a1406_0     conda-forge                    \n",
            "    nvstrings:       0.9.0a1-py37_24           rapidsai-nightly/label/cuda10.0\n",
            "    openblas:        0.3.6-h6e990d7_4          conda-forge                    \n",
            "    pandas:          0.25.0-py37hb3f55d8_0     conda-forge                    \n",
            "    parquet-cpp:     1.5.1-4                   conda-forge                    \n",
            "    pyarrow:         0.12.1-py37hbbcf98d_0     conda-forge                    \n",
            "    python-dateutil: 2.8.0-py_0                conda-forge                    \n",
            "    pytz:            2019.1-py_0               conda-forge                    \n",
            "    rmm:             0.9.0a1-py37_2            rapidsai-nightly/label/cuda10.0\n",
            "    thrift-cpp:      0.12.0-h0a07b25_1002      conda-forge                    \n",
            "\n",
            "The following packages will be UPDATED:\n",
            "\n",
            "    ca-certificates: 2018.03.07-0                                              --> 2019.6.16-hecc5488_0  conda-forge\n",
            "    certifi:         2018.4.16-py36_0                                          --> 2019.6.16-py37_1      conda-forge\n",
            "    cffi:            1.11.5-py36h9745a5d_0                                     --> 1.12.3-py37h8022711_0 conda-forge\n",
            "    libffi:          3.2.1-hd88cf55_4                                          --> 3.2.1-he1b5a44_1006   conda-forge\n",
            "    libgcc-ng:       7.2.0-hdf63c60_3                                          --> 9.1.0-hdf63c60_0                 \n",
            "    libstdcxx-ng:    7.2.0-hdf63c60_3                                          --> 9.1.0-hdf63c60_0                 \n",
            "    ncurses:         6.1-hf484d3e_0                                            --> 6.1-hf484d3e_1002     conda-forge\n",
            "    openssl:         1.0.2o-h20670df_0                                         --> 1.1.1c-h516909a_0     conda-forge\n",
            "    pip:             10.0.1-py36_0                                             --> 19.1.1-py37_0         conda-forge\n",
            "    pycparser:       2.18-py36hf9f622e_1                                       --> 2.19-py37_1           conda-forge\n",
            "    python:          3.6.5-hc3d631a_2                                          --> 3.7.3-h33d41f4_1      conda-forge\n",
            "    readline:        7.0-ha6073c6_4                                            --> 8.0-hf8c457e_0        conda-forge\n",
            "    setuptools:      39.2.0-py36_0                                             --> 41.0.1-py37_0         conda-forge\n",
            "    six:             1.11.0-py36h372c433_1                                     --> 1.12.0-py37_1000      conda-forge\n",
            "    sqlite:          3.23.1-he433501_0                                         --> 3.29.0-hcee41ef_0     conda-forge\n",
            "    tk:              8.6.7-hc745277_3                                          --> 8.6.9-hed695b0_1002   conda-forge\n",
            "    wheel:           0.31.1-py36_0                                             --> 0.33.4-py37_0         conda-forge\n",
            "    xz:              5.2.4-h14c3975_4                                          --> 5.2.4-h14c3975_1001   conda-forge\n",
            "    zlib:            1.2.11-ha838bed_2                                         --> 1.2.11-h516909a_1005  conda-forge\n",
            "\n",
            "Preparing transaction: ...working... done\n",
            "Verifying transaction: ...working... done\n",
            "Executing transaction: ...working... done\n",
            "IMPORT FAILURE, RERUNNING MINICONDA AND RAPIDS INSTALLATION\n",
            "--2019-07-21 23:34:55--  https://repo.continuum.io/miniconda/Miniconda3-4.5.4-Linux-x86_64.sh\n",
            "Resolving repo.continuum.io (repo.continuum.io)... 104.18.200.79, 104.18.201.79, 2606:4700::6812:c84f, ...\n",
            "Connecting to repo.continuum.io (repo.continuum.io)|104.18.200.79|:443... connected.\n",
            "HTTP request sent, awaiting response... 416 Requested Range Not Satisfiable\n",
            "\n",
            "    The file is already fully retrieved; nothing to do.\n",
            "\n",
            "PREFIX=/usr/local\n",
            "installing: python-3.6.5-hc3d631a_2 ...\n",
            "Python 3.6.5 :: Anaconda, Inc.\n",
            "installing: ca-certificates-2018.03.07-0 ...\n",
            "installing: conda-env-2.6.0-h36134e3_1 ...\n",
            "installing: libgcc-ng-7.2.0-hdf63c60_3 ...\n",
            "installing: libstdcxx-ng-7.2.0-hdf63c60_3 ...\n",
            "installing: libffi-3.2.1-hd88cf55_4 ...\n",
            "installing: ncurses-6.1-hf484d3e_0 ...\n",
            "installing: openssl-1.0.2o-h20670df_0 ...\n",
            "installing: tk-8.6.7-hc745277_3 ...\n",
            "installing: xz-5.2.4-h14c3975_4 ...\n",
            "installing: yaml-0.1.7-had09818_2 ...\n",
            "installing: zlib-1.2.11-ha838bed_2 ...\n",
            "installing: libedit-3.1.20170329-h6b74fdf_2 ...\n",
            "installing: readline-7.0-ha6073c6_4 ...\n",
            "installing: sqlite-3.23.1-he433501_0 ...\n",
            "installing: asn1crypto-0.24.0-py36_0 ...\n",
            "installing: certifi-2018.4.16-py36_0 ...\n",
            "installing: chardet-3.0.4-py36h0f667ec_1 ...\n",
            "installing: idna-2.6-py36h82fb2a8_1 ...\n",
            "installing: pycosat-0.6.3-py36h0a5515d_0 ...\n",
            "installing: pycparser-2.18-py36hf9f622e_1 ...\n",
            "installing: pysocks-1.6.8-py36_0 ...\n",
            "installing: ruamel_yaml-0.15.37-py36h14c3975_2 ...\n",
            "installing: six-1.11.0-py36h372c433_1 ...\n",
            "installing: cffi-1.11.5-py36h9745a5d_0 ...\n",
            "installing: setuptools-39.2.0-py36_0 ...\n",
            "installing: cryptography-2.2.2-py36h14c3975_0 ...\n",
            "installing: wheel-0.31.1-py36_0 ...\n",
            "installing: pip-10.0.1-py36_0 ...\n",
            "installing: pyopenssl-18.0.0-py36_0 ...\n",
            "installing: urllib3-1.22-py36hbe7ace6_0 ...\n",
            "installing: requests-2.18.4-py36he2e5f8d_1 ...\n",
            "installing: conda-4.5.4-py36_0 ...\n",
            "unlinking: ca-certificates-2019.6.16-hecc5488_0\n",
            "unlinking: certifi-2019.6.16-py37_1\n",
            "unlinking: cffi-1.12.3-py37h8022711_0\n",
            "unlinking: libffi-3.2.1-he1b5a44_1006\n",
            "unlinking: libgcc-ng-9.1.0-hdf63c60_0\n",
            "unlinking: libstdcxx-ng-9.1.0-hdf63c60_0\n",
            "unlinking: ncurses-6.1-hf484d3e_1002\n",
            "unlinking: openssl-1.1.1c-h516909a_0\n",
            "unlinking: pip-19.1.1-py37_0\n",
            "unlinking: pycparser-2.19-py37_1\n",
            "unlinking: python-3.7.3-h33d41f4_1\n",
            "unlinking: readline-8.0-hf8c457e_0\n",
            "unlinking: setuptools-41.0.1-py37_0\n",
            "unlinking: six-1.12.0-py37_1000\n",
            "unlinking: sqlite-3.29.0-hcee41ef_0\n",
            "unlinking: tk-8.6.9-hed695b0_1002\n",
            "unlinking: wheel-0.33.4-py37_0\n",
            "unlinking: xz-5.2.4-h14c3975_1001\n",
            "unlinking: zlib-1.2.11-h516909a_1005\n",
            "installation finished.\n",
            "WARNING:\n",
            "    You currently have a PYTHONPATH environment variable set. This may cause\n",
            "    unexpected behavior when running the Python interpreter in Miniconda3.\n",
            "    For best results, please verify that your PYTHONPATH only points to\n",
            "    directories of packages that are compatible with the Python interpreter\n",
            "    in Miniconda3: /usr/local\n",
            "Solving environment: ...working... done\n",
            "\n",
            "## Package Plan ##\n",
            "\n",
            "  environment location: /usr/local\n",
            "\n",
            "  added / updated specs: \n",
            "    - cudf\n",
            "    - cuml\n",
            "\n",
            "\n",
            "The following packages will be downloaded:\n",
            "\n",
            "    package                    |            build\n",
            "    ---------------------------|-----------------\n",
            "    tqdm-4.32.2                |             py_0          41 KB  conda-forge\n",
            "    numpy-1.16.4               |   py36h95a1406_0         4.3 MB  conda-forge\n",
            "    certifi-2019.6.16          |           py36_1         149 KB  conda-forge\n",
            "    libiconv-1.15              |    h516909a_1005         2.0 MB  conda-forge\n",
            "    python-3.6.7               |    h381d211_1004        34.5 MB  conda-forge\n",
            "    sqlite-3.28.0              |       h8b20d00_0         1.9 MB  conda-forge\n",
            "    libarchive-3.3.3           |    hb44662c_1005         1.4 MB  conda-forge\n",
            "    nvstrings-0.9.0a1          |          py36_24         122 KB  rapidsai-nightly/label/cuda10.0\n",
            "    cython-0.29.12             |   py36he1b5a44_0         2.2 MB  conda-forge\n",
            "    conda-4.7.10               |           py36_0         3.0 MB  conda-forge\n",
            "    zstd-1.4.0                 |       h3b9ef0a_0         928 KB  conda-forge\n",
            "    libxml2-2.9.9              |       h13577e0_2         1.3 MB  conda-forge\n",
            "    cudf-0.9.0a                |        py36_1525         3.8 MB  rapidsai-nightly/label/cuda10.0\n",
            "    cuml-0.9.0a1               |cuda10.0_py36_200         4.6 MB  rapidsai-nightly/label/cuda10.0\n",
            "    python-libarchive-c-2.8    |        py36_1004          21 KB  conda-forge\n",
            "    numba-0.45.0               |   py36hb3f55d8_0         3.1 MB  conda-forge\n",
            "    arrow-cpp-0.12.1           |   py36h0e61e49_0         6.9 MB  conda-forge\n",
            "    conda-package-handling-1.3.11|           py36_0         257 KB  conda-forge\n",
            "    cryptography-2.7           |   py36h72c5cf5_0         607 KB  conda-forge\n",
            "    llvmlite-0.29.0            |   py36hfd453ef_1        19.9 MB  conda-forge\n",
            "    pandas-0.25.0              |   py36hb3f55d8_0        11.4 MB  conda-forge\n",
            "    lzo-2.10                   |    h14c3975_1000         319 KB  conda-forge\n",
            "    lz4-c-1.8.3                |    he1b5a44_1001         187 KB  conda-forge\n",
            "    pyarrow-0.12.1             |   py36hbbcf98d_0         2.2 MB  conda-forge\n",
            "    rmm-0.9.0a1                |           py36_2          14 KB  rapidsai-nightly/label/cuda10.0\n",
            "    ------------------------------------------------------------\n",
            "                                           Total:       105.1 MB\n",
            "\n",
            "The following NEW packages will be INSTALLED:\n",
            "\n",
            "    conda-package-handling: 1.3.11-py36_0             conda-forge                    \n",
            "    libarchive:             3.3.3-hb44662c_1005       conda-forge                    \n",
            "    libiconv:               1.15-h516909a_1005        conda-forge                    \n",
            "    libxml2:                2.9.9-h13577e0_2          conda-forge                    \n",
            "    lz4-c:                  1.8.3-he1b5a44_1001       conda-forge                    \n",
            "    lzo:                    2.10-h14c3975_1000        conda-forge                    \n",
            "    python-libarchive-c:    2.8-py36_1004             conda-forge                    \n",
            "    tqdm:                   4.32.2-py_0               conda-forge                    \n",
            "    zstd:                   1.4.0-h3b9ef0a_0          conda-forge                    \n",
            "\n",
            "The following packages will be UPDATED:\n",
            "\n",
            "    arrow-cpp:              0.12.1-py37h0e61e49_0     conda-forge                     --> 0.12.1-py36h0e61e49_0     conda-forge                    \n",
            "    ca-certificates:        2018.03.07-0                                              --> 2019.6.16-hecc5488_0      conda-forge                    \n",
            "    certifi:                2018.4.16-py36_0                                          --> 2019.6.16-py36_1          conda-forge                    \n",
            "    conda:                  4.5.4-py36_0                                              --> 4.7.10-py36_0             conda-forge                    \n",
            "    cryptography:           2.2.2-py36h14c3975_0                                      --> 2.7-py36h72c5cf5_0        conda-forge                    \n",
            "    cudf:                   0.9.0a-py37_1525          rapidsai-nightly/label/cuda10.0 --> 0.9.0a-py36_1525          rapidsai-nightly/label/cuda10.0\n",
            "    cuml:                   0.9.0a1-cuda10.0_py37_200 rapidsai-nightly/label/cuda10.0 --> 0.9.0a1-cuda10.0_py36_200 rapidsai-nightly/label/cuda10.0\n",
            "    cython:                 0.29.12-py37he1b5a44_0    conda-forge                     --> 0.29.12-py36he1b5a44_0    conda-forge                    \n",
            "    libgcc-ng:              7.2.0-hdf63c60_3                                          --> 9.1.0-hdf63c60_0                                         \n",
            "    libstdcxx-ng:           7.2.0-hdf63c60_3                                          --> 9.1.0-hdf63c60_0                                         \n",
            "    llvmlite:               0.29.0-py37hfd453ef_1     conda-forge                     --> 0.29.0-py36hfd453ef_1     conda-forge                    \n",
            "    numba:                  0.45.0-py37hb3f55d8_0     conda-forge                     --> 0.45.0-py36hb3f55d8_0     conda-forge                    \n",
            "    numpy:                  1.16.4-py37h95a1406_0     conda-forge                     --> 1.16.4-py36h95a1406_0     conda-forge                    \n",
            "    nvstrings:              0.9.0a1-py37_24           rapidsai-nightly/label/cuda10.0 --> 0.9.0a1-py36_24           rapidsai-nightly/label/cuda10.0\n",
            "    openssl:                1.0.2o-h20670df_0                                         --> 1.1.1c-h516909a_0         conda-forge                    \n",
            "    pandas:                 0.25.0-py37hb3f55d8_0     conda-forge                     --> 0.25.0-py36hb3f55d8_0     conda-forge                    \n",
            "    pyarrow:                0.12.1-py37hbbcf98d_0     conda-forge                     --> 0.12.1-py36hbbcf98d_0     conda-forge                    \n",
            "    python:                 3.6.5-hc3d631a_2                                          --> 3.6.7-h381d211_1004       conda-forge                    \n",
            "    rmm:                    0.9.0a1-py37_2            rapidsai-nightly/label/cuda10.0 --> 0.9.0a1-py36_2            rapidsai-nightly/label/cuda10.0\n",
            "    sqlite:                 3.23.1-he433501_0                                         --> 3.28.0-h8b20d00_0         conda-forge                    \n",
            "    tk:                     8.6.7-hc745277_3                                          --> 8.6.9-hed695b0_1002       conda-forge                    \n",
            "\n",
            "Preparing transaction: ...working... done\n",
            "Verifying transaction: ...working... done\n",
            "Executing transaction: ...working... done\n",
            "GOOD TO GO\n"
          ],
          "name": "stdout"
        }
      ]
    },
    {
      "cell_type": "markdown",
      "metadata": {
        "id": "1CsdVW7SU9Li",
        "colab_type": "text"
      },
      "source": [
        "# Zillow Comp Conversion\n",
        "Repo: https://github.com/eswar3/Zillow-prediction-models"
      ]
    },
    {
      "cell_type": "code",
      "metadata": {
        "id": "x1dLRTm168Tk",
        "colab_type": "code",
        "outputId": "2785690d-f25f-4ccf-a73e-322c44ec98ac",
        "colab": {
          "base_uri": "https://localhost:8080/",
          "height": 1000
        }
      },
      "source": [
        "# Info on how to get your api key (kaggle.json) here: https://github.com/Kaggle/kaggle-api#api-credentials\n",
        "!pip install kaggle\n",
        "!mkdir /root/.kaggle\n",
        "# plug api\n",
        "!echo '{\"username\":\"warobson\",\"key\":\"\"}' > /root/.kaggle/kaggle.json\n",
        "!chmod 600 /root/.kaggle/kaggle.json\n",
        "# !kaggle datasets download\n",
        "!kaggle competitions download -c zillow-prize-1\n",
        "\n",
        "# unzip kaggle data\n",
        "!unzip -q \"/content/sample_submission.csv.zip\"\n",
        "!unzip -q \"/content/train_2016_v2.csv.zip\"\n",
        "!unzip -q \"/content/properties_2016.csv.zip\"\n",
        "!unzip -q \"/content/train_2017.csv.zip\"\n",
        "!unzip -q \"/content/properties_2017.csv.zip\"\n",
        "# display content folder contents\n",
        "!ls \"/content/\""
      ],
      "execution_count": 0,
      "outputs": [
        {
          "output_type": "stream",
          "text": [
            "Collecting kaggle\n",
            "\u001b[?25l  Downloading https://files.pythonhosted.org/packages/f4/de/4f22073f3afa618976ee0721b0deb72b5cde2782057e04a815a6828b53f9/kaggle-1.5.4.tar.gz (54kB)\n",
            "\u001b[K    100% |████████████████████████████████| 61kB 4.3MB/s \n",
            "\u001b[?25hRequirement already satisfied: urllib3<1.25,>=1.21.1 in /usr/local/lib/python3.6/site-packages (from kaggle) (1.22)\n",
            "Requirement already satisfied: six>=1.10 in /usr/local/lib/python3.6/site-packages (from kaggle) (1.11.0)\n",
            "Requirement already satisfied: certifi in /usr/local/lib/python3.6/site-packages (from kaggle) (2019.6.16)\n",
            "Collecting python-dateutil (from kaggle)\n",
            "\u001b[?25l  Downloading https://files.pythonhosted.org/packages/41/17/c62faccbfbd163c7f57f3844689e3a78bae1f403648a6afb1d0866d87fbb/python_dateutil-2.8.0-py2.py3-none-any.whl (226kB)\n",
            "\u001b[K    100% |████████████████████████████████| 235kB 12.1MB/s \n",
            "\u001b[?25hRequirement already satisfied: requests in /usr/local/lib/python3.6/site-packages (from kaggle) (2.18.4)\n",
            "Requirement already satisfied: tqdm in /usr/local/lib/python3.6/site-packages (from kaggle) (4.32.2)\n",
            "Collecting python-slugify (from kaggle)\n",
            "  Downloading https://files.pythonhosted.org/packages/c1/19/c3cf1dc65e89aa999f85a4a3a4924ccac765a6964b405d487b7b7c8bb39f/python-slugify-3.0.2.tar.gz\n",
            "Requirement already satisfied: chardet<3.1.0,>=3.0.2 in /usr/local/lib/python3.6/site-packages (from requests->kaggle) (3.0.4)\n",
            "Requirement already satisfied: idna<2.7,>=2.5 in /usr/local/lib/python3.6/site-packages (from requests->kaggle) (2.6)\n",
            "Collecting text-unidecode==1.2 (from python-slugify->kaggle)\n",
            "\u001b[?25l  Downloading https://files.pythonhosted.org/packages/79/42/d717cc2b4520fb09e45b344b1b0b4e81aa672001dd128c180fabc655c341/text_unidecode-1.2-py2.py3-none-any.whl (77kB)\n",
            "\u001b[K    100% |████████████████████████████████| 81kB 36.7MB/s \n",
            "\u001b[?25hBuilding wheels for collected packages: kaggle, python-slugify\n",
            "  Running setup.py bdist_wheel for kaggle ... \u001b[?25ldone\n",
            "\u001b[?25h  Stored in directory: /root/.cache/pip/wheels/87/ea/09/173986e395d051411b9d547a69fe96cdc26208cb1bcc3e5567\n",
            "  Running setup.py bdist_wheel for python-slugify ... \u001b[?25ldone\n",
            "\u001b[?25h  Stored in directory: /root/.cache/pip/wheels/16/7f/c3/6b0582283ad589d68a306da924a78c74546e010d8106b9b3a9\n",
            "Successfully built kaggle python-slugify\n",
            "\u001b[31mpandas 0.25.0 requires pytz>=2017.2, which is not installed.\u001b[0m\n",
            "Installing collected packages: python-dateutil, text-unidecode, python-slugify, kaggle\n",
            "Successfully installed kaggle-1.5.4 python-dateutil-2.8.0 python-slugify-3.0.2 text-unidecode-1.2\n",
            "Downloading sample_submission.csv.zip to /content\n",
            " 51% 5.00M/9.86M [00:00<00:00, 26.5MB/s]\n",
            "100% 9.86M/9.86M [00:00<00:00, 46.9MB/s]\n",
            "Downloading properties_2016.csv.zip to /content\n",
            " 95% 152M/159M [00:03<00:00, 29.5MB/s]\n",
            "100% 159M/159M [00:03<00:00, 48.6MB/s]\n",
            "Downloading zillow_data_dictionary.xlsx.zip to /content\n",
            "  0% 0.00/15.7k [00:00<?, ?B/s]\n",
            "100% 15.7k/15.7k [00:00<00:00, 21.2MB/s]\n",
            "Downloading train_2016_v2.csv.zip to /content\n",
            "  0% 0.00/632k [00:00<?, ?B/s]\n",
            "100% 632k/632k [00:00<00:00, 176MB/s]\n",
            "Downloading train_2017.csv.zip to /content\n",
            "  0% 0.00/825k [00:00<?, ?B/s]\n",
            "100% 825k/825k [00:00<00:00, 221MB/s]\n",
            "Downloading properties_2017.csv.zip to /content\n",
            " 93% 129M/138M [00:02<00:00, 48.4MB/s]\n",
            "100% 138M/138M [00:02<00:00, 53.3MB/s]\n",
            "libcudf.so\t\t\t  sample_data\n",
            "librmm.so\t\t\t  sample_submission.csv\n",
            "__MACOSX\t\t\t  sample_submission.csv.zip\n",
            "Miniconda3-4.5.4-Linux-x86_64.sh  train_2016_v2.csv\n",
            "properties_2016.csv\t\t  train_2016_v2.csv.zip\n",
            "properties_2016.csv.zip\t\t  train_2017.csv\n",
            "properties_2017.csv\t\t  train_2017.csv.zip\n",
            "properties_2017.csv.zip\t\t  zillow_data_dictionary.xlsx.zip\n"
          ],
          "name": "stdout"
        }
      ]
    },
    {
      "cell_type": "markdown",
      "metadata": {
        "id": "Lpa1b4edIXuT",
        "colab_type": "text"
      },
      "source": [
        "## [Zillow Prediction Model](https://github.com/eswar3/Zillow-prediction-models/blob/master/Step%202a-Approach1.ipynb)\n",
        "\n",
        "    In this approach the properties data (27 million records) and transaction data (90k records) are merged together before imputing any missing values\n",
        "\n",
        "# Import Data\n",
        "\n",
        "    Importing properties_2016 which has data about 27 million unique house properties with 58 attributes\n",
        "\n",
        "    Importing transaction data which has 90k records of the properties sold in the year 2016\n",
        "\n",
        "    Merging the data sets based on property_id\n",
        "\n"
      ]
    },
    {
      "cell_type": "code",
      "metadata": {
        "id": "uynoUxpx8Xsn",
        "colab_type": "code",
        "outputId": "96216755-90cd-4e1d-af3a-50892accbf56",
        "colab": {
          "base_uri": "https://localhost:8080/",
          "height": 276
        }
      },
      "source": [
        "# import 2016 properties\n",
        "prop2016 = cudf.read_csv('/content/properties_2016.csv')\n",
        "# peek display\n",
        "print(prop2016.head())\n",
        "# import train 2016  data\n",
        "train2016 = cudf.read_csv('/content/train_2016_v2.csv',parse_dates=[\"transactiondate\"])\n",
        "# peek display\n",
        "print(train2016.head())"
      ],
      "execution_count": 0,
      "outputs": [
        {
          "output_type": "stream",
          "text": [
            "   parcelid  airconditioningtypeid  architecturalstyletypeid  basementsqft  bathroomcnt  bedroomcnt  buildingclasstypeid ...  censustractandblock\n",
            "0  10754147                                                                         0.0         0.0                      ...                     \n",
            "1  10759547                                                                         0.0         0.0                      ...                     \n",
            "2  10843547                                                                         0.0         0.0                      ...                     \n",
            "3  10859147                                                                         0.0         0.0                  3.0 ...                     \n",
            "4  10879947                                                                         0.0         0.0                  4.0 ...                     \n",
            "[50 more columns]\n",
            "   parcelid              logerror         transactiondate\n",
            "0  11016594                0.0276 2016-01-01T00:00:00.000\n",
            "1  14366692  -0.16840000000000002 2016-01-01T00:00:00.000\n",
            "2  12098116                -0.004 2016-01-01T00:00:00.000\n",
            "3  12643413                0.0218 2016-01-02T00:00:00.000\n",
            "4  14432541                -0.005 2016-01-02T00:00:00.000\n"
          ],
          "name": "stdout"
        }
      ]
    },
    {
      "cell_type": "markdown",
      "metadata": {
        "id": "gGiscxESJDrl",
        "colab_type": "text"
      },
      "source": [
        "#### Renaming attributes names to be meaningful"
      ]
    },
    {
      "cell_type": "code",
      "metadata": {
        "id": "l9DproejRmV1",
        "colab_type": "code",
        "outputId": "a765fb75-dea9-44dc-c99d-478e03f6e6fd",
        "colab": {
          "base_uri": "https://localhost:8080/",
          "height": 166
        }
      },
      "source": [
        "# merge 2016 train and property dataframes by parcel id\n",
        "df_train = train2016.merge(prop2016, how='left', on='parcelid')\n",
        "# add column inidcaticating month of transaction\n",
        "df_train['transaction_month'] = df_train['transactiondate'].dt.month\n",
        "# rename colums for general english understandability \n",
        "df_train=df_train.rename(columns={\"bathroomcnt\": \"total_bath\",\n",
        "                                  \"fullbathcnt\": \"full_bath\",\n",
        "                                  \"threequarterbathnbr\": \"half_bath\",\n",
        "                                  \"yardbuildingsqft17\": \"patio_sqft\",\n",
        "                                  \"yardbuildingsqft26\":\"storage_sqft\",\n",
        "                                  \"decktypeid\": \"deck_flag\",\n",
        "                                  \"pooltypeid7\": \"pool_with_spa_tub_no\", \n",
        "                                  \"pooltypeid2\": \"pool_with_spa_tub_yes\",\n",
        "                                  \"hashottuborspa\": \"has_hottub_or_spa\", \n",
        "                                  \"pooltypeid10\": \"just_hottub_or_spa\",\n",
        "                                  \"calculatedfinishedsquarefeet\": \"total_finished_living_area_sqft\", \n",
        "                                  \"finishedsquarefeet12\": \"finished_living_area_sqft\",\n",
        "                                  \"lotsizesquarefeet\": \"lot_area_sqft\",\n",
        "                                  \"finishedsquarefeet50\": \"finished_living_area_entryfloor_sqft1\",\n",
        "                                  \"finishedfloor1squarefeet\": \"finished_living_area_entryfloor_sqft2\",\n",
        "                                  \"finishedsquarefeet6\": \"base_unfinished_and_finished_area_sqft\",\n",
        "                                  \"finishedsquarefeet15\": \"total_area_sqft\",\n",
        "                                  \"finishedsquarefeet13\": \"preimeter_living_area_sqft\",\n",
        "                                  \"taxvaluedollarcnt\":\"total_parcel_tax\",\n",
        "                                  \"landtaxvaluedollarcnt\":\"land_tax\",\n",
        "                                  \"taxamount\":\"total_property_tax_2016\",\n",
        "                                  \"structuretaxvaluedollarcnt\":\"structure_tax\",\n",
        "                                  \"garagetotalsqft\":\"garage_sqft\",\n",
        "                                  \"fireplacecnt\":\"fireplace_count\",\n",
        "                                  \"buildingqualitytypeid \":\"building_quality_id\",\n",
        "                                  \"heatingorsystemtypeid\":\"heating_system_id\",\n",
        "                                  \"airconditioningtypeid\":\"ac_id\",\n",
        "                                  \"storytypeid\": \"basement_flag\",\n",
        "                                  \"storytypeid\": \"basement_flag\",\n",
        "                                  \"poolsizesum\": \"pool_sqft\"})\n",
        "# what's it look like?\n",
        "print(df_train.head())"
      ],
      "execution_count": 0,
      "outputs": [
        {
          "output_type": "stream",
          "text": [
            "   parcelid             logerror         transactiondate  ac_id  architecturalstyletypeid  basementsqft  total_bath ...  transaction_month\n",
            "0  11827818               0.0402 2016-03-15T00:00:00.000                                                        4.0 ...                  3\n",
            "1  12123024               0.0296 2016-03-15T00:00:00.000                                                        3.0 ...                  3\n",
            "2  13867327               0.0344 2016-03-15T00:00:00.000                                                        2.0 ...                  3\n",
            "3  12681894                0.006 2016-03-15T00:00:00.000                                                        3.0 ...                  3\n",
            "4  12848541  0.06949999999999999 2016-03-15T00:00:00.000    1.0                                                 4.0 ...                  3\n",
            "[53 more columns]\n"
          ],
          "name": "stdout"
        }
      ]
    },
    {
      "cell_type": "markdown",
      "metadata": {
        "id": "5MbGy6r7JLLD",
        "colab_type": "text"
      },
      "source": [
        "\n",
        "### Dealing Attributes with Missing Values\n",
        "*   Pool_count is a binary variable, hence replace all NULL values with zero\n",
        "*   pool_with_spa_tub_no & pool_with_spa_tub_yes are again binary variables hence replace all NULL values with zero"
      ]
    },
    {
      "cell_type": "code",
      "metadata": {
        "id": "z3bPdNONHTYI",
        "colab_type": "code",
        "outputId": "27731ef5-f5cd-4c99-87d2-67703222e03a",
        "colab": {
          "base_uri": "https://localhost:8080/",
          "height": 35
        }
      },
      "source": [
        "# replace missing pool count values so we booling\n",
        "df_train['poolcnt'].fillna(0)\n",
        "df_train['pool_with_spa_tub_no'].fillna(0)\n",
        "df_train['pool_with_spa_tub_yes'].fillna(0)\n",
        "df_train.loc[(df_train.poolcnt==1) & (df_train.has_hottub_or_spa==1) & (df_train.just_hottub_or_spa.isna())]"
      ],
      "execution_count": 0,
      "outputs": [
        {
          "output_type": "execute_result",
          "data": {
            "text/plain": [
              "<cudf.DataFrame ncols=61 nrows=1204 >"
            ]
          },
          "metadata": {
            "tags": []
          },
          "execution_count": 7
        }
      ]
    },
    {
      "cell_type": "markdown",
      "metadata": {
        "id": "J6ARDkFlJ8VA",
        "colab_type": "text"
      },
      "source": [
        "### Fixing contradictions in pool related variables\n",
        "*   When pool is present and if it has tub/spa then just_hottub_or_spa =0\n",
        "*   When there is no pool and if there is tub/spa then just_hottub_or_spa =1\n",
        "*   As they are binary variables convert NaN's to Zero"
      ]
    },
    {
      "cell_type": "code",
      "metadata": {
        "id": "uMP9Cy8wKLBd",
        "colab_type": "code",
        "colab": {}
      },
      "source": [
        "#when poolcnt=1 & has_hottub_or_spa=1 & just_hottub_or_spa is null then just_hottub_or_spa =0\n",
        "#when poolcnt=0, has_hottub_or_spa=1, just_hottub_or_spa =1\n",
        "\n",
        "df_train.loc[ (df_train.poolcnt==1) & (df_train.has_hottub_or_spa==1) & (df_train.just_hottub_or_spa.isnull()),'just_hottub_or_spa']=0\n",
        "             \n",
        "#has_hottub_or_spa is null and just_hottub_or_spa is null, both has to be zero\n",
        "\n",
        "df_train.loc[ (df_train.has_hottub_or_spa.isnull()) & (df_train.just_hottub_or_spa.isnull()),['has_hottub_or_spa','just_hottub_or_spa']]=0\n"
      ],
      "execution_count": 0,
      "outputs": []
    },
    {
      "cell_type": "markdown",
      "metadata": {
        "id": "X_6bv7SRKOAi",
        "colab_type": "text"
      },
      "source": [
        "*   When there is no pool, make poolsize as zero instead of Nan"
      ]
    },
    {
      "cell_type": "code",
      "metadata": {
        "id": "xrr6Ws_aKMOu",
        "colab_type": "code",
        "colab": {}
      },
      "source": [
        "df_train.loc[ df_train.poolcnt==0,'pool_sqft']=0\n",
        "print(df_train.pool_sqft.isnull().sum())"
      ],
      "execution_count": 0,
      "outputs": []
    },
    {
      "cell_type": "markdown",
      "metadata": {
        "id": "p3qvlaGRKVzC",
        "colab_type": "text"
      },
      "source": [
        "*   basement_flag has values 7 & Null hence convert it to a binary variable with value of zero and 1\n",
        "*   When basement_flag is zero make basement_sqft also zero"
      ]
    },
    {
      "cell_type": "code",
      "metadata": {
        "id": "BNr2x-hPKdzd",
        "colab_type": "code",
        "colab": {}
      },
      "source": [
        "df_train.loc[df_train.basement_flag.isnull(),'basementsqft']=0\n",
        "df_train.loc[df_train.basement_flag.isnull(),'basement_flag']=0\n",
        "df_train.loc[df_train.basement_flag==7,'basement_flag']=1"
      ],
      "execution_count": 0,
      "outputs": []
    },
    {
      "cell_type": "markdown",
      "metadata": {
        "id": "LMf4aCgjKg5X",
        "colab_type": "text"
      },
      "source": [
        "*   There seems to be inconsistency between the fireplace_flag and fireplace count, Let's fix it"
      ]
    },
    {
      "cell_type": "code",
      "metadata": {
        "id": "EZIS2N4wKlaj",
        "colab_type": "code",
        "colab": {}
      },
      "source": [
        "#df_train.fireplaceflag.isnull().sum()\n",
        "#df_train.fireplace_count.isnull().sum()\n",
        "df_train.loc[(df_train.fireplace_count.isnull()) & (df_train.fireplaceflag.isnull()),'fireplaceflag'] = False\n",
        "df_train.loc[(df_train.fireplace_count.isnull()) & (df_train.fireplaceflag==False),'fireplace_count'] = 0\n",
        "df_train.loc[df_train['fireplace_count']>0,'fireplaceflag']= True\n",
        "print(\"after\",df_train.fireplace_count.isnull().sum())\n",
        "#print(\"after\",df_train.fireplace_count.value_counts())"
      ],
      "execution_count": 0,
      "outputs": []
    },
    {
      "cell_type": "markdown",
      "metadata": {
        "id": "NLcmJVFzKnal",
        "colab_type": "text"
      },
      "source": [
        "*   Dropping transaction date column as this doesn't have any corellation with target variable"
      ]
    },
    {
      "cell_type": "code",
      "metadata": {
        "id": "oKVF_NKvKqoo",
        "colab_type": "code",
        "colab": {}
      },
      "source": [
        "df_train=df_train.drop('transactiondate',axis=1)"
      ],
      "execution_count": 0,
      "outputs": []
    },
    {
      "cell_type": "markdown",
      "metadata": {
        "id": "bIJVXVhpKspi",
        "colab_type": "text"
      },
      "source": [
        "*   Garage count and Garage size have same number of missing values. Let's assume this is because when there are properties with no garages then both variables are NA"
      ]
    },
    {
      "cell_type": "code",
      "metadata": {
        "id": "hPOvwZ_EKxmb",
        "colab_type": "code",
        "colab": {}
      },
      "source": [
        "df_train.loc[df_train.garage_sqft.isnull() & df_train.garagecarcnt.isnull(),['garagecarcnt','garage_sqft']]=0\n",
        "df_train.loc[(df_train.garagecarcnt>0) & (df_train.garage_sqft==0),'garage_sqft']=np.nan\n",
        "print(\"after\",df_train.garagecarcnt.isnull().sum())\n",
        "#print(\"after\",df_train.garagecarcnt.value_counts())\n",
        "print(\"after\",df_train.garage_sqft.isnull().sum())\n",
        "#print(\"after\",df_train.garage_sqft.value_counts())"
      ],
      "execution_count": 0,
      "outputs": []
    },
    {
      "cell_type": "markdown",
      "metadata": {
        "id": "xql6lcoFK1JH",
        "colab_type": "text"
      },
      "source": [
        "*   total_bath & calculatedbathnbr are duplicates , and calculatedbathnbr has more nulls, hence we will drop it\n",
        "*   if full_bath is null and half_bath is also null, let's make total_bath=0 (missing values)"
      ]
    },
    {
      "cell_type": "code",
      "metadata": {
        "id": "25x3wnLVK7_w",
        "colab_type": "code",
        "colab": {}
      },
      "source": [
        "#total_bath & calculatedbathnbr are duplicates , and calculatedbathnbr has more nulls, hence drop it\n",
        "df_train=df_train.drop('calculatedbathnbr',axis=1)\n",
        "\n",
        "# full_bath is null & half_bath is null & total_bath=0 (missing values)\n",
        "df_train.loc[(df_train.full_bath.isnull()) & (df_train.half_bath.isnull()) & (df_train.total_bath==0),'total_bath']=np.nan\n",
        "\n",
        "\n",
        "# when full_bath=total_bath, half_bath=0 \n",
        "\n",
        "df_train.loc[(df_train.full_bath==df_train.total_bath) ,'half_bath']=0\n",
        "\n",
        "# when total_bath is present but full and half bath is null\n",
        "# all 3 are null somemtimes\n",
        "\n",
        "print(df_train.total_bath.isnull().sum())\n",
        "print(df_train.half_bath.isnull().sum())\n",
        "print(df_train.full_bath.isnull().sum())"
      ],
      "execution_count": 0,
      "outputs": []
    },
    {
      "cell_type": "markdown",
      "metadata": {
        "id": "ZveLFb7xLBbj",
        "colab_type": "text"
      },
      "source": [
        "* Assuming if these patio and shed variables has null values then there is no shed or patio in yard"
      ]
    },
    {
      "cell_type": "code",
      "metadata": {
        "id": "1EBq_9tkLAwO",
        "colab_type": "code",
        "colab": {}
      },
      "source": [
        "#yardbuildingsqft17-patio in yard\n",
        "#yardbuildingsqft26- storage shed in yard\n",
        "df_train.loc[df_train.patio_sqft.isnull() ,'patio_sqft']=0\n",
        "df_train.loc[df_train.storage_sqft.isnull() ,'storage_sqft']=0\n",
        "print(df_train.patio_sqft.isnull().sum())\n",
        "print(df_train.storage_sqft.isnull().sum())"
      ],
      "execution_count": 0,
      "outputs": []
    },
    {
      "cell_type": "markdown",
      "metadata": {
        "id": "L69NTJVuLGvM",
        "colab_type": "text"
      },
      "source": [
        "### code fips code with respective county names\n",
        "* 6037- LA\n",
        "* 6059- Orange_County\n",
        "* 6111- Ventura"
      ]
    },
    {
      "cell_type": "code",
      "metadata": {
        "id": "6Cfqz0ysLOvK",
        "colab_type": "code",
        "colab": {}
      },
      "source": [
        "df_train.loc[df_train.fips==6037 ,'fips']=\"LA\"\n",
        "df_train.loc[df_train.fips==6059 ,'fips']=\"Orange_County\"\n",
        "df_train.loc[df_train.fips==6111 ,'fips']=\"Ventura\"\n",
        "\n",
        "print(df_train.fips.isnull().sum())\n",
        "print(df_train.fips.value_counts())"
      ],
      "execution_count": 0,
      "outputs": []
    },
    {
      "cell_type": "markdown",
      "metadata": {
        "id": "B-CQ0-SsLQ2X",
        "colab_type": "text"
      },
      "source": [
        "### scaling down the latitude and longitide\n",
        "*    Knn imputation takes more time because of the hude numbers, moreover standardizing gives better results on most algorithms"
      ]
    },
    {
      "cell_type": "code",
      "metadata": {
        "id": "kitrNxKgLWUd",
        "colab_type": "code",
        "colab": {}
      },
      "source": [
        "df_train['latitude']=df_train['latitude'].divide(100000)\n",
        "df_train['longitude']=df_train['longitude'].divide(100000)"
      ],
      "execution_count": 0,
      "outputs": []
    },
    {
      "cell_type": "markdown",
      "metadata": {
        "id": "vlUGlkObLYt2",
        "colab_type": "text"
      },
      "source": [
        "* deck_flag has only 2 values 66 or null- convert it into binary flag"
      ]
    },
    {
      "cell_type": "code",
      "metadata": {
        "id": "nbUP4n-YLamH",
        "colab_type": "code",
        "colab": {}
      },
      "source": [
        "df_train.loc[df_train.deck_flag==66 ,'deck_flag']=1\n",
        "df_train.loc[df_train.deck_flag.isnull() ,'deck_flag']=0\n",
        "\n",
        "print(df_train.deck_flag.isnull().sum())"
      ],
      "execution_count": 0,
      "outputs": []
    },
    {
      "cell_type": "markdown",
      "metadata": {
        "id": "tnxfZ32HLcPT",
        "colab_type": "text"
      },
      "source": [
        "### Imputing unit count based on property land type (Mode Imputation)"
      ]
    },
    {
      "cell_type": "code",
      "metadata": {
        "id": "yHZH4rMNLfBA",
        "colab_type": "code",
        "colab": {}
      },
      "source": [
        "#numberofstories & unitcnt &roomcnt\n",
        "\n",
        "df_train.loc[df_train.roomcnt==0 ,'roomcnt']=np.nan\n",
        "\n",
        "print(df_train.numberofstories.isnull().sum())\n",
        "print(df_train.roomcnt.isnull().sum())\n",
        "print(df_train.unitcnt.isnull().sum())\n",
        "\n",
        "# propertylandusetypeid  and unitcnt is related \n",
        "\n",
        "#246 -Duplex (2 Units, Any Combination)\n",
        "#247 -Triplex (3 Units, Any Combination)\n",
        "#248 -Quadruplex (4 Units, Any Combination)\n",
        "#260 -Residential General\n",
        "#261 -Single Family Residential\n",
        "#263 -Mobile Home\n",
        "#264 -Townhouse\n",
        "#266 -Condominium\n",
        "#267 -Cooperative\n",
        "#269 -Planned Unit Development\n",
        "#275 -Residential Common Area \n",
        "#31 - Commercial/Office/Residential Mixed Used\n",
        "#47 -Store/Office (Mixed Use)\n",
        "#265 -Cluster Home\n",
        "\n",
        "df_train.loc[(df_train.propertylandusetypeid==31) & (df_train.unitcnt.isnull()),'unitcnt']=2\n",
        "df_train.loc[(df_train.propertylandusetypeid==47) & (df_train.unitcnt.isnull()),'unitcnt']=2\n",
        "df_train.loc[(df_train.propertylandusetypeid==246) & (df_train.unitcnt.isnull()),'unitcnt']=2\n",
        "df_train.loc[(df_train.propertylandusetypeid==247) & (df_train.unitcnt.isnull()),'unitcnt']=3\n",
        "df_train.loc[(df_train.propertylandusetypeid==248) & (df_train.unitcnt.isnull()),'unitcnt']=4\n",
        "df_train.loc[(df_train.propertylandusetypeid==260) & (df_train.unitcnt.isnull()),'unitcnt']=1\n",
        "df_train.loc[(df_train.propertylandusetypeid==261) & (df_train.unitcnt.isnull()),'unitcnt']=1\n",
        "df_train.loc[(df_train.propertylandusetypeid==263) & (df_train.unitcnt.isnull()),'unitcnt']=1\n",
        "df_train.loc[(df_train.propertylandusetypeid==264) & (df_train.unitcnt.isnull()),'unitcnt']=1\n",
        "df_train.loc[(df_train.propertylandusetypeid==266) & (df_train.unitcnt.isnull()),'unitcnt']=1\n",
        "df_train.loc[(df_train.propertylandusetypeid==267) & (df_train.unitcnt.isnull()),'unitcnt']=1\n",
        "df_train.loc[(df_train.propertylandusetypeid==269) & (df_train.unitcnt.isnull()),'unitcnt']=1\n",
        "df_train.loc[(df_train.propertylandusetypeid==275) & (df_train.unitcnt.isnull()),'unitcnt']=1\n",
        "\n",
        "#typeconstructiontypeid (based on location and year of building)\n",
        "print(df_train.typeconstructiontypeid.isnull().sum())\n",
        "print(df_train.propertylandusetypeid.isnull().sum())"
      ],
      "execution_count": 0,
      "outputs": []
    },
    {
      "cell_type": "markdown",
      "metadata": {
        "id": "02yLicmxLs3C",
        "colab_type": "text"
      },
      "source": [
        "* \"preimeter_living_area_sqft\" and \"total_finished_living_area_sqft\" have the same values except that \"preimeter_living_area_sqft\" has more duplicates\n",
        "* \"total_area_sqft\" and \"total_finished_living_area_sqft\" have the same values except that \"total_area_sqft\" has more duplicates\n",
        "* \"total_finished_living_area_sqft\" and \"finished_living_area_sqft\" have the same values except that \"finished_living_area_sqft\" has more duplicates\n",
        "* \"base_unfinished_and_finished_area_sqft\" and \"total_finished_living_area_sqft\" have the same values except that \"base_unfinished_and_finished_area_sqft\" has more duplicates\n",
        "    * let's drop them all"
      ]
    },
    {
      "cell_type": "code",
      "metadata": {
        "id": "OtOgzOqHLyid",
        "colab_type": "code",
        "colab": {}
      },
      "source": [
        "df_train=df_train.drop('preimeter_living_area_sqft', axis=1)\n",
        "df_train=df_train.drop('total_area_sqft', axis=1)\n",
        "df_train=df_train.drop('finished_living_area_sqft', axis=1)\n",
        "df_train=df_train.drop('base_unfinished_and_finished_area_sqft', axis=1)\n",
        "\n",
        "#calculatedfinishedsquarefeet\": \"total_finished_living_area_sqft\", \n",
        "#\"finishedsquarefeet12\": \"finished_living_area_sqft\",\n",
        "#\"lotsizesquarefeet\": \"lot_area_sqft\",\n",
        "#\"finishedsquarefeet50\": \"finished_living_area_entryfloor_sqft1\",\n",
        "#finishedfloor1squarefeet\": \"finished_living_area_entryfloor_sqft2\",\n",
        "#\"finishedsquarefeet6\": \"base_unfinished_and_finished_area_sqft\",\n",
        "#\"finishedsquarefeet15\": \"total_area_sqft\",\n",
        "#\"finishedsquarefeet13\": \"preimeter_living_area_sqft\""
      ],
      "execution_count": 0,
      "outputs": []
    }
  ]
}