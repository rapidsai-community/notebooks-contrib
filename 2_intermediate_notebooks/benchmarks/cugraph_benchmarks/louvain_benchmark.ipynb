{
 "cells": [
  {
   "cell_type": "markdown",
   "metadata": {},
   "source": [
    "# Louvain Performance Benchmarking\n",
    "\n",
    "This notebook benchmarks performance improvement of running the Louvain clustering algorithm within cuGraph against NetworkX. The test is run over eight test networks (graphs) and then results plotted.  \n",
    "<p><p>\n",
    "\n",
    "\n",
    "#### Notebook Credits\n",
    "\n",
    "    Original Authors: Bradley Rees\n",
    "    Last Edit: 08/06/2019\n",
    "\n",
    "\n",
    "#### Test Environment\n",
    "\n",
    "    RAPIDS Versions: 0.9.0\n",
    "\n",
    "    Test Hardware:\n",
    "    GV100 32G, CUDA 10,0\n",
    "    Intel(R) Core(TM) CPU i7-7800X @ 3.50GHz\n",
    "    32GB system memory\n",
    "\n",
    "\n",
    "\n",
    "#### Updates\n",
    "- moved loading ploting libraries to front so that dependencies can be checked before running algorithms\n",
    "- added edge values \n",
    "- changed timing to including Graph creation for both cuGraph and NetworkX.  This will better represent end-to-end times\n",
    "\n",
    "\n",
    "\n",
    "#### Dependencies\n",
    "- RAPIDS cuDF and cuGraph version 0.6.0 \n",
    "- NetworkX \n",
    "- Matplotlib \n",
    "- Scipy \n",
    "- data prep script run\n",
    "\n",
    "\n",
    "\n",
    "#### Note: Comparison against published results\n",
    "\n",
    "\n",
    "The cuGraph blog post included performance numbers that were collected over a year ago.  For the test graphs, int32 values are now used.  That improves GPUs performance.  Additionally, the initial benchamrks were measured on a P100 GPU. \n",
    "\n",
    "This test only comparse the modularity scores and a success is if the scores are within 15% of each other.  That comparison is done by adjusting the NetworkX modularity score and then verifying that the cuGraph score is higher.\n",
    "\n",
    "cuGraph did a full validation of NetworkX results against cuGraph results.  That included cross-validation of every cluster.  That test is very slow and not included here"
   ]
  },
  {
   "cell_type": "code",
   "execution_count": 1,
   "metadata": {},
   "outputs": [],
   "source": [
    "# Import needed libraries\n",
    "import time\n",
    "import cugraph\n",
    "import cudf"
   ]
  },
  {
   "cell_type": "code",
   "execution_count": 2,
   "metadata": {},
   "outputs": [],
   "source": [
    "# NetworkX libraries\n",
    "import community\n",
    "import networkx as nx\n",
    "from scipy.io import mmread"
   ]
  },
  {
   "cell_type": "code",
   "execution_count": 3,
   "metadata": {},
   "outputs": [],
   "source": [
    "# Loading plotting libraries\n",
    "import matplotlib.pyplot as plt; plt.rcdefaults()\n",
    "import numpy as np\n",
    "import matplotlib.pyplot as plt"
   ]
  },
  {
   "cell_type": "markdown",
   "metadata": {},
   "source": [
    "### Define the test data"
   ]
  },
  {
   "cell_type": "code",
   "execution_count": 4,
   "metadata": {},
   "outputs": [],
   "source": [
    "# Test File\n",
    "data = {\n",
    "    'preferentialAttachment' : './data/preferentialAttachment.mtx',\n",
    "    'caidaRouterLevel'       : './data/caidaRouterLevel.mtx',\n",
    "    'coAuthorsDBLP'          : './data/coAuthorsDBLP.mtx',\n",
    "    'dblp'                   : './data/dblp-2010.mtx',\n",
    "    'citationCiteseer'       : './data/citationCiteseer.mtx',\n",
    "    'coPapersDBLP'           : './data/coPapersDBLP.mtx',\n",
    "    'coPapersCiteseer'       : './data/coPapersCiteseer.mtx',\n",
    "    'as-Skitter'             : './data/as-Skitter.mtx'\n",
    "}"
   ]
  },
  {
   "cell_type": "markdown",
   "metadata": {},
   "source": [
    "### Define the testing functions"
   ]
  },
  {
   "cell_type": "code",
   "execution_count": 5,
   "metadata": {},
   "outputs": [],
   "source": [
    "# Read in a dataset in MTX format \n",
    "def read_mtx_file(mm_file):\n",
    "    print('Reading ' + str(mm_file) + '...')\n",
    "    d = mmread(mm_file).asfptype()\n",
    "    M = d.tocsr()\n",
    "    \n",
    "    if M is None:\n",
    "        raise TypeError('Could not read the input graph')\n",
    "    if M.shape[0] != M.shape[1]:\n",
    "        raise TypeError('Shape is not square')\n",
    "        \n",
    "    return M"
   ]
  },
  {
   "cell_type": "code",
   "execution_count": 6,
   "metadata": {},
   "outputs": [],
   "source": [
    "# Run the cuGraph Louvain analytic (using nvGRAPH function)\n",
    "def cugraph_call(M):\n",
    "\n",
    "    t1 = time.time()\n",
    "\n",
    "    # data\n",
    "    row_offsets = cudf.Series(M.indptr)\n",
    "    col_indices = cudf.Series(M.indices)\n",
    "    data        = cudf.Series(M.data)\n",
    "    \n",
    "    # create graph \n",
    "    G = cugraph.Graph()\n",
    "    G.add_adj_list(row_offsets, col_indices, data)\n",
    "\n",
    "    # cugraph Louvain Call\n",
    "    print('  cuGraph Solving... ')\n",
    "    df, mod = cugraph.louvain(G)   \n",
    "    \n",
    "    t2 = time.time() - t1\n",
    "    return t2, mod\n"
   ]
  },
  {
   "cell_type": "code",
   "execution_count": 7,
   "metadata": {},
   "outputs": [],
   "source": [
    "# Run the NetworkX Louvain analytic.  THis is done in two parts since the modularity score is not returned \n",
    "def networkx_call(M):\n",
    "   \n",
    "    t1 = time.time()\n",
    "\n",
    "    # Directed NetworkX graph\n",
    "    Gnx = nx.Graph(M)\n",
    "\n",
    "    # Networkx \n",
    "    print('  NetworkX Solving... ')\n",
    "    parts = community.best_partition(Gnx)\n",
    "    \n",
    "    # Calculating modularity scores for comparison \n",
    "    mod = community.modularity(parts, Gnx)   \n",
    "    \n",
    "    t2 = time.time() - t1\n",
    "    \n",
    "    return t2, mod"
   ]
  },
  {
   "cell_type": "markdown",
   "metadata": {},
   "source": [
    "### Run the benchmarks"
   ]
  },
  {
   "cell_type": "code",
   "execution_count": 8,
   "metadata": {
    "scrolled": true
   },
   "outputs": [
    {
     "name": "stdout",
     "output_type": "stream",
     "text": [
      "Reading ./data/preferentialAttachment.mtx...\n",
      "  cuGraph Solving... \n",
      "  NetworkX Solving... \n",
      "1793.7776019147623x faster =>  cugraph 1.5131187438964844 vs 2714.198511838913\n",
      "Modularity =>  cugraph 0.19461682219817675 should be greater than 0.2311266525308378\n",
      "Reading ./data/caidaRouterLevel.mtx...\n",
      "  cuGraph Solving... \n",
      "  NetworkX Solving... \n",
      "4924.058903541453x faster =>  cugraph 0.06783390045166016 vs 334.0181214809418\n",
      "Modularity =>  cugraph 0.7872923202092253 should be greater than 0.7343989484495378\n",
      "Reading ./data/coAuthorsDBLP.mtx...\n",
      "  cuGraph Solving... \n",
      "  NetworkX Solving... \n",
      "10092.197501839399x faster =>  cugraph 0.06966948509216309 vs 703.1182034015656\n",
      "Modularity =>  cugraph 0.7648739273488195 should be greater than 0.7009634341960012\n",
      "Reading ./data/dblp-2010.mtx...\n",
      "  cuGraph Solving... \n",
      "  NetworkX Solving... \n",
      "8046.712017220588x faster =>  cugraph 0.08462047576904297 vs 680.9165992736816\n",
      "Modularity =>  cugraph 0.7506256512679915 should be greater than 0.7443468993795386\n",
      "Reading ./data/citationCiteseer.mtx...\n",
      "  cuGraph Solving... \n",
      "  NetworkX Solving... \n",
      "14291.698679682855x faster =>  cugraph 0.08543086051940918 vs 1220.9521164894104\n",
      "Modularity =>  cugraph 0.6726575224227932 should be greater than 0.6839370382870856\n",
      "Reading ./data/coPapersDBLP.mtx...\n",
      "  cuGraph Solving... \n",
      "  NetworkX Solving... \n",
      "6898.94562364113x faster =>  cugraph 0.26548314094543457 vs 1831.553753376007\n",
      "Modularity =>  cugraph 0.7286893741920047 should be greater than 0.7312262365408457\n",
      "Reading ./data/coPapersCiteseer.mtx...\n",
      "  cuGraph Solving... \n",
      "  NetworkX Solving... \n",
      "6244.639026072336x faster =>  cugraph 0.26204490661621094 vs 1636.3758504390717\n",
      "Modularity =>  cugraph 0.8398191858860514 should be greater than 0.7812069006518058\n",
      "Reading ./data/as-Skitter.mtx...\n",
      "  cuGraph Solving... \n",
      "  NetworkX Solving... \n",
      "14900.09553131095x faster =>  cugraph 0.33395862579345703 vs 4976.015427827835\n",
      "Modularity =>  cugraph 0.7690203783842553 should be greater than 0.7119040255319047\n"
     ]
    }
   ],
   "source": [
    "# Loop through each test file and compute the speedup\n",
    "perf  = []\n",
    "names = []\n",
    "\n",
    "for k,v in data.items():\n",
    "    M = read_mtx_file(v)\n",
    "    tr, modc = cugraph_call(M)\n",
    "    tn, modx = networkx_call(M)\n",
    "    \n",
    "    speedUp = (tn / tr)\n",
    "    names.append(k)\n",
    "    perf.append(speedUp)\n",
    "    \n",
    "    mod_delta = (0.85 * modx)\n",
    "    \n",
    "    print(str(speedUp) + \"x faster =>  cugraph \" + str(tr) + \" vs \" + str(tn))\n",
    "    print(\"Modularity =>  cugraph \" + str(modc) + \" should be greater than \" + str(mod_delta))"
   ]
  },
  {
   "cell_type": "markdown",
   "metadata": {},
   "source": [
    "### plot the output"
   ]
  },
  {
   "cell_type": "code",
   "execution_count": 9,
   "metadata": {},
   "outputs": [
    {
     "data": {
      "image/png": "[encoded data removed]",
      "text/plain": [
       "<Figure size 432x288 with 1 Axes>"
      ]
     },
     "metadata": {
      "needs_background": "light"
     },
     "output_type": "display_data"
    }
   ],
   "source": [
    "%matplotlib inline\n",
    "\n",
    "y_pos = np.arange(len(names))\n",
    " \n",
    "plt.bar(y_pos, perf, align='center', alpha=0.5)\n",
    "plt.xticks(y_pos, names)\n",
    "plt.ylabel('Speed Up')\n",
    "plt.title('Performance Speedup: cuGraph vs NetworkX')\n",
    "plt.xticks(rotation=90) \n",
    "plt.show()"
   ]
  },
  {
   "cell_type": "code",
   "execution_count": null,
   "metadata": {},
   "outputs": [],
   "source": []
  },
  {
   "cell_type": "code",
   "execution_count": null,
   "metadata": {},
   "outputs": [],
   "source": []
  }
 ],
 "metadata": {
  "kernelspec": {
   "display_name": "Python 3",
   "language": "python",
   "name": "python3"
  },
  "language_info": {
   "codemirror_mode": {
    "name": "ipython",
    "version": 3
   },
   "file_extension": ".py",
   "mimetype": "text/x-python",
   "name": "python",
   "nbconvert_exporter": "python",
   "pygments_lexer": "ipython3",
   "version": "3.7.3"
  }
 },
 "nbformat": 4,
 "nbformat_minor": 2
}
