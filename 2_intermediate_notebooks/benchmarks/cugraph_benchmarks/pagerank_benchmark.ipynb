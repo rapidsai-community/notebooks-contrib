{
 "cells": [
  {
   "cell_type": "markdown",
   "metadata": {},
   "source": [
    "# PageRank Performance Benchmarking\n",
    "\n",
    "This notebook benchmarks performance improvement of running PageRank within cuGraph against NetworkX.\n",
    "\n",
    "Notebook Credits\n",
    "\n",
    "    Original Authors: Bradley Rees\n",
    "    Last Edit: 08/06/2019\n",
    "\n",
    "RAPIDS Versions: 0.9.0\n",
    "\n",
    "Test Hardware\n",
    "\n",
    "    GV100 32G, CUDA 10,0\n",
    "    Intel(R) Core(TM) CPU i7-7800X @ 3.50GHz\n",
    "    32GB system memory\n",
    "    \n",
    "   "
   ]
  },
  {
   "cell_type": "code",
   "execution_count": 1,
   "metadata": {},
   "outputs": [],
   "source": [
    "# Import needed libraries\n",
    "import time\n",
    "import cugraph\n",
    "import cudf\n",
    "import numpy as np\n",
    "from collections import OrderedDict"
   ]
  },
  {
   "cell_type": "code",
   "execution_count": 2,
   "metadata": {},
   "outputs": [],
   "source": [
    "# NetworkX libraries\n",
    "import community\n",
    "import networkx as nx\n",
    "from scipy.io import mmread"
   ]
  },
  {
   "cell_type": "markdown",
   "metadata": {},
   "source": [
    "### Define the test data"
   ]
  },
  {
   "cell_type": "code",
   "execution_count": 3,
   "metadata": {},
   "outputs": [],
   "source": [
    "# Test File\n",
    "data = {\n",
    "    'preferentialAttachment' : './data/preferentialAttachment.mtx',\n",
    "    'caidaRouterLevel'       : './data/caidaRouterLevel.mtx',\n",
    "    'coAuthorsDBLP'          : './data/coAuthorsDBLP.mtx',\n",
    "    'dblp'                   : './data/dblp-2010.mtx',\n",
    "    'citationCiteseer'       : './data/citationCiteseer.mtx',\n",
    "    'coPapersDBLP'           : './data/coPapersDBLP.mtx',\n",
    "    'coPapersCiteseer'       : './data/coPapersCiteseer.mtx',\n",
    "    'as-Skitter'             : './data/as-Skitter.mtx'\n",
    "}"
   ]
  },
  {
   "cell_type": "markdown",
   "metadata": {},
   "source": [
    "### Define the testing functions"
   ]
  },
  {
   "cell_type": "code",
   "execution_count": 4,
   "metadata": {},
   "outputs": [],
   "source": [
    "def read_mtx_file(mm_file):\n",
    "    print('Reading ' + str(mm_file) + '...')\n",
    "    M = mmread(mm_file).asfptype()\n",
    "     \n",
    "    return M"
   ]
  },
  {
   "cell_type": "code",
   "execution_count": 5,
   "metadata": {},
   "outputs": [],
   "source": [
    "def cugraph_call(M, max_iter, tol, alpha):\n",
    "    # Device data\n",
    "    sources = cudf.Series(M.row)\n",
    "    destinations = cudf.Series(M.col)\n",
    "\n",
    "    # cugraph Pagerank Call\n",
    "    G = cugraph.Graph()\n",
    "    G.add_edge_list(sources, destinations, None)\n",
    "    \n",
    "    t1 = time.time()\n",
    "    df = cugraph.pagerank(G, alpha=alpha, max_iter=max_iter, tol=tol)\n",
    "    t2 = time.time() - t1\n",
    "    \n",
    "    return t2\n",
    "    "
   ]
  },
  {
   "cell_type": "code",
   "execution_count": 6,
   "metadata": {},
   "outputs": [],
   "source": [
    "def networkx_call(M, max_iter, tol, alpha):\n",
    "    nnz_per_row = {r: 0 for r in range(M.get_shape()[0])}\n",
    "    for nnz in range(M.getnnz()):\n",
    "        nnz_per_row[M.row[nnz]] = 1 + nnz_per_row[M.row[nnz]]\n",
    "    for nnz in range(M.getnnz()):\n",
    "        M.data[nnz] = 1.0/float(nnz_per_row[M.row[nnz]])\n",
    "\n",
    "    M = M.tocsr()\n",
    "    if M is None:\n",
    "        raise TypeError('Could not read the input graph')\n",
    "    if M.shape[0] != M.shape[1]:\n",
    "        raise TypeError('Shape is not square')\n",
    "\n",
    "    # should be autosorted, but check just to make sure\n",
    "    if not M.has_sorted_indices:\n",
    "        print('sort_indices ... ')\n",
    "        M.sort_indices()\n",
    "\n",
    "    # Directed NetworkX graph\n",
    "    Gnx = nx.DiGraph(M)\n",
    "\n",
    "    z = {k: 1.0/M.shape[0] for k in range(M.shape[0])}\n",
    "\n",
    "    # Networkx Pagerank Call\n",
    "    print('Solving... ')\n",
    "    t1 = time.time()\n",
    "    pr = nx.pagerank(Gnx, alpha, z, max_iter, tol)\n",
    "    t2 = time.time() - t1\n",
    "\n",
    "    return t2"
   ]
  },
  {
   "cell_type": "markdown",
   "metadata": {},
   "source": [
    "### Run the benchmarks"
   ]
  },
  {
   "cell_type": "code",
   "execution_count": 7,
   "metadata": {},
   "outputs": [
    {
     "name": "stdout",
     "output_type": "stream",
     "text": [
      "Reading ./data/preferentialAttachment.mtx...\n",
      "Solving... \n",
      "45.80507019919375x faster =>  cugraph 0.23154377937316895 vs 10.605879068374634\n",
      "Reading ./data/caidaRouterLevel.mtx...\n",
      "Solving... \n",
      "184.39356283146495x faster =>  cugraph 0.07507562637329102 vs 13.843462228775024\n",
      "Reading ./data/coAuthorsDBLP.mtx...\n",
      "Solving... \n",
      "379.0013656636672x faster =>  cugraph 0.05778622627258301 vs 21.901058673858643\n",
      "Reading ./data/dblp-2010.mtx...\n",
      "Solving... \n",
      "234.88983629250097x faster =>  cugraph 0.07440590858459473 vs 17.47719168663025\n",
      "Reading ./data/citationCiteseer.mtx...\n",
      "Solving... \n",
      "407.0635883095419x faster =>  cugraph 0.06837797164916992 vs 27.834182500839233\n",
      "Reading ./data/coPapersDBLP.mtx...\n",
      "Solving... \n",
      "2074.5001605025363x faster =>  cugraph 0.12403512001037598 vs 257.3108763694763\n",
      "Reading ./data/coPapersCiteseer.mtx...\n",
      "Solving... \n",
      "1922.8392146724202x faster =>  cugraph 0.14017415046691895 vs 269.5323534011841\n",
      "Reading ./data/as-Skitter.mtx...\n",
      "Solving... \n",
      "1136.1166961388699x faster =>  cugraph 0.19024062156677246 vs 216.13554644584656\n"
     ]
    }
   ],
   "source": [
    "perf  = []\n",
    "names = []\n",
    "\n",
    "for k,v in data.items():\n",
    "    M = read_mtx_file(v)\n",
    "    tr = cugraph_call(M, 100, 0.00001, 0.85)\n",
    "    tn = networkx_call(M, 100, 0.00001, 0.85)\n",
    "    speedUp = (tn / tr)\n",
    "    names.append(k)\n",
    "    perf.append(speedUp)\n",
    "    \n",
    "    print(str(speedUp) + \"x faster =>  cugraph \" + str(tr) + \" vs \" + str(tn))"
   ]
  },
  {
   "cell_type": "code",
   "execution_count": 8,
   "metadata": {},
   "outputs": [],
   "source": [
    "### plot the output"
   ]
  },
  {
   "cell_type": "code",
   "execution_count": 9,
   "metadata": {},
   "outputs": [
    {
     "data": {
      "image/png": "[encoded data removed]",
      "text/plain": [
       "<Figure size 640x480 with 1 Axes>"
      ]
     },
     "metadata": {},
     "output_type": "display_data"
    }
   ],
   "source": [
    "%matplotlib inline\n",
    "\n",
    "import matplotlib.pyplot as plt; plt.rcdefaults()\n",
    "import numpy as np\n",
    "import matplotlib.pyplot as plt\n",
    " \n",
    "y_pos = np.arange(len(names))\n",
    " \n",
    "plt.bar(y_pos, perf, align='center', alpha=0.5)\n",
    "plt.xticks(y_pos, names)\n",
    "plt.ylabel('Speed Up')\n",
    "plt.title('Performance Speedup: cuGraph vs NetworkX')\n",
    "plt.xticks(rotation=90) \n",
    "plt.show()"
   ]
  },
  {
   "cell_type": "code",
   "execution_count": null,
   "metadata": {},
   "outputs": [],
   "source": []
  }
 ],
 "metadata": {
  "kernelspec": {
   "display_name": "Python 3",
   "language": "python",
   "name": "python3"
  },
  "language_info": {
   "codemirror_mode": {
    "name": "ipython",
    "version": 3
   },
   "file_extension": ".py",
   "mimetype": "text/x-python",
   "name": "python",
   "nbconvert_exporter": "python",
   "pygments_lexer": "ipython3",
   "version": "3.7.3"
  }
 },
 "nbformat": 4,
 "nbformat_minor": 2
}
